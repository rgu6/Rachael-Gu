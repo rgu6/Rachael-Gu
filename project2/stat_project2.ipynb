{
 "cells": [
  {
   "cell_type": "code",
   "execution_count": 54,
   "metadata": {},
   "outputs": [
    {
     "data": {
      "text/html": [
       "<div>\n",
       "<style scoped>\n",
       "    .dataframe tbody tr th:only-of-type {\n",
       "        vertical-align: middle;\n",
       "    }\n",
       "\n",
       "    .dataframe tbody tr th {\n",
       "        vertical-align: top;\n",
       "    }\n",
       "\n",
       "    .dataframe thead th {\n",
       "        text-align: right;\n",
       "    }\n",
       "</style>\n",
       "<table border=\"1\" class=\"dataframe\">\n",
       "  <thead>\n",
       "    <tr style=\"text-align: right;\">\n",
       "      <th></th>\n",
       "      <th>Affirmative</th>\n",
       "      <th>Negative</th>\n",
       "      <th>Judge</th>\n",
       "      <th>Result</th>\n",
       "      <th>Result Numeric</th>\n",
       "    </tr>\n",
       "  </thead>\n",
       "  <tbody>\n",
       "    <tr>\n",
       "      <th>0</th>\n",
       "      <td>Meadows HY</td>\n",
       "      <td>Berkeley Prep ZK</td>\n",
       "      <td>Jason Young</td>\n",
       "      <td>Neg</td>\n",
       "      <td>0</td>\n",
       "    </tr>\n",
       "    <tr>\n",
       "      <th>1</th>\n",
       "      <td>Mamaroneck BO</td>\n",
       "      <td>Georgetown Day MW</td>\n",
       "      <td>Jake Lee</td>\n",
       "      <td>Aff</td>\n",
       "      <td>1</td>\n",
       "    </tr>\n",
       "    <tr>\n",
       "      <th>2</th>\n",
       "      <td>Liberal Arts and Science MC</td>\n",
       "      <td>West HS SLC GR</td>\n",
       "      <td>Misty Tippets</td>\n",
       "      <td>Neg</td>\n",
       "      <td>0</td>\n",
       "    </tr>\n",
       "    <tr>\n",
       "      <th>3</th>\n",
       "      <td>Liberal Arts and Science BR</td>\n",
       "      <td>Lane Tech NP</td>\n",
       "      <td>Cade Cottrell</td>\n",
       "      <td>Aff</td>\n",
       "      <td>1</td>\n",
       "    </tr>\n",
       "    <tr>\n",
       "      <th>4</th>\n",
       "      <td>Maine East PP</td>\n",
       "      <td>Westside KS</td>\n",
       "      <td>Rishi Mukherjee</td>\n",
       "      <td>Aff</td>\n",
       "      <td>1</td>\n",
       "    </tr>\n",
       "    <tr>\n",
       "      <th>...</th>\n",
       "      <td>...</td>\n",
       "      <td>...</td>\n",
       "      <td>...</td>\n",
       "      <td>...</td>\n",
       "      <td>...</td>\n",
       "    </tr>\n",
       "    <tr>\n",
       "      <th>85</th>\n",
       "      <td>Westside KS</td>\n",
       "      <td>Liberal Arts and Science MC</td>\n",
       "      <td>Alaina Walberg</td>\n",
       "      <td>Neg</td>\n",
       "      <td>0</td>\n",
       "    </tr>\n",
       "    <tr>\n",
       "      <th>86</th>\n",
       "      <td>Lane Tech NP</td>\n",
       "      <td>Mamaroneck BO</td>\n",
       "      <td>Terrell Taylor</td>\n",
       "      <td>Neg</td>\n",
       "      <td>0</td>\n",
       "    </tr>\n",
       "    <tr>\n",
       "      <th>87</th>\n",
       "      <td>West HS SLC GR</td>\n",
       "      <td>Maine East PP</td>\n",
       "      <td>Dustin Meyers-Levy</td>\n",
       "      <td>Aff</td>\n",
       "      <td>1</td>\n",
       "    </tr>\n",
       "    <tr>\n",
       "      <th>88</th>\n",
       "      <td>Berkeley Prep ZK</td>\n",
       "      <td>Cypress Bay LL</td>\n",
       "      <td>Donny Peters</td>\n",
       "      <td>Aff</td>\n",
       "      <td>1</td>\n",
       "    </tr>\n",
       "    <tr>\n",
       "      <th>89</th>\n",
       "      <td>Georgetown Day MW</td>\n",
       "      <td>Meadows HY</td>\n",
       "      <td>Sam Gustavson</td>\n",
       "      <td>Aff</td>\n",
       "      <td>1</td>\n",
       "    </tr>\n",
       "  </tbody>\n",
       "</table>\n",
       "<p>90 rows × 5 columns</p>\n",
       "</div>"
      ],
      "text/plain": [
       "                   Affirmative                      Negative  \\\n",
       "0                    Meadows HY             Berkeley Prep ZK   \n",
       "1                 Mamaroneck BO            Georgetown Day MW   \n",
       "2   Liberal Arts and Science MC               West HS SLC GR   \n",
       "3   Liberal Arts and Science BR                 Lane Tech NP   \n",
       "4                 Maine East PP                  Westside KS   \n",
       "..                          ...                          ...   \n",
       "85                  Westside KS  Liberal Arts and Science MC   \n",
       "86                 Lane Tech NP                Mamaroneck BO   \n",
       "87               West HS SLC GR                Maine East PP   \n",
       "88             Berkeley Prep ZK               Cypress Bay LL   \n",
       "89            Georgetown Day MW                   Meadows HY   \n",
       "\n",
       "                 Judge Result  Result Numeric  \n",
       "0          Jason Young    Neg               0  \n",
       "1             Jake Lee    Aff               1  \n",
       "2        Misty Tippets    Neg               0  \n",
       "3        Cade Cottrell    Aff               1  \n",
       "4      Rishi Mukherjee    Aff               1  \n",
       "..                 ...    ...             ...  \n",
       "85      Alaina Walberg    Neg               0  \n",
       "86      Terrell Taylor    Neg               0  \n",
       "87  Dustin Meyers-Levy    Aff               1  \n",
       "88        Donny Peters    Aff               1  \n",
       "89       Sam Gustavson    Aff               1  \n",
       "\n",
       "[90 rows x 5 columns]"
      ]
     },
     "execution_count": 54,
     "metadata": {},
     "output_type": "execute_result"
    }
   ],
   "source": [
    "import pandas as pd\n",
    "df = pd.read_csv(\"debateT.csv\")\n",
    "def switch(df):\n",
    "    if (df.Result==\"Neg\"):\n",
    "        return 0\n",
    "    else:\n",
    "        return 1\n",
    "df[\"Result Numeric\"] = df.apply(lambda row:switch(row), axis=1)\n",
    "df"
   ]
  },
  {
   "cell_type": "code",
   "execution_count": 55,
   "metadata": {},
   "outputs": [
    {
     "name": "stdout",
     "output_type": "stream",
     "text": [
      "Number of Judges Voting Aff: 47\n",
      "Number of Judges Voting Neg: 43\n"
     ]
    }
   ],
   "source": [
    "a = len(df[(df.Result==\"Aff\")])\n",
    "print(\"Number of Judges Voting Aff: \" + str(a))\n",
    "\n",
    "b = len(df[(df.Result==\"Neg\")])\n",
    "print(\"Number of Judges Voting Neg: \" + str(b))"
   ]
  },
  {
   "cell_type": "markdown",
   "metadata": {},
   "source": [
    "$\\mu$ = 0.5 (chance of judge voting neg = chance of judge voting aff)\n",
    "\n",
    "Null Hypothesis: chance of judge voting aff = $\\mu$\n",
    "\n",
    "Alternative Hypothesis: chance of judge voting aff > $\\mu$\n"
   ]
  },
  {
   "cell_type": "code",
   "execution_count": 56,
   "metadata": {},
   "outputs": [
    {
     "name": "stdout",
     "output_type": "stream",
     "text": [
      "result_mean: 0.5222222222222223\n",
      "sample_size: 90\n"
     ]
    }
   ],
   "source": [
    "result_mean = df[\"Result Numeric\"].mean()\n",
    "print(\"result_mean: \" + str(result_mean))\n",
    "\n",
    "sample_size = len(df)\n",
    "print(\"sample_size: \" + str(sample_size))"
   ]
  },
  {
   "cell_type": "code",
   "execution_count": 60,
   "metadata": {},
   "outputs": [
    {
     "name": "stdout",
     "output_type": "stream",
     "text": [
      "p-value is 0.3760166007992975\n"
     ]
    }
   ],
   "source": [
    "# alpha is 5%\n",
    "\n",
    "import scipy.stats\n",
    "from scipy.stats import binomtest\n",
    "result = scipy.stats.binomtest(47, n=sample_size, p=0.5, alternative=\"greater\")\n",
    "p_value = result.pvalue\n",
    "\n",
    "print(\"p-value is \" + str(p_value))"
   ]
  },
  {
   "cell_type": "markdown",
   "metadata": {},
   "source": [
    "Interpretation: The p-value is greater than 5%. Thus, we do not have enough evidence to reject the null hypothesis. "
   ]
  },
  {
   "cell_type": "code",
   "execution_count": 65,
   "metadata": {},
   "outputs": [
    {
     "data": {
      "text/plain": [
       "<AxesSubplot:xlabel='Result'>"
      ]
     },
     "execution_count": 65,
     "metadata": {},
     "output_type": "execute_result"
    },
    {
     "data": {
      "image/png": "[encoded data removed]",
      "text/plain": [
       "<Figure size 432x288 with 1 Axes>"
      ]
     },
     "metadata": {
      "needs_background": "light"
     },
     "output_type": "display_data"
    }
   ],
   "source": [
    "df2 = pd.DataFrame({\"Result\":[\"Aff\", \"Neg\"], \"Votes\":[47, 43]})\n",
    "df2.plot.bar(x=\"Result\", y=\"Votes\", rot=0)"
   ]
  }
 ],
 "metadata": {
  "interpreter": {
   "hash": "bb71644d32eb36cf7f2cc7810c446f13bd72926edb88194d595fc87c14eb9124"
  },
  "kernelspec": {
   "display_name": "Python 3.9.6 64-bit",
   "language": "python",
   "name": "python3"
  },
  "language_info": {
   "codemirror_mode": {
    "name": "ipython",
    "version": 3
   },
   "file_extension": ".py",
   "mimetype": "text/x-python",
   "name": "python",
   "nbconvert_exporter": "python",
   "pygments_lexer": "ipython3",
   "version": "3.9.6"
  },
  "orig_nbformat": 4
 },
 "nbformat": 4,
 "nbformat_minor": 2
}
