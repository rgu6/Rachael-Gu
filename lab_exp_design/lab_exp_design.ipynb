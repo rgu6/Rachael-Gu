{
 "cells": [
  {
   "cell_type": "markdown",
   "source": [
    "# Welcome to Elite Feet!\n",
    "\n",
    "You are a data scientist at Elite Feet. You just got hired to perform an experiment to test new shoe inserts that are supposed to make shoes feel 83% more comfortable!\n",
    "\n",
    "You have found 22 ~~victims~~ participants who have agreed to try the shoe inserts for free. Now it's time to run the experiments to see if these work! You first have to divide the participants up into a treatment group (people who use the inserts) and a control group (people who don't use the inserts). Let's get going!\n",
    "\n",
    "## Lab: Experimental Design\n",
    "\n",
    "In this lab, you will:\n",
    "\n",
    "- Download a dataset and place it in your working directory\n",
    "- Utilize pandas to see how different sampling techniques affect your results\n",
    "- Perform data cleaning on the dataset\n",
    "- Think creatively on using pandas to solve real-world problems"
   ],
   "metadata": {}
  },
  {
   "cell_type": "markdown",
   "source": [
    "## 00. Group\n",
    "\n",
    "Edit the next Python cell to add information about who you're working within your lab section:"
   ],
   "metadata": {}
  },
  {
   "cell_type": "code",
   "execution_count": null,
   "source": [
    "partner1_name = \"\"\n",
    "partner1_netid = \"\"\n",
    "partner1_major = \"\"\n",
    "\n",
    "partner2_name = \"\"\n",
    "partner2_netid = \"\"\n",
    "partner2_major = \"\"\n",
    "\n",
    "partner3_name = \"\"\n",
    "partner3_netid = \"\"\n",
    "partner3_major = \"\""
   ],
   "outputs": [],
   "metadata": {}
  },
  {
   "cell_type": "markdown",
   "source": [
    "## 0. Setup\n",
    "\n",
    "In the _beginning_ of every project, you will always need to:\n",
    "\n",
    "1. Download the dataset and place it into **your working directory**. \n",
    "2. Import the `pandas` library (as `pd`) to use pandas functions.\n",
    "3. Read the dataset into a DataFrame `df` using `pd.read_csv()`\n",
    "\n",
    "### 0.1. This Lab's Dataset: Former Stat 107 Students!\n",
    "\n",
    "You will use a dataset created by former Stat 107 students.  Assume they are the participants in this study!\n",
    "\n",
    "- This dataset is in the lab_exp_design folder and it's named data.csv. So it's already where it needs to be!\n",
    "\n",
    "\n",
    "### 0.1. Puzzle : Complete the Setup your Python Notebook\n",
    "\n",
    "Use the following two cells to finish up the setup by following 3 steps above:"
   ],
   "metadata": {}
  },
  {
   "cell_type": "code",
   "execution_count": null,
   "source": [
    "# Import the pandas library as pd\n",
    "\n"
   ],
   "outputs": [],
   "metadata": {}
  },
  {
   "cell_type": "code",
   "execution_count": null,
   "source": [
    "# Read the dataset into a DataFrame\n",
    "df = ...\n",
    "df"
   ],
   "outputs": [],
   "metadata": {
    "nbgrader": {
     "grade": false,
     "grade_id": "cell-60586fba048b7e50",
     "locked": false,
     "schema_version": 3,
     "solution": true
    }
   }
  },
  {
   "cell_type": "code",
   "execution_count": null,
   "source": [
    "## == TEST CASES for Puzzle 1.1 ==\n",
    "# - This read-only cell contains test cases for your previous cell.\n",
    "# - If this cell runs without any error our output, you PASSED all test cases!\n",
    "# - If this cell results in any errors, check you previous cell, make changes, and RE-RUN your code and then this cell.\n",
    "\n",
    "assert(len(df) == 22), \"The dataframe does not appear to have correct dataset loaded\"\n",
    "\n",
    "## == SUCCESS MESSAGE ==\n",
    "# You will only see this message (with the emoji showing) if you passed all test cases:\n",
    "tada = \"\\N{PARTY POPPER}\"\n",
    "print(f\"{tada} All tests passed! {tada}\")\n",
    "print()"
   ],
   "outputs": [],
   "metadata": {
    "nbgrader": {
     "grade": true,
     "grade_id": "cell-579c71bea191072e",
     "locked": true,
     "points": 1,
     "schema_version": 3,
     "solution": false
    }
   }
  },
  {
   "cell_type": "markdown",
   "source": [
    "## The Data\n",
    "\n",
    "You have a file called data.csv which contains the names of participants in the order they registered to participate in the study. This file contains useful information for you like the participants' gender, age, height, shoe size, and opinion of Crocs.\n",
    "\n",
    "Taylor Swift, a popular data scientist, has decided that average shoe size is going to be an important variable for the study, and that is what she wants you to measure first for both the treatment and control groups. Ideally, the averages for the two groups should be about the same because like we learned in lecture, we want the **two groups** to be as **alike** as possible.\n"
   ],
   "metadata": {}
  },
  {
   "cell_type": "markdown",
   "source": [
    "## 1. The Easy Way\n",
    "\n",
    "Taylor's coworker, Olivia, who is known for taking short cuts, says she knows how to split the participants into two groups: take the first 11 people from the list and put them into the control group, then put the rest of them in the treatment group.\n",
    "\n",
    "### Quick tip: Pandas cheat sheet will help! Use it!\n",
    "\n",
    "*If you don't have it, just Google **pandas cheat sheet*** or look on our class website under \"Resources.\"\n",
    "\n",
    "Use the pandas cheat sheet and create the treatment and control groups using Olivia's strategy.  Instead of just using one DataFrame, we will want to create two new DataFrames:\n",
    "\n",
    "- `control`, a DataFrame that contains the control group\n",
    "- `treatment`, a DataFrame that contains the treatment group\n",
    "\n",
    "Because `control` and `treatment` are just DataFrames, they can do all the same things as `df` except by a different name.  This means you will have three DataFrames:\n",
    "\n",
    "- `df`, contains all of your data\n",
    "- `control`, contains your control group data\n",
    "- `treatment`, contains your treatment group data"
   ],
   "metadata": {}
  },
  {
   "cell_type": "markdown",
   "source": [
    "### 1.1. Puzzle : Create the control group\n",
    "\n",
    "Using Olivia's strategy, create the control group DataFrame `control` by selecting a subset of the data from `df`. \n",
    "\n",
    "**Hint** Use the pandas cheat sheet and what we have learned in lecture to do this!"
   ],
   "metadata": {}
  },
  {
   "cell_type": "code",
   "execution_count": null,
   "source": [
    "# Assign the people into the control group Using *Olivia's strategy*\n",
    "control = ...\n",
    "control"
   ],
   "outputs": [],
   "metadata": {
    "nbgrader": {
     "grade": false,
     "grade_id": "cell-ca145fc4784cb587",
     "locked": false,
     "schema_version": 3,
     "solution": true
    }
   }
  },
  {
   "cell_type": "code",
   "execution_count": null,
   "source": [
    "## == TEST CASES for Puzzle 1.1 ==\n",
    "# - This read-only cell contains test cases for your previous cell.\n",
    "# - If this cell runs without any error our output, you PASSED all test cases!\n",
    "# - If this cell results in any errors, check you previous cell, make changes, and RE-RUN your code and then this cell.\n",
    "\n",
    "assert(len(control) == 11), \"The control group does not appear to have correctly chosen\"\n",
    "assert((control[\"Name\"] == df[\"Name\"][10]).sum() == 1), \"The control group does not appear to have correctly chosen\"\n",
    "\n",
    "## == SUCCESS MESSAGE ==\n",
    "# You will only see this message (with the emoji showing) if you passed all test cases:\n",
    "tada = \"\\N{PARTY POPPER}\"\n",
    "print(f\"{tada} All tests passed! {tada}\")\n",
    "print()"
   ],
   "outputs": [],
   "metadata": {
    "nbgrader": {
     "grade": true,
     "grade_id": "cell-7542098f4c3f3f50",
     "locked": true,
     "points": 1,
     "schema_version": 3,
     "solution": false
    }
   }
  },
  {
   "cell_type": "markdown",
   "source": [
    "### 1.2. Puzzle :  Create the treatment group\n",
    "\n",
    "Using Olivia's strategy, create the treatment group DataFrame `treatment`:"
   ],
   "metadata": {}
  },
  {
   "cell_type": "code",
   "execution_count": null,
   "source": [
    "# Assign the people into the treatment group Using *Olivia's strategy*\n",
    "treatment = ...\n",
    "treatment"
   ],
   "outputs": [],
   "metadata": {
    "nbgrader": {
     "grade": false,
     "grade_id": "cell-3c27ef5f7d3b3705",
     "locked": false,
     "schema_version": 3,
     "solution": true
    }
   }
  },
  {
   "cell_type": "code",
   "execution_count": null,
   "source": [
    "### == TEST CASES for Puzzle 1.2 ==\n",
    "# - This read-only cell contains test cases for your previous cell.\n",
    "# - If this cell runs without any error our output, you PASSED all test cases!\n",
    "# - If this cell results in any errors, check you previous cell, make changes, and RE-RUN your code and then this cell.\n",
    "\n",
    "assert(len(treatment) == 11), \"The treatment group does not appear to have correctly chosen\"\n",
    "assert((treatment[\"Name\"] == df[\"Name\"][11]).sum() == 1), \"The treatment group does not appear to have correctly chosen\"\n",
    "\n",
    "## == SUCCESS MESSAGE ==\n",
    "# You will only see this message (with the emoji showing) if you passed all test cases:\n",
    "tada = \"\\N{PARTY POPPER}\"\n",
    "print(f\"{tada} All tests passed! {tada}\")\n",
    "print()"
   ],
   "outputs": [],
   "metadata": {
    "nbgrader": {
     "grade": true,
     "grade_id": "cell-8b30b24526f8663e",
     "locked": true,
     "points": 1,
     "schema_version": 3,
     "solution": false
    }
   }
  },
  {
   "cell_type": "markdown",
   "source": [
    "## 1.3. Find the mean (average) shoe size\n",
    "\n",
    "On the back of the cheat sheet, you will find pandas can summarize data:\n",
    "\n",
    "![image.png](pandas-summarize-data.png)\n",
    "\n",
    "### Using the summary functions on a column:\n",
    "\n",
    "We can use any of the summary functions, `sum()`, `count()`, `median()`, `quantile(...)`, `apply(...)`, `min()`, `max()`, `mean()`, `var()`, and `std()` to any column by applying it to a column in the DataFrame.\n",
    "\n",
    "The syntax to get one column from a DataFrame is to **index into the column**.  For example:\n",
    "\n",
    "```\n",
    "df['Credit Hours'].max()\n",
    "```\n",
    "\n",
    "...will return the max number of credit hours.\n",
    "\n"
   ],
   "metadata": {}
  },
  {
   "cell_type": "markdown",
   "source": [
    "### 1.3. Puzzle: Find the mean (average) shoe size\n",
    "\n",
    "Find and `print` the average shoe size of the control *and* treatment groups:"
   ],
   "metadata": {}
  },
  {
   "cell_type": "code",
   "execution_count": null,
   "source": [
    "# Assign the average shoe size of control group\n",
    "control_shoe_mean = ...\n",
    "# Print the control_shoe_mean\n",
    "...\n",
    "\n",
    "# Assign the average shoe size of treatment group\n",
    "treatment_shoe_mean = ...\n",
    "# Print the treatment_shoe_mean\n",
    "..."
   ],
   "outputs": [],
   "metadata": {
    "nbgrader": {
     "grade": false,
     "grade_id": "cell-780ae1ba9db5809d",
     "locked": false,
     "schema_version": 3,
     "solution": true
    }
   }
  },
  {
   "cell_type": "code",
   "execution_count": null,
   "source": [
    "### == TEST CASES for Puzzle 1.3 ==\n",
    "# - This read-only cell contains test cases for your previous cell.\n",
    "# - If this cell runs without any error our output, you PASSED all test cases!\n",
    "# - If this cell results in any errors, check you previous cell, make changes, and RE-RUN your code and then this cell.\n",
    "\n",
    "assert(control_shoe_mean == control['Shoe Size?'].mean()), \"The average shoe size of your control group does not appear to seem correct. Make sure you are taking mean of the correct variable.\"\n",
    "assert(treatment_shoe_mean == treatment['Shoe Size?'].mean()), \"The average shoe size of your treatment group does not appear to seem correct. Make sure you are taking mean of the correct variable.\"\n",
    "\n",
    "## == SUCCESS MESSAGE ==\n",
    "# You will only see this message (with the emoji showing) if you passed all test cases:\n",
    "tada = \"\\N{PARTY POPPER}\"\n",
    "print(f\"{tada} All tests passed! {tada}\")\n",
    "print()"
   ],
   "outputs": [],
   "metadata": {
    "nbgrader": {
     "grade": true,
     "grade_id": "cell-43e8842841584def",
     "locked": true,
     "points": 1,
     "schema_version": 3,
     "solution": false
    }
   }
  },
  {
   "cell_type": "markdown",
   "source": [
    "## 1.4. Individual Reflection:\n",
    "\n",
    "Do you think this is the best way to choose who is in the treatment group and the control group? Why or why not? Type your short answer in the cell below."
   ],
   "metadata": {}
  },
  {
   "cell_type": "markdown",
   "source": [
    "Type your answer here."
   ],
   "metadata": {}
  },
  {
   "cell_type": "markdown",
   "source": [
    "## 2. The Random Way\n",
    "\n",
    "Taylor's coworker, Ed, took a stats course in college and stayed awake through at least 50% of the lectures. He remembers that you have to use randomization to determine who goes in each group in order to make the groups as *alike* as possible. He suggests that you randomly pick 11 people to be in the treatment group and the other 11 should go in the control group."
   ],
   "metadata": {}
  },
  {
   "cell_type": "markdown",
   "source": [
    "### 2.1. Creating the control and the treatment groups using randomization\n",
    "\n",
    "Execute Ed's strategy for dividing up the participants to create a `control` and a `treatment` group.\n",
    "\n",
    "\n",
    "**Hint:** This might help to randomize your whole dataset first: https://pandas.pydata.org/pandas-docs/stable/generated/pandas.DataFrame.sample.html\n",
    "\n",
    "**Hint 2:** If the frac=0.5 parameter randomly samples 50% of the data with replacement, how can we use this to randomize the entire dataset?\n",
    "\n",
    "*Make sure to use a different cell for `control` and `treatment`.*"
   ],
   "metadata": {}
  },
  {
   "cell_type": "code",
   "execution_count": null,
   "source": [
    "# Assign the 11 people into the control group Using *randomization*\n",
    "control_random = ...\n",
    "control_random"
   ],
   "outputs": [],
   "metadata": {
    "nbgrader": {
     "grade": false,
     "grade_id": "cell-9d51e56771c0e4a4",
     "locked": false,
     "schema_version": 3,
     "solution": true
    }
   }
  },
  {
   "cell_type": "code",
   "execution_count": null,
   "source": [
    "### == TEST CASES for Puzzle 2.1. ==\n",
    "# - This read-only cell contains test cases for your previous cell.\n",
    "# - If this cell runs without any error our output, you PASSED all test cases!\n",
    "# - If this cell results in any errors, check you previous cell, make changes, and RE-RUN your code and then this cell.\n",
    "assert(len(control_random) == 11), \"The control group does not appear to have correctly chosen\"\n",
    "\n",
    "## == SUCCESS MESSAGE ==\n",
    "# You will only see this message (with the emoji showing) if you passed all test cases:\n",
    "tada = \"\\N{PARTY POPPER}\"\n",
    "print(f\"{tada} All tests passed! {tada}\")\n",
    "print()"
   ],
   "outputs": [],
   "metadata": {
    "nbgrader": {
     "grade": true,
     "grade_id": "cell-65c20ceb98d1c417",
     "locked": true,
     "points": 1,
     "schema_version": 3,
     "solution": false
    }
   }
  },
  {
   "cell_type": "code",
   "execution_count": null,
   "source": [
    "# Assign the rest of people into the control group Using *randomization*\n",
    "treatment_random = ...\n",
    "treatment_random"
   ],
   "outputs": [],
   "metadata": {
    "nbgrader": {
     "grade": false,
     "grade_id": "cell-aef45ab54ed279f2",
     "locked": false,
     "schema_version": 3,
     "solution": true
    }
   }
  },
  {
   "cell_type": "code",
   "execution_count": null,
   "source": [
    "### == TEST CASES for Puzzle 2.1. ==\n",
    "# - This read-only cell contains test cases for your previous cell.\n",
    "# - If this cell runs without any error our output, you PASSED all test cases!\n",
    "# - If this cell results in any errors, check you previous cell, make changes, and RE-RUN your code and then this cell.\n",
    "assert(len(treatment_random) == 11), \"The control group does not appear to have correctly chosen\"\n",
    "for x in treatment_random[\"Name\"]:\n",
    "    a = (len(control_random[control_random['Name'].str.contains(str(x))])==0)\n",
    "assert(a), \"The treatment group does not appear to have correctly chosen\"\n",
    "\n",
    "## == SUCCESS MESSAGE ==\n",
    "# You will only see this message (with the emoji showing) if you passed all test cases:\n",
    "tada = \"\\N{PARTY POPPER}\"\n",
    "print(f\"{tada} All tests passed! {tada}\")\n",
    "print()"
   ],
   "outputs": [],
   "metadata": {
    "nbgrader": {
     "grade": true,
     "grade_id": "cell-32701da0406d2b03",
     "locked": true,
     "points": 1,
     "schema_version": 3,
     "solution": false
    }
   }
  },
  {
   "cell_type": "markdown",
   "source": [
    "### SANITY CHECK !!!\n",
    "\n",
    "- **MAKE SURE** that each group has unique people and that no single person is in both groups."
   ],
   "metadata": {}
  },
  {
   "cell_type": "markdown",
   "source": [
    "### 2.2. Puzzle : Finding mean shoe sizes\n",
    "Now again try to find and `print` the average shoe size of the **randomized** control *and* **randomized** treatment groups."
   ],
   "metadata": {}
  },
  {
   "cell_type": "code",
   "execution_count": null,
   "source": [
    "# Assign the average shoe size of control group\n",
    "control_random_shoe_mean = ...\n",
    "# Print the control_shoe_mean\n",
    "...\n",
    "\n",
    "# Assign the average shoe size of treatment group\n",
    "treatment_random_shoe_mean = ...\n",
    "# Print the treatment_shoe_mean\n",
    "..."
   ],
   "outputs": [],
   "metadata": {
    "nbgrader": {
     "grade": false,
     "grade_id": "cell-2f24cc7c37a32865",
     "locked": false,
     "schema_version": 3,
     "solution": true
    }
   }
  },
  {
   "cell_type": "code",
   "execution_count": null,
   "source": [
    "### == TEST CASES for Puzzle 2.2 ==\n",
    "# - This read-only cell contains test cases for your previous cell.\n",
    "# - If this cell runs without any error our output, you PASSED all test cases!\n",
    "# - If this cell results in any errors, check you previous cell, make changes, and RE-RUN your code and then this cell.\n",
    "\n",
    "assert(control_random_shoe_mean == control_random['Shoe Size?'].mean()), \"The average shoe size of your control group does not appear to seem correct. Make sure you are taking mean of the correct variable.\"\n",
    "assert(treatment_random_shoe_mean == treatment_random['Shoe Size?'].mean()), \"The average shoe size of your treatment group does not appear to seem correct. Make sure you are taking mean of the correct variable.\"\n",
    "\n",
    "## == SUCCESS MESSAGE ==\n",
    "# You will only see this message (with the emoji showing) if you passed all test cases:\n",
    "tada = \"\\N{PARTY POPPER}\"\n",
    "print(f\"{tada} All tests passed! {tada}\")\n",
    "print()"
   ],
   "outputs": [],
   "metadata": {
    "nbgrader": {
     "grade": true,
     "grade_id": "cell-0844e683b4ae0313",
     "locked": true,
     "points": 1,
     "schema_version": 3,
     "solution": false
    }
   }
  },
  {
   "cell_type": "markdown",
   "source": [
    "### 2.3. Individual Reflection:\n",
    "Do you think this is the best way to decide who is in the treatment and control groups? Why or why not? Type your short answer below."
   ],
   "metadata": {
    "collapsed": true
   }
  },
  {
   "cell_type": "markdown",
   "source": [
    "Type your answer here."
   ],
   "metadata": {}
  },
  {
   "cell_type": "markdown",
   "source": [
    "## 3. Blocking!\n",
    "\n",
    "Taylor's BFF, Karle, took many stats courses in college and is confident that, with such a small sample, you need to block the participants before randomly assigning them to the groups to ensure the groups are as *alike* as possible. With small samples, accidental differences can occur even if we randomly divide participants!"
   ],
   "metadata": {}
  },
  {
   "cell_type": "markdown",
   "source": [
    "### 3.1: Group Discussion\n",
    "\n",
    "Run `df.columns` to view all the columns in our dataset. What variable do you think you should block on?  In other words, what variable do you think will influence the response the most? Identify some possible variables and discuss with your group how they could affect the conclusion of the experiment."
   ],
   "metadata": {}
  },
  {
   "cell_type": "code",
   "execution_count": null,
   "source": [
    "df.columns"
   ],
   "outputs": [],
   "metadata": {}
  },
  {
   "cell_type": "markdown",
   "source": [
    "### 3.2. Puzzle: Creating `block1` and `block2`\n",
    "\n",
    "Blocking is just dividing subjects into groups based on a certain variable. We block before randomized controlled experiments. You can block based on multiple variables, but today we just want you to pick one. This is subjective, but we are going to use Height (measured in feet + inches) in this lab. This variable is called: Height / ft + in\n",
    "\n",
    "In our dataset, we have two blocks (or groups) that we can name `block1` and `block2`. Create DataFrames `block1` and `block2` that contain data based on our blocking condition. Remember for this lab, we will use **Height / ft + in** as the blocking condition. Use Python to create `block1` that contains the students who have a *Height / ft + in* greater than 65. And create `block2` that contains students who have a *Height / ft + in* less than or equal to 65.\n",
    "\n",
    "\n",
    "*You should use a different cell for `block1` and `block2`.*"
   ],
   "metadata": {}
  },
  {
   "cell_type": "code",
   "execution_count": null,
   "source": [
    "# Create the block1 based on blocking condition\n",
    "block1 = ...\n",
    "block1"
   ],
   "outputs": [],
   "metadata": {
    "nbgrader": {
     "grade": false,
     "grade_id": "cell-7c9dd485b935ac9c",
     "locked": false,
     "schema_version": 3,
     "solution": true
    }
   }
  },
  {
   "cell_type": "code",
   "execution_count": null,
   "source": [
    "## == TEST CASES for Puzzle 3.2 ==\n",
    "# - This read-only cell contains test cases for your previous cell.\n",
    "# - If this cell runs without any error our output, you PASSED all test cases!\n",
    "# - If this cell results in any errors, check you previous cell, make changes, and RE-RUN your code and then this cell.\n",
    "assert(len(block1) == 12), \"The block1 group does not appear to have correctly chosen\"\n",
    "\n",
    "## == SUCCESS MESSAGE ==\n",
    "# You will only see this message (with the emoji showing) if you passed all test cases:\n",
    "tada = \"\\N{PARTY POPPER}\"\n",
    "print(f\"{tada} All tests passed! {tada}\")\n",
    "print()"
   ],
   "outputs": [],
   "metadata": {
    "nbgrader": {
     "grade": true,
     "grade_id": "cell-0a5aba453dc64dba",
     "locked": true,
     "points": 1,
     "schema_version": 3,
     "solution": false
    }
   }
  },
  {
   "cell_type": "code",
   "execution_count": null,
   "source": [
    "block2 = ...\n",
    "block2"
   ],
   "outputs": [],
   "metadata": {
    "nbgrader": {
     "grade": false,
     "grade_id": "cell-ccdae3019435b1e1",
     "locked": false,
     "schema_version": 3,
     "solution": true
    }
   }
  },
  {
   "cell_type": "code",
   "execution_count": null,
   "source": [
    "## == TEST CASES for Puzzle 3.2 ==\n",
    "# - This read-only cell contains test cases for your previous cell.\n",
    "# - If this cell runs without any error our output, you PASSED all test cases!\n",
    "# - If this cell results in any errors, check you previous cell, make changes, and RE-RUN your code and then this cell.\n",
    "\n",
    "assert(len(block2) == 10), \"The block2 group does not appear to have correctly chosen\"\n",
    "\n",
    "## == SUCCESS MESSAGE ==\n",
    "# You will only see this message (with the emoji showing) if you passed all test cases:\n",
    "tada = \"\\N{PARTY POPPER}\"\n",
    "print(f\"{tada} All tests passed! {tada}\")\n",
    "print()"
   ],
   "outputs": [],
   "metadata": {
    "nbgrader": {
     "grade": true,
     "grade_id": "cell-74463381acbb7be5",
     "locked": true,
     "points": 1,
     "schema_version": 3,
     "solution": false
    }
   }
  },
  {
   "cell_type": "markdown",
   "source": [
    "### 3.3. Puzzle:  Creating the final treatment and control groups\n",
    "\n",
    "Execute Karle's strategy for dividing up the participants to create a `control_block` group and a `treatment_block` group such that half of the students in each block will be in the treatment group and half will be in the control group. Dont forget to **randomize**! In other words, randomly assign half of the subjects from block1 to treatment and half to control. Do the same thing with block2.\n",
    "\n",
    "**HINT**:  Will you need to gather data from two places?  Is there something on the cheat sheet that lets you combine two datasets? \n",
    "https://pandas.pydata.org/Pandas_Cheat_Sheet.pdf\n",
    "\n",
    "*You should use a different cell for `control_block` and `treatment_block`.*\n",
    "\n",
    "You have several cells to work in if you need them. The only requirement is that your final `control_block` and `treatment_block` groups must be randomly selected and be stored in the variable `control_block` and `treatment_block` .\n",
    "\n",
    "**HINT**: The tilde operator negates the Boolean values in the DataFrame. E.g. try running `~pd.Series([True,False])`"
   ],
   "metadata": {}
  },
  {
   "cell_type": "code",
   "execution_count": null,
   "source": [
    "# You can use this cell to work on creating the control group from the blocks.\n",
    "..."
   ],
   "outputs": [],
   "metadata": {}
  },
  {
   "cell_type": "code",
   "execution_count": null,
   "source": [
    "# Make sure your final answer is in `control_block`:\n",
    "control_block = ..."
   ],
   "outputs": [],
   "metadata": {
    "nbgrader": {
     "grade": false,
     "grade_id": "cell-6d0d3875e7cd7a33",
     "locked": false,
     "schema_version": 3,
     "solution": true
    }
   }
  },
  {
   "cell_type": "code",
   "execution_count": null,
   "source": [
    "### == TEST CASES for Puzzle 3.3. ==\n",
    "# - This read-only cell contains test cases for your previous cell.\n",
    "# - If this cell runs without any error our output, you PASSED all test cases!\n",
    "# - If this cell results in any errors, check you previous cell, make changes, and RE-RUN your code and then this cell.\n",
    "assert(len(control_block) == 11), \"The control group does not appear to have correctly chosen\"\n",
    "\n",
    "## == SUCCESS MESSAGE ==\n",
    "# You will only see this message (with the emoji showing) if you passed all test cases:\n",
    "tada = \"\\N{PARTY POPPER}\"\n",
    "print(f\"{tada} All tests passed! {tada}\")\n",
    "print()"
   ],
   "outputs": [],
   "metadata": {
    "nbgrader": {
     "grade": true,
     "grade_id": "cell-77a8fc4069876a80",
     "locked": true,
     "points": 1,
     "schema_version": 3,
     "solution": false
    }
   }
  },
  {
   "cell_type": "code",
   "execution_count": null,
   "source": [
    "# This is the code for creating the treatment group from the blocks. It's given to you since we haven't learned how to do this yet!\n",
    "treatment_block=df.iloc[~df.index.isin(control_block.index)]"
   ],
   "outputs": [],
   "metadata": {}
  },
  {
   "cell_type": "code",
   "execution_count": null,
   "source": [
    "# Make sure your final answer is in `treatment_block`. If you ran the previous cell, this is ensures your final answer is in `treatment_block`.\n",
    "treatment_block"
   ],
   "outputs": [],
   "metadata": {
    "nbgrader": {
     "grade": false,
     "grade_id": "cell-3d68c10e1359b31c",
     "locked": false,
     "schema_version": 3,
     "solution": true
    }
   }
  },
  {
   "cell_type": "code",
   "execution_count": null,
   "source": [
    "### == TEST CASES for Puzzle 3.3. ==\n",
    "# - This read-only cell contains test cases for your previous cell.\n",
    "# - If this cell runs without any error our output, you PASSED all test cases!\n",
    "# - If this cell results in any errors, check you previous cell, make changes, and RE-RUN your code and then this cell.\n",
    "assert(len(treatment_block) == 11), \"The control group does not appear to have correctly chosen.\"\n",
    "for x in treatment_block[\"Name\"]:\n",
    "    a = (len(control_block[control_block['Name'].str.contains(str(x))])==0)\n",
    "assert(a), \"The treatment group does not appear to have correctly chosen\"\n",
    "\n",
    "## == SUCCESS MESSAGE ==\n",
    "# You will only see this message (with the emoji showing) if you passed all test cases:\n",
    "tada = \"\\N{PARTY POPPER}\"\n",
    "print(f\"{tada} All tests passed! {tada}\")\n",
    "print()"
   ],
   "outputs": [],
   "metadata": {
    "nbgrader": {
     "grade": true,
     "grade_id": "cell-c31cc6365c53ec53",
     "locked": true,
     "points": 1,
     "schema_version": 3,
     "solution": false
    }
   }
  },
  {
   "cell_type": "markdown",
   "source": [
    "### 3.4. Puzzle: Finding mean shoe sizes\n",
    "After creating the treatment and control groups using blocking and randomization, let's find the average shoe size of the control *and* treatment groups again. \n",
    "\n",
    "Find and `print` the average shoe size of the control *and* treatment groups:"
   ],
   "metadata": {}
  },
  {
   "cell_type": "code",
   "execution_count": null,
   "source": [
    "# Create the average shoe size of control group\n",
    "control_shoe_mean = ...\n",
    "# Print the control_shoe_mean\n",
    "...\n",
    "\n",
    "# Create the average shoe size of treatment group\n",
    "treatment_shoe_mean = ...\n",
    "# Print the treatment_shoe_mean\n",
    "...\n"
   ],
   "outputs": [],
   "metadata": {
    "nbgrader": {
     "grade": false,
     "grade_id": "cell-c6779331fe02687f",
     "locked": false,
     "schema_version": 3,
     "solution": true
    }
   }
  },
  {
   "cell_type": "code",
   "execution_count": null,
   "source": [
    "### == TEST CASES for Puzzle 3.4 ==\n",
    "# - This read-only cell contains test cases for your previous cell.\n",
    "# - If this cell runs without any error our output, you PASSED all test cases!\n",
    "# - If this cell results in any errors, check you previous cell, make changes, and RE-RUN your code and then this cell.\n",
    "\n",
    "assert(control_shoe_mean == control_block['Shoe Size?'].mean()), \"The average shoe size of your control group does not appear to seem correct. Make sure you are taking mean of the correct variable.\"\n",
    "assert(treatment_shoe_mean == treatment_block['Shoe Size?'].mean()), \"The average shoe size of your treatment group does not appear to seem correct. Make sure you are taking mean of the correct variable.\"\n",
    "\n",
    "## == SUCCESS MESSAGE ==\n",
    "# You will only see this message (with the emoji showing) if you passed all test cases:\n",
    "tada = \"\\N{PARTY POPPER}\"\n",
    "print(f\"{tada} All tests passed! {tada}\")\n",
    "print()"
   ],
   "outputs": [],
   "metadata": {
    "nbgrader": {
     "grade": true,
     "grade_id": "cell-d12207a75476aca4",
     "locked": true,
     "points": 1,
     "schema_version": 3,
     "solution": false
    }
   }
  },
  {
   "cell_type": "markdown",
   "source": [
    "## 3.5 Individual Reflection:\n",
    "\n",
    "- Do you think this is a good way to choose the treatment and control groups? Why or why not?\n",
    "\n",
    "- Did the three different strategies affect the average shoe size of the two groups? If so, how?"
   ],
   "metadata": {
    "collapsed": true
   }
  },
  {
   "cell_type": "markdown",
   "source": [
    "Type your answer from the individual refelection here."
   ],
   "metadata": {}
  },
  {
   "cell_type": "markdown",
   "source": [
    "## 3.6 Group Discussion:\n",
    "\n",
    "This lab was an example of a controlled experiment, specifically a randomized controlled experiment with blocking. Suppose that it was an observational study instead (i.e. subjects themselves choose whether they try the new shoe inserts or not). Discuss how this would change your approach to analyzing the data at the end of the study. What are the problems with observational studies? Are there any pros to doing an observational study in this case? Discuss this with your group :)"
   ],
   "metadata": {}
  },
  {
   "cell_type": "markdown",
   "source": [
    "# Finale!\n",
    "\n",
    "You're almost done -- congratulations!\n",
    "\n",
    "You need to do two more things:\n",
    "\n",
    "1. Save your work.  To do this, create a **notebook checkpoint** by using the menu within the notebook to go **File -> Save All**\n",
    "\n",
    "2. After you have saved, exit this notebook and return to the Data Science Discovery page on how to use git to turn this notebook into the course!"
   ],
   "metadata": {}
  },
  {
   "cell_type": "markdown",
   "source": [],
   "metadata": {}
  }
 ],
 "metadata": {
  "celltoolbar": "Create Assignment",
  "kernelspec": {
   "name": "python3",
   "display_name": "Python 3.9.6 64-bit"
  },
  "language_info": {
   "codemirror_mode": {
    "name": "ipython",
    "version": 3
   },
   "file_extension": ".py",
   "mimetype": "text/x-python",
   "name": "python",
   "nbconvert_exporter": "python",
   "pygments_lexer": "ipython3",
   "version": "3.9.6"
  },
  "interpreter": {
   "hash": "aee8b7b246df8f9039afb4144a1f6fd8d2ca17a180786b69acc140d282b71a49"
  }
 },
 "nbformat": 4,
 "nbformat_minor": 2
}