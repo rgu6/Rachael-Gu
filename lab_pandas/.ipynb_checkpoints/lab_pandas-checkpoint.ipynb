{
 "cells": [
  {
   "cell_type": "markdown",
   "source": [
    "# lab_pandas\n",
    "\n",
    "Hi Data Scientists,\n",
    "\n",
    "Welcome to the second lab!  In this lab, you will explore **data types** in Python and learn the first tool of Data Science -- the `pandas` library.  As you go through the lab:\n",
    "\n",
    "- Make sure to run every cell with Python code and observe the output\n",
    "- Complete all puzzles and submit this lab before Sunday evening at 11:59pm"
   ],
   "metadata": {}
  },
  {
   "cell_type": "markdown",
   "source": [
    "### Labs are Collabrative\n",
    "\n",
    "In your lab section (right now!), find two people around you and form a group.  Work on this lab together, making sure all of you understand each component of the lab.\n",
    "\n",
    "### Part 0: Your Group!\n",
    "\n",
    "Edit the next Python cell to add information about who you're working with in your lab section:"
   ],
   "metadata": {}
  },
  {
   "cell_type": "code",
   "execution_count": null,
   "source": [
    "# First, meet your CAs and TA if you haven't already!\n",
    "# ...first name is enough, we'll know who they are! :)\n",
    "ta_name = \"\"\n",
    "ca1_name = \"\"\n",
    "ca2_name = \"\"\n",
    "\n",
    "\n",
    "# Also, make sure to meet your team for this lab!  Find out their name, what major they're in,\n",
    "# and learn something new about them that you never knew more!\n",
    "# Groups of 3 are ideal :) However groups of 2 or 4 are fine too!\n",
    "partner1_name = \"\"\n",
    "partner1_netid = \"\"\n",
    "partner1_major = \"\"\n",
    "\n",
    "partner2_name = \"\"\n",
    "partner2_netid = \"\"\n",
    "partner2_major = \"\"\n",
    "\n",
    "partner3_name = \"\"\n",
    "partner3_netid = \"\"\n",
    "partner3_major = \"\""
   ],
   "outputs": [],
   "metadata": {}
  },
  {
   "cell_type": "markdown",
   "source": [
    "### Getting Help\n",
    "\n",
    "Remember, there are a lot of ways to get help if you find yourself stuck:\n",
    "\n",
    "1. In lab section, your TA, CAs, and your peers are here for you!\n",
    "\n",
    "2. On the course Discord!\n",
    "\n",
    "3. Office Hours:\n",
    "\n",
    "  - Open office hours in person **every Monday, Tuesday, Thursday, and Friday** from 4:00pm - 6:00pm in 0060 Siebel Center for Design (SCD)\n",
    "\n",
    "  - Zoom office hours **every Wednesday** from 5:00pm - 6:00pm"
   ],
   "metadata": {}
  },
  {
   "cell_type": "markdown",
   "source": [
    "## Part 1: Data Types\n",
    "\n",
    "In Python, data must be stored as a **number** (without quotes), as a **string** (text with quotes), or as some **other type**.  Every piece of data in Python will have three **features**:\n",
    "\n",
    "1. A **name** *(this is what we refer to it by)*\n",
    "2. A **value** *(this is the value is stores)*\n",
    "3. A **data type** *(this is the format that the data is stored)*"
   ],
   "metadata": {}
  },
  {
   "cell_type": "markdown",
   "source": [
    "### Example: Data Types\n",
    "\n",
    "Run the following line that creates the name `seconds_in_a_minute`:"
   ],
   "metadata": {}
  },
  {
   "cell_type": "code",
   "execution_count": null,
   "source": [
    "seconds_in_a_minute = 60 * 60\n",
    "seconds_in_a_minute"
   ],
   "outputs": [],
   "metadata": {}
  },
  {
   "cell_type": "markdown",
   "source": [
    "The features of `seconds_in_a_minute` are the following:\n",
    "\n",
    "- The **name** is `seconds_in_a_minute`\n",
    "- The **value** of `seconds_in_a_minute` is `3600`\n",
    "- The **data type** of `seconds_in_a_minute` is a **number**"
   ],
   "metadata": {}
  },
  {
   "cell_type": "markdown",
   "source": [
    "### Puzzle 1.1: Your Name\n",
    "#### Puzzle 1.1a: Creating Your Name\n",
    "\n",
    "Modify the following cell of Python to replace `...` with your name:\n",
    "\n",
    "- Remember, because your name is a **string**, you will need to use quotes (`'`...`'`)"
   ],
   "metadata": {}
  },
  {
   "cell_type": "code",
   "execution_count": null,
   "source": [
    "my_name = ...\n",
    "my_name"
   ],
   "outputs": [],
   "metadata": {
    "nbgrader": {
     "grade": false,
     "grade_id": "cell-522cdea9b9b77bb1",
     "locked": false,
     "schema_version": 3,
     "solution": true,
     "task": false
    }
   }
  },
  {
   "cell_type": "code",
   "execution_count": null,
   "source": [
    "## == TEST CASES for Puzzle 1.1 ==\n",
    "# - This read-only cell contains test cases for your previous cell.\n",
    "# - If this cell runs without any error our output, you PASSED all test cases!\n",
    "# - If this cell results in any errors, check you previous cell, make changes, and RE-RUN your code and then this cell.\n",
    "\n",
    "assert(type(my_name) == type('string')), 'It looks like your name is not a string.  Make sure to assign your name.'\n",
    "\n",
    "## == SUCCESS MESSAGE ==\n",
    "# You will only see this message (with the emoji showing) if you passed all test cases:\n",
    "tada = \"\\N{PARTY POPPER}\"\n",
    "print(f\"{tada} All tests passed! {tada}\")\n",
    "print()"
   ],
   "outputs": [],
   "metadata": {
    "nbgrader": {
     "grade": true,
     "grade_id": "cell-db03062e5907fe0f",
     "locked": true,
     "points": 1,
     "schema_version": 3,
     "solution": false,
     "task": false
    }
   }
  },
  {
   "cell_type": "markdown",
   "source": [
    "#### Puzzle 1.1b: Features of `my_name`\n",
    "\n",
    "Modify the following cell of to replace ... with the correct features about `my_name`.  (This is a text cell, so we won't see the results until we grade it later.)"
   ],
   "metadata": {}
  },
  {
   "cell_type": "markdown",
   "source": [
    "- The **name** is ...\n",
    "- The **value** of `my_name` is ...\n",
    "- The **data type** of `my_name` is ..."
   ],
   "metadata": {}
  },
  {
   "cell_type": "markdown",
   "source": [
    "### Puzzle 1.2: The Current Year\n",
    "\n",
    "#### Puzzle 1.2a: Creating `current_year`\n",
    "\n",
    "Modify the following cell of Python to replace `...` with the current year (as a **number**):"
   ],
   "metadata": {}
  },
  {
   "cell_type": "code",
   "execution_count": null,
   "source": [
    "current_year = ...\n",
    "current_year"
   ],
   "outputs": [],
   "metadata": {
    "nbgrader": {
     "grade": false,
     "grade_id": "cell-d0842fa179dbcea7",
     "locked": false,
     "schema_version": 3,
     "solution": true,
     "task": false
    }
   }
  },
  {
   "cell_type": "code",
   "execution_count": null,
   "source": [
    "## == TEST CASES for Puzzle 1.2 ==\n",
    "# - This read-only cell contains test cases for your previous cell.\n",
    "# - If this cell runs without any error our output, you PASSED all test cases!\n",
    "# - If this cell results in any errors, check you previous cell, make changes, and RE-RUN your code and then this cell.\n",
    "\n",
    "assert(type(current_year) == type(2021)), 'It looks like your name is not a number.  Make sure to assign the year as a number.'\n",
    "\n",
    "## == SUCCESS MESSAGE ==\n",
    "# You will only see this message (with the emoji showing) if you passed all test cases:\n",
    "tada = \"\\N{PARTY POPPER}\"\n",
    "print(f\"{tada} All tests passed! {tada}\")\n",
    "print()"
   ],
   "outputs": [],
   "metadata": {
    "nbgrader": {
     "grade": true,
     "grade_id": "cell-a80420d1ef2b0104",
     "locked": true,
     "points": 1,
     "schema_version": 3,
     "solution": false,
     "task": false
    }
   }
  },
  {
   "cell_type": "markdown",
   "source": [
    "#### Puzzle 1.2b: Features of `current_year`\n",
    "\n",
    "Modify the following cell of to replace ... with the correct features about `current_year`:"
   ],
   "metadata": {}
  },
  {
   "cell_type": "markdown",
   "source": [
    "- The **name** is ...\n",
    "- The **value** of `current_year` is ...\n",
    "- The **data type** of `current_year` is ..."
   ],
   "metadata": {}
  },
  {
   "cell_type": "markdown",
   "source": [
    "### Review: Operations on Numbers\n",
    "\n",
    "Last week, you used the **add** (`+`) operation to add two **numbers** together.  For example:"
   ],
   "metadata": {}
  },
  {
   "cell_type": "code",
   "execution_count": null,
   "source": [
    "eleven = 4 + 7\n",
    "eleven"
   ],
   "outputs": [],
   "metadata": {}
  },
  {
   "cell_type": "markdown",
   "source": [
    "You also can use **subtraction** (`-`), **multiplication** (`*`), **division** (`/`), and you can **raise a number to a power** (`**`):"
   ],
   "metadata": {}
  },
  {
   "cell_type": "code",
   "execution_count": null,
   "source": [
    "fiftyfive = 100 - 45\n",
    "print(fiftyfive)\n",
    "\n",
    "sixteen = 8 * 2\n",
    "print(sixteen)\n",
    "\n",
    "two = 6 / 3\n",
    "print(two)\n",
    "\n",
    "eight = 2 ** 3\n",
    "print(eight)"
   ],
   "outputs": [],
   "metadata": {}
  },
  {
   "cell_type": "markdown",
   "source": [
    "A few things you may have noticed:\n",
    "- We used `print()` again this week, allowing us to output values that are not the last line of code! \n",
    "- The result of `two` is `2.0`, a non-whole number!  There are two different types of numbers: **integers** (whole numbers) and **floating point numbers** (numbers with a decimal).  We will explore these in the next part of this lab!"
   ],
   "metadata": {}
  },
  {
   "cell_type": "markdown",
   "source": [
    "### Concatenating Strings\n",
    "\n",
    "In Python, you join two **strings** together with the same `+` operation you used with **numbers**.  For example, we can join `'Hello'` and `'World'` together:"
   ],
   "metadata": {}
  },
  {
   "cell_type": "code",
   "execution_count": null,
   "source": [
    "print('Hello' + 'World')"
   ],
   "outputs": [],
   "metadata": {}
  },
  {
   "cell_type": "markdown",
   "source": [
    "...that's a little awkward.  Let's add a space together to join three strings together:"
   ],
   "metadata": {}
  },
  {
   "cell_type": "code",
   "execution_count": null,
   "source": [
    "print('Hello' + ' ' + 'World')"
   ],
   "outputs": [],
   "metadata": {}
  },
  {
   "cell_type": "markdown",
   "source": [
    "When we join strings together, we do **NOT** say that we are **adding** strings together.  We **add** numbers together.  Instead, this operation of joining two or more strings is called **concatenation** *(concatenation literally means \"the action of linking things together in a series\")*.\n",
    "\n",
    "### Puzzle 1.3: \n",
    "\n",
    "Instead of `'Hello World'`, modify the value in `hello` to say hello **to you** by using `my_name` you created earlier in this lab:"
   ],
   "metadata": {}
  },
  {
   "cell_type": "code",
   "execution_count": null,
   "source": [
    "# Modify this Python to say 'Hello ___', where ___ is your name.\n",
    "# - Use `my_name` you created earlier.\n",
    "\n",
    "hello = 'Hello' + ' ' + 'World'\n",
    "print(hello)\n"
   ],
   "outputs": [],
   "metadata": {
    "nbgrader": {
     "grade": false,
     "grade_id": "cell-47e9c78f29292a6a",
     "locked": false,
     "schema_version": 3,
     "solution": true,
     "task": false
    }
   }
  },
  {
   "cell_type": "code",
   "execution_count": null,
   "source": [
    "## == TEST CASES for Puzzle 1.3 ==\n",
    "# - This read-only cell contains test cases for your previous cell.\n",
    "# - If this cell runs without any error our output, you PASSED all test cases!\n",
    "# - If this cell results in any errors, check you previous cell, make changes, and RE-RUN your code and then this cell.\n",
    "\n",
    "assert(hello == 'Hello ' + my_name), \"Your string `hello` is not saying hi to yourself. :(\"\n",
    "\n",
    "## == SUCCESS MESSAGE ==\n",
    "# You will only see this message (with the emoji showing) if you passed all test cases:\n",
    "tada = \"\\N{PARTY POPPER}\"\n",
    "print(f\"{tada} All tests passed! {tada}\")\n",
    "print()"
   ],
   "outputs": [],
   "metadata": {
    "nbgrader": {
     "grade": true,
     "grade_id": "cell-13f3d582c7941841",
     "locked": true,
     "points": 1,
     "schema_version": 3,
     "solution": false,
     "task": false
    }
   }
  },
  {
   "cell_type": "markdown",
   "source": [
    "### Puzzle 1.4:\n",
    "\n",
    "Let's wish the current year (2021) hello as well!  Modify the following code to print hello **to the current year** using `current_year` you created earlier in this lab:\n",
    "\n",
    "- If you do this corretly, **you will see an error** -- an error is the expected result!!"
   ],
   "metadata": {}
  },
  {
   "cell_type": "code",
   "execution_count": null,
   "source": [
    "# Modify this Python to say \"Hello 2021\", where 2021 is the current year.\n",
    "# - Use `current_year` you created earlier.\n",
    "print('Hello' + ' ' + 'World')"
   ],
   "outputs": [],
   "metadata": {}
  },
  {
   "cell_type": "markdown",
   "source": [
    "If you used `current_year`, Python will be confused and give you the following error:\n",
    "\n",
    "![TypeError: can only concatenate str to str](img/error-cannot-concat.png)\n",
    "\n",
    "The text of the error tells us something about Python:\n",
    "\n",
    "- Python can only concatenate a **string** to another **string**\n",
    "- Therefore, Python can **NOT** concatenate a **string** to a **number**\n",
    "\n",
    "In the next section, we will learn how to convert between data types!\n"
   ],
   "metadata": {}
  },
  {
   "cell_type": "markdown",
   "source": [
    "## Part 2: Functions: Programs that work for us!\n",
    "\n",
    "In programming, we do not want to do everything ourselves.  Instead, **functions** provide us **functionality** that does work for us!  We already have learned one **function**:\n",
    "\n",
    "- `print( value )`, prints out `value` to the screen\n",
    "\n",
    "All **functions** always are made up of three parts:\n",
    "\n",
    "1. Every function always has a **name** (ex: `print`)\n",
    "2. Every function's name is always following with **paired parentheses** (ex: `print()`)\n",
    "3. Functions may take **values between the paired parentheses** (ex: `print('Hello')` or `print(43)`).  We call the values that a function has between it's paired parentheses the **function parameters**.\n",
    "\n",
    "Here's a visual breakdown of this same information:\n",
    "\n",
    "![Visual print function](img/print-function.png)\n",
    "\n",
    "The values that a function can receive vary by function and must be known.  `print` is very special in that it can take in almost any type of data."
   ],
   "metadata": {}
  },
  {
   "cell_type": "markdown",
   "source": [
    "### The `str` Function\n",
    "\n",
    "The second function we will use is the `str` function.  This function has a different name than `print` and will do something different.  However, we use `str` is the same way.\n",
    "\n",
    "The `str` function will take in a value as it's parameter and **return** a string version of that value.  For example, the **number** `42` can be represented as the string `\"42\"`.  The **return value** of the function is what is left after the function is run.\n",
    "\n",
    "A few examples to run, notice the output of each of them:"
   ],
   "metadata": {}
  },
  {
   "cell_type": "code",
   "execution_count": null,
   "source": [
    "str(42)"
   ],
   "outputs": [],
   "metadata": {}
  },
  {
   "cell_type": "code",
   "execution_count": null,
   "source": [
    "str('Hello')"
   ],
   "outputs": [],
   "metadata": {}
  },
  {
   "cell_type": "code",
   "execution_count": null,
   "source": [
    "nine = str(4 + 5)\n",
    "nine"
   ],
   "outputs": [],
   "metadata": {}
  },
  {
   "cell_type": "markdown",
   "source": [
    "### Puzzle 2.1:\n",
    "\n",
    "Now we can wish the current year hello by using the `str` function!\n",
    "\n",
    "Modify the following code to say hello **to the current year** using `current_year` you created back in Part 1 of this lab:"
   ],
   "metadata": {}
  },
  {
   "cell_type": "code",
   "execution_count": null,
   "source": [
    "# Modify this Python to say \"Hello 2021\", where 2021 is the current year.\n",
    "# - Use `current_year` you created earlier.\n",
    "print('Hello' + ' ' + 'World')"
   ],
   "outputs": [],
   "metadata": {}
  },
  {
   "cell_type": "markdown",
   "source": [
    "### The `float` and `int` functions\n",
    "\n",
    "The next two functions do the reverse of `str`.  Instead of taking a value and returning a string, `float` and `int` are functions that take a value and return a number.  Both `float` and `int` are similar, but have an important difference:\n",
    "\n",
    "- `int` (short for **integer**) returns whole numbers only (ex: 1, 2, 3, 4, etc)\n",
    "- `float` (short for **floating point**) returns decimal numbers (ex: 5.2, 3.141592654, 4.25, 11.0, etc)\n",
    "\n",
    "If you use `int` on a non-whole number, `int` will return only the whole number component of the number.  For example, the whole number part of **3.9** is **3** (note that it does **NOT** do any rounding).  A few examples:"
   ],
   "metadata": {}
  },
  {
   "cell_type": "code",
   "execution_count": null,
   "source": [
    "print( int(4.9) )\n",
    "print( int(-8.7) )\n",
    "print( float(\"4.8\") )\n",
    "print( int(\"9\") )"
   ],
   "outputs": [],
   "metadata": {}
  },
  {
   "cell_type": "markdown",
   "source": [
    "If Python is unable to convert the value to a number, your code will have an error:"
   ],
   "metadata": {}
  },
  {
   "cell_type": "code",
   "execution_count": null,
   "source": [
    "float('Hello')"
   ],
   "outputs": [],
   "metadata": {}
  },
  {
   "cell_type": "markdown",
   "source": [
    "### Puzzle 2.2:\n",
    "\n",
    "In the next cell, several names are defined with various values.  Run this cell:"
   ],
   "metadata": {}
  },
  {
   "cell_type": "code",
   "execution_count": null,
   "source": [
    "a = \"17\"\n",
    "b = \"44.2\"\n",
    "c = \"19\""
   ],
   "outputs": [],
   "metadata": {
    "nbgrader": {
     "grade": false,
     "grade_id": "cell-aae546b3ad1f90e2",
     "locked": true,
     "schema_version": 3,
     "solution": false,
     "task": false
    }
   }
  },
  {
   "cell_type": "markdown",
   "source": [
    "**Without editing the previous cell**, compute the value of $a + b + c$ in the next cell:"
   ],
   "metadata": {}
  },
  {
   "cell_type": "code",
   "execution_count": null,
   "source": [
    "# Compute the value of a + b + c\n",
    "total = ...\n",
    "total"
   ],
   "outputs": [],
   "metadata": {
    "nbgrader": {
     "grade": false,
     "grade_id": "cell-53d3714573ab7c3e",
     "locked": false,
     "schema_version": 3,
     "solution": true,
     "task": false
    }
   }
  },
  {
   "cell_type": "markdown",
   "source": [
    "Note: Your result should **NOT** be `1744.219`.  Make sure your answer makes sense before running the test cases."
   ],
   "metadata": {}
  },
  {
   "cell_type": "code",
   "execution_count": null,
   "source": [
    "## == TEST CASES for Puzzle 2.2 ==\n",
    "# - This read-only cell contains test cases for your previous cell.\n",
    "# - If this cell runs without any error our output, you PASSED all test cases!\n",
    "# - If this cell results in any errors, check you previous cell, make changes, and RE-RUN your code and then this cell.\n",
    "\n",
    "assert(a == \"17\"), \"You must not modify the value of `a`.\"\n",
    "assert(type(a) == type(\"17\")), \"You must not modify the value of `a`.\"\n",
    "\n",
    "assert(b == \"44.2\"), \"You must not modify the value of `b`.\"\n",
    "assert(type(b) == type(\"44.2\")), \"You must not modify the value of `b`.\"\n",
    "\n",
    "assert(c == \"19\"), \"You must not modify the value of `c`.\"\n",
    "assert(type(c) == type(\"19\")), \"You must not modify the value of `c`.\"\n",
    "\n",
    "assert(total == 80.2), \"The value in `total` is not the sum of `a`, `b`, and `c`.\"\n",
    "\n",
    "## == SUCCESS MESSAGE ==\n",
    "# You will only see this message (with the emoji showing) if you passed all test cases:\n",
    "tada = \"\\N{PARTY POPPER}\"\n",
    "print(f\"{tada} All tests passed! {tada}\")\n",
    "print()"
   ],
   "outputs": [],
   "metadata": {
    "nbgrader": {
     "grade": true,
     "grade_id": "cell-e99fd2370918408c",
     "locked": true,
     "points": 1,
     "schema_version": 3,
     "solution": false,
     "task": false
    }
   }
  },
  {
   "cell_type": "markdown",
   "source": [
    "## Part 3: Importing Datasets\n",
    "\n",
    "Data Science is focused on using tools to access, analyze, and find meaningful results in data.  Now that we know some basic Python programming, we are ready to do begin to use our first dataset!\n",
    "\n",
    "### CSV File Format\n",
    "\n",
    "One widely used file format to store datasets is as **CSV** or **Comma-Separated Values**.  The CSV file maps extremely well between a spreadsheet program (ex: Microsoft Excel, Google Sheets) and programming languages.  Specifically:\n",
    "\n",
    "- Every row on a spreadsheet is a line in a CSV file\n",
    "- Every column on a spreadsheet is separated by a comma in a CSV file"
   ],
   "metadata": {}
  },
  {
   "cell_type": "markdown",
   "source": [
    "### Download the Illinois Course Catalog as a CSV\n",
    "\n",
    "Let's grab the first dataset we will use!  For this dataset, we have already collected and put the data into a CSV file for you.  You will need to download the file as a CSV and place it in the same directory as this Python notebook.\n",
    "\n",
    "1. Download the \"Illinois CourseCatalog Dataset\" directly from this link: https://waf.cs.illinois.edu/discovery/course-catalog.csv\n",
    "\n",
    "2. Find the downloaded file on your computer and move it into the same directory as this notebook.\n",
    "  * The file is likely in your Downloads as `course-catalog.csv`\n",
    "  * You notebook is likely on your Desktop under `stat107 -> [netid] -> lab_pandas`\n",
    "  * You need to ensure the downloaded file is in the `lab_pandas` folder before running the next cell."
   ],
   "metadata": {}
  },
  {
   "cell_type": "markdown",
   "source": [
    "### Using Pandas to Read CSV Files\n",
    "\n",
    "In Data Science DISCOVERY, we will use the `pandas` **library** for working with data.  Libraries are collections of functions and other objects that extend what Python can do by itself.  The `pandas` library is the most widely used library for data science.\n",
    "\n",
    "To use the `pandas` library, we must **import** it into your notebook.  In future labs, you will find this will be one of the first lines we will run in every notebook:"
   ],
   "metadata": {}
  },
  {
   "cell_type": "code",
   "execution_count": null,
   "source": [
    "import pandas as pd"
   ],
   "outputs": [],
   "metadata": {}
  },
  {
   "cell_type": "markdown",
   "source": [
    "To use a function inside of the pandas library, the function name will always start with `pandas.` to denote that Python can find it within the `pandas` library.  The first function we will use from the `pandas` library is `read_csv`.\n",
    "- Because `read_csv` is in the pandas library, the full function name is `pandas.read_csv()`."
   ],
   "metadata": {}
  },
  {
   "cell_type": "markdown",
   "source": [
    "### Puzzle 3.1:\n",
    "\n",
    "The `pd.read_csv` function's first parameter is the name of the file that it is reading.  Using this, we know the format of the function follows the expected format.  Set the name `df` to be the result of the `pd.read_csv` function:"
   ],
   "metadata": {}
  },
  {
   "cell_type": "code",
   "execution_count": null,
   "source": [
    "df = ...\n",
    "df\n"
   ],
   "outputs": [],
   "metadata": {
    "nbgrader": {
     "grade": false,
     "grade_id": "cell-50e94d6dd49949e2",
     "locked": false,
     "schema_version": 3,
     "solution": true,
     "task": false
    }
   }
  },
  {
   "cell_type": "code",
   "execution_count": null,
   "source": [
    "## == TEST CASES for Puzzle 3.1 ==\n",
    "# - This read-only cell contains test cases for your previous cell.\n",
    "# - If this cell runs without any error our output, you PASSED all test cases!\n",
    "# - If this cell results in any errors, check you previous cell, make changes, and RE-RUN your code and then this cell.\n",
    "\n",
    "assert( len(df) == 8589 ), \"It looks like you did not import the correct dataset?\"\n",
    "\n",
    "## == SUCCESS MESSAGE ==\n",
    "# You will only see this message (with the emoji showing) if you passed all test cases:\n",
    "tada = \"\\N{PARTY POPPER}\"\n",
    "print(f\"{tada} All tests passed! {tada}\")\n",
    "print()"
   ],
   "outputs": [],
   "metadata": {
    "nbgrader": {
     "grade": true,
     "grade_id": "cell-8816926a2c95fc6f",
     "locked": true,
     "points": 1,
     "schema_version": 3,
     "solution": false
    }
   }
  },
  {
   "cell_type": "markdown",
   "source": [
    "### The DataFrame Type\n",
    "\n",
    "In Python so far, we have had **string** and **number** data types.  With the successful `pd.read_csv` function, we now have a third type: a **DataFrame**.  We can always ask Python to tell us the type with the `type` function:"
   ],
   "metadata": {}
  },
  {
   "cell_type": "code",
   "execution_count": null,
   "source": [
    "type(df)"
   ],
   "outputs": [],
   "metadata": {}
  },
  {
   "cell_type": "markdown",
   "source": [
    "The `pandas.core.frame.DataFrame` (which we will just call `DataFrame`) type has hundreds of useful functions that can be called on it:\n",
    "\n",
    "- We can choose data that matches a specific requirement,\n",
    "- We can group our data by a certain column,\n",
    "- ...and hundreds of other things...\n",
    "\n",
    "The key idea here is that **`df` is the name of the DataFrame** that contains the data in the CSV file you downloaded."
   ],
   "metadata": {}
  },
  {
   "cell_type": "markdown",
   "source": [
    "### Accessing a Column\n",
    "\n",
    "The dataset you downloaded has six columns: `Year`, `Term`, `YearTerm`, `Subject`, `Number`, and `Title`.  We can access a column by **indexing into the DataFrame**.  Whenever we **index into** something, we will use matchingsquare brackets: `[` and `]`.  For example, to **index into the column `Subject`**:"
   ],
   "metadata": {}
  },
  {
   "cell_type": "code",
   "execution_count": null,
   "source": [
    "df[\"Subject\"]"
   ],
   "outputs": [],
   "metadata": {}
  },
  {
   "cell_type": "markdown",
   "source": [
    "Notice that we now only have the **Subject** data in our output, no longer the whole DataFrame.  We can do this with any of the six columns using the same format:\n",
    "\n",
    "![image.png](img/DataFrame-index-into-column.png)"
   ],
   "metadata": {}
  },
  {
   "cell_type": "markdown",
   "source": [
    "### Puzzle 3.2:\n",
    "\n",
    "List the **name of every course** (ex: 'Data Science Discovery') at Illinois:\n",
    "\n",
    "- You may need to refer back to the data sheet (or the DataFrame output above) to get the correct column name."
   ],
   "metadata": {}
  },
  {
   "cell_type": "code",
   "execution_count": null,
   "source": [
    "..."
   ],
   "outputs": [],
   "metadata": {}
  },
  {
   "cell_type": "markdown",
   "source": [
    "### Finding a Subset of the Data\n",
    "\n",
    "Let's find a subset of the data.  To do this, we will **index into the DataFrame** with a **conditional statement**.  A **conditional** is anything that Python can check if it's **True/Yes or False/No**.  For example:\n",
    "\n",
    "- Is this course's subject STAT?  *...YES, that's True*\n",
    "- Is this course offered in 2012?  *...NO, that's False*\n",
    "\n",
    "#### Writing an Equality Conditional in Python\n",
    "\n",
    "The most basic conditional is a test for equality -- if something is **exactly equal to** something else.  To test for equality, Python uses `==`.\n",
    "\n",
    "- Remember, we already used `=` to set a name equal to something -- so Python needs to use something different.\n",
    "\n",
    "In general, we will test if **each row in a column contains some value**.  For example, we may want to test if the subject for a given course is exactly equal to `'STAT'`.  To do this, the conditional will be:\n",
    "\n",
    "![image.png](img/DataFrame-conditional.png)\n",
    "\n",
    "\n",
    "### Puzzle 3.3: A standalone conditional\n",
    "\n",
    "Write the conditional to check if each row in our DataFrame's **Subject** is `'STAT'`.\n",
    "\n",
    "- You will expect to see a whole bunch of `False`.\n"
   ],
   "metadata": {}
  },
  {
   "cell_type": "code",
   "execution_count": null,
   "source": [
    "..."
   ],
   "outputs": [],
   "metadata": {}
  },
  {
   "cell_type": "markdown",
   "source": [
    "The expected result will list a large number or row numbers (0, 1, ..., 8741) that tells us if each row is STAT.  This is almost useful, but we want to **index the whole conditional into the DataFrame** to get **ONLY the rows where the conditional is True**.\n",
    "\n",
    "We will index into the DataFrame with the full condiitional:\n",
    "\n",
    "![image.png](img/DataFarme-row-conditional.png)"
   ],
   "metadata": {}
  },
  {
   "cell_type": "markdown",
   "source": [
    "### Puzzle 3.4: Selecting a Subset of Rows\n",
    "\n",
    "In the next cell, select only the rows that have a **Subject** of `'STAT'`:"
   ],
   "metadata": {}
  },
  {
   "cell_type": "code",
   "execution_count": null,
   "source": [
    "..."
   ],
   "outputs": [],
   "metadata": {}
  },
  {
   "cell_type": "markdown",
   "source": [
    "## Part 4: Exploring the DataSet\n",
    "\n",
    "You now know the basics of `pandas`.  Let's explore the dataset!\n",
    "\n",
    "\n",
    "### Puzzle 4.1: Selecting your Major's Rows\n",
    "\n",
    "Select only the rows that have a **Subject** of your current/intended major.  Assign this to the value `mydf`:"
   ],
   "metadata": {}
  },
  {
   "cell_type": "code",
   "execution_count": null,
   "source": [
    "mydf = ...\n",
    "mydf"
   ],
   "outputs": [],
   "metadata": {}
  },
  {
   "cell_type": "code",
   "execution_count": null,
   "source": [
    "# There are no automatic test cases here -- you need to make sure your output is correct!\n",
    "# Check over it to ensure it is what you expect to see!"
   ],
   "outputs": [],
   "metadata": {}
  },
  {
   "cell_type": "markdown",
   "source": [
    "### Puzzle 4.2: Finding your Upper-Level Courses\n",
    "\n",
    "An \"upper-level\" course at Illinois is any and all courses with a number of `300` or greater.  Your major likely has many upper=level courses for you to take.\n",
    "\n",
    "Using the same idea of a conditional, you will replace the logic of `==` (*which means \"exactly equal to\"*) with `>=` (*which means greater than or equal to*).  Write a conditional, using `mydf`, to find **all of the upper-level courses in your major** and store it in `mydf_upper_level`."
   ],
   "metadata": {}
  },
  {
   "cell_type": "code",
   "execution_count": null,
   "source": [
    "mydf_upper_level = ...\n",
    "mydf_upper_level"
   ],
   "outputs": [],
   "metadata": {}
  },
  {
   "cell_type": "code",
   "execution_count": null,
   "source": [
    "# There are no automatic test cases here -- you need to make sure your output is correct!\n",
    "# Check over it to ensure it is what you expect to see!"
   ],
   "outputs": [],
   "metadata": {}
  },
  {
   "cell_type": "markdown",
   "source": [
    "## Submit Your Work!\n",
    "\n",
    "You're almost done -- congratulations!\n",
    "\n",
    "You need to do two more things:\n",
    "\n",
    "1.  Save your work. To do this, go to File -> Save All\n",
    "\n",
    "2.  After you have saved, exit this notebook and follow the webpage instructions to commit this lab to your Git repository!"
   ],
   "metadata": {}
  }
 ],
 "metadata": {
  "celltoolbar": "Create Assignment",
  "kernelspec": {
   "display_name": "Python 3",
   "language": "python",
   "name": "python3"
  },
  "language_info": {
   "codemirror_mode": {
    "name": "ipython",
    "version": 3
   },
   "file_extension": ".py",
   "mimetype": "text/x-python",
   "name": "python",
   "nbconvert_exporter": "python",
   "pygments_lexer": "ipython3",
   "version": "3.7.1"
  }
 },
 "nbformat": 4,
 "nbformat_minor": 2
}