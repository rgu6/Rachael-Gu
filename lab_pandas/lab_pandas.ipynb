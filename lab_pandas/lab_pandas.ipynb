{
 "cells": [
  {
   "cell_type": "markdown",
   "metadata": {},
   "source": [
    "# lab_pandas\n",
    "\n",
    "Hi Data Scientists,\n",
    "\n",
    "Welcome to the second lab!  In this lab, you will explore **data types** in Python and learn the first tool of Data Science -- the `pandas` library.  As you go through the lab:\n",
    "\n",
    "- Make sure to run every cell with Python code and observe the output\n",
    "- Complete all puzzles and submit this lab before Sunday evening at 11:59pm"
   ]
  },
  {
   "cell_type": "markdown",
   "metadata": {},
   "source": [
    "### Labs are Collabrative\n",
    "\n",
    "In your lab section (right now!), find two people around you and form a group.  Work on this lab together, making sure all of you understand each component of the lab.\n",
    "\n",
    "### Part 0: Your Group!\n",
    "\n",
    "Edit the next Python cell to add information about who you're working with in your lab section:"
   ]
  },
  {
   "cell_type": "code",
   "execution_count": 2,
   "metadata": {},
   "outputs": [],
   "source": [
    "# First, meet your CAs and TA if you haven't already!\n",
    "# ...first name is enough, we'll know who they are! :)\n",
    "ta_name = \"\"\n",
    "ca1_name = \"\"\n",
    "ca2_name = \"\"\n",
    "\n",
    "\n",
    "# Also, make sure to meet your team for this lab!  Find out their name, what major they're in,\n",
    "# and learn something new about them that you never knew more!\n",
    "# Groups of 3 are ideal :) However groups of 2 or 4 are fine too!\n",
    "partner1_name = \"\"\n",
    "partner1_netid = \"\"\n",
    "partner1_major = \"\"\n",
    "\n",
    "partner2_name = \"\"\n",
    "partner2_netid = \"\"\n",
    "partner2_major = \"\"\n",
    "\n",
    "partner3_name = \"\"\n",
    "partner3_netid = \"\"\n",
    "partner3_major = \"\""
   ]
  },
  {
   "cell_type": "markdown",
   "metadata": {},
   "source": [
    "### Getting Help\n",
    "\n",
    "Remember, there are a lot of ways to get help if you find yourself stuck:\n",
    "\n",
    "1. In lab section, your TA, CAs, and your peers are here for you!\n",
    "\n",
    "2. On the course Discord!\n",
    "\n",
    "3. Office Hours:\n",
    "\n",
    "  - Open office hours in person **every Monday, Tuesday, Thursday, and Friday** from 4:00pm - 6:00pm in 0060 Siebel Center for Design (SCD)\n",
    "\n",
    "  - Zoom office hours **every Wednesday** from 5:00pm - 6:00pm"
   ]
  },
  {
   "cell_type": "markdown",
   "metadata": {},
   "source": [
    "## Part 1: Data Types\n",
    "\n",
    "In Python, data must be stored as a **number** (without quotes), as a **string** (text with quotes), or as some **other type**.  Every piece of data in Python will have three **features**:\n",
    "\n",
    "1. A **name** *(this is what we refer to it by)*\n",
    "2. A **value** *(this is the value is stores)*\n",
    "3. A **data type** *(this is the format that the data is stored)*"
   ]
  },
  {
   "cell_type": "markdown",
   "metadata": {},
   "source": [
    "### Example: Data Types\n",
    "\n",
    "Run the following line that creates the name `seconds_in_a_minute`:"
   ]
  },
  {
   "cell_type": "code",
   "execution_count": 1,
   "metadata": {},
   "outputs": [
    {
     "data": {
      "text/plain": [
       "3600"
      ]
     },
     "execution_count": 1,
     "metadata": {},
     "output_type": "execute_result"
    }
   ],
   "source": [
    "seconds_in_a_minute = 60 * 60\n",
    "seconds_in_a_minute"
   ]
  },
  {
   "cell_type": "markdown",
   "metadata": {},
   "source": [
    "The features of `seconds_in_a_minute` are the following:\n",
    "\n",
    "- The **name** is `seconds_in_a_minute`\n",
    "- The **value** of `seconds_in_a_minute` is `3600`\n",
    "- The **data type** of `seconds_in_a_minute` is a **number**"
   ]
  },
  {
   "cell_type": "markdown",
   "metadata": {},
   "source": [
    "### Puzzle 1.1: Your Name\n",
    "#### Puzzle 1.1a: Creating Your Name\n",
    "\n",
    "Modify the following cell of Python to replace `...` with your name:\n",
    "\n",
    "- Remember, because your name is a **string**, you will need to use quotes (`'`...`'`)"
   ]
  },
  {
   "cell_type": "code",
   "execution_count": 8,
   "metadata": {
    "nbgrader": {
     "grade": false,
     "grade_id": "cell-522cdea9b9b77bb1",
     "locked": false,
     "schema_version": 3,
     "solution": true,
     "task": false
    }
   },
   "outputs": [
    {
     "data": {
      "text/plain": [
       "'Karle'"
      ]
     },
     "execution_count": 8,
     "metadata": {},
     "output_type": "execute_result"
    }
   ],
   "source": [
    "my_name = ...\n",
    "my_name"
   ]
  },
  {
   "cell_type": "code",
   "execution_count": 9,
   "metadata": {
    "nbgrader": {
     "grade": true,
     "grade_id": "cell-db03062e5907fe0f",
     "locked": true,
     "points": 1,
     "schema_version": 3,
     "solution": false,
     "task": false
    }
   },
   "outputs": [
    {
     "name": "stdout",
     "output_type": "stream",
     "text": [
      "🎉 All tests passed! 🎉\n",
      "\n"
     ]
    }
   ],
   "source": [
    "## == TEST CASES for Puzzle 1.1 ==\n",
    "# - This read-only cell contains test cases for your previous cell.\n",
    "# - If this cell runs without any error our output, you PASSED all test cases!\n",
    "# - If this cell results in any errors, check you previous cell, make changes, and RE-RUN your code and then this cell.\n",
    "\n",
    "assert(type(my_name) == type('string')), 'It looks like your name is not a string.  Make sure to assign your name.'\n",
    "\n",
    "## == SUCCESS MESSAGE ==\n",
    "# You will only see this message (with the emoji showing) if you passed all test cases:\n",
    "tada = \"\\N{PARTY POPPER}\"\n",
    "print(f\"{tada} All tests passed! {tada}\")\n",
    "print()"
   ]
  },
  {
   "cell_type": "markdown",
   "metadata": {},
   "source": [
    "#### Puzzle 1.1b: Features of `my_name`\n",
    "\n",
    "Modify the following cell of to replace ... with the correct features about `my_name`.  (This is a text cell, so we won't see the results until we grade it later.)"
   ]
  },
  {
   "cell_type": "markdown",
   "metadata": {},
   "source": [
    "- The **name** is ...\n",
    "- The **value** of `my_name` is ...\n",
    "- The **data type** of `my_name` is ..."
   ]
  },
  {
   "cell_type": "markdown",
   "metadata": {},
   "source": [
    "### Puzzle 1.2: The Current Year\n",
    "\n",
    "#### Puzzle 1.2a: Creating `current_year`\n",
    "\n",
    "Modify the following cell of Python to replace `...` with the current year (as a **number**):"
   ]
  },
  {
   "cell_type": "code",
   "execution_count": 10,
   "metadata": {
    "nbgrader": {
     "grade": false,
     "grade_id": "cell-d0842fa179dbcea7",
     "locked": false,
     "schema_version": 3,
     "solution": true,
     "task": false
    }
   },
   "outputs": [
    {
     "data": {
      "text/plain": [
       "2021"
      ]
     },
     "execution_count": 10,
     "metadata": {},
     "output_type": "execute_result"
    }
   ],
   "source": [
    "current_year = ...\n",
    "current_year"
   ]
  },
  {
   "cell_type": "code",
   "execution_count": 11,
   "metadata": {
    "nbgrader": {
     "grade": true,
     "grade_id": "cell-a80420d1ef2b0104",
     "locked": true,
     "points": 1,
     "schema_version": 3,
     "solution": false,
     "task": false
    }
   },
   "outputs": [
    {
     "name": "stdout",
     "output_type": "stream",
     "text": [
      "🎉 All tests passed! 🎉\n",
      "\n"
     ]
    }
   ],
   "source": [
    "## == TEST CASES for Puzzle 1.2 ==\n",
    "# - This read-only cell contains test cases for your previous cell.\n",
    "# - If this cell runs without any error our output, you PASSED all test cases!\n",
    "# - If this cell results in any errors, check you previous cell, make changes, and RE-RUN your code and then this cell.\n",
    "\n",
    "assert(type(current_year) == type(2021)), 'It looks like your name is not a number.  Make sure to assign the year as a number.'\n",
    "\n",
    "## == SUCCESS MESSAGE ==\n",
    "# You will only see this message (with the emoji showing) if you passed all test cases:\n",
    "tada = \"\\N{PARTY POPPER}\"\n",
    "print(f\"{tada} All tests passed! {tada}\")\n",
    "print()"
   ]
  },
  {
   "cell_type": "markdown",
   "metadata": {},
   "source": [
    "#### Puzzle 1.2b: Features of `current_year`\n",
    "\n",
    "Modify the following cell of to replace ... with the correct features about `current_year`:"
   ]
  },
  {
   "cell_type": "markdown",
   "metadata": {},
   "source": [
    "- The **name** is ...\n",
    "- The **value** of `current_year` is ...\n",
    "- The **data type** of `current_year` is ..."
   ]
  },
  {
   "cell_type": "markdown",
   "metadata": {},
   "source": [
    "### Review: Operations on Numbers\n",
    "\n",
    "Last week, you used the **add** (`+`) operation to add two **numbers** together.  For example:"
   ]
  },
  {
   "cell_type": "code",
   "execution_count": 12,
   "metadata": {},
   "outputs": [
    {
     "data": {
      "text/plain": [
       "11"
      ]
     },
     "execution_count": 12,
     "metadata": {},
     "output_type": "execute_result"
    }
   ],
   "source": [
    "eleven = 4 + 7\n",
    "eleven"
   ]
  },
  {
   "cell_type": "markdown",
   "metadata": {},
   "source": [
    "You also can use **subtraction** (`-`), **multiplication** (`*`), **division** (`/`), and you can **raise a number to a power** (`**`):"
   ]
  },
  {
   "cell_type": "code",
   "execution_count": 13,
   "metadata": {},
   "outputs": [
    {
     "name": "stdout",
     "output_type": "stream",
     "text": [
      "55\n",
      "16\n",
      "2.0\n",
      "8\n"
     ]
    }
   ],
   "source": [
    "fiftyfive = 100 - 45\n",
    "print(fiftyfive)\n",
    "\n",
    "sixteen = 8 * 2\n",
    "print(sixteen)\n",
    "\n",
    "two = 6 / 3\n",
    "print(two)\n",
    "\n",
    "eight = 2 ** 3\n",
    "print(eight)"
   ]
  },
  {
   "cell_type": "markdown",
   "metadata": {},
   "source": [
    "A few things you may have noticed:\n",
    "- We used `print()` again this week, allowing us to output values that are not the last line of code! \n",
    "- The result of `two` is `2.0`, a non-whole number!  There are two different types of numbers: **integers** (whole numbers) and **floating point numbers** (numbers with a decimal).  We will explore these in the next part of this lab!"
   ]
  },
  {
   "cell_type": "markdown",
   "metadata": {},
   "source": [
    "### Concatenating Strings\n",
    "\n",
    "In Python, you join two **strings** together with the same `+` operation you used with **numbers**.  For example, we can join `'Hello'` and `'World'` together:"
   ]
  },
  {
   "cell_type": "code",
   "execution_count": 14,
   "metadata": {},
   "outputs": [
    {
     "name": "stdout",
     "output_type": "stream",
     "text": [
      "HelloWorld\n"
     ]
    }
   ],
   "source": [
    "print('Hello' + 'World')"
   ]
  },
  {
   "cell_type": "markdown",
   "metadata": {},
   "source": [
    "...that's a little awkward.  Let's add a space together to join three strings together:"
   ]
  },
  {
   "cell_type": "code",
   "execution_count": 15,
   "metadata": {},
   "outputs": [
    {
     "name": "stdout",
     "output_type": "stream",
     "text": [
      "Hello World\n"
     ]
    }
   ],
   "source": [
    "print('Hello' + ' ' + 'World')"
   ]
  },
  {
   "cell_type": "markdown",
   "metadata": {},
   "source": [
    "When we join strings together, we do **NOT** say that we are **adding** strings together.  We **add** numbers together.  Instead, this operation of joining two or more strings is called **concatenation** *(concatenation literally means \"the action of linking things together in a series\")*.\n",
    "\n",
    "### Puzzle 1.3: \n",
    "\n",
    "Instead of `'Hello World'`, modify the value in `hello` to say hello **to you** by using `my_name` you created earlier in this lab:"
   ]
  },
  {
   "cell_type": "code",
   "execution_count": 16,
   "metadata": {
    "nbgrader": {
     "grade": false,
     "grade_id": "cell-47e9c78f29292a6a",
     "locked": false,
     "schema_version": 3,
     "solution": true,
     "task": false
    }
   },
   "outputs": [
    {
     "name": "stdout",
     "output_type": "stream",
     "text": [
      "Hello Karle\n"
     ]
    }
   ],
   "source": [
    "# Modify this Python to say 'Hello ___', where ___ is your name.\n",
    "# - Use `my_name` you created earlier.\n",
    "\n",
    "hello = 'Hello' + ' ' + 'World'\n",
    "print(hello)\n"
   ]
  },
  {
   "cell_type": "code",
   "execution_count": 17,
   "metadata": {
    "nbgrader": {
     "grade": true,
     "grade_id": "cell-13f3d582c7941841",
     "locked": true,
     "points": 1,
     "schema_version": 3,
     "solution": false,
     "task": false
    }
   },
   "outputs": [
    {
     "name": "stdout",
     "output_type": "stream",
     "text": [
      "🎉 All tests passed! 🎉\n",
      "\n"
     ]
    }
   ],
   "source": [
    "## == TEST CASES for Puzzle 1.3 ==\n",
    "# - This read-only cell contains test cases for your previous cell.\n",
    "# - If this cell runs without any error our output, you PASSED all test cases!\n",
    "# - If this cell results in any errors, check you previous cell, make changes, and RE-RUN your code and then this cell.\n",
    "\n",
    "assert(hello == 'Hello ' + my_name), \"Your string `hello` is not saying hi to yourself. :(\"\n",
    "\n",
    "## == SUCCESS MESSAGE ==\n",
    "# You will only see this message (with the emoji showing) if you passed all test cases:\n",
    "tada = \"\\N{PARTY POPPER}\"\n",
    "print(f\"{tada} All tests passed! {tada}\")\n",
    "print()"
   ]
  },
  {
   "cell_type": "markdown",
   "metadata": {},
   "source": [
    "### Puzzle 1.4:\n",
    "\n",
    "Let's wish the current year (2021) hello as well!  Modify the following code to print hello **to the current year** using `current_year` you created earlier in this lab:\n",
    "\n",
    "- If you do this corretly, **you will see an error** -- an error is the expected result!!"
   ]
  },
  {
   "cell_type": "code",
   "execution_count": 18,
   "metadata": {},
   "outputs": [
    {
     "name": "stdout",
     "output_type": "stream",
     "text": [
      "Hello World\n"
     ]
    }
   ],
   "source": [
    "# Modify this Python to say \"Hello 2021\", where 2021 is the current year.\n",
    "# - Use `current_year` you created earlier.\n",
    "print('Hello' + ' ' + 'World')"
   ]
  },
  {
   "cell_type": "markdown",
   "metadata": {},
   "source": [
    "If you used `current_year`, Python will be confused and give you the following error:\n",
    "\n",
    "![TypeError: can only concatenate str to str](img/error-cannot-concat.png)\n",
    "\n",
    "The text of the error tells us something about Python:\n",
    "\n",
    "- Python can only concatenate a **string** to another **string**\n",
    "- Therefore, Python can **NOT** concatenate a **string** to a **number**\n",
    "\n",
    "In the next section, we will learn how to convert between data types!\n"
   ]
  },
  {
   "cell_type": "markdown",
   "metadata": {},
   "source": [
    "## Part 2: Functions: Programs that work for us!\n",
    "\n",
    "In programming, we do not want to do everything ourselves.  Instead, **functions** provide us **functionality** that does work for us!  We already have learned one **function**:\n",
    "\n",
    "- `print( value )`, prints out `value` to the screen\n",
    "\n",
    "All **functions** always are made up of three parts:\n",
    "\n",
    "1. Every function always has a **name** (ex: `print`)\n",
    "2. Every function's name is always following with **paired parentheses** (ex: `print()`)\n",
    "3. Functions may take **values between the paired parentheses** (ex: `print('Hello')` or `print(43)`).  We call the values that a function has between it's paired parentheses the **function parameters**.\n",
    "\n",
    "Here's a visual breakdown of this same information:\n",
    "\n",
    "![Visual print function](img/print-function.png)\n",
    "\n",
    "The values that a function can receive vary by function and must be known.  `print` is very special in that it can take in almost any type of data."
   ]
  },
  {
   "cell_type": "markdown",
   "metadata": {},
   "source": [
    "### The `str` Function\n",
    "\n",
    "The second function we will use is the `str` function.  This function has a different name than `print` and will do something different.  However, we use `str` is the same way.\n",
    "\n",
    "The `str` function will take in a value as it's parameter and **return** a string version of that value.  For example, the **number** `42` can be represented as the string `\"42\"`.  The **return value** of the function is what is left after the function is run.\n",
    "\n",
    "A few examples to run, notice the output of each of them:"
   ]
  },
  {
   "cell_type": "code",
   "execution_count": 19,
   "metadata": {},
   "outputs": [
    {
     "data": {
      "text/plain": [
       "'42'"
      ]
     },
     "execution_count": 19,
     "metadata": {},
     "output_type": "execute_result"
    }
   ],
   "source": [
    "str(42)"
   ]
  },
  {
   "cell_type": "code",
   "execution_count": 20,
   "metadata": {},
   "outputs": [
    {
     "data": {
      "text/plain": [
       "'Hello'"
      ]
     },
     "execution_count": 20,
     "metadata": {},
     "output_type": "execute_result"
    }
   ],
   "source": [
    "str('Hello')"
   ]
  },
  {
   "cell_type": "code",
   "execution_count": 21,
   "metadata": {},
   "outputs": [
    {
     "data": {
      "text/plain": [
       "'9'"
      ]
     },
     "execution_count": 21,
     "metadata": {},
     "output_type": "execute_result"
    }
   ],
   "source": [
    "nine = str(4 + 5)\n",
    "nine"
   ]
  },
  {
   "cell_type": "markdown",
   "metadata": {},
   "source": [
    "### Puzzle 2.1:\n",
    "\n",
    "Now we can wish the current year hello by using the `str` function!\n",
    "\n",
    "Modify the following code to say hello **to the current year** using `current_year` you created back in Part 1 of this lab:"
   ]
  },
  {
   "cell_type": "code",
   "execution_count": 22,
   "metadata": {},
   "outputs": [
    {
     "name": "stdout",
     "output_type": "stream",
     "text": [
      "Hello 2021\n"
     ]
    }
   ],
   "source": [
    "# Modify this Python to say \"Hello 2021\", where 2021 is the current year.\n",
    "# - Use `current_year` you created earlier.\n",
    "print('Hello' + ' ' + str(current_year))"
   ]
  },
  {
   "cell_type": "markdown",
   "metadata": {},
   "source": [
    "### The `float` and `int` functions\n",
    "\n",
    "The next two functions do the reverse of `str`.  Instead of taking a value and returning a string, `float` and `int` are functions that take a value and return a number.  Both `float` and `int` are similar, but have an important difference:\n",
    "\n",
    "- `int` (short for **integer**) returns whole numbers only (ex: 1, 2, 3, 4, etc)\n",
    "- `float` (short for **floating point**) returns decimal numbers (ex: 5.2, 3.141592654, 4.25, 11.0, etc)\n",
    "\n",
    "If you use `int` on a non-whole number, `int` will return only the whole number component of the number.  For example, the whole number part of **3.9** is **3** (note that it does **NOT** do any rounding).  A few examples:"
   ]
  },
  {
   "cell_type": "code",
   "execution_count": 23,
   "metadata": {},
   "outputs": [
    {
     "name": "stdout",
     "output_type": "stream",
     "text": [
      "4\n",
      "-8\n",
      "4.8\n",
      "9\n"
     ]
    }
   ],
   "source": [
    "print( int(4.9) )\n",
    "print( int(-8.7) )\n",
    "print( float(\"4.8\") )\n",
    "print( int(\"9\") )"
   ]
  },
  {
   "cell_type": "markdown",
   "metadata": {},
   "source": [
    "If Python is unable to convert the value to a number, your code will have an error:"
   ]
  },
  {
   "cell_type": "code",
   "execution_count": 24,
   "metadata": {},
   "outputs": [
    {
     "ename": "ValueError",
     "evalue": "could not convert string to float: 'Hello'",
     "output_type": "error",
     "traceback": [
      "\u001b[0;31m---------------------------------------------------------------------------\u001b[0m",
      "\u001b[0;31mValueError\u001b[0m                                Traceback (most recent call last)",
      "\u001b[0;32m<ipython-input-24-62e6d411d8e4>\u001b[0m in \u001b[0;36m<module>\u001b[0;34m\u001b[0m\n\u001b[0;32m----> 1\u001b[0;31m \u001b[0mfloat\u001b[0m\u001b[0;34m(\u001b[0m\u001b[0;34m'Hello'\u001b[0m\u001b[0;34m)\u001b[0m\u001b[0;34m\u001b[0m\u001b[0;34m\u001b[0m\u001b[0m\n\u001b[0m",
      "\u001b[0;31mValueError\u001b[0m: could not convert string to float: 'Hello'"
     ]
    }
   ],
   "source": [
    "float('Hello')"
   ]
  },
  {
   "cell_type": "markdown",
   "metadata": {},
   "source": [
    "### Puzzle 2.2:\n",
    "\n",
    "In the next cell, several names are defined with various values.  Run this cell:"
   ]
  },
  {
   "cell_type": "code",
   "execution_count": 25,
   "metadata": {
    "nbgrader": {
     "grade": false,
     "grade_id": "cell-aae546b3ad1f90e2",
     "locked": true,
     "schema_version": 3,
     "solution": false,
     "task": false
    }
   },
   "outputs": [],
   "source": [
    "a = \"17\"\n",
    "b = \"44.2\"\n",
    "c = \"19\""
   ]
  },
  {
   "cell_type": "markdown",
   "metadata": {},
   "source": [
    "**Without editing the previous cell**, compute the value of $a + b + c$ in the next cell:"
   ]
  },
  {
   "cell_type": "code",
   "execution_count": 27,
   "metadata": {
    "nbgrader": {
     "grade": false,
     "grade_id": "cell-53d3714573ab7c3e",
     "locked": false,
     "schema_version": 3,
     "solution": true,
     "task": false
    }
   },
   "outputs": [
    {
     "data": {
      "text/plain": [
       "80.2"
      ]
     },
     "execution_count": 27,
     "metadata": {},
     "output_type": "execute_result"
    }
   ],
   "source": [
    "# Compute the value of a + b + c\n",
    "total = ...\n",
    "total"
   ]
  },
  {
   "cell_type": "markdown",
   "metadata": {},
   "source": [
    "Note: Your result should **NOT** be `1744.219`.  Make sure your answer makes sense before running the test cases."
   ]
  },
  {
   "cell_type": "code",
   "execution_count": 28,
   "metadata": {
    "nbgrader": {
     "grade": true,
     "grade_id": "cell-e99fd2370918408c",
     "locked": true,
     "points": 1,
     "schema_version": 3,
     "solution": false,
     "task": false
    }
   },
   "outputs": [
    {
     "name": "stdout",
     "output_type": "stream",
     "text": [
      "🎉 All tests passed! 🎉\n",
      "\n"
     ]
    }
   ],
   "source": [
    "## == TEST CASES for Puzzle 2.2 ==\n",
    "# - This read-only cell contains test cases for your previous cell.\n",
    "# - If this cell runs without any error our output, you PASSED all test cases!\n",
    "# - If this cell results in any errors, check you previous cell, make changes, and RE-RUN your code and then this cell.\n",
    "\n",
    "assert(a == \"17\"), \"You must not modify the value of `a`.\"\n",
    "assert(type(a) == type(\"17\")), \"You must not modify the value of `a`.\"\n",
    "\n",
    "assert(b == \"44.2\"), \"You must not modify the value of `b`.\"\n",
    "assert(type(b) == type(\"44.2\")), \"You must not modify the value of `b`.\"\n",
    "\n",
    "assert(c == \"19\"), \"You must not modify the value of `c`.\"\n",
    "assert(type(c) == type(\"19\")), \"You must not modify the value of `c`.\"\n",
    "\n",
    "assert(total == 80.2), \"The value in `total` is not the sum of `a`, `b`, and `c`.\"\n",
    "\n",
    "## == SUCCESS MESSAGE ==\n",
    "# You will only see this message (with the emoji showing) if you passed all test cases:\n",
    "tada = \"\\N{PARTY POPPER}\"\n",
    "print(f\"{tada} All tests passed! {tada}\")\n",
    "print()"
   ]
  },
  {
   "cell_type": "markdown",
   "metadata": {},
   "source": [
    "## Part 3: Importing Datasets\n",
    "\n",
    "Data Science is focused on using tools to access, analyze, and find meaningful results in data.  Now that we know some basic Python programming, we are ready to do begin to use our first dataset!\n",
    "\n",
    "### CSV File Format\n",
    "\n",
    "One widely used file format to store datasets is as **CSV** or **Comma-Separated Values**.  The CSV file maps extremely well between a spreadsheet program (ex: Microsoft Excel, Google Sheets) and programming languages.  Specifically:\n",
    "\n",
    "- Every row on a spreadsheet is a line in a CSV file\n",
    "- Every column on a spreadsheet is separated by a comma in a CSV file"
   ]
  },
  {
   "cell_type": "markdown",
   "metadata": {},
   "source": [
    "### Download the Illinois Course Catalog as a CSV\n",
    "\n",
    "Let's grab the first dataset we will use!  For this dataset, we have already collected and put the data into a CSV file for you.  You will need to download the file as a CSV and place it in the same directory as this Python notebook.\n",
    "\n",
    "1. Download the \"Illinois CourseCatalog Dataset\" directly from this link: https://waf.cs.illinois.edu/discovery/course-catalog.csv\n",
    "\n",
    "2. Find the downloaded file on your computer and move it into the same directory as this notebook.\n",
    "  * The file is likely in your Downloads as `course-catalog.csv`\n",
    "  * You notebook is likely on your Desktop under `stat107 -> [netid] -> lab_pandas`\n",
    "  * You need to ensure the downloaded file is in the `lab_pandas` folder before running the next cell."
   ]
  },
  {
   "cell_type": "markdown",
   "metadata": {},
   "source": [
    "### Using Pandas to Read CSV Files\n",
    "\n",
    "In Data Science DISCOVERY, we will use the `pandas` **library** for working with data.  Libraries are collections of functions and other objects that extend what Python can do by itself.  The `pandas` library is the most widely used library for data science.\n",
    "\n",
    "To use the `pandas` library, we must **import** it into your notebook.  In future labs, you will find this will be one of the first lines we will run in every notebook:"
   ]
  },
  {
   "cell_type": "code",
   "execution_count": 4,
   "metadata": {},
   "outputs": [],
   "source": [
    "import pandas as pd"
   ]
  },
  {
   "cell_type": "markdown",
   "metadata": {},
   "source": [
    "To use a function inside of the pandas library, the function name will always start with `pandas.` to denote that Python can find it within the `pandas` library.  The first function we will use from the `pandas` library is `read_csv`.\n",
    "- Because `read_csv` is in the pandas library, the full function name is `pandas.read_csv()`."
   ]
  },
  {
   "cell_type": "markdown",
   "metadata": {},
   "source": [
    "### Puzzle 3.1:\n",
    "\n",
    "The `pd.read_csv` function's first parameter is the name of the file that it is reading.  Using this, we know the format of the function follows the expected format.  Set the name `df` to be the result of the `pd.read_csv` function:"
   ]
  },
  {
   "cell_type": "code",
   "execution_count": 6,
   "metadata": {
    "nbgrader": {
     "grade": false,
     "grade_id": "cell-50e94d6dd49949e2",
     "locked": false,
     "schema_version": 3,
     "solution": true,
     "task": false
    }
   },
   "outputs": [
    {
     "data": {
      "text/html": [
       "<div>\n",
       "<style scoped>\n",
       "    .dataframe tbody tr th:only-of-type {\n",
       "        vertical-align: middle;\n",
       "    }\n",
       "\n",
       "    .dataframe tbody tr th {\n",
       "        vertical-align: top;\n",
       "    }\n",
       "\n",
       "    .dataframe thead th {\n",
       "        text-align: right;\n",
       "    }\n",
       "</style>\n",
       "<table border=\"1\" class=\"dataframe\">\n",
       "  <thead>\n",
       "    <tr style=\"text-align: right;\">\n",
       "      <th></th>\n",
       "      <th>Year</th>\n",
       "      <th>Term</th>\n",
       "      <th>YearTerm</th>\n",
       "      <th>Subject</th>\n",
       "      <th>Number</th>\n",
       "      <th>Name</th>\n",
       "      <th>Description</th>\n",
       "      <th>Credit Hours</th>\n",
       "      <th>Section Info</th>\n",
       "      <th>Degree Attributes</th>\n",
       "    </tr>\n",
       "  </thead>\n",
       "  <tbody>\n",
       "    <tr>\n",
       "      <th>0</th>\n",
       "      <td>2019</td>\n",
       "      <td>Fall</td>\n",
       "      <td>2019-fa</td>\n",
       "      <td>AAS</td>\n",
       "      <td>100</td>\n",
       "      <td>Intro Asian American Studies</td>\n",
       "      <td>Interdisciplinary introduction to the basic co...</td>\n",
       "      <td>3 hours.</td>\n",
       "      <td>NaN</td>\n",
       "      <td>Social &amp; Beh Sci - Soc Sci, and Cultural Studi...</td>\n",
       "    </tr>\n",
       "    <tr>\n",
       "      <th>1</th>\n",
       "      <td>2019</td>\n",
       "      <td>Fall</td>\n",
       "      <td>2019-fa</td>\n",
       "      <td>AAS</td>\n",
       "      <td>105</td>\n",
       "      <td>Introduction to Arab American Studies</td>\n",
       "      <td>Interdisciplinary introduction to the basic co...</td>\n",
       "      <td>3 hours.</td>\n",
       "      <td>NaN</td>\n",
       "      <td>Cultural Studies - US Minority course.</td>\n",
       "    </tr>\n",
       "    <tr>\n",
       "      <th>2</th>\n",
       "      <td>2019</td>\n",
       "      <td>Fall</td>\n",
       "      <td>2019-fa</td>\n",
       "      <td>AAS</td>\n",
       "      <td>120</td>\n",
       "      <td>Intro to Asian Am Pop Culture</td>\n",
       "      <td>Introductory understanding of the way U.S. pop...</td>\n",
       "      <td>3 hours.</td>\n",
       "      <td>NaN</td>\n",
       "      <td>Cultural Studies - US Minority course.</td>\n",
       "    </tr>\n",
       "    <tr>\n",
       "      <th>3</th>\n",
       "      <td>2019</td>\n",
       "      <td>Fall</td>\n",
       "      <td>2019-fa</td>\n",
       "      <td>AAS</td>\n",
       "      <td>199</td>\n",
       "      <td>Undergraduate Open Seminar</td>\n",
       "      <td>May be repeated to a maximum of 6 hours.</td>\n",
       "      <td>1 TO 5 hours.</td>\n",
       "      <td>NaN</td>\n",
       "      <td>NaN</td>\n",
       "    </tr>\n",
       "    <tr>\n",
       "      <th>4</th>\n",
       "      <td>2019</td>\n",
       "      <td>Fall</td>\n",
       "      <td>2019-fa</td>\n",
       "      <td>AAS</td>\n",
       "      <td>200</td>\n",
       "      <td>U.S. Race and Empire</td>\n",
       "      <td>Invites students to examine histories and narr...</td>\n",
       "      <td>3 hours.</td>\n",
       "      <td>Same as LLS 200.</td>\n",
       "      <td>Humanities - Hist &amp; Phil, and Cultural Studies...</td>\n",
       "    </tr>\n",
       "    <tr>\n",
       "      <th>5</th>\n",
       "      <td>2019</td>\n",
       "      <td>Fall</td>\n",
       "      <td>2019-fa</td>\n",
       "      <td>AAS</td>\n",
       "      <td>201</td>\n",
       "      <td>US Racial &amp;amp; Ethnic Politics</td>\n",
       "      <td>Same as AFRO 201, LLS 201, and PS 201. See PS ...</td>\n",
       "      <td>3 hours.</td>\n",
       "      <td>Same as AFRO 201, LLS 201, and PS 201. See PS ...</td>\n",
       "      <td>Social &amp; Beh Sci - Soc Sci, and Cultural Studi...</td>\n",
       "    </tr>\n",
       "    <tr>\n",
       "      <th>6</th>\n",
       "      <td>2019</td>\n",
       "      <td>Fall</td>\n",
       "      <td>2019-fa</td>\n",
       "      <td>AAS</td>\n",
       "      <td>211</td>\n",
       "      <td>Asian Americans and the Arts</td>\n",
       "      <td>Examination of Asian American artistic express...</td>\n",
       "      <td>3 hours.</td>\n",
       "      <td>NaN</td>\n",
       "      <td>Humanities - Lit &amp; Arts, and Cultural Studies ...</td>\n",
       "    </tr>\n",
       "    <tr>\n",
       "      <th>7</th>\n",
       "      <td>2019</td>\n",
       "      <td>Fall</td>\n",
       "      <td>2019-fa</td>\n",
       "      <td>AAS</td>\n",
       "      <td>215</td>\n",
       "      <td>US Citizenship Comparatively</td>\n",
       "      <td>Examines the racial, gendered, and sexualized ...</td>\n",
       "      <td>3 hours.</td>\n",
       "      <td>NaN</td>\n",
       "      <td>Humanities - Hist &amp; Phil, and Cultural Studies...</td>\n",
       "    </tr>\n",
       "    <tr>\n",
       "      <th>8</th>\n",
       "      <td>2019</td>\n",
       "      <td>Fall</td>\n",
       "      <td>2019-fa</td>\n",
       "      <td>AAS</td>\n",
       "      <td>224</td>\n",
       "      <td>Asian Am Historical Sociology</td>\n",
       "      <td>Explores concepts of colonization, internation...</td>\n",
       "      <td>3 hours.</td>\n",
       "      <td>NaN</td>\n",
       "      <td>Cultural Studies - US Minority course.</td>\n",
       "    </tr>\n",
       "    <tr>\n",
       "      <th>9</th>\n",
       "      <td>2019</td>\n",
       "      <td>Fall</td>\n",
       "      <td>2019-fa</td>\n",
       "      <td>AAS</td>\n",
       "      <td>246</td>\n",
       "      <td>Asian American Youth in Film</td>\n",
       "      <td>Examines both mainstream and independent films...</td>\n",
       "      <td>3 hours.</td>\n",
       "      <td>NaN</td>\n",
       "      <td>Social &amp; Beh Sci - Soc Sci, and Cultural Studi...</td>\n",
       "    </tr>\n",
       "    <tr>\n",
       "      <th>10</th>\n",
       "      <td>2019</td>\n",
       "      <td>Fall</td>\n",
       "      <td>2019-fa</td>\n",
       "      <td>AAS</td>\n",
       "      <td>258</td>\n",
       "      <td>Muslims in America</td>\n",
       "      <td>Introduction to the study of Muslims in the Un...</td>\n",
       "      <td>3 hours.</td>\n",
       "      <td>NaN</td>\n",
       "      <td>Social &amp; Beh Sci - Soc Sci, and Cultural Studi...</td>\n",
       "    </tr>\n",
       "    <tr>\n",
       "      <th>11</th>\n",
       "      <td>2019</td>\n",
       "      <td>Fall</td>\n",
       "      <td>2019-fa</td>\n",
       "      <td>AAS</td>\n",
       "      <td>260</td>\n",
       "      <td>Intro Asian American Theatre</td>\n",
       "      <td>Same as THEA 260. See THEA 260.</td>\n",
       "      <td>3 hours.</td>\n",
       "      <td>NaN</td>\n",
       "      <td>Cultural Studies - US Minority course.</td>\n",
       "    </tr>\n",
       "    <tr>\n",
       "      <th>12</th>\n",
       "      <td>2019</td>\n",
       "      <td>Fall</td>\n",
       "      <td>2019-fa</td>\n",
       "      <td>AAS</td>\n",
       "      <td>265</td>\n",
       "      <td>Politics of Hip Hop</td>\n",
       "      <td>Same as LLS 265. See LLS 265.</td>\n",
       "      <td>3 hours.</td>\n",
       "      <td>NaN</td>\n",
       "      <td>Cultural Studies - US Minority course.</td>\n",
       "    </tr>\n",
       "    <tr>\n",
       "      <th>13</th>\n",
       "      <td>2019</td>\n",
       "      <td>Fall</td>\n",
       "      <td>2019-fa</td>\n",
       "      <td>AAS</td>\n",
       "      <td>275</td>\n",
       "      <td>The Politics of Fashion</td>\n",
       "      <td>Same as GWS 275. See GWS 275.</td>\n",
       "      <td>3 hours.</td>\n",
       "      <td>Same as GWS 275. See GWS 275.</td>\n",
       "      <td>Cultural Studies - US Minority course.</td>\n",
       "    </tr>\n",
       "    <tr>\n",
       "      <th>14</th>\n",
       "      <td>2019</td>\n",
       "      <td>Fall</td>\n",
       "      <td>2019-fa</td>\n",
       "      <td>AAS</td>\n",
       "      <td>281</td>\n",
       "      <td>Constructing Race in America</td>\n",
       "      <td>Same as AFRO 281, HIST 281, and LLS 281. See H...</td>\n",
       "      <td>3 hours.</td>\n",
       "      <td>Same as AFRO 281, HIST 281, and LLS 281. See H...</td>\n",
       "      <td>Humanities - Hist &amp; Phil, and Cultural Studies...</td>\n",
       "    </tr>\n",
       "    <tr>\n",
       "      <th>15</th>\n",
       "      <td>2019</td>\n",
       "      <td>Fall</td>\n",
       "      <td>2019-fa</td>\n",
       "      <td>AAS</td>\n",
       "      <td>282</td>\n",
       "      <td>Feminist and Queer Activisms</td>\n",
       "      <td>Same as GWS 282 and LLS 282. See GWS 282.</td>\n",
       "      <td>3 hours.</td>\n",
       "      <td>NaN</td>\n",
       "      <td>NaN</td>\n",
       "    </tr>\n",
       "    <tr>\n",
       "      <th>16</th>\n",
       "      <td>2019</td>\n",
       "      <td>Fall</td>\n",
       "      <td>2019-fa</td>\n",
       "      <td>AAS</td>\n",
       "      <td>283</td>\n",
       "      <td>Asian American History</td>\n",
       "      <td>Same as HIST 283. See HIST 283.</td>\n",
       "      <td>3 hours.</td>\n",
       "      <td>Same as HIST 283. See HIST 283.</td>\n",
       "      <td>Humanities - Hist &amp; Phil, and Cultural Studies...</td>\n",
       "    </tr>\n",
       "    <tr>\n",
       "      <th>17</th>\n",
       "      <td>2019</td>\n",
       "      <td>Fall</td>\n",
       "      <td>2019-fa</td>\n",
       "      <td>AAS</td>\n",
       "      <td>286</td>\n",
       "      <td>Asian American Literature</td>\n",
       "      <td>Same as ENGL 286. See ENGL 286.</td>\n",
       "      <td>3 hours.</td>\n",
       "      <td>NaN</td>\n",
       "      <td>Humanities - Lit &amp; Arts, and Cultural Studies ...</td>\n",
       "    </tr>\n",
       "    <tr>\n",
       "      <th>18</th>\n",
       "      <td>2019</td>\n",
       "      <td>Fall</td>\n",
       "      <td>2019-fa</td>\n",
       "      <td>AAS</td>\n",
       "      <td>287</td>\n",
       "      <td>Food and Asian Americans</td>\n",
       "      <td>Introduction to the interdisciplinary study of...</td>\n",
       "      <td>3 hours.</td>\n",
       "      <td>Prerequisite: AAS 100 or AAS 120, or consent o...</td>\n",
       "      <td>Social &amp; Beh Sci - Soc Sci, and Cultural Studi...</td>\n",
       "    </tr>\n",
       "    <tr>\n",
       "      <th>19</th>\n",
       "      <td>2019</td>\n",
       "      <td>Fall</td>\n",
       "      <td>2019-fa</td>\n",
       "      <td>AAS</td>\n",
       "      <td>288</td>\n",
       "      <td>Global Islam and Feminisms</td>\n",
       "      <td>Same as GWS 288. See GWS 288.</td>\n",
       "      <td>3 hours.</td>\n",
       "      <td>NaN</td>\n",
       "      <td>Cultural Studies - Non-West course.</td>\n",
       "    </tr>\n",
       "    <tr>\n",
       "      <th>20</th>\n",
       "      <td>2019</td>\n",
       "      <td>Fall</td>\n",
       "      <td>2019-fa</td>\n",
       "      <td>AAS</td>\n",
       "      <td>290</td>\n",
       "      <td>Individual Study</td>\n",
       "      <td>Supervised reading and research in Asian Ameri...</td>\n",
       "      <td>2 TO 3 hours.</td>\n",
       "      <td>NaN</td>\n",
       "      <td>NaN</td>\n",
       "    </tr>\n",
       "    <tr>\n",
       "      <th>21</th>\n",
       "      <td>2019</td>\n",
       "      <td>Fall</td>\n",
       "      <td>2019-fa</td>\n",
       "      <td>AAS</td>\n",
       "      <td>291</td>\n",
       "      <td>Hinduism in the United States</td>\n",
       "      <td>Same as REL 291. See REL 291.</td>\n",
       "      <td>3 hours.</td>\n",
       "      <td>NaN</td>\n",
       "      <td>NaN</td>\n",
       "    </tr>\n",
       "    <tr>\n",
       "      <th>22</th>\n",
       "      <td>2019</td>\n",
       "      <td>Fall</td>\n",
       "      <td>2019-fa</td>\n",
       "      <td>AAS</td>\n",
       "      <td>297</td>\n",
       "      <td>Asian Families in America</td>\n",
       "      <td>Same as HDFS 221 and SOCW 297. See SOCW 297.</td>\n",
       "      <td>3 hours.</td>\n",
       "      <td>Same as HDFS 221 and SOCW 297. See SOCW 297.</td>\n",
       "      <td>Social &amp; Beh Sci - Soc Sci, and Cultural Studi...</td>\n",
       "    </tr>\n",
       "    <tr>\n",
       "      <th>23</th>\n",
       "      <td>2019</td>\n",
       "      <td>Fall</td>\n",
       "      <td>2019-fa</td>\n",
       "      <td>AAS</td>\n",
       "      <td>299</td>\n",
       "      <td>Begin Topics Asian Am Studies</td>\n",
       "      <td>May be repeated in the same or subsequent term...</td>\n",
       "      <td>3 hours.</td>\n",
       "      <td>NaN</td>\n",
       "      <td>NaN</td>\n",
       "    </tr>\n",
       "    <tr>\n",
       "      <th>24</th>\n",
       "      <td>2019</td>\n",
       "      <td>Fall</td>\n",
       "      <td>2019-fa</td>\n",
       "      <td>AAS</td>\n",
       "      <td>300</td>\n",
       "      <td>Theories of Race, Gender, and Sexuality</td>\n",
       "      <td>Explores theories for performing interdiscipli...</td>\n",
       "      <td>3 hours.</td>\n",
       "      <td>NaN</td>\n",
       "      <td>Advanced Composition course.</td>\n",
       "    </tr>\n",
       "    <tr>\n",
       "      <th>25</th>\n",
       "      <td>2019</td>\n",
       "      <td>Fall</td>\n",
       "      <td>2019-fa</td>\n",
       "      <td>AAS</td>\n",
       "      <td>310</td>\n",
       "      <td>Race and Cultural Diversity</td>\n",
       "      <td>Same as AFRO 310, EPS 310, and LLS 310. See EP...</td>\n",
       "      <td>4 hours.</td>\n",
       "      <td>Same as AFRO 310, EPS 310, and LLS 310. See EP...</td>\n",
       "      <td>Advanced Composition, and Cultural Studies - U...</td>\n",
       "    </tr>\n",
       "    <tr>\n",
       "      <th>26</th>\n",
       "      <td>2019</td>\n",
       "      <td>Fall</td>\n",
       "      <td>2019-fa</td>\n",
       "      <td>AAS</td>\n",
       "      <td>315</td>\n",
       "      <td>War, Memory, and Cinema</td>\n",
       "      <td>Interdisciplinary examination of the ways that...</td>\n",
       "      <td>3 hours.</td>\n",
       "      <td>NaN</td>\n",
       "      <td>NaN</td>\n",
       "    </tr>\n",
       "    <tr>\n",
       "      <th>27</th>\n",
       "      <td>2019</td>\n",
       "      <td>Fall</td>\n",
       "      <td>2019-fa</td>\n",
       "      <td>AAS</td>\n",
       "      <td>317</td>\n",
       "      <td>Asian American Politics</td>\n",
       "      <td>Same as PS 317. See PS 317.</td>\n",
       "      <td>3 hours.</td>\n",
       "      <td>NaN</td>\n",
       "      <td>NaN</td>\n",
       "    </tr>\n",
       "    <tr>\n",
       "      <th>28</th>\n",
       "      <td>2019</td>\n",
       "      <td>Fall</td>\n",
       "      <td>2019-fa</td>\n",
       "      <td>AAS</td>\n",
       "      <td>328</td>\n",
       "      <td>Asian Americans &amp;amp; Inequalities</td>\n",
       "      <td>Same as SOC 328. See SOC 328.</td>\n",
       "      <td>3 hours.</td>\n",
       "      <td>NaN</td>\n",
       "      <td>NaN</td>\n",
       "    </tr>\n",
       "    <tr>\n",
       "      <th>29</th>\n",
       "      <td>2019</td>\n",
       "      <td>Fall</td>\n",
       "      <td>2019-fa</td>\n",
       "      <td>AAS</td>\n",
       "      <td>343</td>\n",
       "      <td>Criminalization and Punishment</td>\n",
       "      <td>Same as AFRO 343, AIS 343, GWS 343, and LLS 34...</td>\n",
       "      <td>3 hours.</td>\n",
       "      <td>NaN</td>\n",
       "      <td>NaN</td>\n",
       "    </tr>\n",
       "    <tr>\n",
       "      <th>...</th>\n",
       "      <td>...</td>\n",
       "      <td>...</td>\n",
       "      <td>...</td>\n",
       "      <td>...</td>\n",
       "      <td>...</td>\n",
       "      <td>...</td>\n",
       "      <td>...</td>\n",
       "      <td>...</td>\n",
       "      <td>...</td>\n",
       "      <td>...</td>\n",
       "    </tr>\n",
       "    <tr>\n",
       "      <th>8559</th>\n",
       "      <td>2019</td>\n",
       "      <td>Fall</td>\n",
       "      <td>2019-fa</td>\n",
       "      <td>VM</td>\n",
       "      <td>626</td>\n",
       "      <td>The Basics of Business</td>\n",
       "      <td>Business principles related to managing a vete...</td>\n",
       "      <td>1 hours.</td>\n",
       "      <td>1 graduate hour. 1 professional hour. Prerequi...</td>\n",
       "      <td>NaN</td>\n",
       "    </tr>\n",
       "    <tr>\n",
       "      <th>8560</th>\n",
       "      <td>2019</td>\n",
       "      <td>Fall</td>\n",
       "      <td>2019-fa</td>\n",
       "      <td>VM</td>\n",
       "      <td>627</td>\n",
       "      <td>Fundamentals of Finance</td>\n",
       "      <td>Provides students with a strong introductory b...</td>\n",
       "      <td>1 hours.</td>\n",
       "      <td>NaN</td>\n",
       "      <td>NaN</td>\n",
       "    </tr>\n",
       "    <tr>\n",
       "      <th>8561</th>\n",
       "      <td>2019</td>\n",
       "      <td>Fall</td>\n",
       "      <td>2019-fa</td>\n",
       "      <td>VM</td>\n",
       "      <td>635</td>\n",
       "      <td>Veterinary Medical Spanish</td>\n",
       "      <td>In this course second year veterinary students...</td>\n",
       "      <td>2 hours.</td>\n",
       "      <td>No graduate credit. 2 professional hours. Appr...</td>\n",
       "      <td>NaN</td>\n",
       "    </tr>\n",
       "    <tr>\n",
       "      <th>8562</th>\n",
       "      <td>2019</td>\n",
       "      <td>Fall</td>\n",
       "      <td>2019-fa</td>\n",
       "      <td>VM</td>\n",
       "      <td>642</td>\n",
       "      <td>Contemporary Issues in Vet Med</td>\n",
       "      <td>An introductory course for first year veterina...</td>\n",
       "      <td>1 hours.</td>\n",
       "      <td>NaN</td>\n",
       "      <td>NaN</td>\n",
       "    </tr>\n",
       "    <tr>\n",
       "      <th>8563</th>\n",
       "      <td>2019</td>\n",
       "      <td>Fall</td>\n",
       "      <td>2019-fa</td>\n",
       "      <td>VM</td>\n",
       "      <td>643</td>\n",
       "      <td>Fundamentals of Management</td>\n",
       "      <td>An introductory course for second year veterin...</td>\n",
       "      <td>1 hours.</td>\n",
       "      <td>No graduate credit. 1 professional hour. Appro...</td>\n",
       "      <td>NaN</td>\n",
       "    </tr>\n",
       "    <tr>\n",
       "      <th>8564</th>\n",
       "      <td>2019</td>\n",
       "      <td>Fall</td>\n",
       "      <td>2019-fa</td>\n",
       "      <td>VM</td>\n",
       "      <td>645</td>\n",
       "      <td>Communications in Practice</td>\n",
       "      <td>An introductory course for third year veterina...</td>\n",
       "      <td>1 hours.</td>\n",
       "      <td>NaN</td>\n",
       "      <td>NaN</td>\n",
       "    </tr>\n",
       "    <tr>\n",
       "      <th>8565</th>\n",
       "      <td>2019</td>\n",
       "      <td>Fall</td>\n",
       "      <td>2019-fa</td>\n",
       "      <td>VM</td>\n",
       "      <td>694</td>\n",
       "      <td>Veterinary Medicine</td>\n",
       "      <td>To be used to designate a trial or experimenta...</td>\n",
       "      <td>1 TO 4 hours.</td>\n",
       "      <td>NaN</td>\n",
       "      <td>NaN</td>\n",
       "    </tr>\n",
       "    <tr>\n",
       "      <th>8566</th>\n",
       "      <td>2019</td>\n",
       "      <td>Fall</td>\n",
       "      <td>2019-fa</td>\n",
       "      <td>WLOF</td>\n",
       "      <td>201</td>\n",
       "      <td>Elementary Wolof I</td>\n",
       "      <td>Introduction to Wolof; emphasizes grammar, pro...</td>\n",
       "      <td>5 hours.</td>\n",
       "      <td>Same as AFST 241. Participation in language la...</td>\n",
       "      <td>NaN</td>\n",
       "    </tr>\n",
       "    <tr>\n",
       "      <th>8567</th>\n",
       "      <td>2019</td>\n",
       "      <td>Fall</td>\n",
       "      <td>2019-fa</td>\n",
       "      <td>WLOF</td>\n",
       "      <td>202</td>\n",
       "      <td>Elementary Wolof II</td>\n",
       "      <td>Continuation of elementary Wolof, with introdu...</td>\n",
       "      <td>5 hours.</td>\n",
       "      <td>NaN</td>\n",
       "      <td>NaN</td>\n",
       "    </tr>\n",
       "    <tr>\n",
       "      <th>8568</th>\n",
       "      <td>2019</td>\n",
       "      <td>Fall</td>\n",
       "      <td>2019-fa</td>\n",
       "      <td>WLOF</td>\n",
       "      <td>403</td>\n",
       "      <td>Intermediate Wolof I</td>\n",
       "      <td>Survey of more advanced grammar, with emphasis...</td>\n",
       "      <td>4 hours.</td>\n",
       "      <td>Same as AFST 443. 4 undergraduate hours. 4 gra...</td>\n",
       "      <td>NaN</td>\n",
       "    </tr>\n",
       "    <tr>\n",
       "      <th>8569</th>\n",
       "      <td>2019</td>\n",
       "      <td>Fall</td>\n",
       "      <td>2019-fa</td>\n",
       "      <td>WLOF</td>\n",
       "      <td>404</td>\n",
       "      <td>Intermediate Wolof II</td>\n",
       "      <td>Continuation of WLOF 403. Emphasizes ability t...</td>\n",
       "      <td>4 hours.</td>\n",
       "      <td>NaN</td>\n",
       "      <td>NaN</td>\n",
       "    </tr>\n",
       "    <tr>\n",
       "      <th>8570</th>\n",
       "      <td>2019</td>\n",
       "      <td>Fall</td>\n",
       "      <td>2019-fa</td>\n",
       "      <td>WLOF</td>\n",
       "      <td>405</td>\n",
       "      <td>Advanced Wolof I</td>\n",
       "      <td>Third year Wolof with emphasis on conversation...</td>\n",
       "      <td>3 hours.</td>\n",
       "      <td>Same as AFST 445. 3 undergraduate hours. 3 gra...</td>\n",
       "      <td>NaN</td>\n",
       "    </tr>\n",
       "    <tr>\n",
       "      <th>8571</th>\n",
       "      <td>2019</td>\n",
       "      <td>Fall</td>\n",
       "      <td>2019-fa</td>\n",
       "      <td>WLOF</td>\n",
       "      <td>406</td>\n",
       "      <td>Advanced Wolof II</td>\n",
       "      <td>Continuation of WLOF 405 with increased emphas...</td>\n",
       "      <td>3 hours.</td>\n",
       "      <td>NaN</td>\n",
       "      <td>NaN</td>\n",
       "    </tr>\n",
       "    <tr>\n",
       "      <th>8572</th>\n",
       "      <td>2019</td>\n",
       "      <td>Fall</td>\n",
       "      <td>2019-fa</td>\n",
       "      <td>WLOF</td>\n",
       "      <td>407</td>\n",
       "      <td>Topics Wolof Lang &amp;amp; Lit I</td>\n",
       "      <td>Selected readings from modern Wolof authors, w...</td>\n",
       "      <td>3 hours.</td>\n",
       "      <td>NaN</td>\n",
       "      <td>NaN</td>\n",
       "    </tr>\n",
       "    <tr>\n",
       "      <th>8573</th>\n",
       "      <td>2019</td>\n",
       "      <td>Fall</td>\n",
       "      <td>2019-fa</td>\n",
       "      <td>WRIT</td>\n",
       "      <td>199</td>\n",
       "      <td>Undergraduate Open Seminar</td>\n",
       "      <td>See course schedule for topics. Approved for L...</td>\n",
       "      <td>1 TO 5 hours.</td>\n",
       "      <td>NaN</td>\n",
       "      <td>NaN</td>\n",
       "    </tr>\n",
       "    <tr>\n",
       "      <th>8574</th>\n",
       "      <td>2019</td>\n",
       "      <td>Fall</td>\n",
       "      <td>2019-fa</td>\n",
       "      <td>WRIT</td>\n",
       "      <td>300</td>\n",
       "      <td>Issues in Tutoring Writing</td>\n",
       "      <td>Introduction to the work of writing centers, t...</td>\n",
       "      <td>3 hours.</td>\n",
       "      <td>Credit is not given for WRIT 203 and WRIT 300....</td>\n",
       "      <td>NaN</td>\n",
       "    </tr>\n",
       "    <tr>\n",
       "      <th>8575</th>\n",
       "      <td>2019</td>\n",
       "      <td>Fall</td>\n",
       "      <td>2019-fa</td>\n",
       "      <td>WRIT</td>\n",
       "      <td>303</td>\n",
       "      <td>Writing Across Media</td>\n",
       "      <td>Same as INFO 303. See INFO 303.</td>\n",
       "      <td>3 hours.</td>\n",
       "      <td>Same as INFO 303. See INFO 303.</td>\n",
       "      <td>Advanced Composition course.</td>\n",
       "    </tr>\n",
       "    <tr>\n",
       "      <th>8576</th>\n",
       "      <td>2019</td>\n",
       "      <td>Fall</td>\n",
       "      <td>2019-fa</td>\n",
       "      <td>YDSH</td>\n",
       "      <td>101</td>\n",
       "      <td>Beginning Yiddish I</td>\n",
       "      <td>Course develops basic conversational and readi...</td>\n",
       "      <td>4 hours.</td>\n",
       "      <td>NaN</td>\n",
       "      <td>NaN</td>\n",
       "    </tr>\n",
       "    <tr>\n",
       "      <th>8577</th>\n",
       "      <td>2019</td>\n",
       "      <td>Fall</td>\n",
       "      <td>2019-fa</td>\n",
       "      <td>YDSH</td>\n",
       "      <td>102</td>\n",
       "      <td>Beginning Yiddish II</td>\n",
       "      <td>Continuation of YDSH 101 focusing on comprehen...</td>\n",
       "      <td>4 hours.</td>\n",
       "      <td>NaN</td>\n",
       "      <td>NaN</td>\n",
       "    </tr>\n",
       "    <tr>\n",
       "      <th>8578</th>\n",
       "      <td>2019</td>\n",
       "      <td>Fall</td>\n",
       "      <td>2019-fa</td>\n",
       "      <td>YDSH</td>\n",
       "      <td>103</td>\n",
       "      <td>Intermediate Yiddish I</td>\n",
       "      <td>Continuation of YDSH 102. Develops more advanc...</td>\n",
       "      <td>4 hours.</td>\n",
       "      <td>Prerequisite: YDSH 102 or equivalent placement...</td>\n",
       "      <td>NaN</td>\n",
       "    </tr>\n",
       "    <tr>\n",
       "      <th>8579</th>\n",
       "      <td>2019</td>\n",
       "      <td>Fall</td>\n",
       "      <td>2019-fa</td>\n",
       "      <td>YDSH</td>\n",
       "      <td>104</td>\n",
       "      <td>Intermediate Yiddish II</td>\n",
       "      <td>Continuation of YDSH 103. Prerequisite: YDSH 1...</td>\n",
       "      <td>4 hours.</td>\n",
       "      <td>NaN</td>\n",
       "      <td>NaN</td>\n",
       "    </tr>\n",
       "    <tr>\n",
       "      <th>8580</th>\n",
       "      <td>2019</td>\n",
       "      <td>Fall</td>\n",
       "      <td>2019-fa</td>\n",
       "      <td>YDSH</td>\n",
       "      <td>220</td>\n",
       "      <td>Jewish Storytelling</td>\n",
       "      <td>Course will introduce the great Jewish storyte...</td>\n",
       "      <td>3 hours.</td>\n",
       "      <td>Same as CWL 221, ENGL 223, JS 220, and REL 220.</td>\n",
       "      <td>Humanities - Lit &amp; Arts, and Cultural Studies ...</td>\n",
       "    </tr>\n",
       "    <tr>\n",
       "      <th>8581</th>\n",
       "      <td>2019</td>\n",
       "      <td>Fall</td>\n",
       "      <td>2019-fa</td>\n",
       "      <td>YDSH</td>\n",
       "      <td>320</td>\n",
       "      <td>Lit Responses to the Holocaust</td>\n",
       "      <td>Course introduces a variety of Jewish literary...</td>\n",
       "      <td>3 hours.</td>\n",
       "      <td>NaN</td>\n",
       "      <td>Humanities - Lit &amp; Arts, and Cultural Studies ...</td>\n",
       "    </tr>\n",
       "    <tr>\n",
       "      <th>8582</th>\n",
       "      <td>2019</td>\n",
       "      <td>Fall</td>\n",
       "      <td>2019-fa</td>\n",
       "      <td>YDSH</td>\n",
       "      <td>420</td>\n",
       "      <td>Jewish Life-Writing</td>\n",
       "      <td>Jewish life-writing from the late 18th century...</td>\n",
       "      <td>3 OR 4 hours.</td>\n",
       "      <td>NaN</td>\n",
       "      <td>NaN</td>\n",
       "    </tr>\n",
       "    <tr>\n",
       "      <th>8583</th>\n",
       "      <td>2019</td>\n",
       "      <td>Fall</td>\n",
       "      <td>2019-fa</td>\n",
       "      <td>ZULU</td>\n",
       "      <td>201</td>\n",
       "      <td>Elementary Zulu I</td>\n",
       "      <td>Introduction to Zulu; emphasis on grammar, pro...</td>\n",
       "      <td>5 hours.</td>\n",
       "      <td>Same as AFST 251. Participation in the languag...</td>\n",
       "      <td>NaN</td>\n",
       "    </tr>\n",
       "    <tr>\n",
       "      <th>8584</th>\n",
       "      <td>2019</td>\n",
       "      <td>Fall</td>\n",
       "      <td>2019-fa</td>\n",
       "      <td>ZULU</td>\n",
       "      <td>202</td>\n",
       "      <td>Elementary Zulu II</td>\n",
       "      <td>Continuation of ZULU 201 with introduction of ...</td>\n",
       "      <td>5 hours.</td>\n",
       "      <td>Same as AFST 252. Participation in the languag...</td>\n",
       "      <td>NaN</td>\n",
       "    </tr>\n",
       "    <tr>\n",
       "      <th>8585</th>\n",
       "      <td>2019</td>\n",
       "      <td>Fall</td>\n",
       "      <td>2019-fa</td>\n",
       "      <td>ZULU</td>\n",
       "      <td>403</td>\n",
       "      <td>Intermediate Zulu I</td>\n",
       "      <td>Survey of more advanced grammar; emphasis on i...</td>\n",
       "      <td>4 hours.</td>\n",
       "      <td>NaN</td>\n",
       "      <td>NaN</td>\n",
       "    </tr>\n",
       "    <tr>\n",
       "      <th>8586</th>\n",
       "      <td>2019</td>\n",
       "      <td>Fall</td>\n",
       "      <td>2019-fa</td>\n",
       "      <td>ZULU</td>\n",
       "      <td>404</td>\n",
       "      <td>Intermediate Zulu II</td>\n",
       "      <td>Continuation of ZULU 403; emphasis on increasi...</td>\n",
       "      <td>4 hours.</td>\n",
       "      <td>NaN</td>\n",
       "      <td>NaN</td>\n",
       "    </tr>\n",
       "    <tr>\n",
       "      <th>8587</th>\n",
       "      <td>2019</td>\n",
       "      <td>Fall</td>\n",
       "      <td>2019-fa</td>\n",
       "      <td>ZULU</td>\n",
       "      <td>405</td>\n",
       "      <td>Advanced Zulu I</td>\n",
       "      <td>Third year Zulu with emphasis on conversationa...</td>\n",
       "      <td>3 hours.</td>\n",
       "      <td>NaN</td>\n",
       "      <td>NaN</td>\n",
       "    </tr>\n",
       "    <tr>\n",
       "      <th>8588</th>\n",
       "      <td>2019</td>\n",
       "      <td>Fall</td>\n",
       "      <td>2019-fa</td>\n",
       "      <td>ZULU</td>\n",
       "      <td>406</td>\n",
       "      <td>Advanced Zulu II</td>\n",
       "      <td>Continuation of Zulu 405 with increased emphas...</td>\n",
       "      <td>3 hours.</td>\n",
       "      <td>NaN</td>\n",
       "      <td>NaN</td>\n",
       "    </tr>\n",
       "  </tbody>\n",
       "</table>\n",
       "<p>8589 rows × 10 columns</p>\n",
       "</div>"
      ],
      "text/plain": [
       "      Year  Term YearTerm Subject  Number  \\\n",
       "0     2019  Fall  2019-fa     AAS     100   \n",
       "1     2019  Fall  2019-fa     AAS     105   \n",
       "2     2019  Fall  2019-fa     AAS     120   \n",
       "3     2019  Fall  2019-fa     AAS     199   \n",
       "4     2019  Fall  2019-fa     AAS     200   \n",
       "5     2019  Fall  2019-fa     AAS     201   \n",
       "6     2019  Fall  2019-fa     AAS     211   \n",
       "7     2019  Fall  2019-fa     AAS     215   \n",
       "8     2019  Fall  2019-fa     AAS     224   \n",
       "9     2019  Fall  2019-fa     AAS     246   \n",
       "10    2019  Fall  2019-fa     AAS     258   \n",
       "11    2019  Fall  2019-fa     AAS     260   \n",
       "12    2019  Fall  2019-fa     AAS     265   \n",
       "13    2019  Fall  2019-fa     AAS     275   \n",
       "14    2019  Fall  2019-fa     AAS     281   \n",
       "15    2019  Fall  2019-fa     AAS     282   \n",
       "16    2019  Fall  2019-fa     AAS     283   \n",
       "17    2019  Fall  2019-fa     AAS     286   \n",
       "18    2019  Fall  2019-fa     AAS     287   \n",
       "19    2019  Fall  2019-fa     AAS     288   \n",
       "20    2019  Fall  2019-fa     AAS     290   \n",
       "21    2019  Fall  2019-fa     AAS     291   \n",
       "22    2019  Fall  2019-fa     AAS     297   \n",
       "23    2019  Fall  2019-fa     AAS     299   \n",
       "24    2019  Fall  2019-fa     AAS     300   \n",
       "25    2019  Fall  2019-fa     AAS     310   \n",
       "26    2019  Fall  2019-fa     AAS     315   \n",
       "27    2019  Fall  2019-fa     AAS     317   \n",
       "28    2019  Fall  2019-fa     AAS     328   \n",
       "29    2019  Fall  2019-fa     AAS     343   \n",
       "...    ...   ...      ...     ...     ...   \n",
       "8559  2019  Fall  2019-fa      VM     626   \n",
       "8560  2019  Fall  2019-fa      VM     627   \n",
       "8561  2019  Fall  2019-fa      VM     635   \n",
       "8562  2019  Fall  2019-fa      VM     642   \n",
       "8563  2019  Fall  2019-fa      VM     643   \n",
       "8564  2019  Fall  2019-fa      VM     645   \n",
       "8565  2019  Fall  2019-fa      VM     694   \n",
       "8566  2019  Fall  2019-fa    WLOF     201   \n",
       "8567  2019  Fall  2019-fa    WLOF     202   \n",
       "8568  2019  Fall  2019-fa    WLOF     403   \n",
       "8569  2019  Fall  2019-fa    WLOF     404   \n",
       "8570  2019  Fall  2019-fa    WLOF     405   \n",
       "8571  2019  Fall  2019-fa    WLOF     406   \n",
       "8572  2019  Fall  2019-fa    WLOF     407   \n",
       "8573  2019  Fall  2019-fa    WRIT     199   \n",
       "8574  2019  Fall  2019-fa    WRIT     300   \n",
       "8575  2019  Fall  2019-fa    WRIT     303   \n",
       "8576  2019  Fall  2019-fa    YDSH     101   \n",
       "8577  2019  Fall  2019-fa    YDSH     102   \n",
       "8578  2019  Fall  2019-fa    YDSH     103   \n",
       "8579  2019  Fall  2019-fa    YDSH     104   \n",
       "8580  2019  Fall  2019-fa    YDSH     220   \n",
       "8581  2019  Fall  2019-fa    YDSH     320   \n",
       "8582  2019  Fall  2019-fa    YDSH     420   \n",
       "8583  2019  Fall  2019-fa    ZULU     201   \n",
       "8584  2019  Fall  2019-fa    ZULU     202   \n",
       "8585  2019  Fall  2019-fa    ZULU     403   \n",
       "8586  2019  Fall  2019-fa    ZULU     404   \n",
       "8587  2019  Fall  2019-fa    ZULU     405   \n",
       "8588  2019  Fall  2019-fa    ZULU     406   \n",
       "\n",
       "                                         Name  \\\n",
       "0                Intro Asian American Studies   \n",
       "1       Introduction to Arab American Studies   \n",
       "2               Intro to Asian Am Pop Culture   \n",
       "3                  Undergraduate Open Seminar   \n",
       "4                        U.S. Race and Empire   \n",
       "5             US Racial &amp; Ethnic Politics   \n",
       "6                Asian Americans and the Arts   \n",
       "7                US Citizenship Comparatively   \n",
       "8               Asian Am Historical Sociology   \n",
       "9                Asian American Youth in Film   \n",
       "10                         Muslims in America   \n",
       "11               Intro Asian American Theatre   \n",
       "12                        Politics of Hip Hop   \n",
       "13                    The Politics of Fashion   \n",
       "14               Constructing Race in America   \n",
       "15               Feminist and Queer Activisms   \n",
       "16                     Asian American History   \n",
       "17                  Asian American Literature   \n",
       "18                   Food and Asian Americans   \n",
       "19                 Global Islam and Feminisms   \n",
       "20                           Individual Study   \n",
       "21              Hinduism in the United States   \n",
       "22                  Asian Families in America   \n",
       "23              Begin Topics Asian Am Studies   \n",
       "24    Theories of Race, Gender, and Sexuality   \n",
       "25                Race and Cultural Diversity   \n",
       "26                    War, Memory, and Cinema   \n",
       "27                    Asian American Politics   \n",
       "28         Asian Americans &amp; Inequalities   \n",
       "29             Criminalization and Punishment   \n",
       "...                                       ...   \n",
       "8559                   The Basics of Business   \n",
       "8560                  Fundamentals of Finance   \n",
       "8561               Veterinary Medical Spanish   \n",
       "8562           Contemporary Issues in Vet Med   \n",
       "8563               Fundamentals of Management   \n",
       "8564               Communications in Practice   \n",
       "8565                      Veterinary Medicine   \n",
       "8566                       Elementary Wolof I   \n",
       "8567                      Elementary Wolof II   \n",
       "8568                     Intermediate Wolof I   \n",
       "8569                    Intermediate Wolof II   \n",
       "8570                         Advanced Wolof I   \n",
       "8571                        Advanced Wolof II   \n",
       "8572            Topics Wolof Lang &amp; Lit I   \n",
       "8573               Undergraduate Open Seminar   \n",
       "8574               Issues in Tutoring Writing   \n",
       "8575                     Writing Across Media   \n",
       "8576                      Beginning Yiddish I   \n",
       "8577                     Beginning Yiddish II   \n",
       "8578                   Intermediate Yiddish I   \n",
       "8579                  Intermediate Yiddish II   \n",
       "8580                      Jewish Storytelling   \n",
       "8581           Lit Responses to the Holocaust   \n",
       "8582                      Jewish Life-Writing   \n",
       "8583                        Elementary Zulu I   \n",
       "8584                       Elementary Zulu II   \n",
       "8585                      Intermediate Zulu I   \n",
       "8586                     Intermediate Zulu II   \n",
       "8587                          Advanced Zulu I   \n",
       "8588                         Advanced Zulu II   \n",
       "\n",
       "                                            Description   Credit Hours  \\\n",
       "0     Interdisciplinary introduction to the basic co...       3 hours.   \n",
       "1     Interdisciplinary introduction to the basic co...       3 hours.   \n",
       "2     Introductory understanding of the way U.S. pop...       3 hours.   \n",
       "3              May be repeated to a maximum of 6 hours.  1 TO 5 hours.   \n",
       "4     Invites students to examine histories and narr...       3 hours.   \n",
       "5     Same as AFRO 201, LLS 201, and PS 201. See PS ...       3 hours.   \n",
       "6     Examination of Asian American artistic express...       3 hours.   \n",
       "7     Examines the racial, gendered, and sexualized ...       3 hours.   \n",
       "8     Explores concepts of colonization, internation...       3 hours.   \n",
       "9     Examines both mainstream and independent films...       3 hours.   \n",
       "10    Introduction to the study of Muslims in the Un...       3 hours.   \n",
       "11                      Same as THEA 260. See THEA 260.       3 hours.   \n",
       "12                        Same as LLS 265. See LLS 265.       3 hours.   \n",
       "13                        Same as GWS 275. See GWS 275.       3 hours.   \n",
       "14    Same as AFRO 281, HIST 281, and LLS 281. See H...       3 hours.   \n",
       "15            Same as GWS 282 and LLS 282. See GWS 282.       3 hours.   \n",
       "16                      Same as HIST 283. See HIST 283.       3 hours.   \n",
       "17                      Same as ENGL 286. See ENGL 286.       3 hours.   \n",
       "18    Introduction to the interdisciplinary study of...       3 hours.   \n",
       "19                        Same as GWS 288. See GWS 288.       3 hours.   \n",
       "20    Supervised reading and research in Asian Ameri...  2 TO 3 hours.   \n",
       "21                        Same as REL 291. See REL 291.       3 hours.   \n",
       "22         Same as HDFS 221 and SOCW 297. See SOCW 297.       3 hours.   \n",
       "23    May be repeated in the same or subsequent term...       3 hours.   \n",
       "24    Explores theories for performing interdiscipli...       3 hours.   \n",
       "25    Same as AFRO 310, EPS 310, and LLS 310. See EP...       4 hours.   \n",
       "26    Interdisciplinary examination of the ways that...       3 hours.   \n",
       "27                          Same as PS 317. See PS 317.       3 hours.   \n",
       "28                        Same as SOC 328. See SOC 328.       3 hours.   \n",
       "29    Same as AFRO 343, AIS 343, GWS 343, and LLS 34...       3 hours.   \n",
       "...                                                 ...            ...   \n",
       "8559  Business principles related to managing a vete...       1 hours.   \n",
       "8560  Provides students with a strong introductory b...       1 hours.   \n",
       "8561  In this course second year veterinary students...       2 hours.   \n",
       "8562  An introductory course for first year veterina...       1 hours.   \n",
       "8563  An introductory course for second year veterin...       1 hours.   \n",
       "8564  An introductory course for third year veterina...       1 hours.   \n",
       "8565  To be used to designate a trial or experimenta...  1 TO 4 hours.   \n",
       "8566  Introduction to Wolof; emphasizes grammar, pro...       5 hours.   \n",
       "8567  Continuation of elementary Wolof, with introdu...       5 hours.   \n",
       "8568  Survey of more advanced grammar, with emphasis...       4 hours.   \n",
       "8569  Continuation of WLOF 403. Emphasizes ability t...       4 hours.   \n",
       "8570  Third year Wolof with emphasis on conversation...       3 hours.   \n",
       "8571  Continuation of WLOF 405 with increased emphas...       3 hours.   \n",
       "8572  Selected readings from modern Wolof authors, w...       3 hours.   \n",
       "8573  See course schedule for topics. Approved for L...  1 TO 5 hours.   \n",
       "8574  Introduction to the work of writing centers, t...       3 hours.   \n",
       "8575                    Same as INFO 303. See INFO 303.       3 hours.   \n",
       "8576  Course develops basic conversational and readi...       4 hours.   \n",
       "8577  Continuation of YDSH 101 focusing on comprehen...       4 hours.   \n",
       "8578  Continuation of YDSH 102. Develops more advanc...       4 hours.   \n",
       "8579  Continuation of YDSH 103. Prerequisite: YDSH 1...       4 hours.   \n",
       "8580  Course will introduce the great Jewish storyte...       3 hours.   \n",
       "8581  Course introduces a variety of Jewish literary...       3 hours.   \n",
       "8582  Jewish life-writing from the late 18th century...  3 OR 4 hours.   \n",
       "8583  Introduction to Zulu; emphasis on grammar, pro...       5 hours.   \n",
       "8584  Continuation of ZULU 201 with introduction of ...       5 hours.   \n",
       "8585  Survey of more advanced grammar; emphasis on i...       4 hours.   \n",
       "8586  Continuation of ZULU 403; emphasis on increasi...       4 hours.   \n",
       "8587  Third year Zulu with emphasis on conversationa...       3 hours.   \n",
       "8588  Continuation of Zulu 405 with increased emphas...       3 hours.   \n",
       "\n",
       "                                           Section Info  \\\n",
       "0                                                   NaN   \n",
       "1                                                   NaN   \n",
       "2                                                   NaN   \n",
       "3                                                   NaN   \n",
       "4                                      Same as LLS 200.   \n",
       "5     Same as AFRO 201, LLS 201, and PS 201. See PS ...   \n",
       "6                                                   NaN   \n",
       "7                                                   NaN   \n",
       "8                                                   NaN   \n",
       "9                                                   NaN   \n",
       "10                                                  NaN   \n",
       "11                                                  NaN   \n",
       "12                                                  NaN   \n",
       "13                        Same as GWS 275. See GWS 275.   \n",
       "14    Same as AFRO 281, HIST 281, and LLS 281. See H...   \n",
       "15                                                  NaN   \n",
       "16                      Same as HIST 283. See HIST 283.   \n",
       "17                                                  NaN   \n",
       "18    Prerequisite: AAS 100 or AAS 120, or consent o...   \n",
       "19                                                  NaN   \n",
       "20                                                  NaN   \n",
       "21                                                  NaN   \n",
       "22         Same as HDFS 221 and SOCW 297. See SOCW 297.   \n",
       "23                                                  NaN   \n",
       "24                                                  NaN   \n",
       "25    Same as AFRO 310, EPS 310, and LLS 310. See EP...   \n",
       "26                                                  NaN   \n",
       "27                                                  NaN   \n",
       "28                                                  NaN   \n",
       "29                                                  NaN   \n",
       "...                                                 ...   \n",
       "8559  1 graduate hour. 1 professional hour. Prerequi...   \n",
       "8560                                                NaN   \n",
       "8561  No graduate credit. 2 professional hours. Appr...   \n",
       "8562                                                NaN   \n",
       "8563  No graduate credit. 1 professional hour. Appro...   \n",
       "8564                                                NaN   \n",
       "8565                                                NaN   \n",
       "8566  Same as AFST 241. Participation in language la...   \n",
       "8567                                                NaN   \n",
       "8568  Same as AFST 443. 4 undergraduate hours. 4 gra...   \n",
       "8569                                                NaN   \n",
       "8570  Same as AFST 445. 3 undergraduate hours. 3 gra...   \n",
       "8571                                                NaN   \n",
       "8572                                                NaN   \n",
       "8573                                                NaN   \n",
       "8574  Credit is not given for WRIT 203 and WRIT 300....   \n",
       "8575                    Same as INFO 303. See INFO 303.   \n",
       "8576                                                NaN   \n",
       "8577                                                NaN   \n",
       "8578  Prerequisite: YDSH 102 or equivalent placement...   \n",
       "8579                                                NaN   \n",
       "8580    Same as CWL 221, ENGL 223, JS 220, and REL 220.   \n",
       "8581                                                NaN   \n",
       "8582                                                NaN   \n",
       "8583  Same as AFST 251. Participation in the languag...   \n",
       "8584  Same as AFST 252. Participation in the languag...   \n",
       "8585                                                NaN   \n",
       "8586                                                NaN   \n",
       "8587                                                NaN   \n",
       "8588                                                NaN   \n",
       "\n",
       "                                      Degree Attributes  \n",
       "0     Social & Beh Sci - Soc Sci, and Cultural Studi...  \n",
       "1                Cultural Studies - US Minority course.  \n",
       "2                Cultural Studies - US Minority course.  \n",
       "3                                                   NaN  \n",
       "4     Humanities - Hist & Phil, and Cultural Studies...  \n",
       "5     Social & Beh Sci - Soc Sci, and Cultural Studi...  \n",
       "6     Humanities - Lit & Arts, and Cultural Studies ...  \n",
       "7     Humanities - Hist & Phil, and Cultural Studies...  \n",
       "8                Cultural Studies - US Minority course.  \n",
       "9     Social & Beh Sci - Soc Sci, and Cultural Studi...  \n",
       "10    Social & Beh Sci - Soc Sci, and Cultural Studi...  \n",
       "11               Cultural Studies - US Minority course.  \n",
       "12               Cultural Studies - US Minority course.  \n",
       "13               Cultural Studies - US Minority course.  \n",
       "14    Humanities - Hist & Phil, and Cultural Studies...  \n",
       "15                                                  NaN  \n",
       "16    Humanities - Hist & Phil, and Cultural Studies...  \n",
       "17    Humanities - Lit & Arts, and Cultural Studies ...  \n",
       "18    Social & Beh Sci - Soc Sci, and Cultural Studi...  \n",
       "19                  Cultural Studies - Non-West course.  \n",
       "20                                                  NaN  \n",
       "21                                                  NaN  \n",
       "22    Social & Beh Sci - Soc Sci, and Cultural Studi...  \n",
       "23                                                  NaN  \n",
       "24                         Advanced Composition course.  \n",
       "25    Advanced Composition, and Cultural Studies - U...  \n",
       "26                                                  NaN  \n",
       "27                                                  NaN  \n",
       "28                                                  NaN  \n",
       "29                                                  NaN  \n",
       "...                                                 ...  \n",
       "8559                                                NaN  \n",
       "8560                                                NaN  \n",
       "8561                                                NaN  \n",
       "8562                                                NaN  \n",
       "8563                                                NaN  \n",
       "8564                                                NaN  \n",
       "8565                                                NaN  \n",
       "8566                                                NaN  \n",
       "8567                                                NaN  \n",
       "8568                                                NaN  \n",
       "8569                                                NaN  \n",
       "8570                                                NaN  \n",
       "8571                                                NaN  \n",
       "8572                                                NaN  \n",
       "8573                                                NaN  \n",
       "8574                                                NaN  \n",
       "8575                       Advanced Composition course.  \n",
       "8576                                                NaN  \n",
       "8577                                                NaN  \n",
       "8578                                                NaN  \n",
       "8579                                                NaN  \n",
       "8580  Humanities - Lit & Arts, and Cultural Studies ...  \n",
       "8581  Humanities - Lit & Arts, and Cultural Studies ...  \n",
       "8582                                                NaN  \n",
       "8583                                                NaN  \n",
       "8584                                                NaN  \n",
       "8585                                                NaN  \n",
       "8586                                                NaN  \n",
       "8587                                                NaN  \n",
       "8588                                                NaN  \n",
       "\n",
       "[8589 rows x 10 columns]"
      ]
     },
     "execution_count": 6,
     "metadata": {},
     "output_type": "execute_result"
    }
   ],
   "source": [
    "df = ...\n",
    "df\n"
   ]
  },
  {
   "cell_type": "code",
   "execution_count": 8,
   "metadata": {
    "nbgrader": {
     "grade": true,
     "grade_id": "cell-8816926a2c95fc6f",
     "locked": true,
     "points": 1,
     "schema_version": 3,
     "solution": false
    }
   },
   "outputs": [],
   "source": [
    "## == TEST CASES for Puzzle 3.1 ==\n",
    "# - This read-only cell contains test cases for your previous cell.\n",
    "# - If this cell runs without any error our output, you PASSED all test cases!\n",
    "# - If this cell results in any errors, check you previous cell, make changes, and RE-RUN your code and then this cell.\n",
    "\n",
    "assert( len(df) == 8589 ), \"It looks like you did not import the correct dataset?\"\n",
    "\n",
    "## == SUCCESS MESSAGE ==\n",
    "# You will only see this message (with the emoji showing) if you passed all test cases:\n",
    "tada = \"\\N{PARTY POPPER}\"\n",
    "print(f\"{tada} All tests passed! {tada}\")\n",
    "print()"
   ]
  },
  {
   "cell_type": "markdown",
   "metadata": {},
   "source": [
    "### The DataFrame Type\n",
    "\n",
    "In Python so far, we have had **string** and **number** data types.  With the successful `pd.read_csv` function, we now have a third type: a **DataFrame**.  We can always ask Python to tell us the type with the `type` function:"
   ]
  },
  {
   "cell_type": "code",
   "execution_count": null,
   "metadata": {},
   "outputs": [],
   "source": [
    "type(df)"
   ]
  },
  {
   "cell_type": "markdown",
   "metadata": {},
   "source": [
    "The `pandas.core.frame.DataFrame` (which we will just call `DataFrame`) type has hundreds of useful functions that can be called on it:\n",
    "\n",
    "- We can choose data that matches a specific requirement,\n",
    "- We can group our data by a certain column,\n",
    "- ...and hundreds of other things...\n",
    "\n",
    "The key idea here is that **`df` is the name of the DataFrame** that contains the data in the CSV file you downloaded."
   ]
  },
  {
   "cell_type": "markdown",
   "metadata": {},
   "source": [
    "### Accessing a Column\n",
    "\n",
    "The dataset you downloaded has six columns: `Year`, `Term`, `YearTerm`, `Subject`, `Number`, and `Title`.  We can access a column by **indexing into the DataFrame**.  Whenever we **index into** something, we will use matchingsquare brackets: `[` and `]`.  For example, to **index into the column `Subject`**:"
   ]
  },
  {
   "cell_type": "code",
   "execution_count": null,
   "metadata": {},
   "outputs": [],
   "source": [
    "df[\"Subject\"]"
   ]
  },
  {
   "cell_type": "markdown",
   "metadata": {},
   "source": [
    "Notice that we now only have the **Subject** data in our output, no longer the whole DataFrame.  We can do this with any of the six columns using the same format:\n",
    "\n",
    "![image.png](img/DataFrame-index-into-column.png)"
   ]
  },
  {
   "cell_type": "markdown",
   "metadata": {},
   "source": [
    "### Puzzle 3.2:\n",
    "\n",
    "List the **name of every course** (ex: 'Data Science Discovery') at Illinois:\n",
    "\n",
    "- You may need to refer back to the data sheet (or the DataFrame output above) to get the correct column name."
   ]
  },
  {
   "cell_type": "code",
   "execution_count": null,
   "metadata": {},
   "outputs": [],
   "source": [
    "..."
   ]
  },
  {
   "cell_type": "markdown",
   "metadata": {},
   "source": [
    "### Finding a Subset of the Data\n",
    "\n",
    "Let's find a subset of the data.  To do this, we will **index into the DataFrame** with a **conditional statement**.  A **conditional** is anything that Python can check if it's **True/Yes or False/No**.  For example:\n",
    "\n",
    "- Is this course's subject STAT?  *...YES, that's True*\n",
    "- Is this course offered in 2012?  *...NO, that's False*\n",
    "\n",
    "#### Writing an Equality Conditional in Python\n",
    "\n",
    "The most basic conditional is a test for equality -- if something is **exactly equal to** something else.  To test for equality, Python uses `==`.\n",
    "\n",
    "- Remember, we already used `=` to set a name equal to something -- so Python needs to use something different.\n",
    "\n",
    "In general, we will test if **each row in a column contains some value**.  For example, we may want to test if the subject for a given course is exactly equal to `'STAT'`.  To do this, the conditional will be:\n",
    "\n",
    "![image.png](img/DataFrame-conditional.png)\n",
    "\n",
    "\n",
    "### Puzzle 3.3: A standalone conditional\n",
    "\n",
    "Write the conditional to check if each row in our DataFrame's **Subject** is `'STAT'`.\n",
    "\n",
    "- You will expect to see a whole bunch of `False`.\n"
   ]
  },
  {
   "cell_type": "code",
   "execution_count": null,
   "metadata": {},
   "outputs": [],
   "source": [
    "..."
   ]
  },
  {
   "cell_type": "markdown",
   "metadata": {},
   "source": [
    "The expected result will list a large number or row numbers (0, 1, ..., 8741) that tells us if each row is STAT.  This is almost useful, but we want to **index the whole conditional into the DataFrame** to get **ONLY the rows where the conditional is True**.\n",
    "\n",
    "We will index into the DataFrame with the full condiitional:\n",
    "\n",
    "![image.png](img/DataFarme-row-conditional.png)"
   ]
  },
  {
   "cell_type": "markdown",
   "metadata": {},
   "source": [
    "### Puzzle 3.4: Selecting a Subset of Rows\n",
    "\n",
    "In the next cell, select only the rows that have a **Subject** of `'STAT'`:"
   ]
  },
  {
   "cell_type": "code",
   "execution_count": null,
   "metadata": {},
   "outputs": [],
   "source": [
    "..."
   ]
  },
  {
   "cell_type": "markdown",
   "metadata": {},
   "source": [
    "## Part 4: Exploring the DataSet\n",
    "\n",
    "You now know the basics of `pandas`.  Let's explore the dataset!\n",
    "\n",
    "\n",
    "### Puzzle 4.1: Selecting your Major's Rows\n",
    "\n",
    "Select only the rows that have a **Subject** of your current/intended major.  Assign this to the value `mydf`:"
   ]
  },
  {
   "cell_type": "code",
   "execution_count": 48,
   "metadata": {},
   "outputs": [
    {
     "data": {
      "text/plain": [
       "Ellipsis"
      ]
     },
     "execution_count": 48,
     "metadata": {},
     "output_type": "execute_result"
    }
   ],
   "source": [
    "mydf = ...\n",
    "mydf"
   ]
  },
  {
   "cell_type": "code",
   "execution_count": 2,
   "metadata": {},
   "outputs": [],
   "source": [
    "# There are no automatic test cases here -- you need to make sure your output is correct!\n",
    "# Check over it to ensure it is what you expect to see!"
   ]
  },
  {
   "cell_type": "markdown",
   "metadata": {},
   "source": [
    "### Puzzle 4.2: Finding your Upper-Level Courses\n",
    "\n",
    "An \"upper-level\" course at Illinois is any and all courses with a number of `300` or greater.  Your major likely has many upper=level courses for you to take.\n",
    "\n",
    "Using the same idea of a conditional, you will replace the logic of `==` (*which means \"exactly equal to\"*) with `>=` (*which means greater than or equal to*).  Write a conditional, using `mydf`, to find **all of the upper-level courses in your major** and store it in `mydf_upper_level`."
   ]
  },
  {
   "cell_type": "code",
   "execution_count": 50,
   "metadata": {},
   "outputs": [
    {
     "data": {
      "text/plain": [
       "Ellipsis"
      ]
     },
     "execution_count": 50,
     "metadata": {},
     "output_type": "execute_result"
    }
   ],
   "source": [
    "mydf_upper_level = ...\n",
    "mydf_upper_level"
   ]
  },
  {
   "cell_type": "code",
   "execution_count": 3,
   "metadata": {},
   "outputs": [],
   "source": [
    "# There are no automatic test cases here -- you need to make sure your output is correct!\n",
    "# Check over it to ensure it is what you expect to see!"
   ]
  },
  {
   "cell_type": "markdown",
   "metadata": {},
   "source": [
    "## Submit Your Work!\n",
    "\n",
    "You're almost done -- congratulations!\n",
    "\n",
    "You need to do two more things:\n",
    "\n",
    "1.  Save your work. To do this, go to File -> Save All\n",
    "\n",
    "2.  After you have saved, exit this notebook and follow the webpage instructions to commit this lab to your Git repository!"
   ]
  }
 ],
 "metadata": {
  "celltoolbar": "Create Assignment",
  "kernelspec": {
   "display_name": "Python 3",
   "language": "python",
   "name": "python3"
  },
  "language_info": {
   "codemirror_mode": {
    "name": "ipython",
    "version": 3
   },
   "file_extension": ".py",
   "mimetype": "text/x-python",
   "name": "python",
   "nbconvert_exporter": "python",
   "pygments_lexer": "ipython3",
   "version": "3.7.1"
  }
 },
 "nbformat": 4,
 "nbformat_minor": 2
}
