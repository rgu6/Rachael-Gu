{
  "cells": [
    {
      "cell_type": "markdown",
      "metadata": {
        "id": "Dc2p7M-MSuih"
      },
      "source": [
        "# Lab: Regression\n",
        "\n",
        "## Group\n",
        "Enter the next Python cell to add information about who you’re working with within your lab section:"
      ]
    },
    {
      "cell_type": "code",
      "execution_count": null,
      "metadata": {
        "id": "2VV0rXy2S0lK"
      },
      "outputs": [],
      "source": [
        "partner1_name = \"\"\n",
        "partner1_netid = \"\"\n",
        "partner1_major = \"\"\n",
        " \n",
        "partner2_name = \"\"\n",
        "partner2_netid = \"\"\n",
        "partner2_major = \"\"\n",
        " \n",
        "partner3_name = \"\"\n",
        "partner3_netid = \"\"\n",
        "partner3_major = \"\"\n"
      ]
    },
    {
      "cell_type": "markdown",
      "metadata": {
        "id": "oJc0cAjFS9sq"
      },
      "source": [
        "## Getting Help\n",
        "Remember, there are a lot of ways to get help if you find yourself stuck:\n",
        "\n",
        "1. In your lab section, you can ask your TA or CAs.\n",
        "2. Post your question in the course Discord.\n",
        "3. Office Hours:\n",
        "  - In-person office hours **every Monday, Tuesday, Thursday, and Friday** from 4:00 PM - 6:00 PM in Siebel Center for Design (SCD) Rm. 0060\n",
        "  - Zoom office hours **every Wednesday** from 5:00 PM - 6:00 PM and **every Thursday** from 9:00 PM - 11:00 PM (see the course website for links).\n",
        "\n",
        "In this lab, you will:\n",
        "\n",
        "- Do basic linear regression diagnostics.\n",
        "- Create simple and multiple linear regression models.\n",
        "- Interpret your models.\n",
        "\n",
        "As you go through the lab:\n",
        "\n",
        "- Make sure to run every cell with Python code and observe the output.\n",
        "- Complete all puzzles and submit this lab before Monday evening at 11:59 PM.\n",
        "\n",
        "# Setup\n",
        "\n",
        "\n",
        "At the beginning of this lab, make sure you:\n",
        "1. Make sure the `MLB.csv` data set is in **your working directory**. If not, download it from your personal GitHub repository.\n",
        "2. Import the following libraries:\n",
        "- `pandas` as `pd`\n",
        "- `matplotlib.pyplot` as `plt`\n",
        "- `seaborn` as `sns`\n",
        "- `from sklearn.linear_model import LinearRegression`\n",
        "- `import scipy.stats`\n",
        "- `from scipy import stats`\n",
        "3. Read the date sets into a data frame using `pd.read.csv()`\n",
        "\n",
        "**If you do NOT have `seaborn`/`sklearn` installed, please run the following lines:\n",
        "- **PC Only**\n",
        "  - `py -m pip install seaborn`\n",
        "  - `py -m pip install scikit-learn`\n",
        "- **MacOS Only**\n",
        "  - `python3 -m pip install seaborn`\n",
        "  - `python3 -m pip install scikit-learn`"
      ]
    },
    {
      "cell_type": "code",
      "execution_count": null,
      "metadata": {
        "id": "nKR9XXpyWUws"
      },
      "outputs": [],
      "source": [
        "#Import the Libraries"
      ]
    },
    {
      "cell_type": "markdown",
      "metadata": {
        "id": "12c2KXoFWaDV"
      },
      "source": [
        "# Intro\n",
        "\n",
        "Linear regression is a useful tool in statistics. The purpose of it is to study how one or more predictors influence a response. We do this by fitting a line as close as possible to as many points as possible. The most common method, and the one that will be used in this lab, will be the Ordinary Least Squares Regression Method (OLS). This method tries to fit a line that minimizes the squared distance to each point in the data set. This lab will walk you through the process of creating a regression model and some basic analysis.\n",
        "In this lab, we will analyze some data from Major League Baseball. We will look at the relationship (if there is any) between a team’s season win total (W) against a team’s [Earned Run Average](https://library.fangraphs.com/pitching/era/) (ERA) and [Wins Above Replacement](https://library.fangraphs.com/misc/war/) (WAR).\n",
        "\n",
        "# Puzzle 1: Exploratory Data Analysis\n",
        "Exploratory data analysis is the first step when working with linear regression. Before you can begin making regression models, you have to check that making a linear model is a good idea for your data. First, let’s import the data and make some summaries.\n",
        "\n",
        "## Read the CSV File\n",
        "In the following cell, read the `MLB.csv` file."
      ]
    },
    {
      "cell_type": "code",
      "execution_count": null,
      "metadata": {
        "id": "wFwOgpzUYpTN"
      },
      "outputs": [],
      "source": [
        "MLB = ...\n",
        "MLB"
      ]
    },
    {
      "cell_type": "code",
      "execution_count": null,
      "metadata": {
        "id": "AoGORAAfZAUP"
      },
      "outputs": [],
      "source": [
        "#TEST CASE\n",
        "## == TEST CASES for Data ==\n",
        "# - This read-only cell contains test cases for your previous cell.\n",
        "# - If this cell runs without any error our output, you PASSED all test cases!\n",
        "# - If this cell results in any errors, check you previous cell, make changes, and RE-RUN your code and then this cell.\n",
        "\n",
        "assert(len(MLB) == 150), \"The dataframe does not appear to have correct dataset loaded.\"\n",
        "\n",
        "## == SUCCESS MESSAGE ==\n",
        "# You will only see this message (with the emoji showing) if you passed all test cases:\n",
        "tada = \"\\N{PARTY POPPER}\"\n",
        "print(f\"{tada} All tests passed! {tada}\")\n",
        "print()"
      ]
    },
    {
      "cell_type": "markdown",
      "metadata": {
        "id": "ad-gJGfhZENP"
      },
      "source": [
        "## Part 1: Numerical Summary\n",
        "\n",
        "Use the `.describe()` function to print out summary information your data."
      ]
    },
    {
      "cell_type": "code",
      "execution_count": null,
      "metadata": {
        "id": "0K-fFzZaZMVI"
      },
      "outputs": [],
      "source": [
        "description = ...\n",
        "description"
      ]
    },
    {
      "cell_type": "code",
      "execution_count": null,
      "metadata": {
        "id": "BfAcPnmWZQpp"
      },
      "outputs": [],
      "source": [
        "## == TEST CASES for description ==\n",
        "# - This read-only cell contains test cases for your previous cell.\n",
        "# - If this cell runs without any error our output, you PASSED all test cases!\n",
        "# - If this cell results in any errors, check you previous cell, make changes, and RE-RUN your code and then this cell.\n",
        "assert(len(description)==8), \"Your description does not appear to be correct. Please make sure you used the correct function.\"\n",
        "\n",
        "## == SUCCESS MESSAGE ==\n",
        "# You will only see this message (with the emoji showing) if you passed all test cases:\n",
        "tada = \"\\N{PARTY POPPER}\"\n",
        "print(f\"{tada} All tests passed! {tada}\")"
      ]
    },
    {
      "cell_type": "markdown",
      "metadata": {
        "id": "noaVT0gRZThw"
      },
      "source": [
        "The numerical summary above gives us a basic understanding of how our data looks. However, that does not mean you should skim over it. The numeric summary will be the quickest way to know if there is something unusual about the variables. If you had looked at the number of innings pitched by a team, the minimum value is 1,412, and the maximum value is 1,489. The low variation with 150 observations (30 teams over 5 seasons) should put up a red flag in the eyes of a statistician. The variable will be either crucial in the model or completely useless. If you are not familiar with baseball, IP will be practically useless because of how low the correlation (about 0.5) between wins is.\n",
        "\n",
        "## Part 2: Graphical Summaries\n",
        "\n",
        "Now we are going to do graphical summaries of the variables we want to explore. Using graphical summaries will help us visualize the variable we want to potentially use in the regression models. Histograms will show us the distribution of the random variable, while scatter plots will show us general trends and the correlation between two variables.\n",
        "\n",
        "## Part 2a: Histograms\n",
        "Create histograms for the variables listed below.\n",
        "\n",
        "Wins(W)"
      ]
    },
    {
      "cell_type": "code",
      "execution_count": null,
      "metadata": {
        "id": "acMNMo98Zi9i"
      },
      "outputs": [],
      "source": [
        "#Code for Histogram"
      ]
    },
    {
      "cell_type": "markdown",
      "metadata": {
        "id": "RbxEwHNLZock"
      },
      "source": [
        "Earned Run Average (ERA)"
      ]
    },
    {
      "cell_type": "code",
      "execution_count": null,
      "metadata": {
        "id": "S1eYAEQFZq1L"
      },
      "outputs": [],
      "source": [
        "#Code for Histogram"
      ]
    },
    {
      "cell_type": "markdown",
      "metadata": {
        "id": "HhhcBnqlZtl-"
      },
      "source": [
        "Wins Above Replacement (WAR)"
      ]
    },
    {
      "cell_type": "code",
      "execution_count": null,
      "metadata": {
        "id": "qU-4NKUHZvv0"
      },
      "outputs": [],
      "source": [
        "#Code for Histogram"
      ]
    },
    {
      "cell_type": "markdown",
      "metadata": {
        "id": "zXoiuIAdZyyN"
      },
      "source": [
        "## Part 2b: Scatter Plots\n",
        "\n",
        "Create scatter plots for the variables listed below.\n",
        "The variables are listed as “Y-Axis Variable” vs. “X-Axis Variable”.\n",
        " \n",
        "Wins (W) vs. Earned Run Average (ERA)"
      ]
    },
    {
      "cell_type": "code",
      "execution_count": null,
      "metadata": {
        "id": "rHDwf5zNZ5au"
      },
      "outputs": [],
      "source": [
        "#Code for Scatter Plot"
      ]
    },
    {
      "cell_type": "markdown",
      "metadata": {
        "id": "6c9xPXFFaEAf"
      },
      "source": [
        "Wins (W) vs. Wins Above Replacement (WAR)"
      ]
    },
    {
      "cell_type": "code",
      "execution_count": null,
      "metadata": {
        "id": "7vuCpdrHaFjx"
      },
      "outputs": [],
      "source": [
        "#Code for Scatter Plot"
      ]
    },
    {
      "cell_type": "markdown",
      "metadata": {
        "id": "yiL-zxQOaJEo"
      },
      "source": [
        "## ❓Part 2c: Group Discussion❓\n",
        "\n",
        "1. To create a linear regression model, our variables must have a normal or approximately normal distribution. Are the histograms of the three variables normal or approximately normal? "
      ]
    },
    {
      "cell_type": "markdown",
      "metadata": {
        "id": "JARZlDvDaO_E"
      },
      "source": [
        "**Type the summary of your group response here.**"
      ]
    },
    {
      "cell_type": "markdown",
      "metadata": {
        "id": "brFAf-JFaWaL"
      },
      "source": [
        "2. Look at the two scatter plots. Is there a correlation between Wins and ERA? What about Wins and WAR? If so, are the correlations positive or negative?"
      ]
    },
    {
      "cell_type": "markdown",
      "metadata": {
        "id": "F-U-Kr_IaZce"
      },
      "source": [
        "**Type the summary of your group response here.**"
      ]
    },
    {
      "cell_type": "markdown",
      "metadata": {
        "id": "9M3S-tnUaeKQ"
      },
      "source": [
        "3. What do the correlations between Wins versus ERA and Wins versus WAR tell us? Use **NON-STATISTICAL** terminology to explain."
      ]
    },
    {
      "cell_type": "markdown",
      "metadata": {
        "id": "7O1xz7gmamS7"
      },
      "source": [
        "**Type the summary of your group response here.**"
      ]
    },
    {
      "cell_type": "markdown",
      "metadata": {
        "id": "z21uVESsaom8"
      },
      "source": [
        "## Part 2d: Correlation matrix\n",
        "\n",
        "Now that you have made predictions about the correlation based on the scatter plots, let’s see the actual values. Create a correlation matrix.  Think about what you can see between the pairs. You will notice that the diagonals of the correlation matrix are all 1. This is because what the matrix is saying is the correlation between the variable and itself is 1."
      ]
    },
    {
      "cell_type": "code",
      "execution_count": null,
      "metadata": {
        "id": "nRzVqg7dattc"
      },
      "outputs": [],
      "source": [
        "#Code for Correlation Matrix\n",
        "cor = ...\n",
        "cor"
      ]
    },
    {
      "cell_type": "code",
      "execution_count": null,
      "metadata": {
        "id": "FOOCUDUEawka"
      },
      "outputs": [],
      "source": [
        "#TEST CASE\n",
        "# - This read-only cell contains test cases for your previous cell.\n",
        "# - If this cell runs without any error our output, you PASSED all test cases!\n",
        "# - If this cell results in any errors, check you previous cell, make changes, and RE-RUN your code and then this cell.\n",
        "assert(cor[\"Unnamed: 0\"][\"Unnamed: 0\"] == cor['Season'][\"Season\"] == cor['W'][\"W\"] == cor['L'][\"L\"] == cor['SV'][\"SV\"] == cor['IP'][\"IP\"] == cor['ERA'][\"ERA\"] == cor['FIP'][\"FIP\"] == cor['WAR'][\"WAR\"]),\"Are you sure the correlations are correct?\"\n",
        "\n",
        "## == SUCCESS MESSAGE ==\n",
        "# You will only see this message (with the emoji showing) if you passed all test cases:\n",
        "tada = \"\\N{PARTY POPPER}\"\n",
        "print(f\"{tada} All tests passed! {tada}\")"
      ]
    },
    {
      "cell_type": "markdown",
      "metadata": {
        "id": "apBGgVDxa0AF"
      },
      "source": [
        "# Puzzle 2: Simple Linear Regression\n",
        "\n",
        "Checking the descriptive statistics is useful and gives us a basic idea of the data. If we want to use the data to make predictions, we can use a simple linear regression model.\n",
        "The equation for a simple linear regression model is y = $\\beta_0$ + $\\beta_1$ * x.\n",
        "\n",
        "## Part 1: Models\n",
        "In the following cells, write the Python code to create a simple linear regression model to predict the average number of wins for an MLB team using ERA and WAR as the independent variable “x”. You want your code to print out the slope (b1) and y-intercept (b0)."
      ]
    },
    {
      "cell_type": "code",
      "execution_count": null,
      "metadata": {
        "id": "iBd89TeXbW8p"
      },
      "outputs": [],
      "source": [
        "#Creation of Model using ERA as the x-variable to predict wins.\n",
        "\n",
        "b0_ERA = ...\n",
        "b1_ERA = ...\n",
        "\n",
        "print(\"The intercept (ß0) = \" + str(b0_ERA) + \".\")\n",
        "print(\"The slope (ß1) = \" + str(b1_ERA) + \".\")"
      ]
    },
    {
      "cell_type": "markdown",
      "metadata": {
        "id": "EuFuyoJsbZ5h"
      },
      "source": [
        "❓ **Write out the model formula in the cell below replacing $\\beta_0$ and $\\beta_1$ with the slope and y-intercept that you found.** ❓"
      ]
    },
    {
      "cell_type": "markdown",
      "metadata": {
        "id": "TtSoOE1Gbo2T"
      },
      "source": [
        "W = $\\beta_0$ + $\\beta_1$(ERA)"
      ]
    },
    {
      "cell_type": "code",
      "execution_count": null,
      "metadata": {
        "id": "5ls9u9S0b3Uu"
      },
      "outputs": [],
      "source": [
        "#Creation of Model using WAR as the x-varaible to predict wins.\n",
        "\n",
        "b0_WAR = ...\n",
        "b1_WAR = ...\n",
        "\n",
        "print(\"The intercept (ß0) = \" + str(b0_WAR) + \".\")\n",
        "print(\"The slope (ß1) = \" + str(b1_WAR) + \".\")"
      ]
    },
    {
      "cell_type": "markdown",
      "metadata": {
        "id": "vybENLh1b8ZW"
      },
      "source": [
        "❓ **Write out the model formula in the cell below replacing $\\beta_0$ and $\\beta_1$ with the slope and y-intercept that you found.** ❓"
      ]
    },
    {
      "cell_type": "markdown",
      "metadata": {
        "id": "UYv5Vj_xb-KK"
      },
      "source": [
        "W = $\\beta_0$ + $\\beta_1$(WAR)"
      ]
    },
    {
      "cell_type": "markdown",
      "metadata": {
        "id": "iDoJCL_4cA9J"
      },
      "source": [
        "## Part 2: Significance\n",
        "\n",
        "You have now made two simple linear regression models. However, we need to check to see if the coefficient estimates ($\\hat{\\beta_0}$, $\\hat{\\beta_1}$) are significant. In other words, are the intercept and the slope significant in predicting the total amount of wins in a season? To do this, we can run a hypothesis test on the coefficients. We have done z tests and t tests and this will be very similar!  We will not make you do the detailed outline as in the previous lab, but it may help you to look back at it. The null hypothesis and alternative hypothesis are listed below!\n",
        "\n",
        "$H_0$: $\\beta_i$ = 0\n",
        "\n",
        "$H_a$: $\\beta_i$ $\\neq$ 0\n",
        "\n",
        "To conduct the test, you will first have to find the Test Statistic. We will use t, which will have a slightly different formula than we are used to! To do this, you simply use the following formula.\n",
        "\n",
        "### $t_{TS}$ = $\\frac{\\hat{\\beta_i}}{SE{\\hat{(\\beta_i)}}}$\n",
        "\n",
        "\n",
        "Since calculating the Standard Errors, $SE{\\hat{(\\beta_i)}}$ , for all four coefficients will be too time consuming, we will give them to you below.  Find the p-values for the slope and intercept in both models. You'll want to use `n - 2` degrees of freedom in your p-value calculations. \n",
        "\n",
        "- ERA\n",
        "\n",
        "  -$SE{\\hat{(\\beta_0)}}$ = 5.204\n",
        "  \n",
        "  -$SE{\\hat{(\\beta_1)}}$ = 1.219\n",
        "  \n",
        "\n",
        "- WAR\n",
        "\n",
        "  -$SE{\\hat{(\\beta_0)}}$ = 1.9189\n",
        "\n",
        "  -$SE{\\hat{(\\beta_1)}}$ = 0.1251"
      ]
    },
    {
      "cell_type": "code",
      "execution_count": null,
      "metadata": {
        "id": "uR37dfUadz-D"
      },
      "outputs": [],
      "source": [
        "#t-Test Statistic and p-value calculations for ERA to predict wins.\n",
        "ts_b0_ERA = ...\n",
        "ts_b1_ERA = ...\n",
        "\n",
        "p_value_b0_ERA = ...\n",
        "p_value_b1_ERA = ...\n",
        "\n",
        "print(\"The t-Test Statistic for ß0 in W~ERA is \" + str(ts_b0_ERA) + \".\")\n",
        "print(\"The t-Test Statistic for ß1 in W~ERA is \" + str(ts_b1_ERA) + \".\")\n",
        "print(\"The p-value for ß0 in W~ERA is \" + str(p_value_b0_ERA) + \".\")\n",
        "print(\"The p-value for ß1 in W~ERA is \" + str(p_value_b1_ERA) + \".\")"
      ]
    },
    {
      "cell_type": "code",
      "execution_count": null,
      "metadata": {
        "id": "zI31hJ5Fd4lM"
      },
      "outputs": [],
      "source": [
        "#TEST CASE\n",
        "import math\n",
        "# - This read-only cell contains test cases for your previous cell.\n",
        "# - If this cell runs without any error our output, you PASSED all test cases!\n",
        "# - If this cell results in any errors, check you previous cell, make changes, and RE-RUN your code and then this cell.\n",
        "assert(math.isclose(ts_b0_ERA,30.645381281052558)), \"Your t-Test Statistic for ß0 in W~ERA doesn't seem correct\"\n",
        "assert(math.isclose(ts_b1_ERA,-15.20692748)), \"Your t-Test Statistic for ß1 in W~ERA doesn't seem correct\"\n",
        "assert(math.isclose(p_value_b0_ERA,5.776406818103569e-66)), \"Your p-value for ß0 in W~ERA doesn't seem correct\"\n",
        "assert(math.isclose(p_value_b1_ERA,4.79161795e-32)), \"Your p-value for ß1 in W~ERA doesn't seem correct\"\n",
        "\n",
        "## == SUCCESS MESSAGE ==\n",
        "# You will only see this message (with the emoji showing) if you passed all test cases:\n",
        "tada = \"\\N{PARTY POPPER}\"\n",
        "print(f\"{tada} All tests passed! {tada}\")\n"
      ]
    },
    {
      "cell_type": "code",
      "execution_count": null,
      "metadata": {
        "id": "R8W0lC2Md9GE"
      },
      "outputs": [],
      "source": [
        "#t-Test Statistic and p-value calculations for WAR to predict wins.\n",
        "\n",
        "ts_b0_WAR = ...\n",
        "ts_b1_WAR = ...\n",
        "\n",
        "p_value_b0_WAR = ...\n",
        "p_value_b1_WAR = ...\n",
        "\n",
        "print(\"The t-Test Statistic for ß0 in W~WAR is \" + str(ts_b0_WAR) + \".\")\n",
        "print(\"The t-Test Statistic for ß1 in W~WAR is \" + str(ts_b1_WAR) + \".\")\n",
        "print(\"The p-value for ß0 in W~ERA is \" + str(p_value_b0_WAR) + \".\")\n",
        "print(\"The p-value for ß1 in W~ERA is \" + str(p_value_b1_WAR) + \".\")"
      ]
    },
    {
      "cell_type": "code",
      "execution_count": null,
      "metadata": {
        "id": "8Ni-4Yd5d_fV"
      },
      "outputs": [],
      "source": [
        "#TEST CASE\n",
        "import math\n",
        "# - This read-only cell contains test cases for your previous cell.\n",
        "# - If this cell runs without any error our output, you PASSED all test cases!\n",
        "# - If this cell results in any errors, check you previous cell, make changes, and RE-RUN your code and then this cell.\n",
        "assert(math.isclose(ts_b0_WAR,29.178502359201847)), \"Your t-Test Statistic for ß0 in W~WAR doesn't seem correct\"\n",
        "assert(math.isclose(ts_b1_WAR,13.9352819)), \"Your t-Test Statistic for ß1 in W~WAR doesn't seem correct\"\n",
        "assert(math.isclose(p_value_b0_WAR,2.9479146729524473e-63)), \"Your p-value for ß0 in W~WAR doesn't seem correct\"\n",
        "assert(math.isclose(p_value_b1_WAR,1.00070344e-28)), \"Your p-value for ß1 in W~WAR doesn't seem correct\"\n",
        "\n",
        "## == SUCCESS MESSAGE ==\n",
        "# You will only see this message (with the emoji showing) if you passed all test cases:\n",
        "tada = \"\\N{PARTY POPPER}\"\n",
        "print(f\"{tada} All tests passed! {tada}\")"
      ]
    },
    {
      "cell_type": "markdown",
      "metadata": {
        "id": "7VF5WdXHeCDN"
      },
      "source": [
        "## ❓Part 3: Individual Reflection❓\n",
        "\n",
        "Using $\\alpha$ = 0.05 for all of the tests, interpret the results of your hypothesis tests. From both models, which coefficient estimates are significant and which ones are not significant? Explain why. Make sure you talk about all **four** coefficient estimates."
      ]
    },
    {
      "cell_type": "markdown",
      "metadata": {
        "id": "amwn-Sn8eNRn"
      },
      "source": [
        "**Type your response here.**"
      ]
    },
    {
      "cell_type": "markdown",
      "metadata": {
        "id": "-TT5ZnkjePln"
      },
      "source": [
        "## Part 4: Visual Fun\n",
        "Now that you have made your regression models, let’s see how it looks when put on a scatter plot of the original data. Create a scatter plot with the simple linear regression model for both models.\n",
        "\n",
        "Hint: Use `sns.regplot()`\n"
      ]
    },
    {
      "cell_type": "code",
      "execution_count": null,
      "metadata": {
        "id": "2gi5u16ZeWhw"
      },
      "outputs": [],
      "source": [
        "#Scatter Plot of W~ERA with SLR"
      ]
    },
    {
      "cell_type": "code",
      "execution_count": null,
      "metadata": {
        "id": "wkO2M5DUeZF4"
      },
      "outputs": [],
      "source": [
        "#Scatter Plot of W~WAR with SLR"
      ]
    },
    {
      "cell_type": "markdown",
      "metadata": {
        "id": "6YHFYKgledo6"
      },
      "source": [
        "# Puzzle 3: Multiple Linear Regression\n",
        "\n",
        "Now say we want to use both ERA and WAR in a linear regression model at the same time. This is called a multiple linear regression model. The equation for the multiple linear regression model is:\n",
        "\n",
        "## y = $\\beta_0$ + $\\beta_1$ * $x_1$ + $\\beta_2$ * $x_2$ \n",
        "\n",
        "## Part 1: Model\n",
        "In the following cells, write the Python code to create a multiple linear regression model to predict the average number of wins for an MLB team using both ERA and WAR as the predictors."
      ]
    },
    {
      "cell_type": "code",
      "execution_count": null,
      "metadata": {
        "id": "deNvxmOXfDAO"
      },
      "outputs": [],
      "source": [
        "#Creation of Model using ERA+WAR to predict wins\n",
        "\n",
        "MLR_b0 = ...\n",
        "MLR_bi = ...\n",
        "\n",
        "print(\"The intercept (ß0) = \" + str(MLR_b0) + \".\")\n",
        "print(\"The coefficient estimates (ß1 & ß2) are \" + str(MLR_bi) + \".\")"
      ]
    },
    {
      "cell_type": "markdown",
      "metadata": {
        "id": "k_DTScnMfGQ9"
      },
      "source": [
        "❓**Write out the model formula in the cell below replacing the coefficient estimates $\\beta_0$, $\\beta_1$, and $\\beta_2$.** ❓"
      ]
    },
    {
      "cell_type": "markdown",
      "metadata": {
        "id": "bMjvV2dcfR2P"
      },
      "source": [
        "W = $\\beta_0$ + $\\beta_1$(ERA) + $\\beta_2$(WAR)"
      ]
    },
    {
      "cell_type": "markdown",
      "metadata": {
        "id": "v5bgRC2TfgSh"
      },
      "source": [
        "## Part 2: Residuals\n",
        "When you made the scatter plots with the simple linear regression models on them, notice how the regression lines do not perfectly predict the data. The distance that each point is from the regression line is called the residual or prediction error. Unless we have a perfect correlation, we will have some errors. The regression models you created earlier are done using a method that minimizes the squares of the residuals called the Ordinary Least Squares (OLS) method.\n",
        "\n",
        "**Residuals are the difference between the observed value of y and the predicted value $\\hat{y}$.**\n",
        "\n",
        "In the following cell, write the Python code to calculate the residuals."
      ]
    },
    {
      "cell_type": "code",
      "execution_count": null,
      "metadata": {
        "id": "iqWdoNWsgCGH"
      },
      "outputs": [],
      "source": [
        "#Code for computing the residuals.\n",
        "#residuls  = predicted wins - actual wins"
      ]
    },
    {
      "cell_type": "code",
      "execution_count": null,
      "metadata": {
        "id": "0QqMcrNGgFYt"
      },
      "outputs": [],
      "source": [
        "#TEST CASE\n",
        "## == TEST CASES for Residuals ==\n",
        "# - This read-only cell contains test cases for your previous cell.\n",
        "# - If this cell runs without any error our output, you PASSED all test cases!\n",
        "# - If this cell results in any errors, check you previous cell, make changes, and RE-RUN your code and then this cell.\n",
        "\n",
        "#assert(math.isclose(MLB[\"residuals\"].sum(), 6.395884621840902e-14)), \"The residuals might not be correct. Please check again!\"\n",
        "assert(math.isclose(MLR_b0, 117.80127404374933)), \"Your ß0 intercept seems to be incorrect.\"\n",
        "assert(round(MLR_bi[0],2)== -11.72), \"The ß1 coefficent estimate doesn't seem correct\"\n",
        "assert(round(MLR_bi[1],2)== 0.89), \"The ß2 coefficent estimate doesn't seem correct\"\n",
        "\n",
        "## == SUCCESS MESSAGE ==\n",
        "# You will only see this message (with the emoji showing) if you passed all test cases:\n",
        "tada = \"\\N{PARTY POPPER}\"\n",
        "print(f\"{tada} All tests passed! {tada}\")\n",
        "print()"
      ]
    },
    {
      "cell_type": "markdown",
      "metadata": {
        "id": "jXuadjZbgHee"
      },
      "source": [
        "## Part 3: Evaluation\n",
        "Using Python, evaluate ERA = 3.21 and WAR = 25.24 in your multiple linear regression model. In other words, use your model to make a prediction!  Please use the `round` function to round your estimate to the closest whole number because `W` (wins) is a *discrete* variable.\n",
        "\n",
        "**Hint:** Use the equation at the start of this puzzle and solve for y."
      ]
    },
    {
      "cell_type": "code",
      "execution_count": null,
      "metadata": {
        "id": "2jzOCxF3gM_W"
      },
      "outputs": [],
      "source": [
        "#Code for Calculation\n",
        "win_prediction = ...\n",
        "win_prediction = round(win_prediction)\n",
        "\n",
        "print(\"The predicted win total with a team ERA of 3.21 and a team WAR of 25.24 is \" + str(win_prediction) + \" wins.\")\n"
      ]
    },
    {
      "cell_type": "code",
      "execution_count": null,
      "metadata": {
        "id": "h3zxFzO5gPJn"
      },
      "outputs": [],
      "source": [
        "#TEST CASE\n",
        "# - This read-only cell contains test cases for your previous cell.\n",
        "# - If this cell runs without any error our output, you PASSED all test cases!\n",
        "# - If this cell results in any errors, check you previous cell, make changes, and RE-RUN your code and then this cell.\n",
        "\n",
        "assert(math.isclose(win_prediction, 103)), \"Your win_prediction calculation seems to be incorrect.\"\n",
        "\n",
        "## == SUCCESS MESSAGE ==\n",
        "# You will only see this message (with the emoji showing) if you passed all test cases:\n",
        "tada = \"\\N{PARTY POPPER}\"\n",
        "print(f\"{tada} All tests passed! {tada}\")\n",
        "print()"
      ]
    },
    {
      "cell_type": "markdown",
      "metadata": {
        "id": "VcT2GjN1ga1_"
      },
      "source": [
        "## ❓Group Discussion and Individual Reflection❓\n",
        "\n",
        "If we input ERA = 3.21 into its simple linear regression model, we get the estimated average win total for a team is about 100 wins. If we input WAR = 25.24 into its simple linear regression model, we also get the estimated average win total for a team to be about 100 wins. When you input both into the multiple linear regression model, we get a different estimated average win total. Why do you think this is? This question is a bit beyond the scope of the course, so you will be given points just for giving a logical answer.\n"
      ]
    },
    {
      "cell_type": "markdown",
      "metadata": {
        "id": "dWPwFgRag1zy"
      },
      "source": [
        "**Type your response here.**"
      ]
    },
    {
      "cell_type": "markdown",
      "metadata": {
        "id": "xA79uXXlg5oc"
      },
      "source": [
        "# Submit Your Work\n",
        "\n",
        "You are now done with the last lab of the semester. Congratulations on surviving.\n",
        " \n",
        "You need to do two more things before you can go back to studying for finals:\n",
        "1. Save your work. To do this, create a **notebook checkpoint** by using the menu within the notebook. Got to  **File -> Save All**.\n",
        "2. After you have saved it, exit this notebook and return to the Data Science Discovery page for the Git commands to submit this lab.\n",
        "\n",
        "# Good luck with your finals!"
      ]
    }
  ],
  "metadata": {
    "colab": {
      "collapsed_sections": [],
      "name": "regression.ipynb",
      "provenance": []
    },
    "kernelspec": {
      "display_name": "Python 3",
      "name": "python3"
    },
    "language_info": {
      "name": "python"
    }
  },
  "nbformat": 4,
  "nbformat_minor": 0
}
