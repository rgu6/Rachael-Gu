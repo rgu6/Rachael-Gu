{
 "cells": [
  {
   "cell_type": "markdown",
   "source": [
    "# Welcome to the Simulation and Random Variables Lab!\n",
    "\n",
    "Today, you'll finish one more simulation and move on to exploring analysis of random variables all while catching Pokemon! :)"
   ],
   "metadata": {}
  },
  {
   "cell_type": "markdown",
   "source": [
    "# Part 0: Your Groups!\n",
    "Edit the next Python cell to add information about who you're working within your lab section:"
   ],
   "metadata": {}
  },
  {
   "cell_type": "code",
   "execution_count": null,
   "source": [
    "# First, write down the names of your TAs and CAs\n",
    "ta_name = \"\"\n",
    "ca1_name = \"\"\n",
    "ca2_name = \"\"\n",
    "\n",
    "\n",
    "# Also, make sure to meet your team for this lab! Find out their name, what major they're in,\n",
    "# and learn something new about them that you never knew before!\n",
    "partner1_name = \"\"\n",
    "partner1_netid = \"\"\n",
    "partner1_major = \"\"\n",
    "\n",
    "partner2_name = \"\"\n",
    "partner2_netid = \"\"\n",
    "partner2_major = \"\"\n",
    "\n",
    "partner3_name = \"\"\n",
    "partner3_netid = \"\"\n",
    "partner3_major = \"\""
   ],
   "outputs": [],
   "metadata": {}
  },
  {
   "cell_type": "markdown",
   "source": [
    "# Part 1: Catching Pokemon!"
   ],
   "metadata": {}
  },
  {
   "cell_type": "markdown",
   "source": [
    "## Puzzle 1.1: Pokemon Near You\n",
    "\n",
    "There are 10 Pokemon near you right now! View them on your PokeDex by importing the `pokemon_near.csv` to the DataFrame below:"
   ],
   "metadata": {}
  },
  {
   "cell_type": "code",
   "execution_count": null,
   "source": [
    "# Import pokemon_near.csv\n",
    "df_pokemon = ...\n",
    "df_pokemon"
   ],
   "outputs": [],
   "metadata": {}
  },
  {
   "cell_type": "markdown",
   "source": [
    "Notice that there are:\n",
    "* Seven Water type pokemon, and\n",
    "* Three Non-Water type pokemon.\n",
    "\n",
    "### First 5 Encounters\n",
    "\n",
    "You want to catch **water** pokemon today so you go catch the **first 5 pokemon** you encounter out of the 10 that are near you. The order of the pokemon do not matter, so there are only four possible \"first five encounters\" (Assume each pokemon appears randomly and is equally likely to appear):\n",
    "\n",
    "* Possible Encounters #1: Three Non-Waters, Two Waters\n",
    "* Possible Encounters #2: Two Non-Waters, Three Waters\n",
    "* Possible Encounters #3: One Non-Waters, Four Waters\n",
    "* Possible Encounters #4: Zero Non-Waters, Five Waters"
   ],
   "metadata": {}
  },
  {
   "cell_type": "markdown",
   "source": [
    "## Puzzle 1.2: Using Statistics\n",
    "\n",
    "Compute the probability that you will **encounter all water pokemon** in the following cell. Remember:\n",
    "\n",
    "* You are encountering 5 pokemon out of the 10 near your location, with water and non-water types of Pokemon.\n",
    "* To encounter all five water pokemon, you must **NOT** encounter a non-water pokemon.\n",
    "* The answer is **NOT** 0.25 (1 out of 4). Some starting encounters are more likely than others.\n",
    "\n",
    "**Hint (double-click this cell to see it):** <span style=\"color:#ffffff00\">This is a case of drawing without replacement.</span>"
   ],
   "metadata": {}
  },
  {
   "cell_type": "code",
   "execution_count": null,
   "source": [
    "P_5waters = ...\n",
    "P_5waters\n"
   ],
   "outputs": [],
   "metadata": {
    "nbgrader": {
     "grade": false,
     "grade_id": "cell-71bc8c45675e0751",
     "locked": false,
     "schema_version": 3,
     "solution": true,
     "task": false
    }
   }
  },
  {
   "cell_type": "code",
   "execution_count": null,
   "source": [
    "## == TEST CASES for Puzzle 1 ==\n",
    "# - This read-only cell contains test cases for your previous cell(s).\n",
    "# - If this cell runs without any errors in the output, you PASSED all test cases!\n",
    "# - If this cell results errors, check you previous cell, make changes, and RE-RUN your code and then this cell.\n",
    "assert( abs((P_5waters ** (1/4)) - 0.5372849659) < 0.0001 ), \"Your P_5waters appears to be incorrect.\"\n",
    "\n",
    "## == SUCCESS MESSAGE ==\n",
    "# You will only see this message (with the emoji showing) if you passed all test cases:\n",
    "tada = \"\\N{PARTY POPPER}\"\n",
    "print(f\"{tada} All tests passed! {tada}\")\n",
    "print()"
   ],
   "outputs": [],
   "metadata": {
    "nbgrader": {
     "grade": true,
     "grade_id": "cell-95c72a857f5ebebd",
     "locked": true,
     "points": 1,
     "schema_version": 3,
     "solution": false,
     "task": false
    }
   }
  },
  {
   "cell_type": "markdown",
   "source": [
    "# Part 2: Simulating Pokemon Encounters\n",
    "\n",
    "## Puzzle 2.1: Simulation of Encountering 5 Pokemon Once\n",
    "\n",
    "Finding the probability of encountering exactly one, two, or all three non-water pokemon becomes increasingly complex. You **DO** have the math to do it (but the equations get VERY long quickly).\n",
    "\n",
    "Instead of calculating the number of water pokemon, we can simulate this in Python! Create a **function** that simulates encountering your first five pokemon of the ten near your location. The function will `return` the total number of water pokemon encountered.\n",
    "\n",
    "**Hint (double-click this cell to see it):** <span style=\"color:#ffffff00\">random.sample</span>\n"
   ],
   "metadata": {}
  },
  {
   "cell_type": "code",
   "execution_count": null,
   "source": [
    "def firstFiveWaters():\n",
    "    \n",
    "    return ...\n",
    "\n"
   ],
   "outputs": [],
   "metadata": {
    "nbgrader": {
     "grade": false,
     "grade_id": "cell-b81ef52c7e60017b",
     "locked": false,
     "schema_version": 3,
     "solution": true,
     "task": false
    }
   }
  },
  {
   "cell_type": "code",
   "execution_count": null,
   "source": [
    "# Here's a cell to run to test your function:\n",
    "firstFiveWaters()\n"
   ],
   "outputs": [],
   "metadata": {
    "nbgrader": {
     "grade": false,
     "grade_id": "cell-c83b57fc622ea996",
     "locked": false,
     "schema_version": 3,
     "solution": true,
     "task": false
    }
   }
  },
  {
   "cell_type": "code",
   "execution_count": null,
   "source": [
    "## == TEST CASES for Puzzle 2.1 ==\n",
    "# - This read-only cell contains test cases for your previous cell(s).\n",
    "# - If this cell runs without any errors in the output, you PASSED all test cases!\n",
    "# - If this cell results errors, check you previous cell, make changes, and RE-RUN your code and then this cell.\n",
    "has2 = False\n",
    "has3 = False\n",
    "has4 = False\n",
    "has5 = False\n",
    "\n",
    "for i in range(10000):\n",
    "    v = firstFiveWaters()\n",
    "    if (v == 2): has2 = True\n",
    "    elif (v == 3): has3 = True\n",
    "    elif (v == 4): has4 = True\n",
    "    elif (v == 5): has5 = True\n",
    "    else: assert( False ), f\"Your five encounters had {v} waters, this is not possible. :(\"\n",
    "    \n",
    "    if (has2 and has3 and has4 and has5): break\n",
    "\n",
    "assert( has2 ), \"Your five encounters never had 2 waters. It is possible to have 3 non-waters and 2 waters.\"\n",
    "assert( has3 ), \"Your five encounters never had 3 waters. It is possible to have 2 non-waters and 3 waters.\"\n",
    "assert( has4 ), \"Your five encounters never had 4 waters. It is possible to have 1 non-waters and 4 waters.\"\n",
    "assert( has5 ), \"Your five encounters never had 5 waters. It is possible to have 0 non-waters and 5 waters.\"\n",
    "\n",
    "## == SUCCESS MESSAGE ==\n",
    "# You will only see this message (with the emoji showing) if you passed all test cases:\n",
    "tada = \"\\N{PARTY POPPER}\"\n",
    "print(f\"{tada} All tests passed! {tada}\")\n",
    "print()"
   ],
   "outputs": [],
   "metadata": {
    "nbgrader": {
     "grade": true,
     "grade_id": "cell-b38a24f4ba267c8f",
     "locked": true,
     "points": 1,
     "schema_version": 3,
     "solution": false,
     "task": false
    }
   }
  },
  {
   "cell_type": "markdown",
   "source": [
    "## Puzzle 2.2: Simulation of 1,000 \"First 5 Encounters\"\n",
    "\n",
    "Using your `firstFiveWaters()` function from Puzzle 2, simulate and store the number of water pokemon from at least 1,000 \"first five encounters\". Make sure to store the number of water pokemon encountered in a column named `waters`.\n"
   ],
   "metadata": {}
  },
  {
   "cell_type": "code",
   "execution_count": null,
   "source": [
    "# Run your simulation:\n",
    "\n",
    "\n",
    "\n",
    "# Store your results as a DataFrame:\n",
    "df = ...\n",
    "\n",
    "# Display a few random first 5 encounters...\n"
   ],
   "outputs": [],
   "metadata": {
    "nbgrader": {
     "grade": false,
     "grade_id": "cell-7c24651ffe3346f9",
     "locked": false,
     "schema_version": 3,
     "solution": true,
     "task": false
    }
   }
  },
  {
   "cell_type": "markdown",
   "source": [
    "## Puzzle 2.3: Building a Probability Histogram of Water Encounters\n",
    "\n",
    "Create a probability histogram (or a density histogram) showing the number of water pokemon in the starting encounters you simulated. Choose the correct number of bins to create a density histogram that looks great!\n",
    "\n",
    "**Hint (double-click this cell to see it):** <span style=\"color:#ffffff00\">You can use df.hist() function with the arguments **density** and **bins**.</span>\n"
   ],
   "metadata": {}
  },
  {
   "cell_type": "code",
   "execution_count": null,
   "source": [
    "...\n"
   ],
   "outputs": [],
   "metadata": {
    "nbgrader": {
     "grade": false,
     "grade_id": "cell-13e35f14341ed84f",
     "locked": false,
     "schema_version": 3,
     "solution": true,
     "task": false
    }
   }
  },
  {
   "cell_type": "code",
   "execution_count": null,
   "source": [
    "## == TEST CASES for Puzzle 2.3 ==\n",
    "# - This read-only cell contains test cases for your previous cell(s).\n",
    "# - If this cell runs without any errors in the output, you PASSED all test cases!\n",
    "# - If this cell results errors, check you previous cell, make changes, and RE-RUN your code and then this cell.\n",
    "assert( len(df) >= 1000 ), \"Your simulation must have at least 1,000 observations.\"\n",
    "assert( 'waters' in df ), \"Your simulation must have a column called `waters`.\"\n",
    "assert( 3 < df['waters'].mean() < 4 ), \"Your simulation should have a mean value around 3.5 -- you may want to check if your Puzzle 2 function is correct?\"\n",
    "\n",
    "## == SUCCESS MESSAGE ==\n",
    "# You will only see this message (with the emoji showing) if you passed all test cases:\n",
    "tada = \"\\N{PARTY POPPER}\"\n",
    "print(f\"{tada} All tests passed! {tada}\")\n",
    "print()\n",
    "print(f\"- You have a simulation that runs {len(df)} first 5 Pokemon encounters!\")\n",
    "print(f\"- Simulated expected value of water encounters: {df['waters'].mean()} water encounters per first 5 encounters\")\n"
   ],
   "outputs": [],
   "metadata": {
    "nbgrader": {
     "grade": true,
     "grade_id": "cell-064cb0bd59cefe49",
     "locked": true,
     "points": 1,
     "schema_version": 3,
     "solution": false,
     "task": false
    }
   }
  },
  {
   "cell_type": "markdown",
   "source": [
    "## Puzzle 2.4: Random Variables of Simulations\n",
    "\n",
    "❓ **Individual Reflection Question** ❓ Think about the simulation you just ran in Part 2. Consider the following questions:\n",
    "\n",
    "* What is the random variable?\n",
    "* What are the possible outcomes?\n",
    "\n",
    "❓ **Group Discussion Question** ❓ How does the number of simulation runs relate to the distribution of the random variable (i.e. the statistics of the random variable)? Discuss with your group what advantages or limitations may exist in running simulations to estimate the statistics of a random variable. Have any of you seen an example of this in the world around you?"
   ],
   "metadata": {}
  },
  {
   "cell_type": "markdown",
   "source": [
    "# Part 3: Your Random Variable\n",
    "\n",
    "In your simulation, you created a random variable! Let's call this random variable $W$:\n",
    "\n",
    "$W$ is the number of water pokemon you encounter in your first 5 encounters.\n"
   ],
   "metadata": {}
  },
  {
   "cell_type": "markdown",
   "source": [
    "## Puzzle 3.1: Estimating Probability with Histogram\n",
    "\n",
    "Using the histogram above, complete the following cells for the different probabilities of $W$ for various numbers of water pokemon. Remember! These are just probability estimates based off of your previous histogram! i.e. You can \"eye-ball\" it. You should **NOT** use `df` for this puzzle."
   ],
   "metadata": {}
  },
  {
   "cell_type": "code",
   "execution_count": null,
   "source": [
    "# Probability of 2 water pokemon:\n",
    "W_2waters = ...\n",
    "W_2waters\n"
   ],
   "outputs": [],
   "metadata": {
    "nbgrader": {
     "grade": false,
     "grade_id": "cell-59a28408426605b1",
     "locked": false,
     "schema_version": 3,
     "solution": true,
     "task": false
    }
   }
  },
  {
   "cell_type": "code",
   "execution_count": null,
   "source": [
    "# Probability of 3 water pokemon:\n",
    "W_3waters = ...\n",
    "W_3waters\n"
   ],
   "outputs": [],
   "metadata": {
    "nbgrader": {
     "grade": false,
     "grade_id": "cell-c80474f2a9eb5a2b",
     "locked": false,
     "schema_version": 3,
     "solution": true,
     "task": false
    }
   }
  },
  {
   "cell_type": "code",
   "execution_count": null,
   "source": [
    "# Probability of 4 water pokemon:\n",
    "W_4waters = ...\n",
    "W_4waters\n"
   ],
   "outputs": [],
   "metadata": {
    "nbgrader": {
     "grade": false,
     "grade_id": "cell-cf52cb61d300e8c2",
     "locked": false,
     "schema_version": 3,
     "solution": true,
     "task": false
    }
   }
  },
  {
   "cell_type": "code",
   "execution_count": null,
   "source": [
    "# Probability of 5 water pokemon:\n",
    "W_5waters = ...\n",
    "W_5waters\n"
   ],
   "outputs": [],
   "metadata": {
    "nbgrader": {
     "grade": false,
     "grade_id": "cell-a835e934dde8fb6b",
     "locked": false,
     "schema_version": 3,
     "solution": true,
     "task": false
    }
   }
  },
  {
   "cell_type": "markdown",
   "source": [
    "#### Sanity Check\n",
    "\n",
    "#### Sanity Check\n",
    "\n",
    "Remember, all probabilities for a density histogram must add up to 1!  Let's see if yours do by running the cell below. If they don't, look at the histogram again and adjust them so that they add to 1!"
   ],
   "metadata": {}
  },
  {
   "cell_type": "code",
   "execution_count": null,
   "source": [
    "W_all = W_2waters + W_3waters + W_4waters + W_5waters\n",
    "W_all\n"
   ],
   "outputs": [],
   "metadata": {}
  },
  {
   "cell_type": "markdown",
   "source": [
    "Let's also check that your simulation matches (or nearly matches) your calculated probability:"
   ],
   "metadata": {}
  },
  {
   "cell_type": "code",
   "execution_count": null,
   "source": [
    "# The result of this cell should be 0 or *VERY CLOSE* to 0:\n",
    "P_5waters - W_5waters\n"
   ],
   "outputs": [],
   "metadata": {}
  },
  {
   "cell_type": "code",
   "execution_count": null,
   "source": [
    "## == TEST CASES for Puzzle 3.1 ==\n",
    "# - This read-only cell contains test cases for your previous cell(s).\n",
    "# - If this cell runs without any errors in the output, you PASSED all test cases!\n",
    "# - If this cell results errors, check you previous cell, make changes, and RE-RUN your code and then this cell.\n",
    "assert( abs(W_2waters + W_3waters + W_4waters + W_5waters - 1.0) < 0.001 ), \"Your probabilities must add up to 1.0!\"\n",
    "assert( abs(P_5waters - W_5waters) < 0.05), \"The probability from your simulation must closely match the expected result (from Puzzle #1)\"\n",
    "\n",
    "## == SUCCESS MESSAGE ==\n",
    "# You will only see this message (with the emoji showing) if you passed all test cases:\n",
    "tada = \"\\N{PARTY POPPER}\"\n",
    "print(f\"{tada} All tests passed! {tada}\")\n"
   ],
   "outputs": [],
   "metadata": {
    "nbgrader": {
     "grade": true,
     "grade_id": "cell-8193ddffa24a34b7",
     "locked": true,
     "points": 1,
     "schema_version": 3,
     "solution": false,
     "task": false
    }
   }
  },
  {
   "cell_type": "markdown",
   "source": [
    "## Puzzle 3.2: Statistics on $W$: Mean\n",
    "\n",
    "Based on what you developed for $W$, find the mean for $W$. In other words, find the expected value. The formula is in your notes from lecture. Compare the expected value with the simulation mean.\n",
    "\n",
    "**Hint (double-click this cell to see it):** <span style=\"color:#ffffff00\">Remember the formula for the expected value is X1*P1 + ... + Xn*Pn</span>\n"
   ],
   "metadata": {}
  },
  {
   "cell_type": "code",
   "execution_count": null,
   "source": [
    "# Mean for W:\n",
    "W_mean = ...\n",
    "W_mean\n"
   ],
   "outputs": [],
   "metadata": {
    "nbgrader": {
     "grade": false,
     "grade_id": "cell-19470b85b11e7aaf",
     "locked": false,
     "schema_version": 3,
     "solution": true,
     "task": false
    }
   }
  },
  {
   "cell_type": "markdown",
   "source": [
    "**Hint (double-click this cell to see it):** <span style=\"color:#ffffff00\">Use df and the mean() function to find the estimated mean of W</span>"
   ],
   "metadata": {}
  },
  {
   "cell_type": "code",
   "execution_count": null,
   "source": [
    "# Also, estimated Mean for W:\n",
    "W_mean_est = ...\n",
    "W_mean_est"
   ],
   "outputs": [],
   "metadata": {}
  },
  {
   "cell_type": "markdown",
   "source": [
    "Let's also check that your simulation mean matches (or nearly matches) your calculated expected value:"
   ],
   "metadata": {}
  },
  {
   "cell_type": "code",
   "execution_count": null,
   "source": [
    "# The result of this cell should be 0 or *VERY CLOSE* to 0:\n",
    "W_mean - W_mean_est\n"
   ],
   "outputs": [],
   "metadata": {}
  },
  {
   "cell_type": "code",
   "execution_count": null,
   "source": [
    "## == TEST CASES for Puzzle 3.2 ==\n",
    "# - This read-only cell contains test cases for your previous cell(s).\n",
    "# - If this cell runs without any errors in the output, you PASSED all test cases!\n",
    "# - If this cell results errors, check you previous cell, make changes, and RE-RUN your code and then this cell.\n",
    "assert( abs(W_mean-3.5) < 0.05 ), \"Double check your formula for W_mean!\"\n",
    "assert( abs(W_mean-W_mean_est) < 0.1 ), \"Double check your code for W_mean_est!\"\n",
    "\n",
    "## == SUCCESS MESSAGE ==\n",
    "# You will only see this message (with the emoji showing) if you passed all test cases:\n",
    "tada = \"\\N{PARTY POPPER}\"\n",
    "print(f\"{tada} All tests passed! {tada}\")\n"
   ],
   "outputs": [],
   "metadata": {
    "nbgrader": {
     "grade": true,
     "grade_id": "cell-ca509ebbfe97e489",
     "locked": true,
     "points": 0,
     "schema_version": 3,
     "solution": false,
     "task": false
    }
   }
  },
  {
   "cell_type": "markdown",
   "source": [
    "## Puzzle 3.3: Statistics on $W$: Standard Deviation\n",
    "\n",
    "Based on what you developed for $W$ and your mean of $W$, `W_mean`, find the standard deviation for $W$. In other words, find the standard error. The formula is in your notes from lecture. Compare the standard error with the simulation standard deviation.\n",
    "\n",
    "**Hint (double-click this cell to see it):** <span style=\"color:#ffffff00\">Remember the formula for the standard error is ( P1*(X1-Xm)^2 + ... + Pn*(Xn-Xm)^2 ) ^ 0.5</span>"
   ],
   "metadata": {}
  },
  {
   "cell_type": "code",
   "execution_count": null,
   "source": [
    "# Standard Deviation for W:\n",
    "W_sd = ...\n",
    "W_sd\n"
   ],
   "outputs": [],
   "metadata": {}
  },
  {
   "cell_type": "markdown",
   "source": [
    "**Hint (double-click this cell to see it):** <span style=\"color:#ffffff00\">Use df and the std() function to find the estimated standard deviation of W</span>"
   ],
   "metadata": {}
  },
  {
   "cell_type": "code",
   "execution_count": null,
   "source": [
    "# Also, estimated standard deviation for W:\n",
    "W_sd_est = ...\n",
    "W_sd_est"
   ],
   "outputs": [],
   "metadata": {}
  },
  {
   "cell_type": "markdown",
   "source": [
    "Let's also check that your simulation standard deviation matches (or nearly matches) your calculated standard error:"
   ],
   "metadata": {}
  },
  {
   "cell_type": "code",
   "execution_count": null,
   "source": [
    "# The result of this cell should be 0 or *VERY CLOSE* to 0:\n",
    "W_sd - W_sd_est\n"
   ],
   "outputs": [],
   "metadata": {}
  },
  {
   "cell_type": "code",
   "execution_count": null,
   "source": [
    "## == TEST CASES for Puzzle 3.3 ==\n",
    "# - This read-only cell contains test cases for your previous cell(s).\n",
    "# - If this cell runs without any errors in the output, you PASSED all test cases!\n",
    "# - If this cell results errors, check you previous cell, make changes, and RE-RUN your code and then this cell.\n",
    "assert( abs(W_sd-0.76) < 0.01 ), \"Double check your formula for W_sd!\"\n",
    "assert( abs(W_sd-W_sd_est) < 0.1 ), \"Double check your code for W_sd_est!\"\n",
    "\n",
    "## == SUCCESS MESSAGE ==\n",
    "# You will only see this message (with the emoji showing) if you passed all test cases:\n",
    "tada = \"\\N{PARTY POPPER}\"\n",
    "print(f\"{tada} All tests passed! {tada}\")\n",
    "print(f\"Now go catch'em all!\")\n"
   ],
   "outputs": [],
   "metadata": {}
  },
  {
   "cell_type": "markdown",
   "source": [
    "## Puzzle 3.4: Law of Large Numbers, Simulations, and Random Variables $\\longrightarrow$ Statistical Analysis\n",
    "\n",
    "❓ **Individual Reflection Question** ❓ Think about the simulation and random variable analysis you did in Parts 2 and 3. Consider the following questions:\n",
    "\n",
    "* How does the number of simulation runs affect our estimates of the mean and standard deviation of the random variable $W$?\n",
    "* How many simulation runs do you think is sufficient for estimating these statistics on $W$?\n",
    "\n",
    "❓ **Group Discussion Question** ❓ Discuss with your group whether or not you think simulation and random variable analysis can be used to test claims about a population (e.g. types of pokemon near you). Reflect on how you might have seen statistical analysis used in the world around you to test claims or hypotheses about a population. \n"
   ],
   "metadata": {}
  },
  {
   "cell_type": "markdown",
   "source": [
    "# Submit Your Work :)\n",
    "\n",
    "You're almost done -- congratulations!\n",
    "\n",
    "You need to do three more things:\n",
    "\n",
    "1. Save your work. To do this, go to **File -> Save All**\n",
    "2. After you have saved, exit this notebook and follow the [webpage instructions](https://discovery.cs.illinois.edu/stat107-fa21/labs/random_variable/) to commit this lab to your Git repository!\n",
    "3. After you have updated your Git repository, check your submission in your [GitHub repository online](https://github-dev.cs.illinois.edu/stat107-fa21) to verify it was successful!"
   ],
   "metadata": {}
  },
  {
   "cell_type": "markdown",
   "source": [],
   "metadata": {}
  }
 ],
 "metadata": {
  "celltoolbar": "Create Assignment",
  "interpreter": {
   "hash": "0557b972c621f788e859033e42f3cdac4b6c737f27cd4666e107a1d2b179bd80"
  },
  "kernelspec": {
   "display_name": "Python 3.9.7 64-bit",
   "name": "python3"
  },
  "language_info": {
   "codemirror_mode": {
    "name": "ipython",
    "version": 3
   },
   "file_extension": ".py",
   "mimetype": "text/x-python",
   "name": "python",
   "nbconvert_exporter": "python",
   "pygments_lexer": "ipython3",
   "version": "3.9.7"
  }
 },
 "nbformat": 4,
 "nbformat_minor": 2
}