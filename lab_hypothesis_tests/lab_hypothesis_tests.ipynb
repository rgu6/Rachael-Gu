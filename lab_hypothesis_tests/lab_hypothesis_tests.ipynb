{
  "cells": [
    {
      "cell_type": "markdown",
      "metadata": {
        "id": "mzCm6thyNcs9"
      },
      "source": [
        "# Lab: Hypothesis Testing\n",
        "\n",
        "## Group\n",
        "Enter the next Python cell to add information about who you’re working with within your lab section:\n",
        "\n"
      ]
    },
    {
      "cell_type": "code",
      "execution_count": null,
      "metadata": {
        "id": "f5dUqIHhUDuU"
      },
      "outputs": [],
      "source": [
        "partner1_name = \"\"\n",
        "partner1_netid = \"\"\n",
        "partner1_major = \"\"\n",
        " \n",
        "partner2_name = \"\"\n",
        "partner2_netid = \"\"\n",
        "partner2_major = \"\"\n",
        " \n",
        "partner3_name = \"\"\n",
        "partner3_netid = \"\"\n",
        "partner3_major = \"\""
      ]
    },
    {
      "cell_type": "markdown",
      "metadata": {
        "id": "8YZjnX3nUCNc"
      },
      "source": [
        "## Getting Help\n",
        "Remember, there are a lot of ways to get help if you find yourself stuck:\n",
        "\n",
        "1. In your lab section, you can ask your TA or CAs.\n",
        "2. Post your question in the course Discord.\n",
        "3. Office Hours:\n",
        "  - In-person office hours **every Monday, Tuesday, Thursday, and Friday** from 4:00 PM - 6:00 PM in Siebel Center for Design (SCD) Rm. 0060\n",
        "  - Zoom office hours **every Wednesday** from 5:00 PM - 6:00 PM and **every Thursday** from 9:00 PM - 11:00 PM (see the course website for links).\n",
        "\n",
        "In this lab, you will:\n",
        "\n",
        "- Perform hypothesis tests using Python.\n",
        "- Create confidence intervals using Python.\n",
        "- Interpret your results of the tests.\n",
        "\n",
        "As you go through the lab:\n",
        "\n",
        "- Make sure to run every cell with Python code and observe the output.\n",
        "- Complete all puzzles and submit this lab before Monday evening at 11:59 PM.\n",
        "\n",
        "# Setup\n",
        "\n",
        "\n",
        "At the beginning of this lab, make sure you:\n",
        "1. Make sure the following data sets are in **your working directory**. If not, download them from your personal GitHub repository.\n",
        "- `hello.csv`\n",
        "- `cs225-final-grades.csv`\n",
        "- `MLB.csv`\n",
        "2. Import the following libraries:\n",
        "- `pandas` as `pd`\n",
        "- `random`\n",
        "- `matplotlib.pyplot` as `plt`\n",
        "- `numpy` as `np`\n",
        "- `scipy.stats`\n",
        "- `from scipy import stats`\n",
        "3. Read the date sets into a data frame using `pd.read.csv()`"
      ]
    },
    {
      "cell_type": "code",
      "execution_count": null,
      "metadata": {
        "id": "aRSg4TmdNctF"
      },
      "outputs": [],
      "source": [
        "# Import the libraries listed above.\n"
      ]
    },
    {
      "cell_type": "markdown",
      "metadata": {
        "id": "OV1bhZXA7ABY"
      },
      "source": [
        "# ❓Group Discussion❓\n",
        "\n",
        "\n",
        "Before we start doing any data analysis, we must determine a crucial component of the hypothesis test. During lecture, we learned about two different kinds of tests that data scientists use in hypothesis testing and confidence intervals. One is the Z-test, and the other is the t-test. Each one has its use in hypothesis testing and the creation of confidence intervals. When do you use a Z-test? When do you use a t-test?"
      ]
    },
    {
      "cell_type": "markdown",
      "metadata": {
        "id": "BBsSJ0eONctC"
      },
      "source": [
        "# ❓Individual Reflection❓ \n",
        "\n",
        "**Type a summary of your group discussion here.**"
      ]
    },
    {
      "cell_type": "markdown",
      "metadata": {
        "id": "bNyGcmMANctD"
      },
      "source": [
        "We will be using a t-test for every hypothesis test and confidence interval in this lab. While we do not necessarily have a small sample size for Puzzles 1 and 3, the sample size is not necessarily large either. We also do not know the population standard deviation, so we will lean towards using a t-test to be extra safe. A t-test is the more conservative test to use so we will go with this :)"
      ]
    },
    {
      "cell_type": "markdown",
      "metadata": {
        "id": "_ItquHNyNctE"
      },
      "source": [
        "# Puzzle 1: Sleep Among STAT 107 Students\n",
        "\n",
        "\n",
        "\n",
        "## More Sleep Always! \n",
        "\n",
        "SLEEP! It's something that most of us do not get enough of. There has been extensive research done looking at the amount of sleep different people get on average. The following is an example of one of them. \n",
        "\n",
        "In 2013, [Gallup completed their latest survey on sleep](https://news.gallup.com/poll/166553/less-recommended-amount-sleep.aspx) that shows that the average amount of sleep Americans get is 6.8 hours ($\\mu$=6.8). This value seems a bit low, right? How do you think our class average in Data Science DISCOVERY compares to this? It might be less than 6.8, or it may be more than that. Let's find out if the ideal hours of sleep STAT107 students would get is significantly different from the average amount of sleep that all Americans get reported by Gallup. For the sake of this lab, assume our survey data is a random sample from the population (Americans).\n",
        "\n",
        "Run a **hypothesis test** to determine if the STAT107 data is significantly different from the population/Gallup poll. \n",
        "\n",
        "You need to look at the `hello.csv` data set that gives you the ideal amount of sleep STAT107 students get each week.\n",
        "\n",
        "As always, start with uploading the data set and import the relevant libraries to your notebook.\n"
      ]
    },
    {
      "cell_type": "code",
      "execution_count": null,
      "metadata": {
        "id": "Mby9gBFjNctG"
      },
      "outputs": [],
      "source": [
        "#Import the hello data set."
      ]
    },
    {
      "cell_type": "code",
      "execution_count": null,
      "metadata": {
        "id": "6pi0qF6QNctH"
      },
      "outputs": [],
      "source": [
        "#TEST CASE\n",
        "## == TEST CASES for Puzzle 1 Data ==\n",
        "# - This read-only cell contains test cases for your previous cell.\n",
        "# - If this cell runs without any error our output, you PASSED all test cases!\n",
        "# - If this cell results in any errors, check you previous cell, make changes, and RE-RUN your code and then this cell.\n",
        "\n",
        "assert(len(hello) == 284), \"The dataframe does not appear to have correct dataset loaded.\"\n",
        "\n",
        "## == SUCCESS MESSAGE ==\n",
        "# You will only see this message (with the emoji showing) if you passed all test cases:\n",
        "tada = \"\\N{PARTY POPPER}\"\n",
        "print(f\"{tada} All tests passed! {tada}\")\n",
        "print()"
      ]
    },
    {
      "cell_type": "markdown",
      "metadata": {
        "id": "fJGEOWXYNctI",
        "nbgrader": {
          "grade": false,
          "grade_id": "cell-4d373d1867848202",
          "locked": true,
          "schema_version": 3,
          "solution": false
        }
      },
      "source": [
        "## Part 1: Null and Alternative Hypothesis\n",
        "\n",
        "In class, we learned that the first step when doing any hypothesis test is to state the **Null Hypothesis** and **Alternative Hypothesis**. \n",
        "\n",
        "**Null Hypothesis:** The null hypothesis says that any difference between our sample and the population is small and therefore due to chance. \n",
        "\n",
        "**Alternative Hypothesis:** The alternative hypothesis says that the differences we observe are not just due to chance. \n",
        "\n",
        "Remember, when you are stating your hypotheses, they always include the **population parameter** $\\mu$. This is the population mean! Do not use the sample statistic (the sample mean) $\\bar{x}$.\n",
        "\n",
        "To type $\\mu$ in Markdown, type, `$\\mu$`.\n",
        "\n",
        "To type $\\neq$ in Markdown, type, `$\\neq$`\n",
        "\n",
        "## ❓Individual Reflection❓ \n",
        "\n",
        "State your two hypotheses below by editing the next cell! Here, we want to use a two sided alternative hypothesis since we aren't specifying a direction."
      ]
    },
    {
      "cell_type": "markdown",
      "metadata": {
        "id": "NonqCY0DNctI"
      },
      "source": [
        "### **Null Hypothesis**\n",
        "\n",
        "$H_0$: *EDIT THIS to define the null hypothesis*\n",
        "\n",
        "\n",
        "### **Alternative Hypothesis**\n",
        "\n",
        "$H_a$: *EDIT THIS to define the **2 sided** alternative hypothesis*\n"
      ]
    },
    {
      "cell_type": "markdown",
      "metadata": {
        "id": "H0V7Lq_YNctK"
      },
      "source": [
        "## Part 2: Doing the Hypothesis Test\n",
        "\n",
        "\n",
        "Now that we have stated our null and alternate hypotheses, it is time to see which one is supported by our data. Before we can go and do any coding, we need to look at some summary statistics about our data. These will not necessarily tell us which of our hypotheses is supported by the data but will be crucial when performing the test and constructing the confidence interval.\n",
        "\n",
        "## Part 2a: Summary Statistics\n",
        "\n",
        "\n",
        "Calculate the sample mean $\\bar{x}$, standard deviation $\\hat{\\sigma}$, sample size “n”, and the degrees of freedom “df” for the hours of sleep for STAT107 students in the `hello.csv` data set. Have the cell print out all four values."
      ]
    },
    {
      "cell_type": "code",
      "execution_count": null,
      "metadata": {
        "id": "7ghq6OuNNctL"
      },
      "outputs": [],
      "source": [
        "hrs_sleep_mean = ...\n",
        "hrs_sleep_std = ...\n",
        "sample_size = ...\n",
        "df = ...\n",
        "print(\"The average amount of sleep that students get is \" + str(hrs_sleep_mean) + \" hours.\")\n",
        "print(\"The standard deviation of sleep that students get is \" + str(hrs_sleep_std) + \" hours.\")\n",
        "print(\"The sample size is \" + str(sample_size) + \" students.\")\n",
        "print(\"The degrees of freedom is \" + str(df) + \".\")"
      ]
    },
    {
      "cell_type": "code",
      "execution_count": null,
      "metadata": {
        "id": "t1SgmIVfNctL"
      },
      "outputs": [],
      "source": [
        "#TEST CASE\n",
        "### == TEST CASES for Puzzle 1.2a ==\n",
        "# - This read-only cell contains test cases for your previous cell.\n",
        "# - If this cell runs without any error our output, you PASSED all test cases!\n",
        "# - If this cell results in any errors, check you previous cell, make changes, and RE-RUN your code and then this cell.\n",
        "\n",
        "import math\n",
        "assert(math.isclose(hrs_sleep_mean, 7.125, abs_tol= 0.05)), \"The mean does not appear to seem correct. Make sure you are taking the mean of the correct variable.\"\n",
        "assert(math.isclose(hrs_sleep_std, 1.0965936657871607, abs_tol= 0.05)), \"The standard deviation does not appear to seem correct. Make sure you are taking the std of the correct variable.\"\n",
        "assert(math.isclose(sample_size, 284)), \"The sample size does not appear to seem correct. Make sure you are taking the sample size of the correct dataframe.\"\n",
        "assert(math.isclose(df, 283)), \"The df does not appear to seem correct. Make sure you are taking the df of the correct dataframe.\"\n",
        "\n",
        "## == SUCCESS MESSAGE ==\n",
        "# You will only see this message (with the emoji showing) if you passed all test cases:\n",
        "tada = \"\\N{PARTY POPPER}\"\n",
        "print(f\"{tada} All tests passed! {tada}\")\n",
        "print()"
      ]
    },
    {
      "cell_type": "markdown",
      "metadata": {
        "id": "oYUecsDDNctL"
      },
      "source": [
        "## Part 2b: t-Test Statistic, t-Critical Value, and p-value\n",
        "\n",
        "Calculate the t-test statistic, t-critical value, and p-value. This will tell us whether we will reject or fail to reject our null hypothesis.  \n",
        "\n",
        "The test statstic is t which you will find from the formula for t. Check your notes if you forgot this :)\n",
        "\n",
        "The critical value is the t-value when there is 97.5% of the t curve to the left (or 5% in each tail). We are using 5% as alpha. The critical value also depends on the degrees of freedom!\n",
        "\n",
        "**Hint 1:** Remember to use the df that you calculated above instead of n when calculating the t-Critical Value and p-value.\n",
        "\n",
        "**Hint 2:** Remember to use $\\frac{\\alpha}{2}$ when calculating the t-Critical Value.  Also, make sure to calculate your p-value based on your alternative hypothesis! Is this a one sided test or a 2 sided test?"
      ]
    },
    {
      "cell_type": "code",
      "execution_count": null,
      "metadata": {
        "id": "IaXSY_faNctM"
      },
      "outputs": [],
      "source": [
        "t_stat = ...\n",
        "critical_value = ...\n",
        "p_value = ...\n",
        "print(\"The t-test statistic is \" + str(t_stat) + \".\")\n",
        "print(\"The t-critical value is \" + str(critical_value) + \".\")\n",
        "print(\"The p-value for the hypothesis test is \" + str(p_value) + \".\")"
      ]
    },
    {
      "cell_type": "code",
      "execution_count": null,
      "metadata": {
        "id": "hCwgBzueNctM"
      },
      "outputs": [],
      "source": [
        "#TEST CASE\n",
        "### == TEST CASES for Puzzle 1.2b ==\n",
        "# - This read-only cell contains test cases for your previous cell.\n",
        "# - If this cell runs without any error our output, you PASSED all test cases!\n",
        "# - If this cell results in any errors, check you previous cell, make changes, and RE-RUN your code and then this cell.\n",
        "\n",
        "import math\n",
        "assert(math.isclose(t_stat, 4.994554978240841, abs_tol= 0.05)), \"Your t statistic does not seem correct. Make sure you are using the correct formula\"\n",
        "assert(math.isclose(critical_value, 1.9683819234318902, abs_tol= 0.05)), \"Your critical value does not seem to be correct. Did you use α instead of α/2?\"\n",
        "assert(math.isclose(p_value, 1.0334128940202397e-06, abs_tol= 0.0000001)), \"Your p_value does not seem to be correct. Make sure you are inputing the right values.\"\n",
        "\n",
        "## == SUCCESS MESSAGE ==\n",
        "# You will only see this message (with the emoji showing) if you passed all test cases:\n",
        "tada = \"\\N{PARTY POPPER}\"\n",
        "print(f\"{tada} All tests passed! {tada}\")"
      ]
    },
    {
      "cell_type": "markdown",
      "metadata": {
        "id": "nYZ_glZCNctN"
      },
      "source": [
        "## Part 2c: Confidence Interval\n",
        "\n",
        "\n",
        "You now know whether you reject or fail to reject your null hypothesis since we calculated the p-value. However, we can still get some more information by creating a confidence interval around the sample mean. For this part, construct a 95% confidence interval for the sample mean of the hours of sleep for STAT107 students. \n",
        "\n",
        "A confidence interval with t is the same format as a confidence interval for z. See below:\n",
        "\n",
        "**($\\bar{x}$ - $t_{\\frac{\\alpha}{2}, df}$(SE) , $\\bar{x}$ + $t_{\\frac{\\alpha}{2}, df}$(SE))**\n",
        "\n",
        "Where $t_{\\frac{\\alpha}{2}, df}$ is the t-critical value (critical_value) that you calculated in part b."
      ]
    },
    {
      "cell_type": "code",
      "execution_count": null,
      "metadata": {
        "id": "k3ou-JM8NctN"
      },
      "outputs": [],
      "source": [
        "lower_bound = ...\n",
        "upper_bound = ...\n",
        "print(\"The 95% CI is:(\" + str(lower_bound) + \", \" + str(upper_bound) + \").\")"
      ]
    },
    {
      "cell_type": "code",
      "execution_count": null,
      "metadata": {
        "id": "5WMmUad_NctN"
      },
      "outputs": [],
      "source": [
        "#TEST CASE\n",
        "### == TEST CASES for Puzzle 1.2c ==\n",
        "# - This read-only cell contains test cases for your previous cell.\n",
        "# - If this cell runs without any error our output, you PASSED all test cases!\n",
        "# - If this cell results in any errors, check you previous cell, make changes, and RE-RUN your code and then this cell.\n",
        "\n",
        "import math\n",
        "assert(math.isclose(lower_bound, 6.9956926772702355, abs_tol= 0.05)), \"Your lower bound does not seem correct. Make sure your formula is correct.\"\n",
        "assert(math.isclose(upper_bound, 7.2552436523177795, abs_tol= 0.05)), \"Your upper bound does not seem to be correct. Make sure your formula is correct.\"\n",
        "\n",
        "## == SUCCESS MESSAGE ==\n",
        "# You will only see this message (with the emoji showing) if you passed all test cases:\n",
        "tada = \"\\N{PARTY POPPER}\"\n",
        "print(f\"{tada} All tests passed! {tada}\")"
      ]
    },
    {
      "cell_type": "markdown",
      "metadata": {
        "id": "88UhZBVfNctN"
      },
      "source": [
        "# Part 3: Interpretation\n",
        "\n",
        "\n",
        "As a data scientist, it is crucial to explain your results, so anyone (even someone who has no background in statistics) can understand. If we just said, \"Here is the p-value.\", they may be confused. We need to be more specific about our conclusion.\n",
        "\n",
        "## Part 3a: The Result\n",
        "\n",
        "\n",
        "In the following cell, delete the statements you do not believe are correct and keep the one you think is."
      ]
    },
    {
      "cell_type": "code",
      "execution_count": null,
      "metadata": {
        "id": "eQXF1MDaNctO"
      },
      "outputs": [],
      "source": [
        "# Remove two of the following lines to leave only the correct answer:\n",
        "Conclusion = \"There is not enough evidence to reject the null hypothesis. Thus, we fail to reject the null hypothesis.\"\n",
        "Conclusion = \"There is enough evidence to reject the null hypothesis. Thus, we reject the null hypothesis.\"\n",
        "Conclusion = \"The hypothesis test is inconclusive.\""
      ]
    },
    {
      "cell_type": "code",
      "execution_count": null,
      "metadata": {
        "id": "ya2meWoYNctO"
      },
      "outputs": [],
      "source": [
        "#TEST CASE\n",
        "### == TEST CASES for Puzzle 1.3a ==\n",
        "# - This read-only cell contains test cases for your previous cell.\n",
        "# - If this cell runs without any error our output, you PASSED all test cases!\n",
        "# - If this cell results in any errors, check you previous cell, make changes, and RE-RUN your code and then this cell.\n",
        "assert(Conclusion.split()[2][3::-1] == \"uone\"), \"Your conclusion does not seem correct. Think about it some more!\"\n",
        "\n",
        "## == SUCCESS MESSAGE ==\n",
        "# You will only see this message (with the emoji showing) if you passed all test cases:\n",
        "tada = \"\\N{PARTY POPPER}\"\n",
        "print(f\"{tada} All tests passed! {tada}\")"
      ]
    },
    {
      "cell_type": "markdown",
      "metadata": {
        "id": "16qdo0iZNctP"
      },
      "source": [
        "## ❓Part 3b: Group Discussion❓\n",
        "\n",
        "We have now done our hypothesis test and discovered the result, but there is still one more crucial thing to do. We must be able to explain the results of the test to somebody who does not know statistics. In the future, your occupation will require this as a skill. With your group, discuss the results of what your hypothesis test means, and interpret its practical significance if there is any. Use **NON-STATISTICAL** terminology here. In other words, describe the conclusion of the t-test and what it means in the context of the problem. Don't just say \"reject or do not reject Ho.\""
      ]
    },
    {
      "cell_type": "markdown",
      "metadata": {
        "id": "RDgWExSkNctP"
      },
      "source": [
        "## ❓Individual Reflection❓\n",
        "\n",
        "**Type a summary of your group discussion here.**"
      ]
    },
    {
      "cell_type": "markdown",
      "metadata": {
        "id": "q74F7tHMNctP"
      },
      "source": [
        "# Puzzle 2: GPA Visualization\n",
        "\n",
        "Let's do another t test to make sure you have the hang of it! Let's say you have to sign up for CS 225 (DATA STRUCTURES) next semester. Due to your apartment’s terrible internet, you were unable to sign up when registration opened. By the time your internet comes back, the only section left is with Dr. Fagen-Ulmschneider. You decide to look up how difficult your semester will be, and you find something useful. Dr. Fagen-Ulmschneider has a [Grade disparity between sections at UIUC](http://waf.cs.illinois.edu/discovery/grade_disparity_between_sections_at_uiuc/) visualization. First, find the average GPA and closest letter grade to that Dr. Fagen-Ulmschneider gave his CS 225 students.\n",
        "\n",
        "**Hint:** This will be what you are testing ($\\mu$ = “average GPA”).\n",
        "\n"
      ]
    },
    {
      "cell_type": "markdown",
      "metadata": {
        "id": "Gfjy9wVLNctQ"
      },
      "source": [
        "## ❓Individual Reflection❓\n",
        "Replace the first ? with the average GPA (use Wade's visualization to see what it is!).  Replace the second ? with the letter grade that corresponds to that GPA. You do not need to do any calculations, just look at the GPA visualization and the translation to letter grade below.\n",
        "\n",
        "The average GPA is **?**.\n",
        "\n",
        "The average letter grade is **?**."
      ]
    },
    {
      "cell_type": "markdown",
      "metadata": {
        "id": "g9YYR0BJNctQ"
      },
      "source": [
        "You want to double-check if Dr. Fagen-Ulmschneider was completely honest with his grades. You randomly survey 107 students who have taken CS 225. The final grades the students gave you are out of 1100 points. You have recorded the 107 student grades in `cs225-final-grades.csv`. *(These are 107 randomly chosen grades from CS 225 from Fall 2018.)*\n",
        "\n",
        "You find that the translation between points and grades is as follows:\n",
        "\n",
        "\n",
        "| Points | Grade | GPA |\n",
        "| ------ | ----- | --- |\n",
        "| 1070 - 1100 | A+ | 4.0 |\n",
        "|  930 - 1070 | A  | 4.0 |\n",
        "|  900 - 930 | A-  | 3.67 |\n",
        "|  870 - 900 | B+  | 3.33 |\n",
        "|  830 - 870 | B   | 3.0 |\n",
        "|  800 - 830 | B-  | 2.67 |\n",
        "|  770 - 800 | C+  | 2.33 |\n",
        "|  730 - 770 | C   | 2.0 |\n",
        "|  700 - 730 | C-  | 1.67 |\n",
        "|  670 - 700 | D+  | 1.33 |\n",
        "|  630 - 670 | D   | 1.0 |\n",
        "|  600 - 630 | D-  | 0.67 |\n",
        "|    0 - 600 | F  | 0 |\n",
        "\n",
        "\n",
        "**Hint:** You will need to process `cs225-final-grades.csv`, understand, and gather data from the GPA visualization before you will be able to run the test. Use `pandas` to help you process this data."
      ]
    },
    {
      "cell_type": "code",
      "execution_count": null,
      "metadata": {
        "id": "ylPvpg2ZNctR",
        "nbgrader": {
          "grade": false,
          "grade_id": "cell-053f4c444b109148",
          "locked": false,
          "schema_version": 3,
          "solution": true
        }
      },
      "outputs": [],
      "source": [
        "#Import the Data Set\n",
        "cs225 = ...\n",
        "cs225"
      ]
    },
    {
      "cell_type": "code",
      "execution_count": null,
      "metadata": {
        "id": "i5j82n6UNctR",
        "nbgrader": {
          "grade": true,
          "grade_id": "cell-0544cc08b9b64325",
          "locked": true,
          "points": 1,
          "schema_version": 3,
          "solution": false
        }
      },
      "outputs": [],
      "source": [
        "#TEST CASE\n",
        "## == TEST CASES for Puzzle 2 Data ==\n",
        "# - This read-only cell contains test cases for your previous cell.\n",
        "# - If this cell runs without any error our output, you PASSED all test cases!\n",
        "# - If this cell results in any errors, check you previous cell, make changes, and RE-RUN your code and then this cell.\n",
        "\n",
        "assert(len(cs225) == 107), \"The dataframe does not appear to have correct dataset loaded.\"\n",
        "\n",
        "## == SUCCESS MESSAGE ==\n",
        "# You will only see this message (with the emoji showing) if you passed all test cases:\n",
        "tada = \"\\N{PARTY POPPER}\"\n",
        "print(f\"{tada} All tests passed! {tada}\")\n",
        "print()"
      ]
    },
    {
      "cell_type": "markdown",
      "metadata": {
        "id": "Ahr69hWHNctR"
      },
      "source": [
        "## Part 1: Null and Alternative Hypothesis\n",
        "\n",
        "Just like in Puzzle 1, start with stating your Null and Alternative Hypothesis. Remember that when you are stating your hypotheses, they always include the **population parameters** such as $\\mu$, not sample statistics such as $\\bar{x}$. Again, we are going to use a **two sided** alternative hypothesis test!\n",
        "\n",
        "To type $\\mu$ in Markdown, type, `$\\mu$`.\n",
        "\n",
        "To type $\\neq$ in Markdown, type, `$\\neq$`\n",
        "\n",
        "## ❓Individual Reflection❓ \n",
        "\n",
        "State your two hypotheses by editing the cell below:"
      ]
    },
    {
      "cell_type": "markdown",
      "metadata": {
        "id": "Nb_o8ioJNctR"
      },
      "source": [
        "### Null Hypothesis\n",
        "\n",
        "$H_0$: *EDIT THIS to define the null hypothesis*\n",
        "\n",
        "### Alternative Hypothesis\n",
        "\n",
        "$H_a$: *EDIT THIS to define the alternative hypothesis*"
      ]
    },
    {
      "cell_type": "markdown",
      "metadata": {
        "id": "P8Np__lWNctR",
        "nbgrader": {
          "grade": false,
          "grade_id": "cell-fac0da7c79fba6b7",
          "locked": true,
          "schema_version": 3,
          "solution": false,
          "task": false
        }
      },
      "source": [
        "## Part 2: Doing the Hypothesis Test\n",
        "Once again, look at some summary statistics about our data.\n",
        "\n",
        "## Part 2a: Summary Statistics\n",
        "\n",
        "Calculate the sample mean $\\bar{x}$, standard deviation $\\hat{\\sigma}$, sample size “n”, and the degrees of freedom “df” for students’ GPA for CS225 in the `cs225-final-grades.csv` data set. Have the cell print out all four values."
      ]
    },
    {
      "cell_type": "code",
      "execution_count": null,
      "metadata": {
        "id": "5mryI_hMNctS",
        "nbgrader": {
          "grade": false,
          "grade_id": "cell-26dab0ff60b63979",
          "locked": false,
          "schema_version": 3,
          "solution": true
        },
        "scrolled": true
      },
      "outputs": [],
      "source": [
        "cs225_sample_mean = ...\n",
        "cs225_sample_std = ...\n",
        "cs225_sample_size = ...\n",
        "cs225_df = ...\n",
        "print(\"The average amount of points that a student gets in CS225 is \" + str(cs225_sample_mean) + \" points.\")\n",
        "print(\"The standard deviation of points that a student gets in CS225 is \" + str(cs225_sample_std) + \" points.\")\n",
        "print(\"The sample size is \" + str(cs225_sample_size) + \" students.\")\n",
        "print(\"The degrees of freedom is \" + str(cs225_df) + \".\")"
      ]
    },
    {
      "cell_type": "code",
      "execution_count": null,
      "metadata": {
        "colab": {
          "base_uri": "https://localhost:8080/"
        },
        "id": "7XwNorGANctS",
        "outputId": "e9cc0981-f1f2-4372-9d51-cdc0f971b770"
      },
      "outputs": [
        {
          "name": "stdout",
          "output_type": "stream",
          "text": [
            "🎉 All tests passed! 🎉\n",
            "\n"
          ]
        }
      ],
      "source": [
        "#TEST CASE\n",
        "### == TEST CASES for Puzzle 2.2a ==\n",
        "# - This read-only cell contains test cases for your previous cell.\n",
        "# - If this cell runs without any error our output, you PASSED all test cases!\n",
        "# - If this cell results in any errors, check you previous cell, make changes, and RE-RUN your code and then this cell.\n",
        "\n",
        "import math\n",
        "assert(math.isclose(cs225_sample_mean, 915.3368698934579, abs_tol= 0.05)), \"The mean does not appear to seem correct. Make sure you are taking the mean of the correct variable.\"\n",
        "assert(math.isclose(cs225_sample_std, 182.1911200959558, abs_tol= 0.05)), \"The standard deviation does not appear to seem correct. Make sure you are taking the std of the correct variable.\"\n",
        "assert(math.isclose(cs225_sample_size, 107)), \"The sample size does not appear to seem correct. Make sure you are taking the sample size of the correct dataframe.\"\n",
        "assert(math.isclose(cs225_df, 106)), \"The df does not appear to seem correct. Make sure you are taking the df of the correct dataframe.\"\n",
        "\n",
        "## == SUCCESS MESSAGE ==\n",
        "# You will only see this message (with the emoji showing) if you passed all test cases:\n",
        "tada = \"\\N{PARTY POPPER}\"\n",
        "print(f\"{tada} All tests passed! {tada}\")\n",
        "print()"
      ]
    },
    {
      "cell_type": "markdown",
      "metadata": {
        "id": "pedVn9jMNctS"
      },
      "source": [
        "## Part 2b: t-Test Statistic, t-Critical Value, and p-value\n",
        "\n",
        "Calculate the t-test statistic, t-critical value, and p-value just like we did for Puzzle 1.\n",
        "\n",
        "\n",
        "**Hint 1:** Remember to use the df that you calculated above instead of n when calculating the t-Critical Value and p-value. Also, take note if your p-value should be two sided or one sided!\n",
        "\n",
        "**Hint 2:** Remember to use $\\frac{\\alpha}{2}$ when calculating the t-Critical Value.\n",
        "\n",
        "**Hint 3:** Translate your $\\bar{x}$ and $\\sigma$ into GPA points. If $\\bar{x}$ > 930 points, then set $\\bar{x}$ = 4.00. If $\\bar{x}$ is between 900 and 930, then set $\\bar{x}$ = 3.67. Etc. Don't forget to do this for the calculations below!\n",
        "\n",
        "When doing your calculations below, use $\\sigma$ = 1.67.  "
      ]
    },
    {
      "cell_type": "code",
      "execution_count": null,
      "metadata": {
        "id": "2YCebiMUNctS"
      },
      "outputs": [],
      "source": [
        "cs225_t_stat = ...\n",
        "cs225_critical_value = ...\n",
        "cs225_p_value = ...\n",
        "print(\"The t-test statistic is \" + str(cs225_t_stat) + \".\")\n",
        "print(\"The t-critical value is \" + str(cs225_critical_value) + \".\")\n",
        "print(\"The p-value for the hypothesis test is \" + str(cs225_p_value) + \".\")"
      ]
    },
    {
      "cell_type": "code",
      "execution_count": null,
      "metadata": {
        "colab": {
          "base_uri": "https://localhost:8080/"
        },
        "id": "pvsl1gzDNctS",
        "outputId": "00223afd-9362-4650-df07-a3220faf87e3"
      },
      "outputs": [
        {
          "name": "stdout",
          "output_type": "stream",
          "text": [
            "🎉 All tests passed! 🎉\n"
          ]
        }
      ],
      "source": [
        "#TEST CASE\n",
        "### == TEST CASES for Puzzle 2.2b ==\n",
        "# - This read-only cell contains test cases for your previous cell.\n",
        "# - If this cell runs without any error our output, you PASSED all test cases!\n",
        "# - If this cell results in any errors, check you previous cell, make changes, and RE-RUN your code and then this cell.\n",
        "\n",
        "import math\n",
        "assert(math.isclose(cs225_t_stat, 2.7873270627274658, abs_tol= 0.05)), \"Your t statistic does not seem correct. Make sure you are using the correct formula.\"\n",
        "assert(math.isclose(cs225_critical_value, 1.9825972617102907, abs_tol= 0.05)), \"Your critical value does not seem to be correct. Did you use α instead of α/2?\"\n",
        "assert(math.isclose(cs225_p_value, 0.006299433880445842, abs_tol= 0.0005)), \"Your p_value does not seem to be correct. Make sure you are inputing the right values.\"\n",
        "\n",
        "## == SUCCESS MESSAGE ==\n",
        "# You will only see this message (with the emoji showing) if you passed all test cases:\n",
        "tada = \"\\N{PARTY POPPER}\"\n",
        "print(f\"{tada} All tests passed! {tada}\")"
      ]
    },
    {
      "cell_type": "markdown",
      "metadata": {
        "id": "Y1KexMQ2NctT"
      },
      "source": [
        "## Part 2c: Confidence Interval\n",
        "\n",
        "Construct a 95% confidence interval for the sample mean of the student’s GPA for CS225. Use the following formula. \n",
        "\n",
        "**($\\bar{x}$ - $t_{\\frac{\\alpha}{2}, df}$(SE) , $\\bar{x}$ + $t_{\\frac{\\alpha}{2}, df}$(SE))**\n",
        "\n",
        "Where $t_{\\frac{\\alpha}{2}, df}$ is the t-critical value that you calculated in part b."
      ]
    },
    {
      "cell_type": "code",
      "execution_count": null,
      "metadata": {
        "id": "97xEdULCNctT"
      },
      "outputs": [],
      "source": [
        "lower_bound = ...\n",
        "upper_bound = ...\n",
        "print(\"The 95% CI is:(\" + str(lower_bound) + \", \" + str(upper_bound) + \").\")"
      ]
    },
    {
      "cell_type": "code",
      "execution_count": null,
      "metadata": {
        "colab": {
          "base_uri": "https://localhost:8080/"
        },
        "id": "PHbaDrwTNctT",
        "outputId": "e518eb1e-aff8-4543-a379-598a4beb1f0a"
      },
      "outputs": [
        {
          "name": "stdout",
          "output_type": "stream",
          "text": [
            "🎉 All tests passed! 🎉\n"
          ]
        }
      ],
      "source": [
        "#TEST CASE\n",
        "### == TEST CASES for Puzzle 2.2c ==\n",
        "# - This read-only cell contains test cases for your previous cell.\n",
        "# - If this cell runs without any error our output, you PASSED all test cases!\n",
        "# - If this cell results in any errors, check you previous cell, make changes, and RE-RUN your code and then this cell.\n",
        "\n",
        "assert(math.isclose(lower_bound, 3.349919597631782, abs_tol= 0.05)), \"Your lower bound does not seem correct. Make sure your formula is correct.\"\n",
        "assert(math.isclose(upper_bound, 3.9900804023682177, abs_tol= 0.05)), \"Your upper bound does not seem to be correct. Make sure your formula is correct.\"\n",
        "\n",
        "## == SUCCESS MESSAGE ==\n",
        "# You will only see this message (with the emoji showing) if you passed all test cases:\n",
        "tada = \"\\N{PARTY POPPER}\"\n",
        "print(f\"{tada} All tests passed! {tada}\")"
      ]
    },
    {
      "cell_type": "markdown",
      "metadata": {
        "id": "GuO8ymsvNctT"
      },
      "source": [
        "## Part 3: Interpretation\n",
        "\n",
        "As with the last puzzle, the interpretation of the results for the hypothesis test is important.\n",
        "\n",
        "## Part 3a: The Result\n",
        "\n",
        "In the following cell, delete the statements that you do not believe are true and keep the one you believe is correct."
      ]
    },
    {
      "cell_type": "code",
      "execution_count": null,
      "metadata": {
        "id": "wg0OeqT8NctT"
      },
      "outputs": [],
      "source": [
        "# Remove two of the following lines to leave only the correct answer:\n",
        "Conclusion = \"There is not enough evidence to reject the null hypothesis. Thus, we fail to reject the null hypothesis.\"\n",
        "Conclusion = \"There is enough evidence to reject the null hypothesis. Thus, we reject the null hypothesis.\"\n",
        "Conclusion = \"The hypothesis test is inconclusive.\""
      ]
    },
    {
      "cell_type": "code",
      "execution_count": null,
      "metadata": {
        "id": "1Uk9GF7lNctT"
      },
      "outputs": [],
      "source": [
        "#TEST CASE\n",
        "### == TEST CASES for Puzzle 2.3a ==\n",
        "# - This read-only cell contains test cases for your previous cell.\n",
        "# - If this cell runs without any error our output, you PASSED all test cases!\n",
        "# - If this cell results in any errors, check you previous cell, make changes, and RE-RUN your code and then this cell.\n",
        "assert(Conclusion.split()[2][3::-1] == \"uone\"), \"Your conclusion does not seem correct. Think about more!\"\n",
        "\n",
        "## == SUCCESS MESSAGE ==\n",
        "# You will only see this message (with the emoji showing) if you passed all test cases:\n",
        "tada = \"\\N{PARTY POPPER}\"\n",
        "print(f\"{tada} All tests passed! {tada}\")"
      ]
    },
    {
      "cell_type": "markdown",
      "metadata": {
        "id": "erVZgJOMNctU"
      },
      "source": [
        "## ❓Part 3b: Group Discussion❓\n",
        "\n",
        "When you get back to campus and sit in your first lecture, you see a friend of yours. They are concerned about taking this course due to reading horror stories about it on Reddit. They did not do any of the research that you did. They also have never taken a statistics course before. What will you end up telling them? With your group, discuss the results of what your hypothesis test means, and interpret its practical significance if there is any. Use **NON-STATISTICAL** terminology here."
      ]
    },
    {
      "cell_type": "markdown",
      "metadata": {
        "id": "QCTryZ0eNctU"
      },
      "source": [
        "**Type a summary of your group discussion here.**"
      ]
    },
    {
      "cell_type": "markdown",
      "metadata": {
        "id": "e4Jvl4PAfI-T"
      },
      "source": [
        "# Puzzle 3: Baseball Analysis\n",
        "\n",
        "\n",
        "One final t test!!  Over the summer, you get an internship for a high school summer baseball league. In this league, there are four different levels for each age group. The levels (in descending order) are the Invite, the Elite, the Select, and the Enlist. \n",
        "\n",
        "As you start the last few days of your internship, your supervisor asks to see you. He asks a favor of you before you leave. Each year, the winner of each level below Invite may petition the league to move up to the next highest level for next summer. All of the petitions but one have been approved or denied. Their statistics intern left already and forgot to look over the last petition. They are on a family vacation before the semester starts, so your supervisor cannot get ahold of them. You had once mentioned you took a statistics course, so your supervisor asks for help. He has gone through the petition. However, before making the final decision, he wants to know if the team’s batting average is statistically different from the Select’s overall. He knows a hypothesis test is required, but does not remember how to perform it. **Fortunately, you still have VS Code and Python installed on your laptop ;)**"
      ]
    },
    {
      "cell_type": "code",
      "execution_count": null,
      "metadata": {
        "id": "qDrsUmYPfM0q"
      },
      "outputs": [],
      "source": [
        "#Import the Baseball Data Set\n",
        "bb = ...\n",
        "bb"
      ]
    },
    {
      "cell_type": "code",
      "execution_count": null,
      "metadata": {
        "id": "H8yfZUWdfSMF"
      },
      "outputs": [],
      "source": [
        "#TEST CASE\n",
        "## == TEST CASES for Puzzle 3 Data ==\n",
        "# - This read-only cell contains test cases for your previous cell.\n",
        "# - If this cell runs without any error our output, you PASSED all test cases!\n",
        "# - If this cell results in any errors, check you previous cell, make changes, and RE-RUN your code and then this cell.\n",
        "\n",
        "assert(len(bb) == 13), \"The dataframe does not appear to have correct dataset loaded.\"\n",
        "\n",
        "## == SUCCESS MESSAGE ==\n",
        "# You will only see this message (with the emoji showing) if you passed all test cases:\n",
        "tada = \"\\N{PARTY POPPER}\"\n",
        "print(f\"{tada} All tests passed! {tada}\")\n",
        "print()"
      ]
    },
    {
      "cell_type": "markdown",
      "metadata": {
        "id": "D3qQZNA_fUaW"
      },
      "source": [
        "## Part 1: Null and Alternative Hypothesis\n",
        "\n",
        "## ❓Individual Reflection❓ \n",
        "\n",
        "State your Null and Alternative Hypothesis. Again, use a two sided alternative.  Edit the next cell to do this!\n",
        "\n",
        "To type $\\mu$ in Markdown, type, `$\\mu$`.\n",
        "\n",
        "To type $\\neq$ in Markdown, type, `$\\neq$`\n",
        "\n",
        "**Hint:** The mean batting average for the Select teams over the summer was 0.212."
      ]
    },
    {
      "cell_type": "markdown",
      "metadata": {
        "id": "IeIxWU6WfYKF"
      },
      "source": [
        "### Null Hypothesis\n",
        "\n",
        "$H_0$: *EDIT THIS to define the null hypothesis*\n",
        "\n",
        "### Alternative Hypothesis\n",
        "\n",
        "$H_a$: *EDIT THIS to define the alternative hypothesis*"
      ]
    },
    {
      "cell_type": "markdown",
      "metadata": {
        "id": "hHQvw_VPfcnc"
      },
      "source": [
        "## Part 2: Doing the Hypothesis Test\n",
        "\n",
        "\n",
        "Once again, look at some summary statistics about our data.\n",
        "\n",
        "\n",
        "## Part 2a: Summary Statistics\n",
        "\n",
        "\n",
        "Calculate the sample mean $\\bar{x}$, standard deviation $\\hat{\\sigma}$, sample size “n”, and the degrees of freedom “df” for the team’s batting average last summer in the `baseball.csv` data set. Have the cell print out all four values.\n",
        "\n",
        "**NOTE 1:** You **CAN NOT** calculate the mean batting average for a team by adding up all the batting averages and dividing by n. To find the mean batting average $\\bar{x}$, use the formula below instead.\n",
        "\n",
        "**NOTE 2:** With the sample mean being calculated differently, the standard deviation will have to be manually calculated as well. If you use the standard deviation function in Python, it will use the incorrect sample mean instead. To find the standard deviation, use the formula below instead.\n",
        "\n",
        "\n",
        "$\\bar{x}$ = $\\frac{\\sum_{i=1}^{n} H_{i}}{\\sum_{i=1}^{n} AB_{i}}$\n",
        "\n",
        "Or, take the total number of hits (H) and divide it by the total number of at-bats (AB).\n",
        "\n",
        "SD = $\\sqrt{\\frac{1}{n-1} \\sum_{i=1}^{n} (x_{i}-\\bar{x})^{2}}$\n",
        "\n",
        "Or, take the observed values and subtract the sample mean, square them, sum them all up, divide them by n-1 (the degrees of freedom), and take the square root."
      ]
    },
    {
      "cell_type": "code",
      "execution_count": null,
      "metadata": {
        "id": "I2159qURfgVt"
      },
      "outputs": [],
      "source": [
        "#Python Code\n",
        "values = ['AVG']\n",
        "\n",
        "# use the formula above to find the sample mean\n",
        "bb_sample_mean = ...\n",
        "\n",
        "bb_sample_size = ...\n",
        "bb_df = ...\n",
        "\n",
        "# this creates a dataframe with the mean variance values\n",
        "bb_sample_var = bb[values] - bb_sample_mean\n",
        "\n",
        "# use the formula above to find the sample SD\n",
        "bb_sample_std = ...\n",
        "\n",
        "print(\"The average batting average of the team is \" + str(bb_sample_mean) + \" .\")\n",
        "print(\"The standard deviation of the batting average of the team is \" + str(bb_sample_std) + \" points.\")\n",
        "print(\"The sample size is \" + str(bb_sample_size) + \" students.\")\n",
        "print(\"The degrees of freedom is \" + str(bb_df) + \".\")\n"
      ]
    },
    {
      "cell_type": "code",
      "execution_count": null,
      "metadata": {
        "id": "Yt_Ga6cofinV"
      },
      "outputs": [],
      "source": [
        "#TEST CASE\n",
        "### == TEST CASES for Puzzle 3.2a ==\n",
        "# - This read-only cell contains test cases for your previous cell.\n",
        "# - If this cell runs without any error our output, you PASSED all test cases!\n",
        "# - If this cell results in any errors, check you previous cell, make changes, and RE-RUN your code and then this cell.\n",
        "\n",
        "import math\n",
        "assert(math.isclose(bb_sample_mean, 0.28674351585014407, abs_tol= 0.05)), \"The mean does not appear to seem correct. Make sure you are taking the mean of the correct variable.\"\n",
        "assert(math.isclose(bb_sample_std, 0.12147626669385032, abs_tol= 0.05)), \"The standard deviation does not appear to seem correct. Make sure you are taking the std of the correct variable.\"\n",
        "assert(math.isclose(bb_sample_size, 13)), \"The sample size does not appear to seem correct. Make sure you are taking the sample size of the correct dataframe.\"\n",
        "assert(math.isclose(bb_df, 12)), \"The df does not appear to seem correct. Make sure you are taking the df of the correct dataframe.\"\n",
        "\n",
        "## == SUCCESS MESSAGE ==\n",
        "# You will only see this message (with the emoji showing) if you passed all test cases:\n",
        "tada = \"\\N{PARTY POPPER}\"\n",
        "print(f\"{tada} All tests passed! {tada}\")\n",
        "print()"
      ]
    },
    {
      "cell_type": "markdown",
      "metadata": {
        "id": "yyZqMV00fnBP"
      },
      "source": [
        "## Part 2b: t-Test Statistic, t-Critical Value, and p-value\n",
        "\n",
        "Calculate the t-test statistic, t-critical value, and p-value."
      ]
    },
    {
      "cell_type": "code",
      "execution_count": null,
      "metadata": {
        "id": "rPQBSyh-fsxf"
      },
      "outputs": [],
      "source": [
        "bb_t_stat = ...\n",
        "bb_critical_value = ...\n",
        "bb_p_value = ...\n",
        "print(\"The t-test statistic is \" + str(bb_t_stat) + \".\")\n",
        "print(\"The t-critical value is \" + str(bb_critical_value) + \".\")\n",
        "print(\"The p-value for the hypothesis test is \" + str(bb_p_value) + \".\")"
      ]
    },
    {
      "cell_type": "code",
      "execution_count": null,
      "metadata": {
        "id": "qGos6vncfulS"
      },
      "outputs": [],
      "source": [
        "#TEST CASE\n",
        "### == TEST CASES for Puzzle 3.2b ==\n",
        "# - This read-only cell contains test cases for your previous cell.\n",
        "# - If this cell runs without any error our output, you PASSED all test cases!\n",
        "# - If this cell results in any errors, check you previous cell, make changes, and RE-RUN your code and then this cell.\n",
        "\n",
        "import math\n",
        "assert(math.isclose(bb_t_stat, 2.21847103340222, abs_tol= 0.05)), \"You t statistics does not seem correct. Make sure you are using the correct formula.\"\n",
        "assert(math.isclose(bb_critical_value, 2.1788128296634177, abs_tol= 0.05)), \"Your critical value does not seem to be correct. Did you use α instead of α/2?\"\n",
        "assert(math.isclose(bb_p_value, 0.04656628335554172, abs_tol= 0.005)), \"Your p_value does not seem to be correct. Make sure you are inputing the right values.\"\n",
        "\n",
        "## == SUCCESS MESSAGE ==\n",
        "# You will only see this message (with the emoji showing) if you passed all test cases:\n",
        "tada = \"\\N{PARTY POPPER}\"\n",
        "print(f\"{tada} All tests passed! {tada}\")"
      ]
    },
    {
      "cell_type": "markdown",
      "metadata": {
        "id": "KjTut-VRfwT_"
      },
      "source": [
        "## Part 2c: Confidence Interval\n",
        "\n",
        "Construct a 95% confidence interval for the sample mean of the team’s batting average. Use the following formula!\n",
        "\n",
        "**($\\bar{x}$ - $t_{\\frac{\\alpha}{2}, df}$(SE) , $\\bar{x}$ + $t_{\\frac{\\alpha}{2}, df}$(SE))**\n",
        "\n",
        "Where $t_{\\frac{\\alpha}{2}, df}$ is the t-critical value that you calculated in part b."
      ]
    },
    {
      "cell_type": "code",
      "execution_count": null,
      "metadata": {
        "id": "bZZ7RlbYf0qI"
      },
      "outputs": [],
      "source": [
        "lower_bound = ...\n",
        "upper_bound = ...\n",
        "print(\"The 95% CI is:(\" + str(lower_bound) + \", \" + str(upper_bound) + \").\")"
      ]
    },
    {
      "cell_type": "code",
      "execution_count": null,
      "metadata": {
        "id": "PEq4MDTef17w"
      },
      "outputs": [],
      "source": [
        "#TEST CASE\n",
        "### == TEST CASES for Puzzle 3.2c ==\n",
        "# - This read-only cell contains test cases for your previous cell.\n",
        "# - If this cell runs without any error our output, you PASSED all test cases!\n",
        "# - If this cell results in any errors, check you previous cell, make changes, and RE-RUN your code and then this cell.\n",
        "\n",
        "assert(math.isclose(lower_bound, 0.21333614256625816, abs_tol= 0.05)), \"Your lower bound does not seem correct. Make sure your formula is correct.\"\n",
        "assert(math.isclose(upper_bound, 0.36015088913403, abs_tol= 0.05)), \"Your upper bound does not seem to be correct. Make sure your formula is correct.\"\n",
        "\n",
        "## == SUCCESS MESSAGE ==\n",
        "# You will only see this message (with the emoji showing) if you passed all test cases:\n",
        "tada = \"\\N{PARTY POPPER}\"\n",
        "print(f\"{tada} All tests passed! {tada}\")"
      ]
    },
    {
      "cell_type": "markdown",
      "metadata": {
        "id": "4B71dOb9f8BJ"
      },
      "source": [
        "## Part 3: Interpretation\n",
        "\n",
        "As with the last two puzzles, the interpretation of the results for the hypothesis test is important.\n",
        "\n",
        "## Part 3a: The Result\n",
        "\n",
        "In the following cell, delete the statements that you do not believe are true and keep the one you believe is correct."
      ]
    },
    {
      "cell_type": "code",
      "execution_count": null,
      "metadata": {
        "id": "XRbJC7gEf_0R"
      },
      "outputs": [],
      "source": [
        "# Remove two of the following lines to leave only the correct answer:\n",
        "\n",
        "Conclusion = \"There is not enough evidence to reject the null hypothesis. Thus, we fail to reject the null hypothesis.\"\n",
        "Conclusion = \"There is enough evidence to reject the null hypothesis. Thus, we reject the null hypothesis.\"\n",
        "Conclusion = \"The hypothesis test is inconclusive.\""
      ]
    },
    {
      "cell_type": "code",
      "execution_count": null,
      "metadata": {
        "id": "sQVFhpZvgB6E"
      },
      "outputs": [],
      "source": [
        "#TEST CASE\n",
        "### == TEST CASES for Puzzle 3.3a ==\n",
        "# - This read-only cell contains test cases for your previous cell.\n",
        "# - If this cell runs without any error our output, you PASSED all test cases!\n",
        "# - If this cell results in any errors, check you previous cell, make changes, and RE-RUN your code and then this cell.\n",
        "assert(Conclusion.split()[2][3::-1] == \"uone\"), \"Your conclusion does not seem correct. Think about it some more!\"\n",
        "\n",
        "## == SUCCESS MESSAGE ==\n",
        "# You will only see this message (with the emoji showing) if you passed all test cases:\n",
        "tada = \"\\N{PARTY POPPER}\"\n",
        "print(f\"{tada} All tests passed! {tada}\")"
      ]
    },
    {
      "cell_type": "markdown",
      "metadata": {
        "id": "47G1bbVDgFIL"
      },
      "source": [
        "## ❓Part 3b: Group Discussion❓\n",
        "\n",
        "Now that you have completed your hypothesis test, what will you tell your supervisor? With your group, discuss the results of what your hypothesis test means, and interpret its practical significance if there is any. Use **NON-STATISTICAL** terminology here."
      ]
    },
    {
      "cell_type": "markdown",
      "metadata": {
        "id": "24ywIaGygHwq"
      },
      "source": [
        "❓Individual Reflection❓ \n",
        "\n",
        "**Type a summary of your group discussion here.**"
      ]
    },
    {
      "cell_type": "markdown",
      "metadata": {
        "id": "lpUMQFZlNctU",
        "nbgrader": {
          "grade": false,
          "grade_id": "cell-f0fc4e80f147831d",
          "locked": true,
          "schema_version": 3,
          "solution": false,
          "task": false
        }
      },
      "source": [
        "# Submit Your Work!\n",
        "\n",
        "You are now done with the lab.\n",
        "\n",
        "You need to do two more things before you can go back to doing other homework:\n",
        "\n",
        "1. Save your work.  To do this, create a **notebook checkpoint** by using the menu within the notebook. Go to **File -> Save All**.\n",
        "\n",
        "2. After you have saved it, exit this notebook and return to the Data Science Discovery page for the Git commands to submit this lab."
      ]
    }
  ],
  "metadata": {
    "celltoolbar": "Create Assignment",
    "colab": {
      "collapsed_sections": [
        "Nb_o8ioJNctR",
        "IeIxWU6WfYKF",
        "4B71dOb9f8BJ",
        "47G1bbVDgFIL"
      ],
      "name": "hypothesis-tests.ipynb",
      "provenance": []
    },
    "interpreter": {
      "hash": "2313bd6cf9748611fcec47748e00b602b8ac0478fdea3f4143d0c377f7c6ba75"
    },
    "kernelspec": {
      "display_name": "Python 3.9.6 64-bit",
      "name": "python3"
    },
    "language_info": {
      "codemirror_mode": {
        "name": "ipython",
        "version": 3
      },
      "file_extension": ".py",
      "mimetype": "text/x-python",
      "name": "python",
      "nbconvert_exporter": "python",
      "pygments_lexer": "ipython3",
      "version": "3.9.6"
    }
  },
  "nbformat": 4,
  "nbformat_minor": 0
}
