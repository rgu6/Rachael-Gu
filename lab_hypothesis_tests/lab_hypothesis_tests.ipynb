{
  "cells": [
    {
      "cell_type": "markdown",
      "metadata": {
        "id": "mzCm6thyNcs9"
      },
      "source": [
        "# Lab: Hypothesis Testing\n",
        "\n",
        "## Group\n",
        "Enter the next Python cell to add information about who you’re working with within your lab section:\n",
        "\n"
      ]
    },
    {
      "cell_type": "code",
      "execution_count": 48,
      "metadata": {
        "id": "f5dUqIHhUDuU"
      },
      "outputs": [],
      "source": [
        "partner1_name = \"Rachael Gu\"\n",
        "partner1_netid = \"rgu6\"\n",
        "partner1_major = \"stat\"\n",
        " \n",
        "partner2_name = \"Meg Li\"\n",
        "partner2_netid = \"rmli224\"\n",
        "partner2_major = \"stat+cs\"\n",
        " \n",
        "partner3_name = \"\"\n",
        "partner3_netid = \"\"\n",
        "partner3_major = \"\""
      ]
    },
    {
      "cell_type": "markdown",
      "metadata": {
        "id": "8YZjnX3nUCNc"
      },
      "source": [
        "## Getting Help\n",
        "Remember, there are a lot of ways to get help if you find yourself stuck:\n",
        "\n",
        "1. In your lab section, you can ask your TA or CAs.\n",
        "2. Post your question in the course Discord.\n",
        "3. Office Hours:\n",
        "  - In-person office hours **every Monday, Tuesday, Thursday, and Friday** from 4:00 PM - 6:00 PM in Siebel Center for Design (SCD) Rm. 0060\n",
        "  - Zoom office hours **every Wednesday** from 5:00 PM - 6:00 PM and **every Thursday** from 9:00 PM - 11:00 PM (see the course website for links).\n",
        "\n",
        "In this lab, you will:\n",
        "\n",
        "- Perform hypothesis tests using Python.\n",
        "- Create confidence intervals using Python.\n",
        "- Interpret your results of the tests.\n",
        "\n",
        "As you go through the lab:\n",
        "\n",
        "- Make sure to run every cell with Python code and observe the output.\n",
        "- Complete all puzzles and submit this lab before Monday evening at 11:59 PM.\n",
        "\n",
        "# Setup\n",
        "\n",
        "\n",
        "At the beginning of this lab, make sure you:\n",
        "1. Make sure the following data sets are in **your working directory**. If not, download them from your personal GitHub repository.\n",
        "- `hello.csv`\n",
        "- `cs225-final-grades.csv`\n",
        "- `baseball.csv`\n",
        "2. Import the following libraries:\n",
        "- `pandas` as `pd`\n",
        "- `random`\n",
        "- `matplotlib.pyplot` as `plt`\n",
        "- `numpy` as `np`\n",
        "- `scipy.stats`\n",
        "- `from scipy import stats`\n",
        "3. Read the date sets into a data frame using `pd.read.csv()`"
      ]
    },
    {
      "cell_type": "code",
      "execution_count": 49,
      "metadata": {
        "id": "aRSg4TmdNctF"
      },
      "outputs": [],
      "source": [
        "# Import the libraries listed above.\n",
        "import pandas as pd\n",
        "import random\n",
        "import matplotlib.pyplot as plt\n",
        "import numpy as np\n",
        "import scipy.stats\n",
        "from scipy.stats import stats"
      ]
    },
    {
      "cell_type": "markdown",
      "metadata": {
        "id": "OV1bhZXA7ABY"
      },
      "source": [
        "# ❓Group Discussion❓\n",
        "\n",
        "\n",
        "Before we start doing any data analysis, we must determine a crucial component of the hypothesis test. During lecture, we learned about two different kinds of tests that data scientists use in hypothesis testing and confidence intervals. One is the Z-test, and the other is the t-test. Each one has its use in hypothesis testing and the creation of confidence intervals. When do you use a Z-test? When do you use a t-test?"
      ]
    },
    {
      "cell_type": "markdown",
      "metadata": {
        "id": "BBsSJ0eONctC"
      },
      "source": [
        "# ❓Individual Reflection❓ \n",
        "\n",
        "A Z-test should be used when the standard deviation of a population is known. A T-test should be used when the sample size is small, the population is close to the normal curve, and the standard deviation of the population is unknown."
      ]
    },
    {
      "cell_type": "markdown",
      "metadata": {
        "id": "bNyGcmMANctD"
      },
      "source": [
        "We will be using a t-test for every hypothesis test and confidence interval in this lab. While we do not necessarily have a small sample size for Puzzles 1 and 3, the sample size is not necessarily large either. We also do not know the population standard deviation, so we will lean towards using a t-test to be extra safe. A t-test is the more conservative test to use so we will go with this :)"
      ]
    },
    {
      "cell_type": "markdown",
      "metadata": {
        "id": "_ItquHNyNctE"
      },
      "source": [
        "# Puzzle 1: Sleep Among STAT 107 Students\n",
        "\n",
        "\n",
        "\n",
        "## More Sleep Always! \n",
        "\n",
        "SLEEP! It's something that most of us do not get enough of. There has been extensive research done looking at the amount of sleep different people get on average. The following is an example of one of them. \n",
        "\n",
        "In 2013, [Gallup completed their latest survey on sleep](https://news.gallup.com/poll/166553/less-recommended-amount-sleep.aspx) that shows that the average amount of sleep Americans get is 6.8 hours ($\\mu$=6.8). This value seems a bit low, right? How do you think our class average in Data Science DISCOVERY compares to this? It might be less than 6.8, or it may be more than that. Let's find out if the ideal hours of sleep STAT107 students would get is significantly different from the average amount of sleep that all Americans get reported by Gallup. For the sake of this lab, assume our survey data is a random sample from the population (Americans).\n",
        "\n",
        "Run a **hypothesis test** to determine if the STAT107 data is significantly different from the population/Gallup poll. \n",
        "\n",
        "You need to look at the `hello.csv` data set that gives you the ideal amount of sleep STAT107 students get each week.\n",
        "\n",
        "As always, start with uploading the data set and import the relevant libraries to your notebook.\n"
      ]
    },
    {
      "cell_type": "code",
      "execution_count": 50,
      "metadata": {
        "id": "Mby9gBFjNctG"
      },
      "outputs": [],
      "source": [
        "#Import the hello data set.\n",
        "hello = pd.read_csv(\"hello.csv\")"
      ]
    },
    {
      "cell_type": "code",
      "execution_count": 51,
      "metadata": {
        "id": "6pi0qF6QNctH"
      },
      "outputs": [
        {
          "name": "stdout",
          "output_type": "stream",
          "text": [
            "🎉 All tests passed! 🎉\n",
            "\n"
          ]
        }
      ],
      "source": [
        "#TEST CASE\n",
        "## == TEST CASES for Puzzle 1 Data ==\n",
        "# - This read-only cell contains test cases for your previous cell.\n",
        "# - If this cell runs without any error our output, you PASSED all test cases!\n",
        "# - If this cell results in any errors, check you previous cell, make changes, and RE-RUN your code and then this cell.\n",
        "\n",
        "assert(len(hello) == 284), \"The dataframe does not appear to have correct dataset loaded.\"\n",
        "\n",
        "## == SUCCESS MESSAGE ==\n",
        "# You will only see this message (with the emoji showing) if you passed all test cases:\n",
        "tada = \"\\N{PARTY POPPER}\"\n",
        "print(f\"{tada} All tests passed! {tada}\")\n",
        "print()"
      ]
    },
    {
      "cell_type": "markdown",
      "metadata": {
        "id": "fJGEOWXYNctI",
        "nbgrader": {
          "grade": false,
          "grade_id": "cell-4d373d1867848202",
          "locked": true,
          "schema_version": 3,
          "solution": false
        }
      },
      "source": [
        "## Part 1: Null and Alternative Hypothesis\n",
        "\n",
        "In class, we learned that the first step when doing any hypothesis test is to state the **Null Hypothesis** and **Alternative Hypothesis**. \n",
        "\n",
        "**Null Hypothesis:** The null hypothesis says that any difference between our sample and the population is small and therefore due to chance. \n",
        "\n",
        "**Alternative Hypothesis:** The alternative hypothesis says that the differences we observe are not just due to chance. \n",
        "\n",
        "Remember, when you are stating your hypotheses, they always include the **population parameter** $\\mu$. This is the population mean! Do not use the sample statistic (the sample mean) $\\bar{x}$.\n",
        "\n",
        "To type $\\mu$ in Markdown, type, `$\\mu$`.\n",
        "\n",
        "To type $\\neq$ in Markdown, type, `$\\neq$`\n",
        "\n",
        "## ❓Individual Reflection❓ \n",
        "\n",
        "State your two hypotheses below by editing the next cell! Here, we want to use a two sided alternative hypothesis since we aren't specifying a direction."
      ]
    },
    {
      "cell_type": "markdown",
      "metadata": {
        "id": "NonqCY0DNctI"
      },
      "source": [
        "### **Null Hypothesis**\n",
        "\n",
        "$H_0$: hours of sleep for STAT107 students = $\\mu$\n",
        "\n",
        "\n",
        "### **Alternative Hypothesis**\n",
        "\n",
        "$H_a$: hours of sleep for STAT107 students $\\neq$ $\\mu$\n"
      ]
    },
    {
      "cell_type": "markdown",
      "metadata": {
        "id": "H0V7Lq_YNctK"
      },
      "source": [
        "## Part 2: Doing the Hypothesis Test\n",
        "\n",
        "\n",
        "Now that we have stated our null and alternate hypotheses, it is time to see which one is supported by our data. Before we can go and do any coding, we need to look at some summary statistics about our data. These will not necessarily tell us which of our hypotheses is supported by the data but will be crucial when performing the test and constructing the confidence interval.\n",
        "\n",
        "## Part 2a: Summary Statistics\n",
        "\n",
        "\n",
        "Calculate the sample mean $\\bar{x}$, standard deviation $\\hat{\\sigma}$, sample size “n”, and the degrees of freedom “df” for the hours of sleep for STAT107 students in the `hello.csv` data set. Have the cell print out all four values."
      ]
    },
    {
      "cell_type": "code",
      "execution_count": 52,
      "metadata": {
        "id": "7ghq6OuNNctL"
      },
      "outputs": [
        {
          "name": "stdout",
          "output_type": "stream",
          "text": [
            "The average amount of sleep that students get is 7.125 hours.\n",
            "The standard deviation of sleep that students get is 1.0965936657871607 hours.\n",
            "The sample size is 284 students.\n",
            "The degrees of freedom is 283.\n"
          ]
        }
      ],
      "source": [
        "hrs_sleep_mean = hello[\"Sleep Hours\"].mean()\n",
        "hrs_sleep_std = hello[\"Sleep Hours\"].std()\n",
        "sample_size = len(hello)\n",
        "df = sample_size - 1\n",
        "print(\"The average amount of sleep that students get is \" + str(hrs_sleep_mean) + \" hours.\")\n",
        "print(\"The standard deviation of sleep that students get is \" + str(hrs_sleep_std) + \" hours.\")\n",
        "print(\"The sample size is \" + str(sample_size) + \" students.\")\n",
        "print(\"The degrees of freedom is \" + str(df) + \".\")"
      ]
    },
    {
      "cell_type": "code",
      "execution_count": 53,
      "metadata": {
        "id": "t1SgmIVfNctL"
      },
      "outputs": [
        {
          "name": "stdout",
          "output_type": "stream",
          "text": [
            "🎉 All tests passed! 🎉\n",
            "\n"
          ]
        }
      ],
      "source": [
        "#TEST CASE\n",
        "### == TEST CASES for Puzzle 1.2a ==\n",
        "# - This read-only cell contains test cases for your previous cell.\n",
        "# - If this cell runs without any error our output, you PASSED all test cases!\n",
        "# - If this cell results in any errors, check you previous cell, make changes, and RE-RUN your code and then this cell.\n",
        "\n",
        "import math\n",
        "assert(math.isclose(hrs_sleep_mean, 7.125, abs_tol= 0.05)), \"The mean does not appear to seem correct. Make sure you are taking the mean of the correct variable.\"\n",
        "assert(math.isclose(hrs_sleep_std, 1.0965936657871607, abs_tol= 0.05)), \"The standard deviation does not appear to seem correct. Make sure you are taking the std of the correct variable.\"\n",
        "assert(math.isclose(sample_size, 284)), \"The sample size does not appear to seem correct. Make sure you are taking the sample size of the correct dataframe.\"\n",
        "assert(math.isclose(df, 283)), \"The df does not appear to seem correct. Make sure you are taking the df of the correct dataframe.\"\n",
        "\n",
        "## == SUCCESS MESSAGE ==\n",
        "# You will only see this message (with the emoji showing) if you passed all test cases:\n",
        "tada = \"\\N{PARTY POPPER}\"\n",
        "print(f\"{tada} All tests passed! {tada}\")\n",
        "print()"
      ]
    },
    {
      "cell_type": "markdown",
      "metadata": {
        "id": "oYUecsDDNctL"
      },
      "source": [
        "## Part 2b: t-Test Statistic, t-Critical Value, and p-value\n",
        "\n",
        "Calculate the t-test statistic, t-critical value, and p-value. This will tell us whether we will reject or fail to reject our null hypothesis.  \n",
        "\n",
        "The test statstic is t which you will find from the formula for t. Check your notes if you forgot this :)\n",
        "\n",
        "The critical value is the t-value when there is 97.5% of the t curve to the left (or 5% in each tail). We are using 5% as alpha. The critical value also depends on the degrees of freedom!\n",
        "\n",
        "**Hint 1:** Remember to use the df that you calculated above instead of n when calculating the t-Critical Value and p-value.\n",
        "\n",
        "**Hint 2:** Remember to use $\\frac{\\alpha}{2}$ when calculating the t-Critical Value.  Also, make sure to calculate your p-value based on your alternative hypothesis! Is this a one sided test or a 2 sided test?"
      ]
    },
    {
      "cell_type": "code",
      "execution_count": 54,
      "metadata": {
        "id": "IaXSY_faNctM"
      },
      "outputs": [
        {
          "name": "stdout",
          "output_type": "stream",
          "text": [
            "The t-test statistic is 4.985753993467715.\n",
            "The t-critical value is 1.9683819234318902.\n",
            "The p-value for the hypothesis test is 1.0775989739128053e-06.\n"
          ]
        }
      ],
      "source": [
        "from scipy.stats import norm\n",
        "SD_plus = hrs_sleep_std * ((sample_size / df)**(1/2))\n",
        "standard_error = SD_plus / (sample_size**(1/2))\n",
        "t_stat = (hrs_sleep_mean - 6.8) / standard_error\n",
        "critical_value = scipy.stats.t.ppf(0.975, df)\n",
        "p_value = 2 * scipy.stats.t.sf(t_stat, df)\n",
        "print(\"The t-test statistic is \" + str(t_stat) + \".\")\n",
        "print(\"The t-critical value is \" + str(critical_value) + \".\")\n",
        "print(\"The p-value for the hypothesis test is \" + str(p_value) + \".\")"
      ]
    },
    {
      "cell_type": "code",
      "execution_count": 55,
      "metadata": {
        "id": "hCwgBzueNctM"
      },
      "outputs": [
        {
          "name": "stdout",
          "output_type": "stream",
          "text": [
            "🎉 All tests passed! 🎉\n"
          ]
        }
      ],
      "source": [
        "#TEST CASE\n",
        "### == TEST CASES for Puzzle 1.2b ==\n",
        "# - This read-only cell contains test cases for your previous cell.\n",
        "# - If this cell runs without any error our output, you PASSED all test cases!\n",
        "# - If this cell results in any errors, check you previous cell, make changes, and RE-RUN your code and then this cell.\n",
        "\n",
        "import math\n",
        "assert(math.isclose(t_stat, 4.994554978240841, abs_tol= 0.05)), \"Your t statistic does not seem correct. Make sure you are using the correct formula\"\n",
        "assert(math.isclose(critical_value, 1.9683819234318902, abs_tol= 0.05)), \"Your critical value does not seem to be correct. Did you use α instead of α/2?\"\n",
        "assert(math.isclose(p_value, 1.0334128940202397e-06, abs_tol= 0.0000001)), \"Your p_value does not seem to be correct. Make sure you are inputing the right values.\"\n",
        "\n",
        "## == SUCCESS MESSAGE ==\n",
        "# You will only see this message (with the emoji showing) if you passed all test cases:\n",
        "tada = \"\\N{PARTY POPPER}\"\n",
        "print(f\"{tada} All tests passed! {tada}\")"
      ]
    },
    {
      "cell_type": "markdown",
      "metadata": {
        "id": "nYZ_glZCNctN"
      },
      "source": [
        "## Part 2c: Confidence Interval\n",
        "\n",
        "\n",
        "You now know whether you reject or fail to reject your null hypothesis since we calculated the p-value. However, we can still get some more information by creating a confidence interval around the sample mean. For this part, construct a 95% confidence interval for the sample mean of the hours of sleep for STAT107 students. \n",
        "\n",
        "A confidence interval with t is the same format as a confidence interval for z. See below:\n",
        "\n",
        "**($\\bar{x}$ - $t_{\\frac{\\alpha}{2}, df}$(SE) , $\\bar{x}$ + $t_{\\frac{\\alpha}{2}, df}$(SE))**\n",
        "\n",
        "Where $t_{\\frac{\\alpha}{2}, df}$ is the t-critical value (critical_value) that you calculated in part b."
      ]
    },
    {
      "cell_type": "code",
      "execution_count": 58,
      "metadata": {
        "id": "k3ou-JM8NctN"
      },
      "outputs": [
        {
          "name": "stdout",
          "output_type": "stream",
          "text": [
            "The 95% CI is:(6.997235974571832, 7.252764025428168).\n"
          ]
        }
      ],
      "source": [
        "lower_bound = hrs_sleep_mean - (1.96 * standard_error)\n",
        "upper_bound = hrs_sleep_mean + (1.96 * standard_error)\n",
        "print(\"The 95% CI is:(\" + str(lower_bound) + \", \" + str(upper_bound) + \").\")"
      ]
    },
    {
      "cell_type": "code",
      "execution_count": 59,
      "metadata": {
        "id": "5WMmUad_NctN"
      },
      "outputs": [
        {
          "name": "stdout",
          "output_type": "stream",
          "text": [
            "🎉 All tests passed! 🎉\n"
          ]
        }
      ],
      "source": [
        "#TEST CASE\n",
        "### == TEST CASES for Puzzle 1.2c ==\n",
        "# - This read-only cell contains test cases for your previous cell.\n",
        "# - If this cell runs without any error our output, you PASSED all test cases!\n",
        "# - If this cell results in any errors, check you previous cell, make changes, and RE-RUN your code and then this cell.\n",
        "\n",
        "import math\n",
        "assert(math.isclose(lower_bound, 6.9956926772702355, abs_tol= 0.05)), \"Your lower bound does not seem correct. Make sure your formula is correct.\"\n",
        "assert(math.isclose(upper_bound, 7.2552436523177795, abs_tol= 0.05)), \"Your upper bound does not seem to be correct. Make sure your formula is correct.\"\n",
        "\n",
        "## == SUCCESS MESSAGE ==\n",
        "# You will only see this message (with the emoji showing) if you passed all test cases:\n",
        "tada = \"\\N{PARTY POPPER}\"\n",
        "print(f\"{tada} All tests passed! {tada}\")"
      ]
    },
    {
      "cell_type": "markdown",
      "metadata": {
        "id": "88UhZBVfNctN"
      },
      "source": [
        "# Part 3: Interpretation\n",
        "\n",
        "\n",
        "As a data scientist, it is crucial to explain your results, so anyone (even someone who has no background in statistics) can understand. If we just said, \"Here is the p-value.\", they may be confused. We need to be more specific about our conclusion.\n",
        "\n",
        "## Part 3a: The Result\n",
        "\n",
        "\n",
        "In the following cell, delete the statements you do not believe are correct and keep the one you think is."
      ]
    },
    {
      "cell_type": "code",
      "execution_count": 60,
      "metadata": {
        "id": "eQXF1MDaNctO"
      },
      "outputs": [],
      "source": [
        "# Remove two of the following lines to leave only the correct answer:\n",
        "Conclusion = \"There is enough evidence to reject the null hypothesis. Thus, we reject the null hypothesis.\""
      ]
    },
    {
      "cell_type": "code",
      "execution_count": 61,
      "metadata": {
        "id": "ya2meWoYNctO"
      },
      "outputs": [
        {
          "name": "stdout",
          "output_type": "stream",
          "text": [
            "🎉 All tests passed! 🎉\n"
          ]
        }
      ],
      "source": [
        "#TEST CASE\n",
        "### == TEST CASES for Puzzle 1.3a ==\n",
        "# - This read-only cell contains test cases for your previous cell.\n",
        "# - If this cell runs without any error our output, you PASSED all test cases!\n",
        "# - If this cell results in any errors, check you previous cell, make changes, and RE-RUN your code and then this cell.\n",
        "assert(Conclusion.split()[2][3::-1] == \"uone\"), \"Your conclusion does not seem correct. Think about it some more!\"\n",
        "\n",
        "## == SUCCESS MESSAGE ==\n",
        "# You will only see this message (with the emoji showing) if you passed all test cases:\n",
        "tada = \"\\N{PARTY POPPER}\"\n",
        "print(f\"{tada} All tests passed! {tada}\")"
      ]
    },
    {
      "cell_type": "markdown",
      "metadata": {
        "id": "16qdo0iZNctP"
      },
      "source": [
        "## ❓Part 3b: Group Discussion❓\n",
        "\n",
        "We have now done our hypothesis test and discovered the result, but there is still one more crucial thing to do. We must be able to explain the results of the test to somebody who does not know statistics. In the future, your occupation will require this as a skill. With your group, discuss the results of what your hypothesis test means, and interpret its practical significance if there is any. Use **NON-STATISTICAL** terminology here. In other words, describe the conclusion of the t-test and what it means in the context of the problem. Don't just say \"reject or do not reject Ho.\""
      ]
    },
    {
      "cell_type": "markdown",
      "metadata": {
        "id": "RDgWExSkNctP"
      },
      "source": [
        "## ❓Individual Reflection❓\n",
        "\n",
        "Based on this analysis, we can conclude that the average hours of sleep for STAT107 students is not equal to 6.8 hours. "
      ]
    },
    {
      "cell_type": "markdown",
      "metadata": {
        "id": "q74F7tHMNctP"
      },
      "source": [
        "# Puzzle 2: GPA Visualization\n",
        "\n",
        "Let's do another t test to make sure you have the hang of it! Let's say you have to sign up for CS 225 (DATA STRUCTURES) next semester. Due to your apartment’s terrible internet, you were unable to sign up when registration opened. By the time your internet comes back, the only section left is with Dr. Fagen-Ulmschneider. You decide to look up how difficult your semester will be, and you find something useful. Dr. Fagen-Ulmschneider has a [Grade disparity between sections at UIUC](http://waf.cs.illinois.edu/discovery/grade_disparity_between_sections_at_uiuc/) visualization. First, find the average GPA and closest letter grade to that Dr. Fagen-Ulmschneider gave his CS 225 students.\n",
        "\n",
        "**Hint:** This will be what you are testing ($\\mu$ = “average GPA”).\n",
        "\n"
      ]
    },
    {
      "cell_type": "markdown",
      "metadata": {
        "id": "Gfjy9wVLNctQ"
      },
      "source": [
        "## ❓Individual Reflection❓\n",
        "Replace the first ? with the average GPA (use Wade's visualization to see what it is!).  Replace the second ? with the letter grade that corresponds to that GPA. You do not need to do any calculations, just look at the GPA visualization and the translation to letter grade below.\n",
        "\n",
        "The average GPA is 3.22\n",
        "\n",
        "The average letter grade is B"
      ]
    },
    {
      "cell_type": "markdown",
      "metadata": {
        "id": "g9YYR0BJNctQ"
      },
      "source": [
        "You want to double-check if Dr. Fagen-Ulmschneider was completely honest with his grades. You randomly survey 107 students who have taken CS 225. The final grades the students gave you are out of 1100 points. You have recorded the 107 student grades in `cs225-final-grades.csv`. *(These are 107 randomly chosen grades from CS 225 from Fall 2018.)*\n",
        "\n",
        "You find that the translation between points and grades is as follows:\n",
        "\n",
        "\n",
        "| Points | Grade | GPA |\n",
        "| ------ | ----- | --- |\n",
        "| 1070 - 1100 | A+ | 4.0 |\n",
        "|  930 - 1070 | A  | 4.0 |\n",
        "|  900 - 930 | A-  | 3.67 |\n",
        "|  870 - 900 | B+  | 3.33 |\n",
        "|  830 - 870 | B   | 3.0 |\n",
        "|  800 - 830 | B-  | 2.67 |\n",
        "|  770 - 800 | C+  | 2.33 |\n",
        "|  730 - 770 | C   | 2.0 |\n",
        "|  700 - 730 | C-  | 1.67 |\n",
        "|  670 - 700 | D+  | 1.33 |\n",
        "|  630 - 670 | D   | 1.0 |\n",
        "|  600 - 630 | D-  | 0.67 |\n",
        "|    0 - 600 | F  | 0 |\n",
        "\n",
        "\n",
        "**Hint:** You will need to process `cs225-final-grades.csv`, understand, and gather data from the GPA visualization before you will be able to run the test. Use `pandas` to help you process this data."
      ]
    },
    {
      "cell_type": "code",
      "execution_count": 62,
      "metadata": {
        "id": "ylPvpg2ZNctR",
        "nbgrader": {
          "grade": false,
          "grade_id": "cell-053f4c444b109148",
          "locked": false,
          "schema_version": 3,
          "solution": true
        }
      },
      "outputs": [
        {
          "data": {
            "text/html": [
              "<div>\n",
              "<style scoped>\n",
              "    .dataframe tbody tr th:only-of-type {\n",
              "        vertical-align: middle;\n",
              "    }\n",
              "\n",
              "    .dataframe tbody tr th {\n",
              "        vertical-align: top;\n",
              "    }\n",
              "\n",
              "    .dataframe thead th {\n",
              "        text-align: right;\n",
              "    }\n",
              "</style>\n",
              "<table border=\"1\" class=\"dataframe\">\n",
              "  <thead>\n",
              "    <tr style=\"text-align: right;\">\n",
              "      <th></th>\n",
              "      <th>CS 225 Final Grade</th>\n",
              "    </tr>\n",
              "  </thead>\n",
              "  <tbody>\n",
              "    <tr>\n",
              "      <th>0</th>\n",
              "      <td>658.204335</td>\n",
              "    </tr>\n",
              "    <tr>\n",
              "      <th>1</th>\n",
              "      <td>1068.696078</td>\n",
              "    </tr>\n",
              "    <tr>\n",
              "      <th>2</th>\n",
              "      <td>1040.655631</td>\n",
              "    </tr>\n",
              "    <tr>\n",
              "      <th>3</th>\n",
              "      <td>1047.147059</td>\n",
              "    </tr>\n",
              "    <tr>\n",
              "      <th>4</th>\n",
              "      <td>763.440841</td>\n",
              "    </tr>\n",
              "    <tr>\n",
              "      <th>...</th>\n",
              "      <td>...</td>\n",
              "    </tr>\n",
              "    <tr>\n",
              "      <th>102</th>\n",
              "      <td>954.931372</td>\n",
              "    </tr>\n",
              "    <tr>\n",
              "      <th>103</th>\n",
              "      <td>899.918937</td>\n",
              "    </tr>\n",
              "    <tr>\n",
              "      <th>104</th>\n",
              "      <td>765.717112</td>\n",
              "    </tr>\n",
              "    <tr>\n",
              "      <th>105</th>\n",
              "      <td>328.562675</td>\n",
              "    </tr>\n",
              "    <tr>\n",
              "      <th>106</th>\n",
              "      <td>1048.897892</td>\n",
              "    </tr>\n",
              "  </tbody>\n",
              "</table>\n",
              "<p>107 rows × 1 columns</p>\n",
              "</div>"
            ],
            "text/plain": [
              "     CS 225 Final Grade\n",
              "0            658.204335\n",
              "1           1068.696078\n",
              "2           1040.655631\n",
              "3           1047.147059\n",
              "4            763.440841\n",
              "..                  ...\n",
              "102          954.931372\n",
              "103          899.918937\n",
              "104          765.717112\n",
              "105          328.562675\n",
              "106         1048.897892\n",
              "\n",
              "[107 rows x 1 columns]"
            ]
          },
          "execution_count": 62,
          "metadata": {},
          "output_type": "execute_result"
        }
      ],
      "source": [
        "#Import the Data Set\n",
        "cs225 = pd.read_csv(\"cs225-final-grades.csv\")\n",
        "cs225"
      ]
    },
    {
      "cell_type": "code",
      "execution_count": 63,
      "metadata": {
        "id": "i5j82n6UNctR",
        "nbgrader": {
          "grade": true,
          "grade_id": "cell-0544cc08b9b64325",
          "locked": true,
          "points": 1,
          "schema_version": 3,
          "solution": false
        }
      },
      "outputs": [
        {
          "name": "stdout",
          "output_type": "stream",
          "text": [
            "🎉 All tests passed! 🎉\n",
            "\n"
          ]
        }
      ],
      "source": [
        "#TEST CASE\n",
        "## == TEST CASES for Puzzle 2 Data ==\n",
        "# - This read-only cell contains test cases for your previous cell.\n",
        "# - If this cell runs without any error our output, you PASSED all test cases!\n",
        "# - If this cell results in any errors, check you previous cell, make changes, and RE-RUN your code and then this cell.\n",
        "\n",
        "assert(len(cs225) == 107), \"The dataframe does not appear to have correct dataset loaded.\"\n",
        "\n",
        "## == SUCCESS MESSAGE ==\n",
        "# You will only see this message (with the emoji showing) if you passed all test cases:\n",
        "tada = \"\\N{PARTY POPPER}\"\n",
        "print(f\"{tada} All tests passed! {tada}\")\n",
        "print()"
      ]
    },
    {
      "cell_type": "markdown",
      "metadata": {
        "id": "Ahr69hWHNctR"
      },
      "source": [
        "## Part 1: Null and Alternative Hypothesis\n",
        "\n",
        "Just like in Puzzle 1, start with stating your Null and Alternative Hypothesis. Remember that when you are stating your hypotheses, they always include the **population parameters** such as $\\mu$, not sample statistics such as $\\bar{x}$. Again, we are going to use a **two sided** alternative hypothesis test!\n",
        "\n",
        "To type $\\mu$ in Markdown, type, `$\\mu$`.\n",
        "\n",
        "To type $\\neq$ in Markdown, type, `$\\neq$`\n",
        "\n",
        "## ❓Individual Reflection❓ \n",
        "\n",
        "State your two hypotheses by editing the cell below:"
      ]
    },
    {
      "cell_type": "markdown",
      "metadata": {
        "id": "Nb_o8ioJNctR"
      },
      "source": [
        "### Null Hypothesis\n",
        "\n",
        "$H_0$: average GPA in CS 225 = $\\mu$\n",
        "\n",
        "### Alternative Hypothesis\n",
        "\n",
        "$H_a$: average GPA in CS 225 $\\neq$ $\\mu$"
      ]
    },
    {
      "cell_type": "markdown",
      "metadata": {
        "id": "P8Np__lWNctR",
        "nbgrader": {
          "grade": false,
          "grade_id": "cell-fac0da7c79fba6b7",
          "locked": true,
          "schema_version": 3,
          "solution": false,
          "task": false
        }
      },
      "source": [
        "## Part 2: Doing the Hypothesis Test\n",
        "Once again, look at some summary statistics about our data.\n",
        "\n",
        "## Part 2a: Summary Statistics\n",
        "\n",
        "Calculate the sample mean $\\bar{x}$, standard deviation $\\hat{\\sigma}$, sample size “n”, and the degrees of freedom “df” for students’ GPA for CS225 in the `cs225-final-grades.csv` data set. Have the cell print out all four values."
      ]
    },
    {
      "cell_type": "code",
      "execution_count": 65,
      "metadata": {
        "id": "5mryI_hMNctS",
        "nbgrader": {
          "grade": false,
          "grade_id": "cell-26dab0ff60b63979",
          "locked": false,
          "schema_version": 3,
          "solution": true
        },
        "scrolled": true
      },
      "outputs": [
        {
          "name": "stdout",
          "output_type": "stream",
          "text": [
            "The average amount of points that a student gets in CS225 is 915.3368698934578 points.\n",
            "The standard deviation of points that a student gets in CS225 is 182.19112009595577 points.\n",
            "The sample size is 107 students.\n",
            "The degrees of freedom is 106.\n"
          ]
        }
      ],
      "source": [
        "cs225_sample_mean = cs225[\"CS 225 Final Grade\"].mean()\n",
        "cs225_sample_std = cs225[\"CS 225 Final Grade\"].std()\n",
        "cs225_sample_size = len(cs225)\n",
        "cs225_df = cs225_sample_size - 1\n",
        "print(\"The average amount of points that a student gets in CS225 is \" + str(cs225_sample_mean) + \" points.\")\n",
        "print(\"The standard deviation of points that a student gets in CS225 is \" + str(cs225_sample_std) + \" points.\")\n",
        "print(\"The sample size is \" + str(cs225_sample_size) + \" students.\")\n",
        "print(\"The degrees of freedom is \" + str(cs225_df) + \".\")"
      ]
    },
    {
      "cell_type": "code",
      "execution_count": 66,
      "metadata": {
        "colab": {
          "base_uri": "https://localhost:8080/"
        },
        "id": "7XwNorGANctS",
        "outputId": "e9cc0981-f1f2-4372-9d51-cdc0f971b770"
      },
      "outputs": [
        {
          "name": "stdout",
          "output_type": "stream",
          "text": [
            "🎉 All tests passed! 🎉\n",
            "\n"
          ]
        }
      ],
      "source": [
        "#TEST CASE\n",
        "### == TEST CASES for Puzzle 2.2a ==\n",
        "# - This read-only cell contains test cases for your previous cell.\n",
        "# - If this cell runs without any error our output, you PASSED all test cases!\n",
        "# - If this cell results in any errors, check you previous cell, make changes, and RE-RUN your code and then this cell.\n",
        "\n",
        "import math\n",
        "assert(math.isclose(cs225_sample_mean, 915.3368698934579, abs_tol= 0.05)), \"The mean does not appear to seem correct. Make sure you are taking the mean of the correct variable.\"\n",
        "assert(math.isclose(cs225_sample_std, 182.1911200959558, abs_tol= 0.05)), \"The standard deviation does not appear to seem correct. Make sure you are taking the std of the correct variable.\"\n",
        "assert(math.isclose(cs225_sample_size, 107)), \"The sample size does not appear to seem correct. Make sure you are taking the sample size of the correct dataframe.\"\n",
        "assert(math.isclose(cs225_df, 106)), \"The df does not appear to seem correct. Make sure you are taking the df of the correct dataframe.\"\n",
        "\n",
        "## == SUCCESS MESSAGE ==\n",
        "# You will only see this message (with the emoji showing) if you passed all test cases:\n",
        "tada = \"\\N{PARTY POPPER}\"\n",
        "print(f\"{tada} All tests passed! {tada}\")\n",
        "print()"
      ]
    },
    {
      "cell_type": "markdown",
      "metadata": {
        "id": "pedVn9jMNctS"
      },
      "source": [
        "## Part 2b: t-Test Statistic, t-Critical Value, and p-value\n",
        "\n",
        "Calculate the t-test statistic, t-critical value, and p-value just like we did for Puzzle 1.\n",
        "\n",
        "\n",
        "**Hint 1:** Remember to use the df that you calculated above instead of n when calculating the t-Critical Value and p-value. Also, take note if your p-value should be two sided or one sided!\n",
        "\n",
        "**Hint 2:** Remember to use $\\frac{\\alpha}{2}$ when calculating the t-Critical Value.\n",
        "\n",
        "**Hint 3:** Translate your $\\bar{x}$ and $\\sigma$ into GPA points. If $\\bar{x}$ > 930 points, then set $\\bar{x}$ = 4.00. If $\\bar{x}$ is between 900 and 930, then set $\\bar{x}$ = 3.67. Etc. Don't forget to do this for the calculations below!\n",
        "\n",
        "When doing your calculations below, use $\\sigma$ = 1.67.  "
      ]
    },
    {
      "cell_type": "code",
      "execution_count": 67,
      "metadata": {
        "id": "2YCebiMUNctS"
      },
      "outputs": [
        {
          "name": "stdout",
          "output_type": "stream",
          "text": [
            "The t-test statistic is 2.7742715948767347.\n",
            "The t-critical value is 1.9825972617102907.\n",
            "The p-value for the hypothesis test is 0.006539701273862873.\n"
          ]
        }
      ],
      "source": [
        "SD_plus = ((cs225_sample_size / cs225_df)**0.5) * 1.67\n",
        "standard_error = SD_plus / (cs225_sample_size**0.5)\n",
        "cs225_t_stat = (3.67-3.22) / standard_error\n",
        "cs225_critical_value = scipy.stats.t.ppf(0.975, cs225_df)\n",
        "cs225_p_value = 2 * scipy.stats.t.sf(cs225_t_stat, cs225_df)\n",
        "print(\"The t-test statistic is \" + str(cs225_t_stat) + \".\")\n",
        "print(\"The t-critical value is \" + str(cs225_critical_value) + \".\")\n",
        "print(\"The p-value for the hypothesis test is \" + str(cs225_p_value) + \".\")"
      ]
    },
    {
      "cell_type": "code",
      "execution_count": 68,
      "metadata": {
        "colab": {
          "base_uri": "https://localhost:8080/"
        },
        "id": "pvsl1gzDNctS",
        "outputId": "00223afd-9362-4650-df07-a3220faf87e3"
      },
      "outputs": [
        {
          "name": "stdout",
          "output_type": "stream",
          "text": [
            "🎉 All tests passed! 🎉\n"
          ]
        }
      ],
      "source": [
        "#TEST CASE\n",
        "### == TEST CASES for Puzzle 2.2b ==\n",
        "# - This read-only cell contains test cases for your previous cell.\n",
        "# - If this cell runs without any error our output, you PASSED all test cases!\n",
        "# - If this cell results in any errors, check you previous cell, make changes, and RE-RUN your code and then this cell.\n",
        "\n",
        "import math\n",
        "assert(math.isclose(cs225_t_stat, 2.7873270627274658, abs_tol= 0.05)), \"Your t statistic does not seem correct. Make sure you are using the correct formula.\"\n",
        "assert(math.isclose(cs225_critical_value, 1.9825972617102907, abs_tol= 0.05)), \"Your critical value does not seem to be correct. Did you use α instead of α/2?\"\n",
        "assert(math.isclose(cs225_p_value, 0.006299433880445842, abs_tol= 0.0005)), \"Your p_value does not seem to be correct. Make sure you are inputing the right values.\"\n",
        "\n",
        "## == SUCCESS MESSAGE ==\n",
        "# You will only see this message (with the emoji showing) if you passed all test cases:\n",
        "tada = \"\\N{PARTY POPPER}\"\n",
        "print(f\"{tada} All tests passed! {tada}\")"
      ]
    },
    {
      "cell_type": "markdown",
      "metadata": {
        "id": "Y1KexMQ2NctT"
      },
      "source": [
        "## Part 2c: Confidence Interval\n",
        "\n",
        "Construct a 95% confidence interval for the sample mean of the student’s GPA for CS225. Use the following formula. \n",
        "\n",
        "**($\\bar{x}$ - $t_{\\frac{\\alpha}{2}, df}$(SE) , $\\bar{x}$ + $t_{\\frac{\\alpha}{2}, df}$(SE))**\n",
        "\n",
        "Where $t_{\\frac{\\alpha}{2}, df}$ is the t-critical value that you calculated in part b."
      ]
    },
    {
      "cell_type": "code",
      "execution_count": 69,
      "metadata": {
        "id": "97xEdULCNctT"
      },
      "outputs": [
        {
          "name": "stdout",
          "output_type": "stream",
          "text": [
            "The 95% CI is:(3.35207871153322, 3.98792128846678).\n"
          ]
        }
      ],
      "source": [
        "lower_bound = 3.67 - (1.96 * standard_error)\n",
        "upper_bound = 3.67 + (1.96 * standard_error)\n",
        "print(\"The 95% CI is:(\" + str(lower_bound) + \", \" + str(upper_bound) + \").\")"
      ]
    },
    {
      "cell_type": "code",
      "execution_count": 70,
      "metadata": {
        "colab": {
          "base_uri": "https://localhost:8080/"
        },
        "id": "PHbaDrwTNctT",
        "outputId": "e518eb1e-aff8-4543-a379-598a4beb1f0a"
      },
      "outputs": [
        {
          "name": "stdout",
          "output_type": "stream",
          "text": [
            "🎉 All tests passed! 🎉\n"
          ]
        }
      ],
      "source": [
        "#TEST CASE\n",
        "### == TEST CASES for Puzzle 2.2c ==\n",
        "# - This read-only cell contains test cases for your previous cell.\n",
        "# - If this cell runs without any error our output, you PASSED all test cases!\n",
        "# - If this cell results in any errors, check you previous cell, make changes, and RE-RUN your code and then this cell.\n",
        "\n",
        "assert(math.isclose(lower_bound, 3.349919597631782, abs_tol= 0.05)), \"Your lower bound does not seem correct. Make sure your formula is correct.\"\n",
        "assert(math.isclose(upper_bound, 3.9900804023682177, abs_tol= 0.05)), \"Your upper bound does not seem to be correct. Make sure your formula is correct.\"\n",
        "\n",
        "## == SUCCESS MESSAGE ==\n",
        "# You will only see this message (with the emoji showing) if you passed all test cases:\n",
        "tada = \"\\N{PARTY POPPER}\"\n",
        "print(f\"{tada} All tests passed! {tada}\")"
      ]
    },
    {
      "cell_type": "markdown",
      "metadata": {
        "id": "GuO8ymsvNctT"
      },
      "source": [
        "## Part 3: Interpretation\n",
        "\n",
        "As with the last puzzle, the interpretation of the results for the hypothesis test is important.\n",
        "\n",
        "## Part 3a: The Result\n",
        "\n",
        "In the following cell, delete the statements that you do not believe are true and keep the one you believe is correct."
      ]
    },
    {
      "cell_type": "code",
      "execution_count": 71,
      "metadata": {
        "id": "wg0OeqT8NctT"
      },
      "outputs": [],
      "source": [
        "# Remove two of the following lines to leave only the correct answer:\n",
        "Conclusion = \"There is enough evidence to reject the null hypothesis. Thus, we reject the null hypothesis.\""
      ]
    },
    {
      "cell_type": "code",
      "execution_count": 72,
      "metadata": {
        "id": "1Uk9GF7lNctT"
      },
      "outputs": [
        {
          "name": "stdout",
          "output_type": "stream",
          "text": [
            "🎉 All tests passed! 🎉\n"
          ]
        }
      ],
      "source": [
        "#TEST CASE\n",
        "### == TEST CASES for Puzzle 2.3a ==\n",
        "# - This read-only cell contains test cases for your previous cell.\n",
        "# - If this cell runs without any error our output, you PASSED all test cases!\n",
        "# - If this cell results in any errors, check you previous cell, make changes, and RE-RUN your code and then this cell.\n",
        "assert(Conclusion.split()[2][3::-1] == \"uone\"), \"Your conclusion does not seem correct. Think about more!\"\n",
        "\n",
        "## == SUCCESS MESSAGE ==\n",
        "# You will only see this message (with the emoji showing) if you passed all test cases:\n",
        "tada = \"\\N{PARTY POPPER}\"\n",
        "print(f\"{tada} All tests passed! {tada}\")"
      ]
    },
    {
      "cell_type": "markdown",
      "metadata": {
        "id": "erVZgJOMNctU"
      },
      "source": [
        "## ❓Part 3b: Group Discussion❓\n",
        "\n",
        "When you get back to campus and sit in your first lecture, you see a friend of yours. They are concerned about taking this course due to reading horror stories about it on Reddit. They did not do any of the research that you did. They also have never taken a statistics course before. What will you end up telling them? With your group, discuss the results of what your hypothesis test means, and interpret its practical significance if there is any. Use **NON-STATISTICAL** terminology here."
      ]
    },
    {
      "cell_type": "markdown",
      "metadata": {
        "id": "QCTryZ0eNctU"
      },
      "source": [
        "Based on the analysis, the average GPA for STAT107 students is not 3.22. The average GPA for STAT107 students is likely to be from 3.35 to 3.98. "
      ]
    },
    {
      "cell_type": "markdown",
      "metadata": {
        "id": "e4Jvl4PAfI-T"
      },
      "source": [
        "# Puzzle 3: Baseball Analysis\n",
        "\n",
        "\n",
        "One final t test!!  Over the summer, you get an internship for a high school summer baseball league. In this league, there are four different levels for each age group. The levels (in descending order) are the Invite, the Elite, the Select, and the Enlist. \n",
        "\n",
        "As you start the last few days of your internship, your supervisor asks to see you. He asks a favor of you before you leave. Each year, the winner of each level below Invite may petition the league to move up to the next highest level for next summer. All of the petitions but one have been approved or denied. Their statistics intern left already and forgot to look over the last petition. They are on a family vacation before the semester starts, so your supervisor cannot get ahold of them. You had once mentioned you took a statistics course, so your supervisor asks for help. He has gone through the petition. However, before making the final decision, he wants to know if the team’s batting average is statistically different from the Select’s overall. He knows a hypothesis test is required, but does not remember how to perform it. **Fortunately, you still have VS Code and Python installed on your laptop ;)**"
      ]
    },
    {
      "cell_type": "code",
      "execution_count": 73,
      "metadata": {
        "id": "qDrsUmYPfM0q"
      },
      "outputs": [
        {
          "data": {
            "text/html": [
              "<div>\n",
              "<style scoped>\n",
              "    .dataframe tbody tr th:only-of-type {\n",
              "        vertical-align: middle;\n",
              "    }\n",
              "\n",
              "    .dataframe tbody tr th {\n",
              "        vertical-align: top;\n",
              "    }\n",
              "\n",
              "    .dataframe thead th {\n",
              "        text-align: right;\n",
              "    }\n",
              "</style>\n",
              "<table border=\"1\" class=\"dataframe\">\n",
              "  <thead>\n",
              "    <tr style=\"text-align: right;\">\n",
              "      <th></th>\n",
              "      <th>Unnamed: 0</th>\n",
              "      <th>Number</th>\n",
              "      <th>GP</th>\n",
              "      <th>PA</th>\n",
              "      <th>AB</th>\n",
              "      <th>H</th>\n",
              "      <th>H_1B</th>\n",
              "      <th>H_2B</th>\n",
              "      <th>H_3B</th>\n",
              "      <th>HR</th>\n",
              "      <th>...</th>\n",
              "      <th>DP</th>\n",
              "      <th>TP</th>\n",
              "      <th>FPCT</th>\n",
              "      <th>cINN</th>\n",
              "      <th>cPB</th>\n",
              "      <th>cSB</th>\n",
              "      <th>cCS</th>\n",
              "      <th>cCSprct</th>\n",
              "      <th>cPIK</th>\n",
              "      <th>cCI</th>\n",
              "    </tr>\n",
              "  </thead>\n",
              "  <tbody>\n",
              "    <tr>\n",
              "      <th>0</th>\n",
              "      <td>1</td>\n",
              "      <td>1</td>\n",
              "      <td>29</td>\n",
              "      <td>93</td>\n",
              "      <td>71</td>\n",
              "      <td>20</td>\n",
              "      <td>12</td>\n",
              "      <td>7</td>\n",
              "      <td>1</td>\n",
              "      <td>0</td>\n",
              "      <td>...</td>\n",
              "      <td>1</td>\n",
              "      <td>0</td>\n",
              "      <td>0.957</td>\n",
              "      <td>134.1</td>\n",
              "      <td>2</td>\n",
              "      <td>20</td>\n",
              "      <td>5</td>\n",
              "      <td>0.200</td>\n",
              "      <td>3</td>\n",
              "      <td>0</td>\n",
              "    </tr>\n",
              "    <tr>\n",
              "      <th>1</th>\n",
              "      <td>2</td>\n",
              "      <td>3</td>\n",
              "      <td>29</td>\n",
              "      <td>96</td>\n",
              "      <td>73</td>\n",
              "      <td>29</td>\n",
              "      <td>27</td>\n",
              "      <td>2</td>\n",
              "      <td>0</td>\n",
              "      <td>0</td>\n",
              "      <td>...</td>\n",
              "      <td>3</td>\n",
              "      <td>0</td>\n",
              "      <td>0.938</td>\n",
              "      <td>0.0</td>\n",
              "      <td>0</td>\n",
              "      <td>0</td>\n",
              "      <td>0</td>\n",
              "      <td>0.000</td>\n",
              "      <td>0</td>\n",
              "      <td>0</td>\n",
              "    </tr>\n",
              "    <tr>\n",
              "      <th>2</th>\n",
              "      <td>3</td>\n",
              "      <td>4</td>\n",
              "      <td>29</td>\n",
              "      <td>84</td>\n",
              "      <td>77</td>\n",
              "      <td>30</td>\n",
              "      <td>25</td>\n",
              "      <td>5</td>\n",
              "      <td>0</td>\n",
              "      <td>0</td>\n",
              "      <td>...</td>\n",
              "      <td>1</td>\n",
              "      <td>0</td>\n",
              "      <td>0.909</td>\n",
              "      <td>0.0</td>\n",
              "      <td>0</td>\n",
              "      <td>0</td>\n",
              "      <td>0</td>\n",
              "      <td>0.000</td>\n",
              "      <td>0</td>\n",
              "      <td>0</td>\n",
              "    </tr>\n",
              "    <tr>\n",
              "      <th>3</th>\n",
              "      <td>4</td>\n",
              "      <td>9</td>\n",
              "      <td>29</td>\n",
              "      <td>98</td>\n",
              "      <td>74</td>\n",
              "      <td>22</td>\n",
              "      <td>16</td>\n",
              "      <td>4</td>\n",
              "      <td>2</td>\n",
              "      <td>0</td>\n",
              "      <td>...</td>\n",
              "      <td>0</td>\n",
              "      <td>0</td>\n",
              "      <td>0.941</td>\n",
              "      <td>0.0</td>\n",
              "      <td>0</td>\n",
              "      <td>0</td>\n",
              "      <td>0</td>\n",
              "      <td>0.000</td>\n",
              "      <td>0</td>\n",
              "      <td>0</td>\n",
              "    </tr>\n",
              "    <tr>\n",
              "      <th>4</th>\n",
              "      <td>5</td>\n",
              "      <td>17</td>\n",
              "      <td>21</td>\n",
              "      <td>39</td>\n",
              "      <td>22</td>\n",
              "      <td>4</td>\n",
              "      <td>3</td>\n",
              "      <td>1</td>\n",
              "      <td>0</td>\n",
              "      <td>0</td>\n",
              "      <td>...</td>\n",
              "      <td>0</td>\n",
              "      <td>0</td>\n",
              "      <td>0.915</td>\n",
              "      <td>41.2</td>\n",
              "      <td>5</td>\n",
              "      <td>11</td>\n",
              "      <td>1</td>\n",
              "      <td>0.083</td>\n",
              "      <td>0</td>\n",
              "      <td>0</td>\n",
              "    </tr>\n",
              "    <tr>\n",
              "      <th>5</th>\n",
              "      <td>6</td>\n",
              "      <td>21</td>\n",
              "      <td>29</td>\n",
              "      <td>77</td>\n",
              "      <td>56</td>\n",
              "      <td>17</td>\n",
              "      <td>16</td>\n",
              "      <td>1</td>\n",
              "      <td>0</td>\n",
              "      <td>0</td>\n",
              "      <td>...</td>\n",
              "      <td>2</td>\n",
              "      <td>0</td>\n",
              "      <td>0.939</td>\n",
              "      <td>0.0</td>\n",
              "      <td>0</td>\n",
              "      <td>0</td>\n",
              "      <td>0</td>\n",
              "      <td>0.000</td>\n",
              "      <td>0</td>\n",
              "      <td>0</td>\n",
              "    </tr>\n",
              "    <tr>\n",
              "      <th>6</th>\n",
              "      <td>7</td>\n",
              "      <td>22</td>\n",
              "      <td>27</td>\n",
              "      <td>35</td>\n",
              "      <td>25</td>\n",
              "      <td>2</td>\n",
              "      <td>2</td>\n",
              "      <td>0</td>\n",
              "      <td>0</td>\n",
              "      <td>0</td>\n",
              "      <td>...</td>\n",
              "      <td>0</td>\n",
              "      <td>0</td>\n",
              "      <td>0.938</td>\n",
              "      <td>4.0</td>\n",
              "      <td>3</td>\n",
              "      <td>2</td>\n",
              "      <td>0</td>\n",
              "      <td>0.000</td>\n",
              "      <td>0</td>\n",
              "      <td>0</td>\n",
              "    </tr>\n",
              "    <tr>\n",
              "      <th>7</th>\n",
              "      <td>8</td>\n",
              "      <td>23</td>\n",
              "      <td>27</td>\n",
              "      <td>76</td>\n",
              "      <td>63</td>\n",
              "      <td>20</td>\n",
              "      <td>13</td>\n",
              "      <td>4</td>\n",
              "      <td>3</td>\n",
              "      <td>0</td>\n",
              "      <td>...</td>\n",
              "      <td>2</td>\n",
              "      <td>0</td>\n",
              "      <td>0.886</td>\n",
              "      <td>0.0</td>\n",
              "      <td>0</td>\n",
              "      <td>0</td>\n",
              "      <td>0</td>\n",
              "      <td>0.000</td>\n",
              "      <td>0</td>\n",
              "      <td>0</td>\n",
              "    </tr>\n",
              "    <tr>\n",
              "      <th>8</th>\n",
              "      <td>9</td>\n",
              "      <td>24</td>\n",
              "      <td>27</td>\n",
              "      <td>68</td>\n",
              "      <td>53</td>\n",
              "      <td>9</td>\n",
              "      <td>7</td>\n",
              "      <td>1</td>\n",
              "      <td>1</td>\n",
              "      <td>0</td>\n",
              "      <td>...</td>\n",
              "      <td>0</td>\n",
              "      <td>0</td>\n",
              "      <td>1.000</td>\n",
              "      <td>0.0</td>\n",
              "      <td>0</td>\n",
              "      <td>0</td>\n",
              "      <td>0</td>\n",
              "      <td>0.000</td>\n",
              "      <td>0</td>\n",
              "      <td>0</td>\n",
              "    </tr>\n",
              "    <tr>\n",
              "      <th>9</th>\n",
              "      <td>10</td>\n",
              "      <td>27</td>\n",
              "      <td>1</td>\n",
              "      <td>1</td>\n",
              "      <td>0</td>\n",
              "      <td>0</td>\n",
              "      <td>0</td>\n",
              "      <td>0</td>\n",
              "      <td>0</td>\n",
              "      <td>0</td>\n",
              "      <td>...</td>\n",
              "      <td>0</td>\n",
              "      <td>0</td>\n",
              "      <td>0.000</td>\n",
              "      <td>0.0</td>\n",
              "      <td>0</td>\n",
              "      <td>0</td>\n",
              "      <td>0</td>\n",
              "      <td>0.000</td>\n",
              "      <td>0</td>\n",
              "      <td>0</td>\n",
              "    </tr>\n",
              "    <tr>\n",
              "      <th>10</th>\n",
              "      <td>11</td>\n",
              "      <td>27</td>\n",
              "      <td>25</td>\n",
              "      <td>68</td>\n",
              "      <td>55</td>\n",
              "      <td>15</td>\n",
              "      <td>8</td>\n",
              "      <td>7</td>\n",
              "      <td>0</td>\n",
              "      <td>0</td>\n",
              "      <td>...</td>\n",
              "      <td>2</td>\n",
              "      <td>0</td>\n",
              "      <td>0.871</td>\n",
              "      <td>0.0</td>\n",
              "      <td>0</td>\n",
              "      <td>0</td>\n",
              "      <td>0</td>\n",
              "      <td>0.000</td>\n",
              "      <td>0</td>\n",
              "      <td>0</td>\n",
              "    </tr>\n",
              "    <tr>\n",
              "      <th>11</th>\n",
              "      <td>12</td>\n",
              "      <td>29</td>\n",
              "      <td>25</td>\n",
              "      <td>62</td>\n",
              "      <td>54</td>\n",
              "      <td>13</td>\n",
              "      <td>13</td>\n",
              "      <td>0</td>\n",
              "      <td>0</td>\n",
              "      <td>0</td>\n",
              "      <td>...</td>\n",
              "      <td>5</td>\n",
              "      <td>0</td>\n",
              "      <td>0.901</td>\n",
              "      <td>0.0</td>\n",
              "      <td>0</td>\n",
              "      <td>0</td>\n",
              "      <td>0</td>\n",
              "      <td>0.000</td>\n",
              "      <td>0</td>\n",
              "      <td>0</td>\n",
              "    </tr>\n",
              "    <tr>\n",
              "      <th>12</th>\n",
              "      <td>13</td>\n",
              "      <td>32</td>\n",
              "      <td>29</td>\n",
              "      <td>91</td>\n",
              "      <td>71</td>\n",
              "      <td>18</td>\n",
              "      <td>17</td>\n",
              "      <td>1</td>\n",
              "      <td>0</td>\n",
              "      <td>0</td>\n",
              "      <td>...</td>\n",
              "      <td>2</td>\n",
              "      <td>0</td>\n",
              "      <td>0.926</td>\n",
              "      <td>0.0</td>\n",
              "      <td>0</td>\n",
              "      <td>0</td>\n",
              "      <td>0</td>\n",
              "      <td>0.000</td>\n",
              "      <td>0</td>\n",
              "      <td>0</td>\n",
              "    </tr>\n",
              "  </tbody>\n",
              "</table>\n",
              "<p>13 rows × 130 columns</p>\n",
              "</div>"
            ],
            "text/plain": [
              "    Unnamed: 0  Number  GP  PA  AB   H  H_1B  H_2B  H_3B  HR  ...  DP  TP  \\\n",
              "0            1       1  29  93  71  20    12     7     1   0  ...   1   0   \n",
              "1            2       3  29  96  73  29    27     2     0   0  ...   3   0   \n",
              "2            3       4  29  84  77  30    25     5     0   0  ...   1   0   \n",
              "3            4       9  29  98  74  22    16     4     2   0  ...   0   0   \n",
              "4            5      17  21  39  22   4     3     1     0   0  ...   0   0   \n",
              "5            6      21  29  77  56  17    16     1     0   0  ...   2   0   \n",
              "6            7      22  27  35  25   2     2     0     0   0  ...   0   0   \n",
              "7            8      23  27  76  63  20    13     4     3   0  ...   2   0   \n",
              "8            9      24  27  68  53   9     7     1     1   0  ...   0   0   \n",
              "9           10      27   1   1   0   0     0     0     0   0  ...   0   0   \n",
              "10          11      27  25  68  55  15     8     7     0   0  ...   2   0   \n",
              "11          12      29  25  62  54  13    13     0     0   0  ...   5   0   \n",
              "12          13      32  29  91  71  18    17     1     0   0  ...   2   0   \n",
              "\n",
              "     FPCT   cINN  cPB  cSB  cCS  cCSprct  cPIK  cCI  \n",
              "0   0.957  134.1    2   20    5    0.200     3    0  \n",
              "1   0.938    0.0    0    0    0    0.000     0    0  \n",
              "2   0.909    0.0    0    0    0    0.000     0    0  \n",
              "3   0.941    0.0    0    0    0    0.000     0    0  \n",
              "4   0.915   41.2    5   11    1    0.083     0    0  \n",
              "5   0.939    0.0    0    0    0    0.000     0    0  \n",
              "6   0.938    4.0    3    2    0    0.000     0    0  \n",
              "7   0.886    0.0    0    0    0    0.000     0    0  \n",
              "8   1.000    0.0    0    0    0    0.000     0    0  \n",
              "9   0.000    0.0    0    0    0    0.000     0    0  \n",
              "10  0.871    0.0    0    0    0    0.000     0    0  \n",
              "11  0.901    0.0    0    0    0    0.000     0    0  \n",
              "12  0.926    0.0    0    0    0    0.000     0    0  \n",
              "\n",
              "[13 rows x 130 columns]"
            ]
          },
          "execution_count": 73,
          "metadata": {},
          "output_type": "execute_result"
        }
      ],
      "source": [
        "#Import the Baseball Data Set\n",
        "bb = pd.read_csv(\"baseball.csv\")\n",
        "bb"
      ]
    },
    {
      "cell_type": "code",
      "execution_count": 74,
      "metadata": {
        "id": "H8yfZUWdfSMF"
      },
      "outputs": [
        {
          "name": "stdout",
          "output_type": "stream",
          "text": [
            "🎉 All tests passed! 🎉\n",
            "\n"
          ]
        }
      ],
      "source": [
        "#TEST CASE\n",
        "## == TEST CASES for Puzzle 3 Data ==\n",
        "# - This read-only cell contains test cases for your previous cell.\n",
        "# - If this cell runs without any error our output, you PASSED all test cases!\n",
        "# - If this cell results in any errors, check you previous cell, make changes, and RE-RUN your code and then this cell.\n",
        "\n",
        "assert(len(bb) == 13), \"The dataframe does not appear to have correct dataset loaded.\"\n",
        "\n",
        "## == SUCCESS MESSAGE ==\n",
        "# You will only see this message (with the emoji showing) if you passed all test cases:\n",
        "tada = \"\\N{PARTY POPPER}\"\n",
        "print(f\"{tada} All tests passed! {tada}\")\n",
        "print()"
      ]
    },
    {
      "cell_type": "markdown",
      "metadata": {
        "id": "D3qQZNA_fUaW"
      },
      "source": [
        "## Part 1: Null and Alternative Hypothesis\n",
        "\n",
        "## ❓Individual Reflection❓ \n",
        "\n",
        "State your Null and Alternative Hypothesis. Again, use a two sided alternative.  Edit the next cell to do this!\n",
        "\n",
        "To type $\\mu$ in Markdown, type, `$\\mu$`.\n",
        "\n",
        "To type $\\neq$ in Markdown, type, `$\\neq$`\n",
        "\n",
        "**Hint:** The mean batting average for the Select teams over the summer was 0.212."
      ]
    },
    {
      "cell_type": "markdown",
      "metadata": {
        "id": "IeIxWU6WfYKF"
      },
      "source": [
        "### Null Hypothesis\n",
        "\n",
        "$H_0$: the mean batting average for the Enlist teams = $\\mu$\n",
        "\n",
        "### Alternative Hypothesis\n",
        "\n",
        "$H_a$: the mean batting average for the Enlist teams $\\neq$ $\\mu$"
      ]
    },
    {
      "cell_type": "markdown",
      "metadata": {
        "id": "hHQvw_VPfcnc"
      },
      "source": [
        "## Part 2: Doing the Hypothesis Test\n",
        "\n",
        "\n",
        "Once again, look at some summary statistics about our data.\n",
        "\n",
        "\n",
        "## Part 2a: Summary Statistics\n",
        "\n",
        "\n",
        "Calculate the sample mean $\\bar{x}$, standard deviation $\\hat{\\sigma}$, sample size “n”, and the degrees of freedom “df” for the team’s batting average last summer in the `baseball.csv` data set. Have the cell print out all four values.\n",
        "\n",
        "**NOTE 1:** You **CAN NOT** calculate the mean batting average for a team by adding up all the batting averages and dividing by n. To find the mean batting average $\\bar{x}$, use the formula below instead.\n",
        "\n",
        "**NOTE 2:** With the sample mean being calculated differently, the standard deviation will have to be manually calculated as well. If you use the standard deviation function in Python, it will use the incorrect sample mean instead. To find the standard deviation, use the formula below instead.\n",
        "\n",
        "\n",
        "$\\bar{x}$ = $\\frac{\\sum_{i=1}^{n} H_{i}}{\\sum_{i=1}^{n} AB_{i}}$\n",
        "\n",
        "Or, take the total number of hits (H) and divide it by the total number of at-bats (AB).\n",
        "\n",
        "SD = $\\sqrt{\\frac{1}{n-1} \\sum_{i=1}^{n} (x_{i}-\\bar{x})^{2}}$\n",
        "\n",
        "Or, take the observed values and subtract the sample mean, square them, sum them all up, divide them by n-1 (the degrees of freedom), and take the square root."
      ]
    },
    {
      "cell_type": "code",
      "execution_count": 75,
      "metadata": {
        "id": "I2159qURfgVt"
      },
      "outputs": [
        {
          "name": "stdout",
          "output_type": "stream",
          "text": [
            "The average batting average of the team is 0.28674351585014407 .\n",
            "The standard deviation of the batting average of the team is AVG    0.121476\n",
            "dtype: float64 points.\n",
            "The sample size is 13 students.\n",
            "The degrees of freedom is 12.\n"
          ]
        }
      ],
      "source": [
        "#Python Code\n",
        "values = ['AVG']\n",
        "\n",
        "# use the formula above to find the sample mean\n",
        "bb_sample_mean = bb[\"H\"].sum() / bb[\"AB\"].sum()\n",
        "\n",
        "bb_sample_size = len(bb)\n",
        "bb_df = len(bb) - 1\n",
        "\n",
        "# this creates a dataframe with the mean variance values\n",
        "bb_sample_var = (bb[values] - bb_sample_mean)**2\n",
        "\n",
        "# use the formula above to find the sample SD\n",
        "bb_sample_std = ((bb_sample_var.sum() / bb_df)**0.5)\n",
        "\n",
        "print(\"The average batting average of the team is \" + str(bb_sample_mean) + \" .\")\n",
        "print(\"The standard deviation of the batting average of the team is \" + str(bb_sample_std) + \" points.\")\n",
        "print(\"The sample size is \" + str(bb_sample_size) + \" students.\")\n",
        "print(\"The degrees of freedom is \" + str(bb_df) + \".\")\n"
      ]
    },
    {
      "cell_type": "code",
      "execution_count": 76,
      "metadata": {
        "id": "Yt_Ga6cofinV"
      },
      "outputs": [
        {
          "name": "stdout",
          "output_type": "stream",
          "text": [
            "🎉 All tests passed! 🎉\n",
            "\n"
          ]
        }
      ],
      "source": [
        "#TEST CASE\n",
        "### == TEST CASES for Puzzle 3.2a ==\n",
        "# - This read-only cell contains test cases for your previous cell.\n",
        "# - If this cell runs without any error our output, you PASSED all test cases!\n",
        "# - If this cell results in any errors, check you previous cell, make changes, and RE-RUN your code and then this cell.\n",
        "\n",
        "import math\n",
        "assert(math.isclose(bb_sample_mean, 0.28674351585014407, abs_tol= 0.05)), \"The mean does not appear to seem correct. Make sure you are taking the mean of the correct variable.\"\n",
        "assert(math.isclose(bb_sample_std, 0.12147626669385032, abs_tol= 0.05)), \"The standard deviation does not appear to seem correct. Make sure you are taking the std of the correct variable.\"\n",
        "assert(math.isclose(bb_sample_size, 13)), \"The sample size does not appear to seem correct. Make sure you are taking the sample size of the correct dataframe.\"\n",
        "assert(math.isclose(bb_df, 12)), \"The df does not appear to seem correct. Make sure you are taking the df of the correct dataframe.\"\n",
        "\n",
        "## == SUCCESS MESSAGE ==\n",
        "# You will only see this message (with the emoji showing) if you passed all test cases:\n",
        "tada = \"\\N{PARTY POPPER}\"\n",
        "print(f\"{tada} All tests passed! {tada}\")\n",
        "print()"
      ]
    },
    {
      "cell_type": "markdown",
      "metadata": {
        "id": "yyZqMV00fnBP"
      },
      "source": [
        "## Part 2b: t-Test Statistic, t-Critical Value, and p-value\n",
        "\n",
        "Calculate the t-test statistic, t-critical value, and p-value."
      ]
    },
    {
      "cell_type": "code",
      "execution_count": 81,
      "metadata": {
        "id": "rPQBSyh-fsxf"
      },
      "outputs": [
        {
          "name": "stdout",
          "output_type": "stream",
          "text": [
            "The t-test statistic is AVG    2.218471\n",
            "dtype: float64.\n",
            "The t-critical value is 2.1788128296634177.\n",
            "The p-value for the hypothesis test is [0.04656628].\n"
          ]
        }
      ],
      "source": [
        "standard_error = bb_sample_std / np.sqrt(bb_sample_size)\n",
        "bb_t_stat = (bb_sample_mean - 0.212) / standard_error\n",
        "bb_critical_value = scipy.stats.t.ppf(0.975, bb_df)\n",
        "bb_p_value = 2 * scipy.stats.t.sf(bb_t_stat, bb_df)\n",
        "print(\"The t-test statistic is \" + str(bb_t_stat) + \".\")\n",
        "print(\"The t-critical value is \" + str(bb_critical_value) + \".\")\n",
        "print(\"The p-value for the hypothesis test is \" + str(bb_p_value) + \".\")"
      ]
    },
    {
      "cell_type": "code",
      "execution_count": 82,
      "metadata": {
        "id": "qGos6vncfulS"
      },
      "outputs": [
        {
          "name": "stdout",
          "output_type": "stream",
          "text": [
            "🎉 All tests passed! 🎉\n"
          ]
        }
      ],
      "source": [
        "#TEST CASE\n",
        "### == TEST CASES for Puzzle 3.2b ==\n",
        "# - This read-only cell contains test cases for your previous cell.\n",
        "# - If this cell runs without any error our output, you PASSED all test cases!\n",
        "# - If this cell results in any errors, check you previous cell, make changes, and RE-RUN your code and then this cell.\n",
        "\n",
        "import math\n",
        "assert(math.isclose(bb_t_stat, 2.218471, abs_tol= 0.05)), \"You t statistics does not seem correct. Make sure you are using the correct formula.\"\n",
        "assert(math.isclose(bb_critical_value, 2.1788128296634177, abs_tol= 0.05)), \"Your critical value does not seem to be correct. Did you use α instead of α/2?\"\n",
        "assert(math.isclose(bb_p_value, 0.04656628335554172, abs_tol= 0.005)), \"Your p_value does not seem to be correct. Make sure you are inputing the right values.\"\n",
        "\n",
        "## == SUCCESS MESSAGE ==\n",
        "# You will only see this message (with the emoji showing) if you passed all test cases:\n",
        "tada = \"\\N{PARTY POPPER}\"\n",
        "print(f\"{tada} All tests passed! {tada}\")"
      ]
    },
    {
      "cell_type": "markdown",
      "metadata": {
        "id": "KjTut-VRfwT_"
      },
      "source": [
        "## Part 2c: Confidence Interval\n",
        "\n",
        "Construct a 95% confidence interval for the sample mean of the team’s batting average. Use the following formula!\n",
        "\n",
        "**($\\bar{x}$ - $t_{\\frac{\\alpha}{2}, df}$(SE) , $\\bar{x}$ + $t_{\\frac{\\alpha}{2}, df}$(SE))**\n",
        "\n",
        "Where $t_{\\frac{\\alpha}{2}, df}$ is the t-critical value that you calculated in part b."
      ]
    },
    {
      "cell_type": "code",
      "execution_count": 83,
      "metadata": {
        "id": "bZZ7RlbYf0qI"
      },
      "outputs": [
        {
          "name": "stdout",
          "output_type": "stream",
          "text": [
            "The 95% CI is:(AVG    0.219965\n",
            "dtype: float64, AVG    0.352035\n",
            "dtype: float64).\n"
          ]
        }
      ],
      "source": [
        "lower_bound = 0.286 - (1.96 * standard_error)\n",
        "upper_bound = 0.286 + (1.96 * standard_error)\n",
        "print(\"The 95% CI is:(\" + str(lower_bound) + \", \" + str(upper_bound) + \").\")"
      ]
    },
    {
      "cell_type": "code",
      "execution_count": 84,
      "metadata": {
        "id": "PEq4MDTef17w"
      },
      "outputs": [
        {
          "name": "stdout",
          "output_type": "stream",
          "text": [
            "🎉 All tests passed! 🎉\n"
          ]
        }
      ],
      "source": [
        "#TEST CASE\n",
        "### == TEST CASES for Puzzle 3.2c ==\n",
        "# - This read-only cell contains test cases for your previous cell.\n",
        "# - If this cell runs without any error our output, you PASSED all test cases!\n",
        "# - If this cell results in any errors, check you previous cell, make changes, and RE-RUN your code and then this cell.\n",
        "\n",
        "assert(math.isclose(lower_bound, 0.21333614256625816, abs_tol= 0.05)), \"Your lower bound does not seem correct. Make sure your formula is correct.\"\n",
        "assert(math.isclose(upper_bound, 0.36015088913403, abs_tol= 0.05)), \"Your upper bound does not seem to be correct. Make sure your formula is correct.\"\n",
        "\n",
        "## == SUCCESS MESSAGE ==\n",
        "# You will only see this message (with the emoji showing) if you passed all test cases:\n",
        "tada = \"\\N{PARTY POPPER}\"\n",
        "print(f\"{tada} All tests passed! {tada}\")"
      ]
    },
    {
      "cell_type": "markdown",
      "metadata": {
        "id": "4B71dOb9f8BJ"
      },
      "source": [
        "## Part 3: Interpretation\n",
        "\n",
        "As with the last two puzzles, the interpretation of the results for the hypothesis test is important.\n",
        "\n",
        "## Part 3a: The Result\n",
        "\n",
        "In the following cell, delete the statements that you do not believe are true and keep the one you believe is correct."
      ]
    },
    {
      "cell_type": "code",
      "execution_count": 85,
      "metadata": {
        "id": "XRbJC7gEf_0R"
      },
      "outputs": [],
      "source": [
        "# Remove two of the following lines to leave only the correct answer:\n",
        "\n",
        "Conclusion = \"There is enough evidence to reject the null hypothesis. Thus, we reject the null hypothesis.\""
      ]
    },
    {
      "cell_type": "code",
      "execution_count": 86,
      "metadata": {
        "id": "sQVFhpZvgB6E"
      },
      "outputs": [
        {
          "name": "stdout",
          "output_type": "stream",
          "text": [
            "🎉 All tests passed! 🎉\n"
          ]
        }
      ],
      "source": [
        "#TEST CASE\n",
        "### == TEST CASES for Puzzle 3.3a ==\n",
        "# - This read-only cell contains test cases for your previous cell.\n",
        "# - If this cell runs without any error our output, you PASSED all test cases!\n",
        "# - If this cell results in any errors, check you previous cell, make changes, and RE-RUN your code and then this cell.\n",
        "assert(Conclusion.split()[2][3::-1] == \"uone\"), \"Your conclusion does not seem correct. Think about it some more!\"\n",
        "\n",
        "## == SUCCESS MESSAGE ==\n",
        "# You will only see this message (with the emoji showing) if you passed all test cases:\n",
        "tada = \"\\N{PARTY POPPER}\"\n",
        "print(f\"{tada} All tests passed! {tada}\")"
      ]
    },
    {
      "cell_type": "markdown",
      "metadata": {
        "id": "47G1bbVDgFIL"
      },
      "source": [
        "## ❓Part 3b: Group Discussion❓\n",
        "\n",
        "Now that you have completed your hypothesis test, what will you tell your supervisor? With your group, discuss the results of what your hypothesis test means, and interpret its practical significance if there is any. Use **NON-STATISTICAL** terminology here."
      ]
    },
    {
      "cell_type": "markdown",
      "metadata": {
        "id": "24ywIaGygHwq"
      },
      "source": [
        "❓Individual Reflection❓ \n",
        "\n",
        "From this analysis, the mean batting average for Enlist's teams is not the same as the mean batting average for Select's teams. The mean batting average for Enlist teams is around 0.22 and 0.35."
      ]
    },
    {
      "cell_type": "markdown",
      "metadata": {
        "id": "lpUMQFZlNctU",
        "nbgrader": {
          "grade": false,
          "grade_id": "cell-f0fc4e80f147831d",
          "locked": true,
          "schema_version": 3,
          "solution": false,
          "task": false
        }
      },
      "source": [
        "# Submit Your Work!\n",
        "\n",
        "You are now done with the lab.\n",
        "\n",
        "You need to do two more things before you can go back to doing other homework:\n",
        "\n",
        "1. Save your work.  To do this, create a **notebook checkpoint** by using the menu within the notebook. Go to **File -> Save All**.\n",
        "\n",
        "2. After you have saved it, exit this notebook and return to the Data Science Discovery page for the Git commands to submit this lab."
      ]
    }
  ],
  "metadata": {
    "celltoolbar": "Create Assignment",
    "colab": {
      "collapsed_sections": [
        "Nb_o8ioJNctR",
        "IeIxWU6WfYKF",
        "4B71dOb9f8BJ",
        "47G1bbVDgFIL"
      ],
      "name": "hypothesis-tests.ipynb",
      "provenance": []
    },
    "interpreter": {
      "hash": "2313bd6cf9748611fcec47748e00b602b8ac0478fdea3f4143d0c377f7c6ba75"
    },
    "kernelspec": {
      "display_name": "Python 3.9.6 64-bit",
      "name": "python3"
    },
    "language_info": {
      "codemirror_mode": {
        "name": "ipython",
        "version": 3
      },
      "file_extension": ".py",
      "mimetype": "text/x-python",
      "name": "python",
      "nbconvert_exporter": "python",
      "pygments_lexer": "ipython3",
      "version": "3.9.6"
    }
  },
  "nbformat": 4,
  "nbformat_minor": 0
}
