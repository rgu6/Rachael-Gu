{
 "cells": [
  {
   "cell_type": "markdown",
   "source": [
    "# lab_simpsons_paradox\n",
    "\n",
    "Hi Data Scientists,\n",
    "\n",
    "Welcome to the fourth lab!  In this lab, you will look for confounding variables and find Simpson's paradox in several datasets using Python. Along the way, you'll also get more practice writing conditionals for pandas dataframes. As you go through the lab:\n",
    "\n",
    "- Make sure to run every cell with Python code and observe the output\n",
    "- Complete all puzzles and submit this lab before Monday evening at 11:59pm"
   ],
   "metadata": {}
  },
  {
   "cell_type": "markdown",
   "source": [
    "### Labs are Collaborative\n",
    "\n",
    "In your lab section (right now!), make sure you are working with a small group! Find a person or two around you, or if you're on Zoom, join a breakout room with one or two people. Work on this lab together with your group, making sure all of you understand each component of the lab.\n",
    "\n",
    "### Part 0: Your Group!\n",
    "\n",
    "Edit the next Python cell to add information about who you're working with in your lab section:"
   ],
   "metadata": {}
  },
  {
   "cell_type": "code",
   "execution_count": 1,
   "source": [
    "# First, meet your CAs and TA if you haven't already!\r\n",
    "# ...first name is enough, we'll know who they are! :)\r\n",
    "ta_name = \"Paul\"\r\n",
    "ca1_name = \"Jesse\"\r\n",
    "ca2_name = \"Charlie\"\r\n",
    "\r\n",
    "\r\n",
    "# Also, make sure to meet your team for this lab! Find out their name, what major they're in,\r\n",
    "# and learn something new about them that you never knew before!\r\n",
    "partner1_name = \"Rachael\"\r\n",
    "partner1_netid = \"rgu6\"\r\n",
    "partner1_major = \"STAT\"\r\n",
    "\r\n",
    "partner2_name = \"Meg\"\r\n",
    "partner2_netid = \"mli22\"\r\n",
    "partner2_major = \"STAT + CS\"\r\n",
    "\r\n",
    "partner3_name = \"Abhi\"\r\n",
    "partner3_netid = \"athanvi2\"\r\n",
    "partner3_major = \"STAT + CS\""
   ],
   "outputs": [],
   "metadata": {}
  },
  {
   "cell_type": "markdown",
   "source": [
    "\r\n",
    "\r\n",
    "### Getting Help\r\n",
    "\r\n",
    "Remember, there are a lot of ways to get help if you find yourself stuck:\r\n",
    "\r\n",
    "1. In lab section, your TA, CAs, and your peers are here for you!\r\n",
    "\r\n",
    "2. On the course Discord!\r\n",
    "\r\n",
    "3. Office Hours:\r\n",
    "\r\n",
    "  - Open office hours in person **every Monday, Tuesday, Thursday, and Friday** from 4:00pm - 6:00pm in 0060 Siebel Center for Design (SCD)\r\n",
    "\r\n",
    "  - Zoom office hours **every Wednesday** from 5:00pm - 6:00pm and **every Thursday** from 9:00pm - 11:00pm"
   ],
   "metadata": {}
  },
  {
   "cell_type": "markdown",
   "source": [
    "## Part 1: The Setup\n",
    "\n",
    "Follow the usual steps for setting up labs. You will need to:\n",
    "\n",
    "1. Make sure the dataset(s) you need are in your **working directory**.  \n",
    "*We will need `DiscoveryPizza.csv` and `PythonPizza.csv` for the first part of the lab. We will need `hello.csv` for the second part of the lab!*\n",
    "2. Import any libraries you will need and give them an abbreviation so they are easy to refer to.   \n",
    "*We will just need `pandas`, typically abbreviated as `pd`.*\n",
    "3. Read your datasets into dataframes. The dataframes should have useful names so you can easily identify which one is which.   \n",
    "*We will use `df_pythonpizza`, `df_discoverypizza`, and `df_hello`.*"
   ],
   "metadata": {}
  },
  {
   "cell_type": "markdown",
   "source": [
    "### Puzzle 1.1: Setup for the lab\n",
    "Follow the steps above to get set up for today's lab."
   ],
   "metadata": {}
  },
  {
   "cell_type": "code",
   "execution_count": 5,
   "source": [
    "# Import the pandas library as pd\r\n",
    "import pandas as pd\r\n",
    "\r\n",
    "# Read our two pizza datasets into dataframes\r\n",
    "df_pythonpizza = pd.read_csv(\"PythonPizza.csv\")\r\n",
    "df_discoverypizza = pd.read_csv(\"DiscoveryPizza.csv\")"
   ],
   "outputs": [],
   "metadata": {}
  },
  {
   "cell_type": "code",
   "execution_count": 6,
   "source": [
    "## == TEST CASES for Puzzle 1.1 ==\r\n",
    "# - This read-only cell contains test cases for your previous cell.\r\n",
    "# - If this cell runs without any errors, you PASSED all test cases!\r\n",
    "# - If this cell results in any errors, check your previous cell, make changes, and RE-RUN your code and then this cell.\r\n",
    "\r\n",
    "assert(len(df_discoverypizza) == 40), \"This is not the Discovery Pizza dataset you're looking for\"\r\n",
    "assert(len(df_pythonpizza) == 46), \"This is not the Python Pizza dataset you're looking for\"\r\n",
    "## == SUCCESS MESSAGE ==\r\n",
    "# You will only see this message (with the emoji showing) if you passed all test cases:\r\n",
    "tada = \"\\N{PARTY POPPER}\"\r\n",
    "print(f\"{tada} All tests passed! {tada}\")"
   ],
   "outputs": [
    {
     "output_type": "stream",
     "name": "stdout",
     "text": [
      "🎉 All tests passed! 🎉\n"
     ]
    }
   ],
   "metadata": {}
  },
  {
   "cell_type": "markdown",
   "source": [
    "### The Scenario\n",
    "\n",
    "You and your friends are visiting a city and want to find the best pizza place to eat nearby. Neither of you know much about the food scene, but your friend (and maybe you!) are particular about making the best of your time and trying the best food possible. What to do but turn to the answer to all life's questions: *online reviews*.\n",
    "\n",
    "You discover that there are only two pizza places in town and you have to decide which one is better! The two pizza places are called \"Discovery Pizza\" and \"Python Pizza\" (LOL!). The dataset `DiscoveryPizza.csv` contains data for all people who reviewed Discovery Pizza, specifically showing whether or not they recommend it and their gender. The dataset `PythonPizza.csv` contains the same information for Python Pizza.  "
   ],
   "metadata": {}
  },
  {
   "cell_type": "markdown",
   "source": [
    "### Cleaning the Data\n",
    "\n",
    "Sometimes, the data you get for analysis can be a bit messy. For example, run the code below to see how gender has been listed in the `DiscoveryPizza.csv` dataset. From `pandas`, we can first use `concat` to temporarily combine our two datasets together, then  use the `unique()` function to see all the different ways people wrote their gender.\n",
    "\n",
    "*(***Quick Tip***: Remember, if you want to figure out something to do with pandas, the pandas cheat sheet can help!)*"
   ],
   "metadata": {}
  },
  {
   "cell_type": "code",
   "execution_count": 7,
   "source": [
    "print(pd.unique(\r\n",
    "    pd.concat([df_discoverypizza[\"Gender\"],\r\n",
    "               df_pythonpizza[\"Gender\"]])))"
   ],
   "outputs": [
    {
     "output_type": "stream",
     "name": "stdout",
     "text": [
      "['Male' 'Man' 'male' 'Men' 'Female' 'Woman' 'female' 'woman' 'girl' 'man']\n"
     ]
    }
   ],
   "metadata": {}
  },
  {
   "cell_type": "markdown",
   "source": [
    "As we can see, the reviewers all identified as either male or female, but wrote their gender in different ways. We will need to change all the different ways of identifying as male or female into two gender categories: `Male` ane `Female`. \n",
    "\n",
    "### The List Type\n",
    "\n",
    "So far in Python, we have encountered **string**, **number**, and **DataFrame** types. In order to list our multiple ways of identifying as male or female, we can use a fourth data type: **Lists**. These are native to Python, so we do not need to import a library to use them.  \n",
    "\n",
    "### Puzzle 1.2: Lists of words for male and female\n",
    "\n",
    "The list of words used for male has been put into a Python **List** below. Try the same with the words for female using the list printed in the previous code cell."
   ],
   "metadata": {}
  },
  {
   "cell_type": "code",
   "execution_count": 15,
   "source": [
    "male = [\"Male\", \"Man\", \"male\", \"Men\", \"man\"]\r\n",
    "female = [\"Female\", \"Woman\", \"female\", \"woman\", \"girl\"]"
   ],
   "outputs": [],
   "metadata": {}
  },
  {
   "cell_type": "code",
   "execution_count": 16,
   "source": [
    "## == TEST CASES for Puzzle 1.2 ==\r\n",
    "# - This read-only cell contains test cases for your previous cell.\r\n",
    "# - If this cell runs without any errors, you PASSED all test cases!\r\n",
    "# - If this cell results in any errors, check your previous cell, make changes, and RE-RUN your code and then this cell.\r\n",
    "\r\n",
    "assert(set(female) == {'Female', 'Woman', 'female', 'woman', 'girl'}), \"The list does not match the list of all words used for female\"\r\n",
    "## == SUCCESS MESSAGE ==\r\n",
    "# You will only see this message (with the emoji showing) if you passed all test cases:\r\n",
    "tada = \"\\N{PARTY POPPER}\"\r\n",
    "print(f\"{tada} All tests passed! {tada}\")"
   ],
   "outputs": [
    {
     "output_type": "stream",
     "name": "stdout",
     "text": [
      "🎉 All tests passed! 🎉\n"
     ]
    }
   ],
   "metadata": {}
  },
  {
   "cell_type": "markdown",
   "source": [
    "### Conditionals with Multiple Acceptable Values\n",
    "\n",
    "Great! Now that we have our lists of words, we can use them in conditionals for our dataframes where multiple values are acceptable. We can use the `isin()` function and our list `male` to select all the Discovery Pizza data for males regardless of how the gender is written."
   ],
   "metadata": {}
  },
  {
   "cell_type": "code",
   "execution_count": 18,
   "source": [
    "df_discoverypizza[df_discoverypizza[\"Gender\"].isin(male)]"
   ],
   "outputs": [
    {
     "output_type": "execute_result",
     "data": {
      "text/plain": [
       "   Gender Recommend\n",
       "0    Male       Yes\n",
       "1    Male       Yes\n",
       "2    Male       Yes\n",
       "3    Male       Yes\n",
       "4    Male       Yes\n",
       "5    Male        No\n",
       "6     Man        No\n",
       "7    Male        No\n",
       "8    Male        No\n",
       "9    male        No\n",
       "10   Male        No\n",
       "11   Male        No\n",
       "12    Men        No\n",
       "13   Male        No\n",
       "14   Male        No"
      ],
      "text/html": [
       "<div>\n",
       "<style scoped>\n",
       "    .dataframe tbody tr th:only-of-type {\n",
       "        vertical-align: middle;\n",
       "    }\n",
       "\n",
       "    .dataframe tbody tr th {\n",
       "        vertical-align: top;\n",
       "    }\n",
       "\n",
       "    .dataframe thead th {\n",
       "        text-align: right;\n",
       "    }\n",
       "</style>\n",
       "<table border=\"1\" class=\"dataframe\">\n",
       "  <thead>\n",
       "    <tr style=\"text-align: right;\">\n",
       "      <th></th>\n",
       "      <th>Gender</th>\n",
       "      <th>Recommend</th>\n",
       "    </tr>\n",
       "  </thead>\n",
       "  <tbody>\n",
       "    <tr>\n",
       "      <th>0</th>\n",
       "      <td>Male</td>\n",
       "      <td>Yes</td>\n",
       "    </tr>\n",
       "    <tr>\n",
       "      <th>1</th>\n",
       "      <td>Male</td>\n",
       "      <td>Yes</td>\n",
       "    </tr>\n",
       "    <tr>\n",
       "      <th>2</th>\n",
       "      <td>Male</td>\n",
       "      <td>Yes</td>\n",
       "    </tr>\n",
       "    <tr>\n",
       "      <th>3</th>\n",
       "      <td>Male</td>\n",
       "      <td>Yes</td>\n",
       "    </tr>\n",
       "    <tr>\n",
       "      <th>4</th>\n",
       "      <td>Male</td>\n",
       "      <td>Yes</td>\n",
       "    </tr>\n",
       "    <tr>\n",
       "      <th>5</th>\n",
       "      <td>Male</td>\n",
       "      <td>No</td>\n",
       "    </tr>\n",
       "    <tr>\n",
       "      <th>6</th>\n",
       "      <td>Man</td>\n",
       "      <td>No</td>\n",
       "    </tr>\n",
       "    <tr>\n",
       "      <th>7</th>\n",
       "      <td>Male</td>\n",
       "      <td>No</td>\n",
       "    </tr>\n",
       "    <tr>\n",
       "      <th>8</th>\n",
       "      <td>Male</td>\n",
       "      <td>No</td>\n",
       "    </tr>\n",
       "    <tr>\n",
       "      <th>9</th>\n",
       "      <td>male</td>\n",
       "      <td>No</td>\n",
       "    </tr>\n",
       "    <tr>\n",
       "      <th>10</th>\n",
       "      <td>Male</td>\n",
       "      <td>No</td>\n",
       "    </tr>\n",
       "    <tr>\n",
       "      <th>11</th>\n",
       "      <td>Male</td>\n",
       "      <td>No</td>\n",
       "    </tr>\n",
       "    <tr>\n",
       "      <th>12</th>\n",
       "      <td>Men</td>\n",
       "      <td>No</td>\n",
       "    </tr>\n",
       "    <tr>\n",
       "      <th>13</th>\n",
       "      <td>Male</td>\n",
       "      <td>No</td>\n",
       "    </tr>\n",
       "    <tr>\n",
       "      <th>14</th>\n",
       "      <td>Male</td>\n",
       "      <td>No</td>\n",
       "    </tr>\n",
       "  </tbody>\n",
       "</table>\n",
       "</div>"
      ]
     },
     "metadata": {},
     "execution_count": 18
    }
   ],
   "metadata": {}
  },
  {
   "cell_type": "markdown",
   "source": [
    "### Puzzle 1.3 \n",
    "\n",
    "Let's try it! Show all the Python Pizza recommendation data from females."
   ],
   "metadata": {}
  },
  {
   "cell_type": "code",
   "execution_count": 19,
   "source": [
    "df_discoverypizza[df_discoverypizza[\"Gender\"].isin(female)]"
   ],
   "outputs": [
    {
     "output_type": "execute_result",
     "data": {
      "text/plain": [
       "    Gender Recommend\n",
       "15  Female       Yes\n",
       "16  Female       Yes\n",
       "17  Female       Yes\n",
       "18  Female       Yes\n",
       "19   Woman       Yes\n",
       "20  Female       Yes\n",
       "21  female       Yes\n",
       "22  Female       Yes\n",
       "23  Female       Yes\n",
       "24  Female       Yes\n",
       "25  female       Yes\n",
       "26  Female       Yes\n",
       "27  Female       Yes\n",
       "28   woman       Yes\n",
       "29  Female       Yes\n",
       "30  Female       Yes\n",
       "31  Female       Yes\n",
       "32  Female       Yes\n",
       "33  Female       Yes\n",
       "34  Female       Yes\n",
       "35  Female        No\n",
       "36  Female        No\n",
       "37    girl        No\n",
       "38  Female        No\n",
       "39  Female        No"
      ],
      "text/html": [
       "<div>\n",
       "<style scoped>\n",
       "    .dataframe tbody tr th:only-of-type {\n",
       "        vertical-align: middle;\n",
       "    }\n",
       "\n",
       "    .dataframe tbody tr th {\n",
       "        vertical-align: top;\n",
       "    }\n",
       "\n",
       "    .dataframe thead th {\n",
       "        text-align: right;\n",
       "    }\n",
       "</style>\n",
       "<table border=\"1\" class=\"dataframe\">\n",
       "  <thead>\n",
       "    <tr style=\"text-align: right;\">\n",
       "      <th></th>\n",
       "      <th>Gender</th>\n",
       "      <th>Recommend</th>\n",
       "    </tr>\n",
       "  </thead>\n",
       "  <tbody>\n",
       "    <tr>\n",
       "      <th>15</th>\n",
       "      <td>Female</td>\n",
       "      <td>Yes</td>\n",
       "    </tr>\n",
       "    <tr>\n",
       "      <th>16</th>\n",
       "      <td>Female</td>\n",
       "      <td>Yes</td>\n",
       "    </tr>\n",
       "    <tr>\n",
       "      <th>17</th>\n",
       "      <td>Female</td>\n",
       "      <td>Yes</td>\n",
       "    </tr>\n",
       "    <tr>\n",
       "      <th>18</th>\n",
       "      <td>Female</td>\n",
       "      <td>Yes</td>\n",
       "    </tr>\n",
       "    <tr>\n",
       "      <th>19</th>\n",
       "      <td>Woman</td>\n",
       "      <td>Yes</td>\n",
       "    </tr>\n",
       "    <tr>\n",
       "      <th>20</th>\n",
       "      <td>Female</td>\n",
       "      <td>Yes</td>\n",
       "    </tr>\n",
       "    <tr>\n",
       "      <th>21</th>\n",
       "      <td>female</td>\n",
       "      <td>Yes</td>\n",
       "    </tr>\n",
       "    <tr>\n",
       "      <th>22</th>\n",
       "      <td>Female</td>\n",
       "      <td>Yes</td>\n",
       "    </tr>\n",
       "    <tr>\n",
       "      <th>23</th>\n",
       "      <td>Female</td>\n",
       "      <td>Yes</td>\n",
       "    </tr>\n",
       "    <tr>\n",
       "      <th>24</th>\n",
       "      <td>Female</td>\n",
       "      <td>Yes</td>\n",
       "    </tr>\n",
       "    <tr>\n",
       "      <th>25</th>\n",
       "      <td>female</td>\n",
       "      <td>Yes</td>\n",
       "    </tr>\n",
       "    <tr>\n",
       "      <th>26</th>\n",
       "      <td>Female</td>\n",
       "      <td>Yes</td>\n",
       "    </tr>\n",
       "    <tr>\n",
       "      <th>27</th>\n",
       "      <td>Female</td>\n",
       "      <td>Yes</td>\n",
       "    </tr>\n",
       "    <tr>\n",
       "      <th>28</th>\n",
       "      <td>woman</td>\n",
       "      <td>Yes</td>\n",
       "    </tr>\n",
       "    <tr>\n",
       "      <th>29</th>\n",
       "      <td>Female</td>\n",
       "      <td>Yes</td>\n",
       "    </tr>\n",
       "    <tr>\n",
       "      <th>30</th>\n",
       "      <td>Female</td>\n",
       "      <td>Yes</td>\n",
       "    </tr>\n",
       "    <tr>\n",
       "      <th>31</th>\n",
       "      <td>Female</td>\n",
       "      <td>Yes</td>\n",
       "    </tr>\n",
       "    <tr>\n",
       "      <th>32</th>\n",
       "      <td>Female</td>\n",
       "      <td>Yes</td>\n",
       "    </tr>\n",
       "    <tr>\n",
       "      <th>33</th>\n",
       "      <td>Female</td>\n",
       "      <td>Yes</td>\n",
       "    </tr>\n",
       "    <tr>\n",
       "      <th>34</th>\n",
       "      <td>Female</td>\n",
       "      <td>Yes</td>\n",
       "    </tr>\n",
       "    <tr>\n",
       "      <th>35</th>\n",
       "      <td>Female</td>\n",
       "      <td>No</td>\n",
       "    </tr>\n",
       "    <tr>\n",
       "      <th>36</th>\n",
       "      <td>Female</td>\n",
       "      <td>No</td>\n",
       "    </tr>\n",
       "    <tr>\n",
       "      <th>37</th>\n",
       "      <td>girl</td>\n",
       "      <td>No</td>\n",
       "    </tr>\n",
       "    <tr>\n",
       "      <th>38</th>\n",
       "      <td>Female</td>\n",
       "      <td>No</td>\n",
       "    </tr>\n",
       "    <tr>\n",
       "      <th>39</th>\n",
       "      <td>Female</td>\n",
       "      <td>No</td>\n",
       "    </tr>\n",
       "  </tbody>\n",
       "</table>\n",
       "</div>"
      ]
     },
     "metadata": {},
     "execution_count": 19
    }
   ],
   "metadata": {}
  },
  {
   "cell_type": "markdown",
   "source": [
    "## Part 2: Initial Analysis\n",
    "\n",
    "Now that we've made sense of our slightly messy data, we can use it to figure out where to go for dinner. \"That's easy,\" your friend says, \"We'll just see which restaurant has a greater percent of recommendations.\"\n",
    "\n",
    "### Puzzle 2.1: Comparing Overall Percentages\n",
    "\n",
    "Try out your friend's suggestion. Calculate the percent of people who recommend Discovery Pizza and the percent of people who recommend Python Pizza. Your answer should be a percentage between 0% and 100%.\n",
    "\n",
    "**Hint:** There are many ways to do this. One way is to use len(df) to give you the length of a dataframe. You can also find the length of a dataframe with certain conditionals. "
   ],
   "metadata": {}
  },
  {
   "cell_type": "code",
   "execution_count": 24,
   "source": [
    "discoverypizza_yes = len(df_discoverypizza[df_discoverypizza.Recommend==\"Yes\"])\r\n",
    "discoverypizza_total = len(df_discoverypizza)\r\n",
    "discovery_recpercent = (discoverypizza_yes / discoverypizza_total) * 100\r\n",
    "\r\n",
    "pythonpizza_yes = len(df_pythonpizza[df_pythonpizza.Recommend==\"Yes\"])\r\n",
    "pythonpizza_total = len(df_pythonpizza)\r\n",
    "python_recpercent = (pythonpizza_yes / pythonpizza_total) * 100\r\n",
    "print(\"discovery_recpercent =\", discovery_recpercent,\r\n",
    "      \"\\npython_recpercent =\", python_recpercent)"
   ],
   "outputs": [
    {
     "output_type": "stream",
     "name": "stdout",
     "text": [
      "discovery_recpercent = 62.5 \n",
      "python_recpercent = 58.69565217391305\n"
     ]
    }
   ],
   "metadata": {}
  },
  {
   "cell_type": "code",
   "execution_count": 25,
   "source": [
    "## == TEST CASES for Puzzle 2.1 ==\r\n",
    "# - This read-only cell contains test cases for your previous cell.\r\n",
    "# - If this cell runs without any errors, you PASSED all test cases!\r\n",
    "# - If this cell results in any errors, check your previous cell, make changes, and RE-RUN your code and then this cell.\r\n",
    "\r\n",
    "assert(discovery_recpercent == 62.5), \"The overall percentage of people who recommended Discovery Pizza does not appear to have been correctly calculated\"\r\n",
    "assert(python_recpercent == 100*(27/46)), \"The overall percentage of people who recommended Python Pizza does not appear to have been correctly calculated\"\r\n",
    "## == SUCCESS MESSAGE ==\r\n",
    "# You will only see this message (with the emoji showing) if you passed all test cases:\r\n",
    "tada = \"\\N{PARTY POPPER}\"\r\n",
    "print(f\"{tada} All tests passed! {tada}\")"
   ],
   "outputs": [
    {
     "output_type": "stream",
     "name": "stdout",
     "text": [
      "🎉 All tests passed! 🎉\n"
     ]
    }
   ],
   "metadata": {
    "nbgrader": {
     "grade": true,
     "grade_id": "cell-e9f12398cfd30bd5",
     "locked": true,
     "points": 1,
     "schema_version": 3,
     "solution": false
    }
   }
  },
  {
   "cell_type": "markdown",
   "source": [
    "### Puzzle 2.2: Reflection\n",
    "\n",
    "❓ **Individual Reflection Question** ❓: Given what you've learned about experimental design, what are some reasons (specific to this dataset) you may not trust this result when making your decision? If you would trust it, explain why."
   ],
   "metadata": {}
  },
  {
   "cell_type": "markdown",
   "source": [
    "This dataset is from an observational study which means that the participants were not randomized. In addition, both groups are not as alike as possible. "
   ],
   "metadata": {}
  },
  {
   "cell_type": "markdown",
   "source": [
    "**Group Discussion**: Discuss the following in your groups!\n",
    "\n",
    "Previously, we learned the importance of randomized controlled experiments. Discuss why randomized controlled experiments are ideal.  Our dataset, however, is from an observational study. What are some problems with observational studies?  Why do you think an observational study was done as opposed to a randomized controlled experiment in this case?  "
   ],
   "metadata": {}
  },
  {
   "cell_type": "markdown",
   "source": [
    "## Part 3:  Observational Studies and Stratification\n",
    "\n",
    "Since this is an observational study, we have no guarantee that the two groups we are comparing are similar. But since we have information on the reviewers' genders, we can at least control for gender differences by comparing across people of the same gender.\n",
    "\n",
    "### Puzzle 3.1: Calculating separate percentages\n",
    "\n",
    "Use conditionals to calculate the percentage of men who recommended Discovery Pizza, the percentage of men who recommend Python Pizza, the percentage of women who recommend Discovery Pizza, and the percentage of women who recommend Python Pizza. There are multiple ways to do this, however, you can choose the way that makes most sense to you! Your answers should be a percentage between 0% and 100%. Make sure you include all people in the dataset in your calculations (think about all of the different ways to write gender that we looked at previously)."
   ],
   "metadata": {}
  },
  {
   "cell_type": "code",
   "execution_count": 36,
   "source": [
    "discovery_mpercent = len(df_discoverypizza[(df_discoverypizza.Recommend==\"Yes\") & (df_discoverypizza.Gender.isin(male))]) / len(df_discoverypizza[df_discoverypizza.Gender.isin(male)]) * 100\r\n",
    "python_mpercent = len(df_pythonpizza[(df_pythonpizza.Recommend==\"Yes\") & (df_pythonpizza.Gender.isin(male))]) / len(df_pythonpizza[df_pythonpizza.Gender.isin(male)]) * 100\r\n",
    "discovery_fpercent = len(df_discoverypizza[(df_discoverypizza.Recommend==\"Yes\") & (df_discoverypizza.Gender.isin(female))]) / len(df_discoverypizza[df_discoverypizza.Gender.isin(female)]) * 100\r\n",
    "python_fpercent = len(df_pythonpizza[(df_pythonpizza.Recommend==\"Yes\") & (df_pythonpizza.Gender.isin(female))]) / len(df_pythonpizza[df_pythonpizza.Gender.isin(female)]) * 100\r\n",
    "\r\n",
    "print(\"discovery_mpercent =\", discovery_mpercent,\r\n",
    "      \"\\npython_mpercent =\", python_mpercent,\r\n",
    "      \"\\ndiscovery_fpercent =\", discovery_fpercent,\r\n",
    "      \"\\npython_fpercent =\", python_fpercent)"
   ],
   "outputs": [
    {
     "output_type": "stream",
     "name": "stdout",
     "text": [
      "discovery_mpercent = 33.33333333333333 \n",
      "python_mpercent = 50.0 \n",
      "discovery_fpercent = 80.0 \n",
      "python_fpercent = 90.0\n"
     ]
    }
   ],
   "metadata": {
    "nbgrader": {
     "grade": false,
     "grade_id": "cell-e8a1c3c40402d8e6",
     "locked": false,
     "schema_version": 3,
     "solution": true
    }
   }
  },
  {
   "cell_type": "code",
   "execution_count": 37,
   "source": [
    "## == TEST CASES for Puzzle 3.1 ==\r\n",
    "# - This read-only cell contains test cases for your previous cell.\r\n",
    "# - If this cell runs without any errors, you PASSED all test cases!\r\n",
    "# - If this cell results in any errors, check your previous cell, make changes, and RE-RUN your code and then this cell.\r\n",
    "\r\n",
    "assert(discovery_mpercent == 100*(1/3)), \"The percentage of men who recommended Discovery Pizza does not appear to have been correctly calculated\"\r\n",
    "assert(python_mpercent == 100*(1/2)), \"The percentage of men who recommended Python Pizza does not appear to have been correctly calculated\"\r\n",
    "assert(discovery_fpercent == 800/10), \"The percentage of women who recommended Discovery Pizza does not appear to have been correctly calculated\"\r\n",
    "assert(python_fpercent == 100*(90/100)), \"The percentage of women who recommended Python Pizza does not appear to have correctly calculated\"\r\n",
    "\r\n",
    "## == SUCCESS MESSAGE ==\r\n",
    "# You will only see this message (with the emoji showing) if you passed all test cases:\r\n",
    "tada = \"\\N{PARTY POPPER}\"\r\n",
    "print(f\"{tada} All tests passed! {tada}\")"
   ],
   "outputs": [
    {
     "output_type": "stream",
     "name": "stdout",
     "text": [
      "🎉 All tests passed! 🎉\n"
     ]
    }
   ],
   "metadata": {
    "nbgrader": {
     "grade": true,
     "grade_id": "cell-fbdef0d3e0843326",
     "locked": true,
     "points": 1,
     "schema_version": 3,
     "solution": false
    }
   }
  },
  {
   "cell_type": "markdown",
   "source": [
    "### Observe the Results\n",
    "\n",
    "Run the following cell to format all of your answers as a DataFrame:"
   ],
   "metadata": {}
  },
  {
   "cell_type": "code",
   "execution_count": 38,
   "source": [
    "pd.DataFrame( [\r\n",
    "    {'Female': discovery_fpercent, 'Male': discovery_mpercent, 'Overall': discovery_recpercent },\r\n",
    "    {'Female': python_fpercent, 'Male': python_mpercent, 'Overall': python_recpercent },\r\n",
    "], index=['Discovery Pizza', 'Python Pizza'] )"
   ],
   "outputs": [
    {
     "output_type": "execute_result",
     "data": {
      "text/plain": [
       "                 Female       Male    Overall\n",
       "Discovery Pizza    80.0  33.333333  62.500000\n",
       "Python Pizza       90.0  50.000000  58.695652"
      ],
      "text/html": [
       "<div>\n",
       "<style scoped>\n",
       "    .dataframe tbody tr th:only-of-type {\n",
       "        vertical-align: middle;\n",
       "    }\n",
       "\n",
       "    .dataframe tbody tr th {\n",
       "        vertical-align: top;\n",
       "    }\n",
       "\n",
       "    .dataframe thead th {\n",
       "        text-align: right;\n",
       "    }\n",
       "</style>\n",
       "<table border=\"1\" class=\"dataframe\">\n",
       "  <thead>\n",
       "    <tr style=\"text-align: right;\">\n",
       "      <th></th>\n",
       "      <th>Female</th>\n",
       "      <th>Male</th>\n",
       "      <th>Overall</th>\n",
       "    </tr>\n",
       "  </thead>\n",
       "  <tbody>\n",
       "    <tr>\n",
       "      <th>Discovery Pizza</th>\n",
       "      <td>80.0</td>\n",
       "      <td>33.333333</td>\n",
       "      <td>62.500000</td>\n",
       "    </tr>\n",
       "    <tr>\n",
       "      <th>Python Pizza</th>\n",
       "      <td>90.0</td>\n",
       "      <td>50.000000</td>\n",
       "      <td>58.695652</td>\n",
       "    </tr>\n",
       "  </tbody>\n",
       "</table>\n",
       "</div>"
      ]
     },
     "metadata": {},
     "execution_count": 38
    }
   ],
   "metadata": {}
  },
  {
   "cell_type": "markdown",
   "source": [
    "You should see the pattern reverse when you look at the overall recommendation percentage vs. the percentage stratified by gender. This is called **Simpson's Paradox**: a pattern within a population can appear, disappear, or reverse when you look at subpopulations.\n",
    "\n",
    "### Puzzle 3.2: Reflection\n",
    "\n",
    "❓ **Individual Reflection Question** ❓: Should you enjoy your dinner at Discovery Pizza OR Python Pizza? In other words, which comparison of the reviews should you trust and Why?"
   ],
   "metadata": {}
  },
  {
   "cell_type": "markdown",
   "source": [
    "I should enjoy dinner at Python Pizza. Even though Discovery Pizza has a higher percentage of \"Yes\" votes, Python Pizza has higher percentages for both genders."
   ],
   "metadata": {}
  },
  {
   "cell_type": "markdown",
   "source": [
    "**Group Discussion**: Discuss the following in your groups!\n",
    "\n",
    "We happened to have gender data alongside our recommendation data, but if you could decide what data to gather, or you had data on more characteristics, how might you decide what to stratify by? Are there any possible issues that may be caused by stratification? Why is stratification a good technique to control for confounding variables?"
   ],
   "metadata": {}
  },
  {
   "cell_type": "markdown",
   "source": [
    "## Part 4: Shoe Size vs Shoes Owned"
   ],
   "metadata": {}
  },
  {
   "cell_type": "markdown",
   "source": [
    "Let's look at some characteristics of another dataset. You recently had the opportunity to complete a \"Hello Survey.\"  We compiled the results into a dataset and we are going to explore the following two questions from that survey: \n",
    "\n",
    "- What is your shoe size? which is stored in a variable called \"Shoe Size.\"\n",
    "- How many pairs of shoes do you have? which is stored in a variable called \"Shoe Number.\""
   ],
   "metadata": {}
  },
  {
   "cell_type": "markdown",
   "source": [
    "### Puzzle 4.1: Load the Dataset\n",
    "\n",
    "Read the hello dataset into a DataFrame. It is in the lab_simpsons_paradox folder and is called `hello.csv`."
   ],
   "metadata": {}
  },
  {
   "cell_type": "code",
   "execution_count": 7,
   "source": [
    "import pandas as pd\r\n",
    "df_hello = pd.read_csv(\"hello.csv\")\r\n",
    "df_hello"
   ],
   "outputs": [
    {
     "output_type": "execute_result",
     "data": {
      "text/plain": [
       "             Name                            Major      Year    Phone  \\\n",
       "0    Devang Ghela             Information Sciences    Junior   iPhone   \n",
       "1        Michelle             information sciences    Senior   iPhone   \n",
       "2           Ethan                     Data science  Freshman   iPhone   \n",
       "3           Krish                       Stats + CS  Freshman   iPhone   \n",
       "4           Kelly              Information Science    Junior  Android   \n",
       "..            ...                              ...       ...      ...   \n",
       "262         Danny                       Statistics    Junior   iPhone   \n",
       "263       Dayanna              Information Science    Junior   iPhone   \n",
       "264           Sam                     Stats and CS  Freshman   iPhone   \n",
       "265      Sushruth  Statistics and Computer Science  Freshman   iPhone   \n",
       "266         Mason                       Statistics  Freshman   iPhone   \n",
       "\n",
       "                    Computer  Holes In Straw  Dogs  Cats  Fish  Chickens  ...  \\\n",
       "0     Windows-based computer             1.0     0     0     0         0  ...   \n",
       "1    Mac OS X-based computer             1.0     1     1     0         0  ...   \n",
       "2    Mac OS X-based computer             1.0     0     0     0         0  ...   \n",
       "3    Mac OS X-based computer             1.0     0     0     0         0  ...   \n",
       "4    Mac OS X-based computer             1.0     0     1     0         0  ...   \n",
       "..                       ...             ...   ...   ...   ...       ...  ...   \n",
       "262  Mac OS X-based computer             1.0     1     0     0         0  ...   \n",
       "263  Mac OS X-based computer             1.0     1     0     0         0  ...   \n",
       "264   Windows-based computer             1.0     1     0     0         0  ...   \n",
       "265  Mac OS X-based computer             2.0     0     0     0         0  ...   \n",
       "266   Windows-based computer             1.0     1     0     0         0  ...   \n",
       "\n",
       "     Twitch  Have you ever programmed before?  \\\n",
       "0         1                               Yes   \n",
       "1         0                               Yes   \n",
       "2         1                               Yes   \n",
       "3         0                               Yes   \n",
       "4         0                               Yes   \n",
       "..      ...                               ...   \n",
       "262       0                                No   \n",
       "263       0                               Yes   \n",
       "264       0                               Yes   \n",
       "265       0                               Yes   \n",
       "266       0                                No   \n",
       "\n",
       "     What background in Python programming do you have?  Statistics Courses  \\\n",
       "0    Some Python -- I have had one class or written...                  2.0   \n",
       "1    Some Python -- I have had one class or written...                  1.0   \n",
       "2    Some Python -- I have had one class or written...                  2.0   \n",
       "3    Some Python -- I have had one class or written...                  1.0   \n",
       "4    Some Python -- I have had one class or written...                  1.0   \n",
       "..                                                 ...                  ...   \n",
       "262  No programming background -- is Python Taylor ...                  1.0   \n",
       "263  No Python, but I've done some programming in o...                  2.0   \n",
       "264  Some Python -- I have had one class or written...                  1.0   \n",
       "265  Some Python -- I have had one class or written...                  1.0   \n",
       "266  No programming background -- is Python Taylor ...                  1.0   \n",
       "\n",
       "    Study Hours Per Week  Siblings  Sleep Hours  Shoe Number  \\\n",
       "0                    2.0         1          7.0          8.0   \n",
       "1                    2.0         5          7.0         20.0   \n",
       "2                   10.0         0          8.0          7.0   \n",
       "3                    4.0         0          6.0          6.0   \n",
       "4                    1.0         1          6.0          3.0   \n",
       "..                   ...       ...          ...          ...   \n",
       "262                  2.0         4          7.5          2.0   \n",
       "263                  3.0         1          7.0          6.0   \n",
       "264                  3.0         1          7.0          4.0   \n",
       "265                  3.0         1          7.0          3.0   \n",
       "266                  3.0         2          7.0          2.0   \n",
       "\n",
       "     How many different people (including each person in group chats!) did you text yesterday?  \\\n",
       "0                                                 33.0                                           \n",
       "1                                                 20.0                                           \n",
       "2                                                 10.0                                           \n",
       "3                                                 10.0                                           \n",
       "4                                                  6.0                                           \n",
       "..                                                 ...                                           \n",
       "262                                                8.0                                           \n",
       "263                                                5.0                                           \n",
       "264                                               11.0                                           \n",
       "265                                               25.0                                           \n",
       "266                                                5.0                                           \n",
       "\n",
       "     Introvert, extrovert, ambivert?  \n",
       "0                          Introvert  \n",
       "1                           Ambivert  \n",
       "2                          Introvert  \n",
       "3                          Introvert  \n",
       "4                          Introvert  \n",
       "..                               ...  \n",
       "262                        Introvert  \n",
       "263                        Introvert  \n",
       "264                         Ambivert  \n",
       "265                         Ambivert  \n",
       "266                        Introvert  \n",
       "\n",
       "[267 rows x 31 columns]"
      ],
      "text/html": [
       "<div>\n",
       "<style scoped>\n",
       "    .dataframe tbody tr th:only-of-type {\n",
       "        vertical-align: middle;\n",
       "    }\n",
       "\n",
       "    .dataframe tbody tr th {\n",
       "        vertical-align: top;\n",
       "    }\n",
       "\n",
       "    .dataframe thead th {\n",
       "        text-align: right;\n",
       "    }\n",
       "</style>\n",
       "<table border=\"1\" class=\"dataframe\">\n",
       "  <thead>\n",
       "    <tr style=\"text-align: right;\">\n",
       "      <th></th>\n",
       "      <th>Name</th>\n",
       "      <th>Major</th>\n",
       "      <th>Year</th>\n",
       "      <th>Phone</th>\n",
       "      <th>Computer</th>\n",
       "      <th>Holes In Straw</th>\n",
       "      <th>Dogs</th>\n",
       "      <th>Cats</th>\n",
       "      <th>Fish</th>\n",
       "      <th>Chickens</th>\n",
       "      <th>...</th>\n",
       "      <th>Twitch</th>\n",
       "      <th>Have you ever programmed before?</th>\n",
       "      <th>What background in Python programming do you have?</th>\n",
       "      <th>Statistics Courses</th>\n",
       "      <th>Study Hours Per Week</th>\n",
       "      <th>Siblings</th>\n",
       "      <th>Sleep Hours</th>\n",
       "      <th>Shoe Number</th>\n",
       "      <th>How many different people (including each person in group chats!) did you text yesterday?</th>\n",
       "      <th>Introvert, extrovert, ambivert?</th>\n",
       "    </tr>\n",
       "  </thead>\n",
       "  <tbody>\n",
       "    <tr>\n",
       "      <th>0</th>\n",
       "      <td>Devang Ghela</td>\n",
       "      <td>Information Sciences</td>\n",
       "      <td>Junior</td>\n",
       "      <td>iPhone</td>\n",
       "      <td>Windows-based computer</td>\n",
       "      <td>1.0</td>\n",
       "      <td>0</td>\n",
       "      <td>0</td>\n",
       "      <td>0</td>\n",
       "      <td>0</td>\n",
       "      <td>...</td>\n",
       "      <td>1</td>\n",
       "      <td>Yes</td>\n",
       "      <td>Some Python -- I have had one class or written...</td>\n",
       "      <td>2.0</td>\n",
       "      <td>2.0</td>\n",
       "      <td>1</td>\n",
       "      <td>7.0</td>\n",
       "      <td>8.0</td>\n",
       "      <td>33.0</td>\n",
       "      <td>Introvert</td>\n",
       "    </tr>\n",
       "    <tr>\n",
       "      <th>1</th>\n",
       "      <td>Michelle</td>\n",
       "      <td>information sciences</td>\n",
       "      <td>Senior</td>\n",
       "      <td>iPhone</td>\n",
       "      <td>Mac OS X-based computer</td>\n",
       "      <td>1.0</td>\n",
       "      <td>1</td>\n",
       "      <td>1</td>\n",
       "      <td>0</td>\n",
       "      <td>0</td>\n",
       "      <td>...</td>\n",
       "      <td>0</td>\n",
       "      <td>Yes</td>\n",
       "      <td>Some Python -- I have had one class or written...</td>\n",
       "      <td>1.0</td>\n",
       "      <td>2.0</td>\n",
       "      <td>5</td>\n",
       "      <td>7.0</td>\n",
       "      <td>20.0</td>\n",
       "      <td>20.0</td>\n",
       "      <td>Ambivert</td>\n",
       "    </tr>\n",
       "    <tr>\n",
       "      <th>2</th>\n",
       "      <td>Ethan</td>\n",
       "      <td>Data science</td>\n",
       "      <td>Freshman</td>\n",
       "      <td>iPhone</td>\n",
       "      <td>Mac OS X-based computer</td>\n",
       "      <td>1.0</td>\n",
       "      <td>0</td>\n",
       "      <td>0</td>\n",
       "      <td>0</td>\n",
       "      <td>0</td>\n",
       "      <td>...</td>\n",
       "      <td>1</td>\n",
       "      <td>Yes</td>\n",
       "      <td>Some Python -- I have had one class or written...</td>\n",
       "      <td>2.0</td>\n",
       "      <td>10.0</td>\n",
       "      <td>0</td>\n",
       "      <td>8.0</td>\n",
       "      <td>7.0</td>\n",
       "      <td>10.0</td>\n",
       "      <td>Introvert</td>\n",
       "    </tr>\n",
       "    <tr>\n",
       "      <th>3</th>\n",
       "      <td>Krish</td>\n",
       "      <td>Stats + CS</td>\n",
       "      <td>Freshman</td>\n",
       "      <td>iPhone</td>\n",
       "      <td>Mac OS X-based computer</td>\n",
       "      <td>1.0</td>\n",
       "      <td>0</td>\n",
       "      <td>0</td>\n",
       "      <td>0</td>\n",
       "      <td>0</td>\n",
       "      <td>...</td>\n",
       "      <td>0</td>\n",
       "      <td>Yes</td>\n",
       "      <td>Some Python -- I have had one class or written...</td>\n",
       "      <td>1.0</td>\n",
       "      <td>4.0</td>\n",
       "      <td>0</td>\n",
       "      <td>6.0</td>\n",
       "      <td>6.0</td>\n",
       "      <td>10.0</td>\n",
       "      <td>Introvert</td>\n",
       "    </tr>\n",
       "    <tr>\n",
       "      <th>4</th>\n",
       "      <td>Kelly</td>\n",
       "      <td>Information Science</td>\n",
       "      <td>Junior</td>\n",
       "      <td>Android</td>\n",
       "      <td>Mac OS X-based computer</td>\n",
       "      <td>1.0</td>\n",
       "      <td>0</td>\n",
       "      <td>1</td>\n",
       "      <td>0</td>\n",
       "      <td>0</td>\n",
       "      <td>...</td>\n",
       "      <td>0</td>\n",
       "      <td>Yes</td>\n",
       "      <td>Some Python -- I have had one class or written...</td>\n",
       "      <td>1.0</td>\n",
       "      <td>1.0</td>\n",
       "      <td>1</td>\n",
       "      <td>6.0</td>\n",
       "      <td>3.0</td>\n",
       "      <td>6.0</td>\n",
       "      <td>Introvert</td>\n",
       "    </tr>\n",
       "    <tr>\n",
       "      <th>...</th>\n",
       "      <td>...</td>\n",
       "      <td>...</td>\n",
       "      <td>...</td>\n",
       "      <td>...</td>\n",
       "      <td>...</td>\n",
       "      <td>...</td>\n",
       "      <td>...</td>\n",
       "      <td>...</td>\n",
       "      <td>...</td>\n",
       "      <td>...</td>\n",
       "      <td>...</td>\n",
       "      <td>...</td>\n",
       "      <td>...</td>\n",
       "      <td>...</td>\n",
       "      <td>...</td>\n",
       "      <td>...</td>\n",
       "      <td>...</td>\n",
       "      <td>...</td>\n",
       "      <td>...</td>\n",
       "      <td>...</td>\n",
       "      <td>...</td>\n",
       "    </tr>\n",
       "    <tr>\n",
       "      <th>262</th>\n",
       "      <td>Danny</td>\n",
       "      <td>Statistics</td>\n",
       "      <td>Junior</td>\n",
       "      <td>iPhone</td>\n",
       "      <td>Mac OS X-based computer</td>\n",
       "      <td>1.0</td>\n",
       "      <td>1</td>\n",
       "      <td>0</td>\n",
       "      <td>0</td>\n",
       "      <td>0</td>\n",
       "      <td>...</td>\n",
       "      <td>0</td>\n",
       "      <td>No</td>\n",
       "      <td>No programming background -- is Python Taylor ...</td>\n",
       "      <td>1.0</td>\n",
       "      <td>2.0</td>\n",
       "      <td>4</td>\n",
       "      <td>7.5</td>\n",
       "      <td>2.0</td>\n",
       "      <td>8.0</td>\n",
       "      <td>Introvert</td>\n",
       "    </tr>\n",
       "    <tr>\n",
       "      <th>263</th>\n",
       "      <td>Dayanna</td>\n",
       "      <td>Information Science</td>\n",
       "      <td>Junior</td>\n",
       "      <td>iPhone</td>\n",
       "      <td>Mac OS X-based computer</td>\n",
       "      <td>1.0</td>\n",
       "      <td>1</td>\n",
       "      <td>0</td>\n",
       "      <td>0</td>\n",
       "      <td>0</td>\n",
       "      <td>...</td>\n",
       "      <td>0</td>\n",
       "      <td>Yes</td>\n",
       "      <td>No Python, but I've done some programming in o...</td>\n",
       "      <td>2.0</td>\n",
       "      <td>3.0</td>\n",
       "      <td>1</td>\n",
       "      <td>7.0</td>\n",
       "      <td>6.0</td>\n",
       "      <td>5.0</td>\n",
       "      <td>Introvert</td>\n",
       "    </tr>\n",
       "    <tr>\n",
       "      <th>264</th>\n",
       "      <td>Sam</td>\n",
       "      <td>Stats and CS</td>\n",
       "      <td>Freshman</td>\n",
       "      <td>iPhone</td>\n",
       "      <td>Windows-based computer</td>\n",
       "      <td>1.0</td>\n",
       "      <td>1</td>\n",
       "      <td>0</td>\n",
       "      <td>0</td>\n",
       "      <td>0</td>\n",
       "      <td>...</td>\n",
       "      <td>0</td>\n",
       "      <td>Yes</td>\n",
       "      <td>Some Python -- I have had one class or written...</td>\n",
       "      <td>1.0</td>\n",
       "      <td>3.0</td>\n",
       "      <td>1</td>\n",
       "      <td>7.0</td>\n",
       "      <td>4.0</td>\n",
       "      <td>11.0</td>\n",
       "      <td>Ambivert</td>\n",
       "    </tr>\n",
       "    <tr>\n",
       "      <th>265</th>\n",
       "      <td>Sushruth</td>\n",
       "      <td>Statistics and Computer Science</td>\n",
       "      <td>Freshman</td>\n",
       "      <td>iPhone</td>\n",
       "      <td>Mac OS X-based computer</td>\n",
       "      <td>2.0</td>\n",
       "      <td>0</td>\n",
       "      <td>0</td>\n",
       "      <td>0</td>\n",
       "      <td>0</td>\n",
       "      <td>...</td>\n",
       "      <td>0</td>\n",
       "      <td>Yes</td>\n",
       "      <td>Some Python -- I have had one class or written...</td>\n",
       "      <td>1.0</td>\n",
       "      <td>3.0</td>\n",
       "      <td>1</td>\n",
       "      <td>7.0</td>\n",
       "      <td>3.0</td>\n",
       "      <td>25.0</td>\n",
       "      <td>Ambivert</td>\n",
       "    </tr>\n",
       "    <tr>\n",
       "      <th>266</th>\n",
       "      <td>Mason</td>\n",
       "      <td>Statistics</td>\n",
       "      <td>Freshman</td>\n",
       "      <td>iPhone</td>\n",
       "      <td>Windows-based computer</td>\n",
       "      <td>1.0</td>\n",
       "      <td>1</td>\n",
       "      <td>0</td>\n",
       "      <td>0</td>\n",
       "      <td>0</td>\n",
       "      <td>...</td>\n",
       "      <td>0</td>\n",
       "      <td>No</td>\n",
       "      <td>No programming background -- is Python Taylor ...</td>\n",
       "      <td>1.0</td>\n",
       "      <td>3.0</td>\n",
       "      <td>2</td>\n",
       "      <td>7.0</td>\n",
       "      <td>2.0</td>\n",
       "      <td>5.0</td>\n",
       "      <td>Introvert</td>\n",
       "    </tr>\n",
       "  </tbody>\n",
       "</table>\n",
       "<p>267 rows × 31 columns</p>\n",
       "</div>"
      ]
     },
     "metadata": {},
     "execution_count": 7
    }
   ],
   "metadata": {
    "nbgrader": {
     "grade": false,
     "grade_id": "cell-a754c45cb34da497",
     "locked": false,
     "schema_version": 3,
     "solution": true
    }
   }
  },
  {
   "cell_type": "code",
   "execution_count": 8,
   "source": [
    "## == TEST CASES for Puzzle 4.1 ==\r\n",
    "# - This read-only cell contains test cases for your previous cell.\r\n",
    "# - If this cell runs without any errors, you PASSED all test cases!\r\n",
    "# - If this cell results in any errors, check you previous cell, make changes, and RE-RUN your code and then this cell.\r\n",
    "\r\n",
    "assert(len(df_hello) == 267), \"This is not the dataset you're looking for\"\r\n",
    "\r\n",
    "## == SUCCESS MESSAGE ==\r\n",
    "# You will only see this message (with the emoji showing) if you passed all test cases:\r\n",
    "tada = \"\\N{PARTY POPPER}\"\r\n",
    "print(f\"{tada} All tests passed! {tada}\")"
   ],
   "outputs": [
    {
     "output_type": "stream",
     "name": "stdout",
     "text": [
      "🎉 All tests passed! 🎉\n"
     ]
    }
   ],
   "metadata": {
    "nbgrader": {
     "grade": true,
     "grade_id": "cell-96c94f328cfd0876",
     "locked": true,
     "points": 0,
     "schema_version": 3,
     "solution": false
    }
   }
  },
  {
   "cell_type": "markdown",
   "source": [
    "### Puzzle 4.2: Observation Subsets\r\n",
    "\r\n",
    "In this situation, let's define shoes that are strictly greater than size 9 to be \"large\" and shoes that less than or equal to size 9 are defined to be \"small\".\r\n",
    "\r\n",
    "Create two DataFrames that contain subsets of our data: one DataFrame that includes everyone who has a \"large\" shoe size and one DataFrame that includes everyone who has a \"small\" shoe size:"
   ],
   "metadata": {}
  },
  {
   "cell_type": "markdown",
   "source": [],
   "metadata": {}
  },
  {
   "cell_type": "code",
   "execution_count": 13,
   "source": [
    "df_large = df_hello[df_hello[\"Shoe Size\"]>9]\r\n",
    "df_small = df_hello[df_hello[\"Shoe Size\"]<=9]\r\n"
   ],
   "outputs": [],
   "metadata": {
    "nbgrader": {
     "grade": false,
     "grade_id": "cell-8754c8095ea42040",
     "locked": false,
     "schema_version": 3,
     "solution": true
    }
   }
  },
  {
   "cell_type": "code",
   "execution_count": 14,
   "source": [
    "## == TEST CASES for Puzzle 4.2 ==\r\n",
    "# - This read-only cell contains test cases for your previous cell.\r\n",
    "# - If this cell runs without any errors, you PASSED all test cases!\r\n",
    "# - If this cell results in any errors, check you previous cell, make changes, and RE-RUN your code and then this cell.\r\n",
    "\r\n",
    "assert(len(df_large) == 141), \"This is not the dataframe subset you're looking for.\"\r\n",
    "assert(len(df_small) == 126), \"This is not the dataframe subset you're looking for.\"\r\n",
    "\r\n",
    "## == SUCCESS MESSAGE ==\r\n",
    "# You will only see this message (with the emoji showing) if you passed all test cases:\r\n",
    "tada = \"\\N{PARTY POPPER}\"\r\n",
    "print(f\"{tada} All tests passed! {tada}\")"
   ],
   "outputs": [
    {
     "output_type": "stream",
     "name": "stdout",
     "text": [
      "🎉 All tests passed! 🎉\n"
     ]
    }
   ],
   "metadata": {
    "nbgrader": {
     "grade": true,
     "grade_id": "cell-729252c9fbc53aed",
     "locked": true,
     "points": 1,
     "schema_version": 3,
     "solution": false
    }
   }
  },
  {
   "cell_type": "markdown",
   "source": [
    "### Puzzle 4.3: Average Number of Pairs of Shoes By Group \n",
    "\n",
    "Find the average number of pairs of shoes of each group (large shoes and small shoes):"
   ],
   "metadata": {}
  },
  {
   "cell_type": "code",
   "execution_count": 15,
   "source": [
    "large_avg_shoes = df_large[\"Shoe Number\"].mean()\r\n",
    "small_avg_shoes = df_small[\"Shoe Number\"].mean()\r\n",
    "\r\n",
    "print(\"large_avg_shoes =\", large_avg_shoes,\r\n",
    "      \"\\nsmall_avg_shoes =\", small_avg_shoes)\r\n",
    "      "
   ],
   "outputs": [
    {
     "output_type": "stream",
     "name": "stdout",
     "text": [
      "large_avg_shoes = 5.928571428571429 \n",
      "small_avg_shoes = 7.784\n"
     ]
    }
   ],
   "metadata": {
    "nbgrader": {
     "grade": false,
     "grade_id": "cell-e4b369fb53d3613d",
     "locked": false,
     "schema_version": 3,
     "solution": true
    }
   }
  },
  {
   "cell_type": "code",
   "execution_count": 16,
   "source": [
    "## == TEST CASES for Puzzle 4.3 ==\r\n",
    "# - This read-only cell contains test cases for your previous cell.\r\n",
    "# - If this cell runs without any errors, you PASSED all test cases!\r\n",
    "# - If this cell results in any errors, check you previous cell, make changes, and RE-RUN your code and then this cell.\r\n",
    "\r\n",
    "assert(large_avg_shoes == 830/140),  \"The average number of shoe pairs in among large shoe wearers does not appear correct. Make sure you are taking the mean of the correct variable.\"\r\n",
    "assert(small_avg_shoes == 973 / 125), \"The average number of shoe pairs in among small shoe wearers does not appear correct. Make sure you are taking the mean of the correct variable.\"\r\n",
    "\r\n",
    "## == SUCCESS MESSAGE ==\r\n",
    "# You will only see this message (with the emoji showing) if you passed all test cases:\r\n",
    "tada = \"\\N{PARTY POPPER}\"\r\n",
    "print(f\"{tada} All tests passed! {tada}\")"
   ],
   "outputs": [
    {
     "output_type": "stream",
     "name": "stdout",
     "text": [
      "🎉 All tests passed! 🎉\n"
     ]
    }
   ],
   "metadata": {
    "nbgrader": {
     "grade": true,
     "grade_id": "cell-303a6192d564894f",
     "locked": true,
     "points": 1,
     "schema_version": 3,
     "solution": false
    }
   }
  },
  {
   "cell_type": "markdown",
   "source": [
    "### Puzzle 4.4. Reflection\n",
    "\n",
    "❓ **Individual Reflection Question** ❓: What is the relationship between shoe size and shoe number?  Can you think of a possible confounding variable in the observed relationship (or lack thereof) between shoe size and shoe number?"
   ],
   "metadata": {}
  },
  {
   "cell_type": "markdown",
   "source": [
    "People with a smaller shoe size seem to own more pairs of shoes. A confounding variable could be that it is harder to find shoes that are bigger than a size 9."
   ],
   "metadata": {}
  },
  {
   "cell_type": "markdown",
   "source": [
    "## Submit Your Work!\r\n",
    "\r\n",
    "You're almost done -- congratulations!\r\n",
    "\r\n",
    "You need to do two more things:\r\n",
    "\r\n",
    "1.  Save your work. To do this, go to File -> Save All\r\n",
    "\r\n",
    "2.  After you have saved, exit this notebook and follow the webpage instructions to commit this lab to your Git repository!"
   ],
   "metadata": {}
  }
 ],
 "metadata": {
  "celltoolbar": "Create Assignment",
  "kernelspec": {
   "name": "python3",
   "display_name": "Python 3.9.6 64-bit"
  },
  "language_info": {
   "codemirror_mode": {
    "name": "ipython",
    "version": 3
   },
   "file_extension": ".py",
   "mimetype": "text/x-python",
   "name": "python",
   "nbconvert_exporter": "python",
   "pygments_lexer": "ipython3",
   "version": "3.9.6"
  },
  "interpreter": {
   "hash": "bb71644d32eb36cf7f2cc7810c446f13bd72926edb88194d595fc87c14eb9124"
  }
 },
 "nbformat": 4,
 "nbformat_minor": 2
}