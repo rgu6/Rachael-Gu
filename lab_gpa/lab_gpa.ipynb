{
 "cells": [
  {
   "cell_type": "markdown",
   "source": [
    "# Your Grades and GPA at Illinois!\n",
    "\n",
    "In this lab, you will explore Wade's famous GPA dataset and find out about the easiest, hardest, and most popular courses at Illinois!\n",
    "\n",
    "The dataset you are using is this lab is actually the same dataset that Prof Wade used to make the GPA visualizations :) Check this out here if you haven't seen it already: [https://waf.cs.illinois.edu/discovery/grade_disparity_between_sections_at_uiuc/](https://waf.cs.illinois.edu/discovery/grade_disparity_between_sections_at_uiuc/)"
   ],
   "metadata": {}
  },
  {
   "cell_type": "markdown",
   "source": [
    "# Part 0 | Your Group!\r\n",
    "\r\n",
    "Edit the next Python cell to add information about who you're working within your lab section:"
   ],
   "metadata": {}
  },
  {
   "cell_type": "code",
   "execution_count": null,
   "source": [
    "# First, meet your CAs and TA if you haven't already!\r\n",
    "# ...first name is enough, we'll know who they are! :)\r\n",
    "ta_name = \"\"\r\n",
    "ca1_name = \"\"\r\n",
    "ca2_name = \"\"\r\n",
    "\r\n",
    "\r\n",
    "# Also, make sure to meet your team for this lab! Find out their name, what major they're in,\r\n",
    "# and learn something new about them that you never knew before!\r\n",
    "partner1_name = \"\"\r\n",
    "partner1_netid = \"\"\r\n",
    "partner1_major = \"\"\r\n",
    "\r\n",
    "partner2_name = \"\"\r\n",
    "partner2_netid = \"\"\r\n",
    "partner2_major = \"\"\r\n",
    "\r\n",
    "partner3_name = \"\"\r\n",
    "partner3_netid = \"\"\r\n",
    "partner3_major = \"\""
   ],
   "outputs": [],
   "metadata": {}
  },
  {
   "cell_type": "markdown",
   "source": [
    "# Part 1 | Basic data manipulation\n",
    "\n",
    "## Puzzle 1.1: Loading the dataset\n",
    "\n",
    "For the first part of our lab, we'll be using the GPA dataset, which should be automatically downloaded when you fetch this notebook. \n",
    "\n",
    "In the following cell, load the pandas library and read the dataset into `df`."
   ],
   "metadata": {}
  },
  {
   "cell_type": "code",
   "execution_count": null,
   "source": [],
   "outputs": [],
   "metadata": {
    "nbgrader": {
     "grade": false,
     "grade_id": "cell-51fef9428e349da7",
     "locked": false,
     "schema_version": 3,
     "solution": true,
     "task": false
    }
   }
  },
  {
   "cell_type": "markdown",
   "source": [
    "## Puzzle 1.2: Adding helper columns\r\n",
    "\r\n",
    "Add two new columns, `\"Total Students\"` and `\"Average GPA\"`, that compute the total number of students in each course and the average GPA for each course, respectively.\r\n",
    "\r\n",
    "You should not include students with a `\"W\"` in either column. The grade point scale can be found at https://registrar.illinois.edu/courses-grades/explanation-of-grades/.\r\n",
    "\r\n",
    "Hint (double-click this cell to see it): <span style=\"color:#ffffff00\">use the dot() function; see https://stackoverflow.com/questions/18419962/how-to-compute-weighted-sum-of-all-elements-in-a-row-in-pandas for some examples.</span>"
   ],
   "metadata": {}
  },
  {
   "cell_type": "code",
   "execution_count": null,
   "source": [
    "weight = [4, 4, 3.67, 3.33, 3, 2.67, 2.33, 2, 1.67, 1.33, 1, 0.67, 0]\r\n",
    "grade = [\"A+\", \"A\", \"A-\", \"B+\", \"B\", \"B-\", \"C+\", \"C\", \"C-\", \"D+\", \"D\", \"D-\", \"F\"]\r\n",
    "df[\"Total Students\"] = ...\r\n",
    "df[\"Average GPA\"] = ..."
   ],
   "outputs": [],
   "metadata": {
    "nbgrader": {
     "grade": false,
     "grade_id": "cell-1043285927ac8a85",
     "locked": false,
     "schema_version": 3,
     "solution": true,
     "task": false
    }
   }
  },
  {
   "cell_type": "code",
   "execution_count": null,
   "source": [
    "## == TEST CASES for Puzzle 1.2 ==\r\n",
    "# - This read-only cell contains test cases for your previous cell.\r\n",
    "# - If this cell runs without any error our output, you PASSED all test cases!\r\n",
    "# - If this cell results in any errors, check your previous cell, make changes, and RE-RUN your code and then this cell.\r\n",
    "assert(df[\r\n",
    "  (df[\"YearTerm\"] == \"2010-su\") & \\\r\n",
    "  (df[\"Subject\"] == \"STAT\") & \\\r\n",
    "  (df[\"Number\"] == 410) \\\r\n",
    "][\"Total Students\"].sum() == 31), \"It appears that your \\\"Total Students\\\" column is incorrect.\"\r\n",
    "assert(df[\r\n",
    "  (df[\"YearTerm\"] == \"2018-fa\") & \\\r\n",
    "  (df[\"Subject\"] == \"CS\") & \\\r\n",
    "  (df[\"Number\"] == 225) \\\r\n",
    "][\"Total Students\"].sum() == 697), \"It appears that your \\\"Total Students\\\" column is incorrect.\"\r\n",
    "assert( abs(df[\r\n",
    "  (df[\"YearTerm\"] == \"2018-fa\") & \\\r\n",
    "  (df[\"Subject\"] == \"STAT\") & \\\r\n",
    "  (df[\"Number\"] == 100) \\\r\n",
    "][\"Average GPA\"].mean() - 3.247) < 0.01), \"It appears that your \\\"Average GPA\\\" column is incorrect.\"\r\n",
    "## == SUCCESS MESSAGE ==\r\n",
    "# You will only see this message (with the emoji showing) if you passed all test cases:\r\n",
    "tada = \"\\N{PARTY POPPER}\"\r\n",
    "print(f\"{tada} All tests passed! {tada}\")"
   ],
   "outputs": [],
   "metadata": {
    "nbgrader": {
     "grade": true,
     "grade_id": "cell-46729cc74c213e52",
     "locked": true,
     "points": 1,
     "schema_version": 3,
     "solution": false,
     "task": false
    }
   }
  },
  {
   "cell_type": "markdown",
   "source": [
    "# Part 2 | Finding the easiest and hardest courses\n",
    "\n",
    "## Puzzle 2.1: Hardest Courses in the Dataset\n",
    "\n",
    "Based on the `\"Average GPA\"` column, find the **30 hardest courses** at Illinois, i.e., the 30 courses with the lowest \"Average GPA\". Store the results in `df_hard_course`.\n",
    "\n",
    "Hint (double-click this cell to see it): <span style=\"color:#ffffff00\">use the nsmallest() function</span>"
   ],
   "metadata": {
    "nbgrader": {
     "grade": false,
     "grade_id": "cell-7cf39ab5f78a3f48",
     "locked": false,
     "schema_version": 3,
     "solution": false,
     "task": false
    }
   }
  },
  {
   "cell_type": "code",
   "execution_count": null,
   "source": [
    "df_hard_course = ...\r\n",
    "df_hard_course"
   ],
   "outputs": [],
   "metadata": {
    "nbgrader": {
     "grade": false,
     "grade_id": "cell-13f6d92b7a658526",
     "locked": false,
     "schema_version": 3,
     "solution": true,
     "task": false
    }
   }
  },
  {
   "cell_type": "markdown",
   "source": [
    "## Puzzle 2.2: \"Level\" of hardest courses\n",
    "\n",
    "Find the average `\"Number\"` of the **30 hardest courses** at Illinois. Store the result as `df_hard_course_avg_no`."
   ],
   "metadata": {
    "nbgrader": {
     "grade": false,
     "grade_id": "cell-02a6a9a1be700b2e",
     "locked": false,
     "schema_version": 3,
     "solution": false,
     "task": false
    }
   }
  },
  {
   "cell_type": "code",
   "execution_count": null,
   "source": [
    "df_hard_course_avg_no = ...\r\n",
    "df_hard_course_avg_no"
   ],
   "outputs": [],
   "metadata": {
    "nbgrader": {
     "grade": false,
     "grade_id": "cell-a7106dca7694711c",
     "locked": false,
     "schema_version": 3,
     "solution": true,
     "task": false
    }
   }
  },
  {
   "cell_type": "code",
   "execution_count": null,
   "source": [
    "## == TEST CASES for Puzzle 2.1 and 2.2 ==\r\n",
    "# - This read-only cell contains test cases for your previous cell.\r\n",
    "# - If this cell runs without any error our output, you PASSED all test cases!\r\n",
    "# - If this cell results in any errors, check your previous cell(s), make changes, and RE-RUN your code and then this cell.\r\n",
    "assert(abs(df_hard_course_avg_no - 4853/30) < 0.0001), \"It appears that your average \\\"Number\\\" is incorrect. Please check both Puzzle 2.1 and Puzzle 2.2.\"\r\n",
    "## == SUCCESS MESSAGE ==\r\n",
    "# You will only see this message (with the emoji showing) if you passed all test cases:\r\n",
    "tada = \"\\N{PARTY POPPER}\"\r\n",
    "print(f\"{tada} All tests passed! {tada}\")"
   ],
   "outputs": [],
   "metadata": {
    "nbgrader": {
     "grade": true,
     "grade_id": "cell-46729cc74c213e52",
     "locked": true,
     "points": 1,
     "schema_version": 3,
     "solution": false,
     "task": false
    }
   }
  },
  {
   "cell_type": "markdown",
   "source": [
    "## Puzzle 2.3: Are the hardest courses really \"hard\"?\r\n",
    "\r\n",
    "❓ **Individual Reflection Question** ❓ After solving Puzzle 2.1 and 2.2, Joe has the following claim:\r\n",
    "\r\n",
    "\"We know that the undergraduate courses are coded from 1 to 499, where a larger number (in the hundreds place) usually implies more advanced materials. Based on Puzzle 2.2, the results in Puzzle 2.1 clearly do not represent the hardest courses at Illinois.\"\r\n",
    "\r\n",
    "Comment on Joe's claim below."
   ],
   "metadata": {}
  },
  {
   "cell_type": "markdown",
   "source": [
    "**Double-click and delete this line to type your comment.**"
   ],
   "metadata": {}
  },
  {
   "cell_type": "markdown",
   "source": [
    "❓ **Group Discussion Question** ❓ Discuss Joe's claim with your group and whether or not you agree. How can we improve the analysis in Puzzle 2.1 or 2.2, e.g., using other descriptive statistics? "
   ],
   "metadata": {}
  },
  {
   "cell_type": "markdown",
   "source": [
    "## Puzzle 2.4: Easiest Courses in 2019\n",
    "\n",
    "Based on the `\"Average GPA\"` column, find the **30 easiest courses in 2019** at Illinois. Store the results in `df_easy_course_2019`.\n",
    "\n",
    "Hint (double-click this cell to see it): <span style=\"color:#ffffff00\">use the nlargest() function</span>"
   ],
   "metadata": {}
  },
  {
   "cell_type": "code",
   "execution_count": null,
   "source": [
    "df_easy_course_2019 = ...\r\n",
    "df_easy_course_2019"
   ],
   "outputs": [],
   "metadata": {
    "nbgrader": {
     "grade": false,
     "grade_id": "cell-44d17a2ef57b1a19",
     "locked": false,
     "schema_version": 3,
     "solution": true,
     "task": false
    }
   }
  },
  {
   "cell_type": "code",
   "execution_count": null,
   "source": [
    "## == TEST CASES for Puzzle 2.4 ==\r\n",
    "# - This read-only cell contains test cases for your previous cell.\r\n",
    "# - If this cell runs without any error or output, you PASSED all test cases!\r\n",
    "# - If this cell results in any errors, check your previous cell, make changes, RE-RUN your code, and then RE-RUN this cell.\r\n",
    "assert( len(df_easy_course_2019) == 30 ), \"You should only have the 30 easiest courses in 2019.\"\r\n",
    "assert( abs(df_easy_course_2019[\"Average GPA\"].mean() - 3.9675) < 0.0001 ), \"Are you sure you have the 30 easiest courses in 2019?\"\r\n",
    "## == SUCCESS MESSAGE ==\r\n",
    "# You will only see this message (with the emoji showing) if you passed all test cases:\r\n",
    "tada = \"\\N{PARTY POPPER}\"\r\n",
    "print(f\"{tada} All tests passed! {tada}\")"
   ],
   "outputs": [],
   "metadata": {
    "nbgrader": {
     "grade": true,
     "grade_id": "cell-af77ae707b9fa776",
     "locked": true,
     "points": 1,
     "schema_version": 3,
     "solution": false,
     "task": false
    }
   }
  },
  {
   "cell_type": "markdown",
   "source": [
    "# Part 3 | Finding Data by Subject\n",
    "\n",
    "## Puzzle 3.1: Total Number of Grades by Subject\n",
    "\n",
    "Find the total number of each grade (eg: \"A+\"s, \"A\"s, \"A-\"s, etc.) given by different subjects. Store the results in `df_grouped_subject`.\n",
    "\n",
    "Hint (double-click this cell to see it): <span style=\"color:#ffffff00\">use the groupby() and agg() function</span>"
   ],
   "metadata": {}
  },
  {
   "cell_type": "code",
   "execution_count": null,
   "source": [
    "df_grouped_subject = ...\r\n",
    "df_grouped_subject"
   ],
   "outputs": [],
   "metadata": {
    "nbgrader": {
     "grade": false,
     "grade_id": "cell-7d31cf501bfd8025",
     "locked": false,
     "schema_version": 3,
     "solution": true,
     "task": false
    },
    "scrolled": false
   }
  },
  {
   "cell_type": "code",
   "execution_count": null,
   "source": [
    "## == TEST CASES for Puzzle 3.1 ==\r\n",
    "# - This read-only cell contains test cases for your previous cell.\r\n",
    "# - If this cell runs without any error our output, you PASSED all test cases!\r\n",
    "# - If this cell results in any errors, check your previous cell, make changes, RE-RUN your code, and then RE-RUN this cell.\r\n",
    "assert( len(df_grouped_subject) == 161 ), \"Are you sure you grouped by subjects?\"\r\n",
    "assert( df_grouped_subject[ df_grouped_subject[\"Subject\"] == \"CS\" ][\"A\"].values[0] == 38472 ), \"Are you sure you counted the right number of each subject?\"\r\n",
    "## == SUCCESS MESSAGE ==\r\n",
    "# You will only see this message (with the emoji showing) if you passed all test cases:\r\n",
    "tada = \"\\N{PARTY POPPER}\"\r\n",
    "print(f\"{tada} All tests passed! {tada}\")"
   ],
   "outputs": [],
   "metadata": {
    "nbgrader": {
     "grade": true,
     "grade_id": "cell-e9ad64dffa5a1cf1",
     "locked": true,
     "points": 1,
     "schema_version": 3,
     "solution": false,
     "task": false
    }
   }
  },
  {
   "cell_type": "markdown",
   "source": [
    "## Puzzle 3.2: Average GPA by Subject\n",
    "\n",
    "In `df_grouped_subject`, add a new column called `\"Overall Average GPA\"` that computes the overall GPA of each subject at Illinois."
   ],
   "metadata": {}
  },
  {
   "cell_type": "code",
   "execution_count": null,
   "source": [
    "df_grouped_subject[\"Overall Average GPA\"] = ...\r\n",
    "df_grouped_subject"
   ],
   "outputs": [],
   "metadata": {
    "nbgrader": {
     "grade": false,
     "grade_id": "cell-7d3923eba40e1f45",
     "locked": false,
     "schema_version": 3,
     "solution": true,
     "task": false
    }
   }
  },
  {
   "cell_type": "code",
   "execution_count": null,
   "source": [
    "## == TEST CASES for Puzzle 3.2 ==\r\n",
    "# - This read-only cell contains test cases for your previous cell.\r\n",
    "# - If this cell runs without any error or output, you PASSED all test cases!\r\n",
    "# - If this cell results in any errors, check you previous cell, make changes, RE-RUN your code, and then RE-RUN this cell.\r\n",
    "assert( abs(df_grouped_subject[ df_grouped_subject[\"Subject\"] == \"CS\" ][\"Overall Average GPA\"].values[0] \\\r\n",
    "    - 3.2494) < 0.0001 ), \"Your overall average GPA does not appear to be correct.\"\r\n",
    "## == SUCCESS MESSAGE ==\r\n",
    "# You will only see this message (with the emoji showing) if you passed all test cases:\r\n",
    "tada = \"\\N{PARTY POPPER}\"\r\n",
    "print(f\"{tada} All tests passed! {tada}\")"
   ],
   "outputs": [],
   "metadata": {
    "nbgrader": {
     "grade": true,
     "grade_id": "cell-81b547cf0d42b67e",
     "locked": true,
     "points": 1,
     "schema_version": 3,
     "solution": false,
     "task": false
    }
   }
  },
  {
   "cell_type": "markdown",
   "source": [
    "## Puzzle 3.3: Visualizing the Grades of Subject Equal to `\"STAT\"`\n",
    "\n",
    "Plot a density histogram of the grades (`\"A+\"` to `\"F\"`) for the subject `\"STAT\"`.\n",
    "\n",
    "Hint (double-click this cell to see it): \n",
    "<span style=\"color:#ffffff00\">\n",
    "    First, extract the row where the subject is \"STAT\".\n",
    "    Then, extract the columns \"A+\" to \"F\" and divide them by the total number of students.\n",
    "    Finally, use plot.bar().\n",
    "</span>"
   ],
   "metadata": {}
  },
  {
   "cell_type": "code",
   "execution_count": null,
   "source": [],
   "outputs": [],
   "metadata": {}
  },
  {
   "cell_type": "markdown",
   "source": [
    "## Puzzle 3.4: Density Histogram vs. Frequency Histogram\n",
    "\n",
    "❓ **Individual Reflection Question** ❓ Why should we use density histogram in Puzzle 3.3? Is it meaningful to compare the frequency histogram between different subjects?"
   ],
   "metadata": {}
  },
  {
   "cell_type": "markdown",
   "source": [
    "**Double-click and delete this line to type your comment.**"
   ],
   "metadata": {}
  },
  {
   "cell_type": "markdown",
   "source": [
    "❓ **Group Discussion Question** ❓ Think about what types of visualizations would be best for the GPA dataset.  These can be ones we have covered in lecture or other visualizations you are familiar with that we haven't covered in lecture. Discuss your ideas with your groupmates!"
   ],
   "metadata": {}
  },
  {
   "cell_type": "markdown",
   "source": [
    "## Puzzle 3.5: Find Your Major!\n",
    "\n",
    "Finally, find your major/subject in the dataset and check out how hard it is! \n",
    "\n",
    "Feel free to look around and explore! Part of being a data scientist is being creative and using Python to answer questions that you have.  Write your code below and write comments to explain what your code does. For example, what are the hardest classes in your major that have had at least 50 students?"
   ],
   "metadata": {}
  },
  {
   "cell_type": "code",
   "execution_count": null,
   "source": [
    "# Feel free to explore. Credit will be given as long as you try some new code (i.e., not directly copied from any puzzles)."
   ],
   "outputs": [],
   "metadata": {
    "nbgrader": {
     "grade": false,
     "grade_id": "cell-116a2bb23ee81616",
     "locked": false,
     "schema_version": 3,
     "solution": true,
     "task": false
    }
   }
  },
  {
   "cell_type": "markdown",
   "source": [
    "❓ **Individual Reflection Question** ❓ Explain what you did in Puzzle 3.5 here, as well as what you found!  This is your chance to interpret your results and teach us something that you found interesting :)"
   ],
   "metadata": {}
  },
  {
   "cell_type": "markdown",
   "source": [
    "**Double-click and delete this line to type your comment.**"
   ],
   "metadata": {}
  },
  {
   "cell_type": "markdown",
   "source": [
    "❓ **Group Discussion Question** ❓ Are there any specific classes here at UIUC that you have heard of that are \"hard\" or \"easy\"?  Discuss this with your groupmates and check out their average GPAs. Think about how they compare to the overall average!"
   ],
   "metadata": {}
  },
  {
   "cell_type": "markdown",
   "source": [
    "# Finale!\r\n",
    "\r\n",
    "You're almost done -- congratulations!\r\n",
    "\r\n",
    "You need to do two more things:\r\n",
    "\r\n",
    "1.  Save your work. To do this, go to File -> Save All\r\n",
    "\r\n",
    "2.  After you have saved, exit this notebook and follow the webpage instructions to commit this lab to your Git repository!"
   ],
   "metadata": {}
  }
 ],
 "metadata": {
  "celltoolbar": "Create Assignment",
  "kernelspec": {
   "name": "python3",
   "display_name": "Python 3.7.7 64-bit ('base': conda)"
  },
  "language_info": {
   "codemirror_mode": {
    "name": "ipython",
    "version": 3
   },
   "file_extension": ".py",
   "mimetype": "text/x-python",
   "name": "python",
   "nbconvert_exporter": "python",
   "pygments_lexer": "ipython3",
   "version": "3.7.7"
  },
  "interpreter": {
   "hash": "3b8139b19a42d2cc2d5868d061daa36e817f1d0defedc1ea62988e353be55fb4"
  }
 },
 "nbformat": 4,
 "nbformat_minor": 2
}