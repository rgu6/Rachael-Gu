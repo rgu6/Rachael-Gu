{
 "cells": [
  {
   "cell_type": "markdown",
   "metadata": {},
   "source": [
    "# Welcome to lab_similarity!\n",
    "\n",
    "We are half way done with Data Science DISCOVERY this semester!! Hopefully at this point, you've come to know a few things about your groupmates in your lab section through working together on the labs. But, have you ever wondered if there is someone very similar to you in the class that you haven't had the chance to get to know yet? In this lab you will find your in-class doppelganger or your \"Stat 107 Twin\". With the power of data science, you'll learn more about your peers than ever before by anaylzing the `Hello` dataset!\n",
    "\n",
    "To do this, you will:\n",
    "- Use Python to work with categorical and numeric data\n",
    "- Practice using conditionals in if-statements\n",
    "- Design and implement your own functions"
   ]
  },
  {
   "cell_type": "markdown",
   "metadata": {},
   "source": [
    "## Part 0: Your Group!\n",
    "Edit the next Python cell to add information about who you're working within your lab section:"
   ]
  },
  {
   "cell_type": "code",
   "execution_count": 1,
   "metadata": {},
   "outputs": [],
   "source": [
    "# First, meet your CAs and TA if you haven't already!\n",
    "# ...first name is enough, we'll know who they are! :)\n",
    "ta_name = \"Paul\"\n",
    "ca1_name = \"Jesse\"\n",
    "ca2_name = \"Charlie\"\n",
    "\n",
    "\n",
    "# Also, make sure to meet your team for this lab! Find out their name, what major they're in,\n",
    "# and learn something new about them that you never knew before!\n",
    "partner1_name = \"Meg\"\n",
    "partner1_netid = \"mli224\"\n",
    "partner1_major = \"stat+cs\"\n",
    "\n",
    "partner2_name = \"Abhi\"\n",
    "partner2_netid = \"athanvi2\"\n",
    "partner2_major = \"stat+cs\"\n",
    "\n",
    "partner3_name = \"\"\n",
    "partner3_netid = \"\"\n",
    "partner3_major = \"\""
   ]
  },
  {
   "cell_type": "markdown",
   "metadata": {
    "nbgrader": {
     "grade": false,
     "grade_id": "cell-c1d75e2264482750",
     "locked": true,
     "schema_version": 3,
     "solution": false,
     "task": false
    }
   },
   "source": [
    "## Part 1: Dataframe Setup\n",
    "\n",
    "For the first part of our lab, we'll be using the \"Hello\" dataset one more time. We need to:\n",
    "- Import the proper libraries\n",
    "- Check a few rows in the dataframe\n",
    "- Check if the dataframe has any blank responses"
   ]
  },
  {
   "cell_type": "markdown",
   "metadata": {},
   "source": [
    "### Puzzle 1.1: Import libraries and data\n",
    "\n",
    "Import everything you need for the lab. We will need `pandas` (as `pd`) and `matplotlib.pyplot` (as `plt`). For now, we'll only need pandas!  As in past labs, `hello.csv` should be in the same directory as this lab. Load it onto a dataframe called `df`.  Then, randomly sample and print 5 rows from the dataframe to see what our data looks like."
   ]
  },
  {
   "cell_type": "code",
   "execution_count": 2,
   "metadata": {
    "nbgrader": {
     "grade": false,
     "grade_id": "cell-193e1aa1a2845076",
     "locked": false,
     "schema_version": 3,
     "solution": true,
     "task": false
    }
   },
   "outputs": [
    {
     "data": {
      "text/html": [
       "<div>\n",
       "<style scoped>\n",
       "    .dataframe tbody tr th:only-of-type {\n",
       "        vertical-align: middle;\n",
       "    }\n",
       "\n",
       "    .dataframe tbody tr th {\n",
       "        vertical-align: top;\n",
       "    }\n",
       "\n",
       "    .dataframe thead th {\n",
       "        text-align: right;\n",
       "    }\n",
       "</style>\n",
       "<table border=\"1\" class=\"dataframe\">\n",
       "  <thead>\n",
       "    <tr style=\"text-align: right;\">\n",
       "      <th></th>\n",
       "      <th>Name</th>\n",
       "      <th>Major</th>\n",
       "      <th>Year</th>\n",
       "      <th>Phone</th>\n",
       "      <th>Computer</th>\n",
       "      <th>Holes In Straw</th>\n",
       "      <th>Dogs</th>\n",
       "      <th>Cats</th>\n",
       "      <th>Fish</th>\n",
       "      <th>Chickens</th>\n",
       "      <th>...</th>\n",
       "      <th>Twitch</th>\n",
       "      <th>Have you ever programmed before?</th>\n",
       "      <th>What background in Python programming do you have?</th>\n",
       "      <th>Statistics Courses</th>\n",
       "      <th>Study Hours Per Week</th>\n",
       "      <th>Siblings</th>\n",
       "      <th>Sleep Hours</th>\n",
       "      <th>Shoe Number</th>\n",
       "      <th>How many different people (including each person in group chats!) did you text yesterday?</th>\n",
       "      <th>Introvert, extrovert, ambivert?</th>\n",
       "    </tr>\n",
       "  </thead>\n",
       "  <tbody>\n",
       "    <tr>\n",
       "      <th>242</th>\n",
       "      <td>Eeshan</td>\n",
       "      <td>Statistics &amp; Computer Science</td>\n",
       "      <td>Freshman</td>\n",
       "      <td>iPhone</td>\n",
       "      <td>Windows-based computer</td>\n",
       "      <td>1.0</td>\n",
       "      <td>1</td>\n",
       "      <td>0</td>\n",
       "      <td>0</td>\n",
       "      <td>0</td>\n",
       "      <td>...</td>\n",
       "      <td>0</td>\n",
       "      <td>Yes</td>\n",
       "      <td>Some Python -- I have had one class or written...</td>\n",
       "      <td>0.0</td>\n",
       "      <td>4.0</td>\n",
       "      <td>1</td>\n",
       "      <td>8.0</td>\n",
       "      <td>3.0</td>\n",
       "      <td>8.0</td>\n",
       "      <td>Introvert</td>\n",
       "    </tr>\n",
       "    <tr>\n",
       "      <th>34</th>\n",
       "      <td>Patrick</td>\n",
       "      <td>Statistics and Computer Science</td>\n",
       "      <td>Freshman</td>\n",
       "      <td>Android</td>\n",
       "      <td>Windows-based computer</td>\n",
       "      <td>1.0</td>\n",
       "      <td>0</td>\n",
       "      <td>0</td>\n",
       "      <td>0</td>\n",
       "      <td>0</td>\n",
       "      <td>...</td>\n",
       "      <td>1</td>\n",
       "      <td>Yes</td>\n",
       "      <td>Some Python -- I have had one class or written...</td>\n",
       "      <td>1.0</td>\n",
       "      <td>3.5</td>\n",
       "      <td>1</td>\n",
       "      <td>7.5</td>\n",
       "      <td>3.0</td>\n",
       "      <td>5.0</td>\n",
       "      <td>Introvert</td>\n",
       "    </tr>\n",
       "    <tr>\n",
       "      <th>244</th>\n",
       "      <td>Olivia</td>\n",
       "      <td>Statistics</td>\n",
       "      <td>Freshman</td>\n",
       "      <td>iPhone</td>\n",
       "      <td>Mac OS X-based computer</td>\n",
       "      <td>1.0</td>\n",
       "      <td>1</td>\n",
       "      <td>0</td>\n",
       "      <td>0</td>\n",
       "      <td>0</td>\n",
       "      <td>...</td>\n",
       "      <td>0</td>\n",
       "      <td>No</td>\n",
       "      <td>No programming background -- is Python Taylor ...</td>\n",
       "      <td>1.0</td>\n",
       "      <td>3.0</td>\n",
       "      <td>0</td>\n",
       "      <td>8.0</td>\n",
       "      <td>14.0</td>\n",
       "      <td>40.0</td>\n",
       "      <td>Extrovert</td>\n",
       "    </tr>\n",
       "    <tr>\n",
       "      <th>67</th>\n",
       "      <td>Kevin</td>\n",
       "      <td>CS</td>\n",
       "      <td>Freshman</td>\n",
       "      <td>iPhone</td>\n",
       "      <td>Mac OS X-based computer</td>\n",
       "      <td>2.0</td>\n",
       "      <td>0</td>\n",
       "      <td>0</td>\n",
       "      <td>0</td>\n",
       "      <td>0</td>\n",
       "      <td>...</td>\n",
       "      <td>0</td>\n",
       "      <td>Yes</td>\n",
       "      <td>No Python, but I've done some programming in o...</td>\n",
       "      <td>1.0</td>\n",
       "      <td>5.0</td>\n",
       "      <td>1</td>\n",
       "      <td>6.0</td>\n",
       "      <td>3.0</td>\n",
       "      <td>2.0</td>\n",
       "      <td>Introvert</td>\n",
       "    </tr>\n",
       "    <tr>\n",
       "      <th>226</th>\n",
       "      <td>Rahul</td>\n",
       "      <td>CS + Stats</td>\n",
       "      <td>Freshman</td>\n",
       "      <td>iPhone</td>\n",
       "      <td>Mac OS X-based computer</td>\n",
       "      <td>1.0</td>\n",
       "      <td>1</td>\n",
       "      <td>0</td>\n",
       "      <td>0</td>\n",
       "      <td>0</td>\n",
       "      <td>...</td>\n",
       "      <td>0</td>\n",
       "      <td>Yes</td>\n",
       "      <td>No Python, but I've done some programming in o...</td>\n",
       "      <td>1.0</td>\n",
       "      <td>2.0</td>\n",
       "      <td>1</td>\n",
       "      <td>10.0</td>\n",
       "      <td>6.0</td>\n",
       "      <td>32.0</td>\n",
       "      <td>Ambivert</td>\n",
       "    </tr>\n",
       "  </tbody>\n",
       "</table>\n",
       "<p>5 rows × 31 columns</p>\n",
       "</div>"
      ],
      "text/plain": [
       "        Name                            Major      Year    Phone  \\\n",
       "242   Eeshan    Statistics & Computer Science  Freshman   iPhone   \n",
       "34   Patrick  Statistics and Computer Science  Freshman  Android   \n",
       "244   Olivia                       Statistics  Freshman   iPhone   \n",
       "67     Kevin                               CS  Freshman   iPhone   \n",
       "226    Rahul                       CS + Stats  Freshman   iPhone   \n",
       "\n",
       "                    Computer  Holes In Straw  Dogs  Cats  Fish  Chickens  ...  \\\n",
       "242   Windows-based computer             1.0     1     0     0         0  ...   \n",
       "34    Windows-based computer             1.0     0     0     0         0  ...   \n",
       "244  Mac OS X-based computer             1.0     1     0     0         0  ...   \n",
       "67   Mac OS X-based computer             2.0     0     0     0         0  ...   \n",
       "226  Mac OS X-based computer             1.0     1     0     0         0  ...   \n",
       "\n",
       "     Twitch  Have you ever programmed before?  \\\n",
       "242       0                               Yes   \n",
       "34        1                               Yes   \n",
       "244       0                                No   \n",
       "67        0                               Yes   \n",
       "226       0                               Yes   \n",
       "\n",
       "     What background in Python programming do you have?  Statistics Courses  \\\n",
       "242  Some Python -- I have had one class or written...                  0.0   \n",
       "34   Some Python -- I have had one class or written...                  1.0   \n",
       "244  No programming background -- is Python Taylor ...                  1.0   \n",
       "67   No Python, but I've done some programming in o...                  1.0   \n",
       "226  No Python, but I've done some programming in o...                  1.0   \n",
       "\n",
       "    Study Hours Per Week  Siblings  Sleep Hours  Shoe Number  \\\n",
       "242                  4.0         1          8.0          3.0   \n",
       "34                   3.5         1          7.5          3.0   \n",
       "244                  3.0         0          8.0         14.0   \n",
       "67                   5.0         1          6.0          3.0   \n",
       "226                  2.0         1         10.0          6.0   \n",
       "\n",
       "     How many different people (including each person in group chats!) did you text yesterday?  \\\n",
       "242                                                8.0                                           \n",
       "34                                                 5.0                                           \n",
       "244                                               40.0                                           \n",
       "67                                                 2.0                                           \n",
       "226                                               32.0                                           \n",
       "\n",
       "     Introvert, extrovert, ambivert?  \n",
       "242                        Introvert  \n",
       "34                         Introvert  \n",
       "244                        Extrovert  \n",
       "67                         Introvert  \n",
       "226                         Ambivert  \n",
       "\n",
       "[5 rows x 31 columns]"
      ]
     },
     "execution_count": 2,
     "metadata": {},
     "output_type": "execute_result"
    }
   ],
   "source": [
    "# Import pandas\n",
    "import pandas as pd\n",
    "\n",
    "# Load the dataframe and print out 5 random rows!\n",
    "df = pd.read_csv(\"hello.csv\")\n",
    "df.sample(5)"
   ]
  },
  {
   "cell_type": "code",
   "execution_count": 3,
   "metadata": {
    "nbgrader": {
     "grade": true,
     "grade_id": "cell-4630e717d7a78a09",
     "locked": true,
     "points": 1,
     "schema_version": 3,
     "solution": false
    }
   },
   "outputs": [
    {
     "name": "stdout",
     "output_type": "stream",
     "text": [
      "🎉 All tests passed! 🎉\n"
     ]
    }
   ],
   "source": [
    "## == TEST CASES for Puzzle 0 ==\n",
    "# - This read-only cell contains test cases for your previous cell.\n",
    "# - If this cell runs with the success message as your output, you PASSED all test cases!\n",
    "# - If this cell results in any errors, check your previous cell, make changes, and RE-RUN your code and then this cell.\n",
    "\n",
    "assert(len(df) == 284), \"The dataframe does not appear to have correct dataset loaded\"\n",
    "\n",
    "## == SUCCESS MESSAGE ==\n",
    "# You will only see this message (with the emoji showing) if you passed all test cases:\n",
    "tada = \"\\N{PARTY POPPER}\"\n",
    "print(f\"{tada} All tests passed! {tada}\")"
   ]
  },
  {
   "cell_type": "markdown",
   "metadata": {},
   "source": [
    "### Puzzle 1.2 Check for NAs\n",
    "\n",
    "Before we find our Stat 107 twins, we have to deal with missing values! The function below checks if there are any blank responses, which pandas encodes as \"NaN\" (Not a Number). If there are, the function prints all the cells that are in a row or column with an NaN. Otherwise, it returns `None` and prints a string that says: \"This dataframe has no NAs\". `None` is a special data type that represents a null value or no value at all. Once you're done writing the function, apply it to our dataframe, name the **return** value `df_na`, and print it.\n",
    "\n",
    "**More Details:** You can use **df.isnull().values.any()** to check a whole dataframe for NAs. \n",
    "\n",
    "**df.isnull().any()** will check each row or column for NAs, depending on what value you choose for the function parameter *axis*, and return a list of booleans.\n",
    "\n",
    "Just like with single rows/columns, you can use *df.loc[L1,L2]*, where L1 and L2 are lists of booleans, to get all the cells where the row *and* column meet a condition."
   ]
  },
  {
   "cell_type": "code",
   "execution_count": 7,
   "metadata": {},
   "outputs": [
    {
     "data": {
      "text/html": [
       "<div>\n",
       "<style scoped>\n",
       "    .dataframe tbody tr th:only-of-type {\n",
       "        vertical-align: middle;\n",
       "    }\n",
       "\n",
       "    .dataframe tbody tr th {\n",
       "        vertical-align: top;\n",
       "    }\n",
       "\n",
       "    .dataframe thead th {\n",
       "        text-align: right;\n",
       "    }\n",
       "</style>\n",
       "<table border=\"1\" class=\"dataframe\">\n",
       "  <thead>\n",
       "    <tr style=\"text-align: right;\">\n",
       "      <th></th>\n",
       "      <th>Name</th>\n",
       "      <th>Major</th>\n",
       "      <th>Computer</th>\n",
       "      <th>Holes In Straw</th>\n",
       "      <th>Statistics Courses</th>\n",
       "      <th>Study Hours Per Week</th>\n",
       "      <th>Shoe Number</th>\n",
       "      <th>How many different people (including each person in group chats!) did you text yesterday?</th>\n",
       "      <th>Introvert, extrovert, ambivert?</th>\n",
       "    </tr>\n",
       "  </thead>\n",
       "  <tbody>\n",
       "    <tr>\n",
       "      <th>17</th>\n",
       "      <td>Aniruddha</td>\n",
       "      <td>NaN</td>\n",
       "      <td>Mac OS X-based computer</td>\n",
       "      <td>2.0</td>\n",
       "      <td>3.0</td>\n",
       "      <td>3.0</td>\n",
       "      <td>3.0</td>\n",
       "      <td>4.0</td>\n",
       "      <td>Extrovert</td>\n",
       "    </tr>\n",
       "    <tr>\n",
       "      <th>30</th>\n",
       "      <td>Tiffany</td>\n",
       "      <td>NaN</td>\n",
       "      <td>Mac OS X-based computer</td>\n",
       "      <td>2.0</td>\n",
       "      <td>0.0</td>\n",
       "      <td>5.0</td>\n",
       "      <td>3.0</td>\n",
       "      <td>10.0</td>\n",
       "      <td>Introvert</td>\n",
       "    </tr>\n",
       "    <tr>\n",
       "      <th>43</th>\n",
       "      <td>NaN</td>\n",
       "      <td>Information Sciences</td>\n",
       "      <td>Mac OS X-based computer</td>\n",
       "      <td>2.0</td>\n",
       "      <td>1.0</td>\n",
       "      <td>3.0</td>\n",
       "      <td>9.0</td>\n",
       "      <td>15.0</td>\n",
       "      <td>Introvert</td>\n",
       "    </tr>\n",
       "    <tr>\n",
       "      <th>59</th>\n",
       "      <td>Ribhav</td>\n",
       "      <td>Electrical Engineering</td>\n",
       "      <td>Mac OS X-based computer</td>\n",
       "      <td>2.0</td>\n",
       "      <td>0.0</td>\n",
       "      <td>NaN</td>\n",
       "      <td>NaN</td>\n",
       "      <td>NaN</td>\n",
       "      <td>NaN</td>\n",
       "    </tr>\n",
       "    <tr>\n",
       "      <th>65</th>\n",
       "      <td>Mallory</td>\n",
       "      <td>NaN</td>\n",
       "      <td>Mac OS X-based computer</td>\n",
       "      <td>1.0</td>\n",
       "      <td>NaN</td>\n",
       "      <td>6.0</td>\n",
       "      <td>6.0</td>\n",
       "      <td>25.0</td>\n",
       "      <td>Ambivert</td>\n",
       "    </tr>\n",
       "    <tr>\n",
       "      <th>118</th>\n",
       "      <td>Jiale</td>\n",
       "      <td>Computer Science</td>\n",
       "      <td>NaN</td>\n",
       "      <td>NaN</td>\n",
       "      <td>1.0</td>\n",
       "      <td>6.0</td>\n",
       "      <td>2.0</td>\n",
       "      <td>4.0</td>\n",
       "      <td>Introvert</td>\n",
       "    </tr>\n",
       "    <tr>\n",
       "      <th>143</th>\n",
       "      <td>NaN</td>\n",
       "      <td>Statistics</td>\n",
       "      <td>Windows-based computer</td>\n",
       "      <td>1.0</td>\n",
       "      <td>1.0</td>\n",
       "      <td>5.0</td>\n",
       "      <td>15.0</td>\n",
       "      <td>7.0</td>\n",
       "      <td>Ambivert</td>\n",
       "    </tr>\n",
       "    <tr>\n",
       "      <th>187</th>\n",
       "      <td>NaN</td>\n",
       "      <td>Information Sciences</td>\n",
       "      <td>Mac OS X-based computer</td>\n",
       "      <td>2.0</td>\n",
       "      <td>0.0</td>\n",
       "      <td>5.0</td>\n",
       "      <td>3.0</td>\n",
       "      <td>5.0</td>\n",
       "      <td>Ambivert</td>\n",
       "    </tr>\n",
       "    <tr>\n",
       "      <th>189</th>\n",
       "      <td>Adaeze</td>\n",
       "      <td>Information Science</td>\n",
       "      <td>Mac OS X-based computer</td>\n",
       "      <td>2.0</td>\n",
       "      <td>2.0</td>\n",
       "      <td>NaN</td>\n",
       "      <td>NaN</td>\n",
       "      <td>8.0</td>\n",
       "      <td>Ambivert</td>\n",
       "    </tr>\n",
       "    <tr>\n",
       "      <th>200</th>\n",
       "      <td>Indra</td>\n",
       "      <td>Information Science</td>\n",
       "      <td>Mac OS X-based computer</td>\n",
       "      <td>1.0</td>\n",
       "      <td>NaN</td>\n",
       "      <td>8.0</td>\n",
       "      <td>6.0</td>\n",
       "      <td>10.0</td>\n",
       "      <td>Ambivert</td>\n",
       "    </tr>\n",
       "    <tr>\n",
       "      <th>232</th>\n",
       "      <td>NaN</td>\n",
       "      <td>Sociology</td>\n",
       "      <td>Mac OS X-based computer</td>\n",
       "      <td>2.0</td>\n",
       "      <td>1.0</td>\n",
       "      <td>6.0</td>\n",
       "      <td>20.0</td>\n",
       "      <td>4.0</td>\n",
       "      <td>Ambivert</td>\n",
       "    </tr>\n",
       "    <tr>\n",
       "      <th>269</th>\n",
       "      <td>Wade</td>\n",
       "      <td>CS</td>\n",
       "      <td>Windows-based computer</td>\n",
       "      <td>1.0</td>\n",
       "      <td>2.0</td>\n",
       "      <td>NaN</td>\n",
       "      <td>4.0</td>\n",
       "      <td>5.0</td>\n",
       "      <td>Introvert</td>\n",
       "    </tr>\n",
       "  </tbody>\n",
       "</table>\n",
       "</div>"
      ],
      "text/plain": [
       "          Name                   Major                 Computer  \\\n",
       "17   Aniruddha                     NaN  Mac OS X-based computer   \n",
       "30     Tiffany                     NaN  Mac OS X-based computer   \n",
       "43         NaN    Information Sciences  Mac OS X-based computer   \n",
       "59      Ribhav  Electrical Engineering  Mac OS X-based computer   \n",
       "65     Mallory                     NaN  Mac OS X-based computer   \n",
       "118      Jiale        Computer Science                      NaN   \n",
       "143        NaN              Statistics   Windows-based computer   \n",
       "187        NaN    Information Sciences  Mac OS X-based computer   \n",
       "189     Adaeze     Information Science  Mac OS X-based computer   \n",
       "200      Indra     Information Science  Mac OS X-based computer   \n",
       "232        NaN               Sociology  Mac OS X-based computer   \n",
       "269       Wade                      CS   Windows-based computer   \n",
       "\n",
       "     Holes In Straw  Statistics Courses  Study Hours Per Week  Shoe Number  \\\n",
       "17              2.0                 3.0                   3.0          3.0   \n",
       "30              2.0                 0.0                   5.0          3.0   \n",
       "43              2.0                 1.0                   3.0          9.0   \n",
       "59              2.0                 0.0                   NaN          NaN   \n",
       "65              1.0                 NaN                   6.0          6.0   \n",
       "118             NaN                 1.0                   6.0          2.0   \n",
       "143             1.0                 1.0                   5.0         15.0   \n",
       "187             2.0                 0.0                   5.0          3.0   \n",
       "189             2.0                 2.0                   NaN          NaN   \n",
       "200             1.0                 NaN                   8.0          6.0   \n",
       "232             2.0                 1.0                   6.0         20.0   \n",
       "269             1.0                 2.0                   NaN          4.0   \n",
       "\n",
       "     How many different people (including each person in group chats!) did you text yesterday?  \\\n",
       "17                                                 4.0                                           \n",
       "30                                                10.0                                           \n",
       "43                                                15.0                                           \n",
       "59                                                 NaN                                           \n",
       "65                                                25.0                                           \n",
       "118                                                4.0                                           \n",
       "143                                                7.0                                           \n",
       "187                                                5.0                                           \n",
       "189                                                8.0                                           \n",
       "200                                               10.0                                           \n",
       "232                                                4.0                                           \n",
       "269                                                5.0                                           \n",
       "\n",
       "    Introvert, extrovert, ambivert?  \n",
       "17                        Extrovert  \n",
       "30                        Introvert  \n",
       "43                        Introvert  \n",
       "59                              NaN  \n",
       "65                         Ambivert  \n",
       "118                       Introvert  \n",
       "143                        Ambivert  \n",
       "187                        Ambivert  \n",
       "189                        Ambivert  \n",
       "200                        Ambivert  \n",
       "232                        Ambivert  \n",
       "269                       Introvert  "
      ]
     },
     "execution_count": 7,
     "metadata": {},
     "output_type": "execute_result"
    }
   ],
   "source": [
    "# Here is a function that checks a dataframe for NAs\n",
    "def checkNAs(df):\n",
    "    if df.isnull().values.any():\n",
    "        return df.loc[df.isnull().any(axis=1),df.isnull().any()]\n",
    "    else:\n",
    "        print(\"This dataframe has no NAs\")\n",
    "        return None\n",
    "\n",
    "# Use the function to create a new dataframe of rows that have NAs called `df_na`\n",
    "df_na = checkNAs(df)\n",
    "df_na\n"
   ]
  },
  {
   "cell_type": "code",
   "execution_count": 8,
   "metadata": {},
   "outputs": [
    {
     "name": "stdout",
     "output_type": "stream",
     "text": [
      "This dataframe has no NAs\n",
      "🎉 All tests passed! 🎉\n"
     ]
    }
   ],
   "source": [
    "## == TEST CASES for Puzzle 1.2 ==\n",
    "# - This read-only cell contains test cases for your previous cell.\n",
    "# - If this cell runs with the success message as your output, you PASSED all test cases!\n",
    "# - If this cell results in any errors, check your previous cell, make changes, and RE-RUN your code and then this cell.\n",
    "\n",
    "assert set(df_na.columns) == {'Name', 'Major', 'Computer', 'Holes In Straw', 'Statistics Courses',\n",
    "       'Study Hours Per Week', 'Shoe Number',\n",
    "       'How many different people (including each person in group chats!) did you text yesterday?',\n",
    "       'Introvert, extrovert, ambivert?'}, \"These are not the correct NA columns\"\n",
    "assert set(df_na.index)=={17, 30, 43, 59, 65, 118, 143, 187, 189, 200, 232, 269}, \"These are not the correct NA rows\"\n",
    "assert checkNAs(df[\"Year\"])==None, \"Make sure dataframes with no NAs return None\"\n",
    "\n",
    "## == SUCCESS MESSAGE ==\n",
    "# You will only see this message (with the emoji showing) if you passed all test cases:\n",
    "tada = \"\\N{PARTY POPPER}\"\n",
    "print(f\"{tada} All tests passed! {tada}\")"
   ]
  },
  {
   "cell_type": "markdown",
   "metadata": {},
   "source": [
    "### Puzzle 1.3: Dealing with NAs\n",
    "❓ **Individual Reflection Question** ❓ As a Data Scientist, we need to think about how to handle missing values.  One possible way to deal with them is to fill them all with 0s. What are some dangers to doing this? Also, what are some reasons you may want to deal with blank responses this way?  "
   ]
  },
  {
   "cell_type": "markdown",
   "metadata": {},
   "source": [
    "Filling all the missing values with zeros can significantly change the dataset, such as the mean and standard deviation. A reason that you may want to deal with blank responses this way because some functions would not work with NAs so putting down zeros serve as a placeholder."
   ]
  },
  {
   "cell_type": "markdown",
   "metadata": {},
   "source": [
    "**Group Discussion:** Discuss with your group: what are other ways for dealing with missing values? What is good about these ways and what is bad about them?  How does the sample space and goal (finding similarity) affect your response?"
   ]
  },
  {
   "cell_type": "markdown",
   "metadata": {
    "nbgrader": {
     "grade": false,
     "grade_id": "cell-3b74977570d144bb",
     "locked": true,
     "schema_version": 3,
     "solution": false,
     "task": false
    }
   },
   "source": [
    "## Part 2 - Numerical vs. Categorical Data\n",
    "\n",
    "In order to find your Stat 107 Twin, it's important that we first identify the different types of data that we have in our dataset.\n",
    "\n",
    "**Numerical (or Quantitative) Data** is any type of data that can be expressed through numbers instead of descriptions. They can have an order, you can perform mathematical operations on them, etc. It makes sense to perform arithmetic on numeric data. The number of shoes a person owns is an example of a numeric variable.\n",
    "\n",
    "**Categorical (or Qualitative) Data** is any type of data that can be placed into categories using names or groups. Some categorical variables can take numerical values (like zip codes or your social security number), however, mathematical operations like adding them together would be odd. The type of phone you have is an example of a categorical variable.\n",
    "\n",
    "To keep things simple, we will categorize all of our columns as either categorical or numeric.  Run the code below to get the column names of all the categorical columns."
   ]
  },
  {
   "cell_type": "code",
   "execution_count": 9,
   "metadata": {},
   "outputs": [
    {
     "data": {
      "text/plain": [
       "Index(['Name', 'Major', 'Year', 'Phone', 'Computer',\n",
       "       'Is a hot dog a sandwich?', 'Have you ever programmed before?',\n",
       "       'What background in Python programming do you have?',\n",
       "       'Introvert, extrovert, ambivert?'],\n",
       "      dtype='object')"
      ]
     },
     "execution_count": 9,
     "metadata": {},
     "output_type": "execute_result"
    }
   ],
   "source": [
    "categorical_cols = df.select_dtypes(exclude=\"number\").columns\n",
    "categorical_cols"
   ]
  },
  {
   "cell_type": "markdown",
   "metadata": {},
   "source": [
    "### Puzzle 2.1 Get dataframe with just categorical columns\n",
    "\n",
    "Using the names generated above, create a new dataframe `df_categorical` with all the categorical columns and print a random sample of 5 rows."
   ]
  },
  {
   "cell_type": "code",
   "execution_count": 13,
   "metadata": {},
   "outputs": [
    {
     "data": {
      "text/html": [
       "<div>\n",
       "<style scoped>\n",
       "    .dataframe tbody tr th:only-of-type {\n",
       "        vertical-align: middle;\n",
       "    }\n",
       "\n",
       "    .dataframe tbody tr th {\n",
       "        vertical-align: top;\n",
       "    }\n",
       "\n",
       "    .dataframe thead th {\n",
       "        text-align: right;\n",
       "    }\n",
       "</style>\n",
       "<table border=\"1\" class=\"dataframe\">\n",
       "  <thead>\n",
       "    <tr style=\"text-align: right;\">\n",
       "      <th></th>\n",
       "      <th>Name</th>\n",
       "      <th>Major</th>\n",
       "      <th>Year</th>\n",
       "      <th>Phone</th>\n",
       "      <th>Computer</th>\n",
       "      <th>Is a hot dog a sandwich?</th>\n",
       "      <th>Have you ever programmed before?</th>\n",
       "      <th>What background in Python programming do you have?</th>\n",
       "      <th>Introvert, extrovert, ambivert?</th>\n",
       "    </tr>\n",
       "  </thead>\n",
       "  <tbody>\n",
       "    <tr>\n",
       "      <th>0</th>\n",
       "      <td>Devang Ghela</td>\n",
       "      <td>Information Sciences</td>\n",
       "      <td>Junior</td>\n",
       "      <td>iPhone</td>\n",
       "      <td>Windows-based computer</td>\n",
       "      <td>Yes</td>\n",
       "      <td>Yes</td>\n",
       "      <td>Some Python -- I have had one class or written...</td>\n",
       "      <td>Introvert</td>\n",
       "    </tr>\n",
       "    <tr>\n",
       "      <th>1</th>\n",
       "      <td>Michelle</td>\n",
       "      <td>information sciences</td>\n",
       "      <td>Senior</td>\n",
       "      <td>iPhone</td>\n",
       "      <td>Mac OS X-based computer</td>\n",
       "      <td>Yes</td>\n",
       "      <td>Yes</td>\n",
       "      <td>Some Python -- I have had one class or written...</td>\n",
       "      <td>Ambivert</td>\n",
       "    </tr>\n",
       "    <tr>\n",
       "      <th>2</th>\n",
       "      <td>Ethan</td>\n",
       "      <td>Data science</td>\n",
       "      <td>Freshman</td>\n",
       "      <td>iPhone</td>\n",
       "      <td>Mac OS X-based computer</td>\n",
       "      <td>Yes</td>\n",
       "      <td>Yes</td>\n",
       "      <td>Some Python -- I have had one class or written...</td>\n",
       "      <td>Introvert</td>\n",
       "    </tr>\n",
       "    <tr>\n",
       "      <th>3</th>\n",
       "      <td>Krish</td>\n",
       "      <td>Stats + CS</td>\n",
       "      <td>Freshman</td>\n",
       "      <td>iPhone</td>\n",
       "      <td>Mac OS X-based computer</td>\n",
       "      <td>Yes</td>\n",
       "      <td>Yes</td>\n",
       "      <td>Some Python -- I have had one class or written...</td>\n",
       "      <td>Introvert</td>\n",
       "    </tr>\n",
       "    <tr>\n",
       "      <th>4</th>\n",
       "      <td>Kelly</td>\n",
       "      <td>Information Science</td>\n",
       "      <td>Junior</td>\n",
       "      <td>Android</td>\n",
       "      <td>Mac OS X-based computer</td>\n",
       "      <td>No</td>\n",
       "      <td>Yes</td>\n",
       "      <td>Some Python -- I have had one class or written...</td>\n",
       "      <td>Introvert</td>\n",
       "    </tr>\n",
       "    <tr>\n",
       "      <th>...</th>\n",
       "      <td>...</td>\n",
       "      <td>...</td>\n",
       "      <td>...</td>\n",
       "      <td>...</td>\n",
       "      <td>...</td>\n",
       "      <td>...</td>\n",
       "      <td>...</td>\n",
       "      <td>...</td>\n",
       "      <td>...</td>\n",
       "    </tr>\n",
       "    <tr>\n",
       "      <th>279</th>\n",
       "      <td>Michael</td>\n",
       "      <td>Computer Science</td>\n",
       "      <td>Sophomore</td>\n",
       "      <td>iPhone</td>\n",
       "      <td>Mac OS X-based computer</td>\n",
       "      <td>No</td>\n",
       "      <td>Yes</td>\n",
       "      <td>Some Python -- I have had one class or written...</td>\n",
       "      <td>Introvert</td>\n",
       "    </tr>\n",
       "    <tr>\n",
       "      <th>280</th>\n",
       "      <td>Ryan</td>\n",
       "      <td>Information Sciences</td>\n",
       "      <td>Sophomore</td>\n",
       "      <td>iPhone</td>\n",
       "      <td>Windows-based computer</td>\n",
       "      <td>Yes</td>\n",
       "      <td>Yes</td>\n",
       "      <td>Some Python -- I have had one class or written...</td>\n",
       "      <td>Ambivert</td>\n",
       "    </tr>\n",
       "    <tr>\n",
       "      <th>281</th>\n",
       "      <td>Caroline</td>\n",
       "      <td>information sciences</td>\n",
       "      <td>Freshman</td>\n",
       "      <td>iPhone</td>\n",
       "      <td>Windows-based computer</td>\n",
       "      <td>No</td>\n",
       "      <td>Yes</td>\n",
       "      <td>Some Python -- I have had one class or written...</td>\n",
       "      <td>Ambivert</td>\n",
       "    </tr>\n",
       "    <tr>\n",
       "      <th>282</th>\n",
       "      <td>Brian</td>\n",
       "      <td>Information Sciences</td>\n",
       "      <td>Freshman</td>\n",
       "      <td>iPhone</td>\n",
       "      <td>Windows-based computer</td>\n",
       "      <td>No</td>\n",
       "      <td>Yes</td>\n",
       "      <td>No Python, but I've done some programming in o...</td>\n",
       "      <td>Ambivert</td>\n",
       "    </tr>\n",
       "    <tr>\n",
       "      <th>283</th>\n",
       "      <td>Khangai</td>\n",
       "      <td>Econometrics</td>\n",
       "      <td>Junior</td>\n",
       "      <td>iPhone</td>\n",
       "      <td>Windows-based computer</td>\n",
       "      <td>Yes</td>\n",
       "      <td>Yes</td>\n",
       "      <td>Some Python -- I have had one class or written...</td>\n",
       "      <td>Extrovert</td>\n",
       "    </tr>\n",
       "  </tbody>\n",
       "</table>\n",
       "<p>284 rows × 9 columns</p>\n",
       "</div>"
      ],
      "text/plain": [
       "             Name                 Major       Year    Phone  \\\n",
       "0    Devang Ghela  Information Sciences     Junior   iPhone   \n",
       "1        Michelle  information sciences     Senior   iPhone   \n",
       "2           Ethan          Data science   Freshman   iPhone   \n",
       "3           Krish            Stats + CS   Freshman   iPhone   \n",
       "4           Kelly   Information Science     Junior  Android   \n",
       "..            ...                   ...        ...      ...   \n",
       "279       Michael      Computer Science  Sophomore   iPhone   \n",
       "280          Ryan  Information Sciences  Sophomore   iPhone   \n",
       "281      Caroline  information sciences   Freshman   iPhone   \n",
       "282         Brian  Information Sciences   Freshman   iPhone   \n",
       "283       Khangai          Econometrics     Junior   iPhone   \n",
       "\n",
       "                    Computer Is a hot dog a sandwich?  \\\n",
       "0     Windows-based computer                      Yes   \n",
       "1    Mac OS X-based computer                      Yes   \n",
       "2    Mac OS X-based computer                      Yes   \n",
       "3    Mac OS X-based computer                      Yes   \n",
       "4    Mac OS X-based computer                       No   \n",
       "..                       ...                      ...   \n",
       "279  Mac OS X-based computer                       No   \n",
       "280   Windows-based computer                      Yes   \n",
       "281   Windows-based computer                       No   \n",
       "282   Windows-based computer                       No   \n",
       "283   Windows-based computer                      Yes   \n",
       "\n",
       "    Have you ever programmed before?  \\\n",
       "0                                Yes   \n",
       "1                                Yes   \n",
       "2                                Yes   \n",
       "3                                Yes   \n",
       "4                                Yes   \n",
       "..                               ...   \n",
       "279                              Yes   \n",
       "280                              Yes   \n",
       "281                              Yes   \n",
       "282                              Yes   \n",
       "283                              Yes   \n",
       "\n",
       "    What background in Python programming do you have?  \\\n",
       "0    Some Python -- I have had one class or written...   \n",
       "1    Some Python -- I have had one class or written...   \n",
       "2    Some Python -- I have had one class or written...   \n",
       "3    Some Python -- I have had one class or written...   \n",
       "4    Some Python -- I have had one class or written...   \n",
       "..                                                 ...   \n",
       "279  Some Python -- I have had one class or written...   \n",
       "280  Some Python -- I have had one class or written...   \n",
       "281  Some Python -- I have had one class or written...   \n",
       "282  No Python, but I've done some programming in o...   \n",
       "283  Some Python -- I have had one class or written...   \n",
       "\n",
       "    Introvert, extrovert, ambivert?  \n",
       "0                         Introvert  \n",
       "1                          Ambivert  \n",
       "2                         Introvert  \n",
       "3                         Introvert  \n",
       "4                         Introvert  \n",
       "..                              ...  \n",
       "279                       Introvert  \n",
       "280                        Ambivert  \n",
       "281                        Ambivert  \n",
       "282                        Ambivert  \n",
       "283                       Extrovert  \n",
       "\n",
       "[284 rows x 9 columns]"
      ]
     },
     "execution_count": 13,
     "metadata": {},
     "output_type": "execute_result"
    }
   ],
   "source": [
    "df_categorical = df[categorical_cols]\n",
    "df_categorical"
   ]
  },
  {
   "cell_type": "code",
   "execution_count": 14,
   "metadata": {},
   "outputs": [
    {
     "name": "stdout",
     "output_type": "stream",
     "text": [
      "🎉 All tests passed! 🎉\n"
     ]
    }
   ],
   "source": [
    "## == TEST CASES for Puzzle 2.1 ==\n",
    "# - This read-only cell contains test cases for your previous cell.\n",
    "# - If this cell runs with the success message as your output, you PASSED all test cases!\n",
    "# - If this cell results in any errors, check you previous cell, make changes, and RE-RUN your code and then this cell.\n",
    "\n",
    "assert(len(categorical_cols) == 9), \"The list of numeric columns seems to have an incorrect number of elements\"\n",
    "assert(df_categorical.shape[0] == 284), \"The dataframe doesn't have the right number of rows\"\n",
    "assert(df_categorical.shape[1] == 9), \"The dataframe doesn't have the right number of columns\"\n",
    "\n",
    "## == SUCCESS MESSAGE ==\n",
    "# You will only see this message (with the emoji showing) if you passed all test cases:\n",
    "tada = \"\\N{PARTY POPPER}\"\n",
    "print(f\"{tada} All tests passed! {tada}\")"
   ]
  },
  {
   "cell_type": "markdown",
   "metadata": {},
   "source": [
    "### Puzzle 2.2 Get a dataframe with just numeric columns\n",
    "\n",
    "Using the list generated above, get all the names for numeric columns `numcols`, i.e. all the other columns. Then make a new dataframe `df_numeric` with all the numeric columns and print a random sample of 5 rows."
   ]
  },
  {
   "cell_type": "code",
   "execution_count": 15,
   "metadata": {},
   "outputs": [
    {
     "data": {
      "text/html": [
       "<div>\n",
       "<style scoped>\n",
       "    .dataframe tbody tr th:only-of-type {\n",
       "        vertical-align: middle;\n",
       "    }\n",
       "\n",
       "    .dataframe tbody tr th {\n",
       "        vertical-align: top;\n",
       "    }\n",
       "\n",
       "    .dataframe thead th {\n",
       "        text-align: right;\n",
       "    }\n",
       "</style>\n",
       "<table border=\"1\" class=\"dataframe\">\n",
       "  <thead>\n",
       "    <tr style=\"text-align: right;\">\n",
       "      <th></th>\n",
       "      <th>Holes In Straw</th>\n",
       "      <th>Dogs</th>\n",
       "      <th>Cats</th>\n",
       "      <th>Fish</th>\n",
       "      <th>Chickens</th>\n",
       "      <th>Horses</th>\n",
       "      <th>Rabbits</th>\n",
       "      <th>Other</th>\n",
       "      <th>Shoe Size</th>\n",
       "      <th>Netflix</th>\n",
       "      <th>...</th>\n",
       "      <th>Amazon Prime</th>\n",
       "      <th>Starz</th>\n",
       "      <th>YouTube</th>\n",
       "      <th>Twitch</th>\n",
       "      <th>Statistics Courses</th>\n",
       "      <th>Study Hours Per Week</th>\n",
       "      <th>Siblings</th>\n",
       "      <th>Sleep Hours</th>\n",
       "      <th>Shoe Number</th>\n",
       "      <th>How many different people (including each person in group chats!) did you text yesterday?</th>\n",
       "    </tr>\n",
       "  </thead>\n",
       "  <tbody>\n",
       "    <tr>\n",
       "      <th>21</th>\n",
       "      <td>1.0</td>\n",
       "      <td>0</td>\n",
       "      <td>1</td>\n",
       "      <td>0</td>\n",
       "      <td>0</td>\n",
       "      <td>0</td>\n",
       "      <td>0</td>\n",
       "      <td>0</td>\n",
       "      <td>10.5</td>\n",
       "      <td>1</td>\n",
       "      <td>...</td>\n",
       "      <td>0</td>\n",
       "      <td>0</td>\n",
       "      <td>1</td>\n",
       "      <td>0</td>\n",
       "      <td>1.0</td>\n",
       "      <td>3.0</td>\n",
       "      <td>3</td>\n",
       "      <td>8.0</td>\n",
       "      <td>2.0</td>\n",
       "      <td>10.0</td>\n",
       "    </tr>\n",
       "    <tr>\n",
       "      <th>63</th>\n",
       "      <td>2.0</td>\n",
       "      <td>0</td>\n",
       "      <td>0</td>\n",
       "      <td>0</td>\n",
       "      <td>0</td>\n",
       "      <td>0</td>\n",
       "      <td>0</td>\n",
       "      <td>1</td>\n",
       "      <td>11.0</td>\n",
       "      <td>1</td>\n",
       "      <td>...</td>\n",
       "      <td>0</td>\n",
       "      <td>0</td>\n",
       "      <td>1</td>\n",
       "      <td>0</td>\n",
       "      <td>0.0</td>\n",
       "      <td>4.0</td>\n",
       "      <td>3</td>\n",
       "      <td>6.0</td>\n",
       "      <td>10.0</td>\n",
       "      <td>12.0</td>\n",
       "    </tr>\n",
       "    <tr>\n",
       "      <th>39</th>\n",
       "      <td>2.0</td>\n",
       "      <td>0</td>\n",
       "      <td>0</td>\n",
       "      <td>0</td>\n",
       "      <td>0</td>\n",
       "      <td>0</td>\n",
       "      <td>0</td>\n",
       "      <td>1</td>\n",
       "      <td>8.5</td>\n",
       "      <td>0</td>\n",
       "      <td>...</td>\n",
       "      <td>0</td>\n",
       "      <td>0</td>\n",
       "      <td>1</td>\n",
       "      <td>1</td>\n",
       "      <td>1.0</td>\n",
       "      <td>1.0</td>\n",
       "      <td>1</td>\n",
       "      <td>6.0</td>\n",
       "      <td>3.0</td>\n",
       "      <td>4.0</td>\n",
       "    </tr>\n",
       "    <tr>\n",
       "      <th>82</th>\n",
       "      <td>1.0</td>\n",
       "      <td>1</td>\n",
       "      <td>0</td>\n",
       "      <td>0</td>\n",
       "      <td>0</td>\n",
       "      <td>0</td>\n",
       "      <td>0</td>\n",
       "      <td>0</td>\n",
       "      <td>8.0</td>\n",
       "      <td>0</td>\n",
       "      <td>...</td>\n",
       "      <td>0</td>\n",
       "      <td>0</td>\n",
       "      <td>1</td>\n",
       "      <td>0</td>\n",
       "      <td>0.0</td>\n",
       "      <td>3.0</td>\n",
       "      <td>1</td>\n",
       "      <td>8.0</td>\n",
       "      <td>2.0</td>\n",
       "      <td>7.0</td>\n",
       "    </tr>\n",
       "    <tr>\n",
       "      <th>282</th>\n",
       "      <td>1.0</td>\n",
       "      <td>1</td>\n",
       "      <td>0</td>\n",
       "      <td>0</td>\n",
       "      <td>0</td>\n",
       "      <td>0</td>\n",
       "      <td>0</td>\n",
       "      <td>0</td>\n",
       "      <td>12.0</td>\n",
       "      <td>1</td>\n",
       "      <td>...</td>\n",
       "      <td>0</td>\n",
       "      <td>0</td>\n",
       "      <td>1</td>\n",
       "      <td>0</td>\n",
       "      <td>0.0</td>\n",
       "      <td>1.0</td>\n",
       "      <td>4</td>\n",
       "      <td>8.0</td>\n",
       "      <td>4.0</td>\n",
       "      <td>10.0</td>\n",
       "    </tr>\n",
       "  </tbody>\n",
       "</table>\n",
       "<p>5 rows × 22 columns</p>\n",
       "</div>"
      ],
      "text/plain": [
       "     Holes In Straw  Dogs  Cats  Fish  Chickens  Horses  Rabbits  Other  \\\n",
       "21              1.0     0     1     0         0       0        0      0   \n",
       "63              2.0     0     0     0         0       0        0      1   \n",
       "39              2.0     0     0     0         0       0        0      1   \n",
       "82              1.0     1     0     0         0       0        0      0   \n",
       "282             1.0     1     0     0         0       0        0      0   \n",
       "\n",
       "     Shoe Size  Netflix  ...  Amazon Prime  Starz  YouTube  Twitch  \\\n",
       "21        10.5        1  ...             0      0        1       0   \n",
       "63        11.0        1  ...             0      0        1       0   \n",
       "39         8.5        0  ...             0      0        1       1   \n",
       "82         8.0        0  ...             0      0        1       0   \n",
       "282       12.0        1  ...             0      0        1       0   \n",
       "\n",
       "     Statistics Courses  Study Hours Per Week  Siblings  Sleep Hours  \\\n",
       "21                  1.0                   3.0         3          8.0   \n",
       "63                  0.0                   4.0         3          6.0   \n",
       "39                  1.0                   1.0         1          6.0   \n",
       "82                  0.0                   3.0         1          8.0   \n",
       "282                 0.0                   1.0         4          8.0   \n",
       "\n",
       "     Shoe Number  \\\n",
       "21           2.0   \n",
       "63          10.0   \n",
       "39           3.0   \n",
       "82           2.0   \n",
       "282          4.0   \n",
       "\n",
       "     How many different people (including each person in group chats!) did you text yesterday?  \n",
       "21                                                10.0                                          \n",
       "63                                                12.0                                          \n",
       "39                                                 4.0                                          \n",
       "82                                                 7.0                                          \n",
       "282                                               10.0                                          \n",
       "\n",
       "[5 rows x 22 columns]"
      ]
     },
     "execution_count": 15,
     "metadata": {},
     "output_type": "execute_result"
    }
   ],
   "source": [
    "numcols = df.select_dtypes(\"number\").columns\n",
    "df_numeric = df[numcols]\n",
    "df_numeric.sample(5)"
   ]
  },
  {
   "cell_type": "code",
   "execution_count": 16,
   "metadata": {},
   "outputs": [
    {
     "name": "stdout",
     "output_type": "stream",
     "text": [
      "🎉 All tests passed! 🎉\n"
     ]
    }
   ],
   "source": [
    "## == TEST CASES for Puzzle 2.2 ==\n",
    "# - This read-only cell contains test cases for your previous cell.\n",
    "# - If this cell runs with the success message as your output, you PASSED all test cases!\n",
    "# - If this cell results in any errors, check you previous cell, make changes, and RE-RUN your code and then this cell.\n",
    "\n",
    "assert(len(numcols) == 22), \"The list of numeric columns seems to have an incorrect number of elements\"\n",
    "assert(df_numeric.shape[0] == 284), \"The dataframe doesn't have the right number of rows\"\n",
    "assert(df_numeric.shape[1] == 22), \"The dataframe doesn't have the right number of columns\"\n",
    "\n",
    "## == SUCCESS MESSAGE ==\n",
    "# You will only see this message (with the emoji showing) if you passed all test cases:\n",
    "tada = \"\\N{PARTY POPPER}\"\n",
    "print(f\"{tada} All tests passed! {tada}\")"
   ]
  },
  {
   "cell_type": "markdown",
   "metadata": {
    "nbgrader": {
     "grade": false,
     "grade_id": "cell-ae8425133ce9746b",
     "locked": true,
     "schema_version": 3,
     "solution": false,
     "task": false
    }
   },
   "source": [
    "### Puzzle 2.3 Visualizing Numeric Data\n",
    "\n",
    "Plot the histograms for each columns in `df_numeric`\n",
    "\n",
    "- If needed: In `df.hist`, use **`figsize=(30, 40)`** as an optional argument passed to `hist` to make your figure bigger."
   ]
  },
  {
   "cell_type": "code",
   "execution_count": 18,
   "metadata": {
    "nbgrader": {
     "grade": false,
     "grade_id": "cell-320d0db0b0449486",
     "locked": false,
     "schema_version": 3,
     "solution": true,
     "task": false
    }
   },
   "outputs": [
    {
     "data": {
      "text/plain": [
       "array([[<AxesSubplot:title={'center':'Holes In Straw'}>,\n",
       "        <AxesSubplot:title={'center':'Dogs'}>,\n",
       "        <AxesSubplot:title={'center':'Cats'}>,\n",
       "        <AxesSubplot:title={'center':'Fish'}>,\n",
       "        <AxesSubplot:title={'center':'Chickens'}>],\n",
       "       [<AxesSubplot:title={'center':'Horses'}>,\n",
       "        <AxesSubplot:title={'center':'Rabbits'}>,\n",
       "        <AxesSubplot:title={'center':'Other'}>,\n",
       "        <AxesSubplot:title={'center':'Shoe Size'}>,\n",
       "        <AxesSubplot:title={'center':'Netflix'}>],\n",
       "       [<AxesSubplot:title={'center':'Hulu'}>,\n",
       "        <AxesSubplot:title={'center':'HBO Now'}>,\n",
       "        <AxesSubplot:title={'center':'Amazon Prime'}>,\n",
       "        <AxesSubplot:title={'center':'Starz'}>,\n",
       "        <AxesSubplot:title={'center':'YouTube'}>],\n",
       "       [<AxesSubplot:title={'center':'Twitch'}>,\n",
       "        <AxesSubplot:title={'center':'Statistics Courses'}>,\n",
       "        <AxesSubplot:title={'center':'Study Hours Per Week'}>,\n",
       "        <AxesSubplot:title={'center':'Siblings'}>,\n",
       "        <AxesSubplot:title={'center':'Sleep Hours'}>],\n",
       "       [<AxesSubplot:title={'center':'Shoe Number'}>,\n",
       "        <AxesSubplot:title={'center':'How many different people (including each person in group chats!) did you text yesterday?'}>,\n",
       "        <AxesSubplot:>, <AxesSubplot:>, <AxesSubplot:>]], dtype=object)"
      ]
     },
     "execution_count": 18,
     "metadata": {},
     "output_type": "execute_result"
    },
    {
     "data": {
      "image/png": "[encoded data removed]",
      "text/plain": [
       "<Figure size 2160x2880 with 25 Axes>"
      ]
     },
     "metadata": {
      "needs_background": "light"
     },
     "output_type": "display_data"
    }
   ],
   "source": [
    "#plot the histogram for each column in df_nueric\n",
    "\n",
    "df_numeric.hist(figsize=(30,40))"
   ]
  },
  {
   "cell_type": "markdown",
   "metadata": {},
   "source": [
    "### Puzzle 2.4 Visualize \"Year\" \n",
    "\n",
    "To visualize the categorical data we will be using a bar plot.  However, we first need to convert our DataFrame with the categorical data into counts for each value.  To do this, we can use [`Series.value_counts()`](https://pandas.pydata.org/pandas-docs/stable/reference/api/pandas.Series.value_counts.html) on a column of data.\n",
    "\n",
    "Let's see how this works.  Select just the `[\"Year\"]` from `df_categorical` and apply `.value_counts()`.  Then, in the next cell, use that data to make a bar plot using `.plot.bar()`:"
   ]
  },
  {
   "cell_type": "code",
   "execution_count": 19,
   "metadata": {
    "nbgrader": {
     "grade": false,
     "grade_id": "cell-6a70b687d4464dd2",
     "locked": false,
     "schema_version": 3,
     "solution": true,
     "task": false
    }
   },
   "outputs": [
    {
     "data": {
      "text/plain": [
       "Freshman     145\n",
       "Sophomore     58\n",
       "Junior        53\n",
       "Senior        25\n",
       "Other          3\n",
       "Name: Year, dtype: int64"
      ]
     },
     "execution_count": 19,
     "metadata": {},
     "output_type": "execute_result"
    }
   ],
   "source": [
    "# Use `.value_counts()` to find the values counts of data about [\"Year\"]\n",
    "value_counts = df_categorical[\"Year\"].value_counts()\n",
    "value_counts"
   ]
  },
  {
   "cell_type": "code",
   "execution_count": 20,
   "metadata": {
    "nbgrader": {
     "grade": false,
     "grade_id": "cell-9a11d63567013a46",
     "locked": false,
     "schema_version": 3,
     "solution": true,
     "task": false
    }
   },
   "outputs": [
    {
     "data": {
      "text/plain": [
       "<AxesSubplot:>"
      ]
     },
     "execution_count": 20,
     "metadata": {},
     "output_type": "execute_result"
    },
    {
     "data": {
      "image/png": "[encoded data removed]",
      "text/plain": [
       "<Figure size 432x288 with 1 Axes>"
      ]
     },
     "metadata": {
      "needs_background": "light"
     },
     "output_type": "display_data"
    }
   ],
   "source": [
    "# Now, use `value_counts` to plot a bar chart:\n",
    "value_counts.plot.bar()"
   ]
  },
  {
   "cell_type": "markdown",
   "metadata": {},
   "source": [
    "### Puzzle 2.5 Visualize all Categorical Data\n",
    "\n",
    "Finally, repeat this process for the columns in `df_categorical` using a for loop. You can use pyplot's `plt.show()` to display all the plots."
   ]
  },
  {
   "cell_type": "code",
   "execution_count": 21,
   "metadata": {},
   "outputs": [
    {
     "data": {
      "image/png": "[encoded data removed]",
      "text/plain": [
       "<Figure size 432x288 with 1 Axes>"
      ]
     },
     "metadata": {
      "needs_background": "light"
     },
     "output_type": "display_data"
    },
    {
     "data": {
      "image/png": "[encoded data removed]",
      "text/plain": [
       "<Figure size 432x288 with 1 Axes>"
      ]
     },
     "metadata": {
      "needs_background": "light"
     },
     "output_type": "display_data"
    },
    {
     "data": {
      "image/png": "[encoded data removed]",
      "text/plain": [
       "<Figure size 432x288 with 1 Axes>"
      ]
     },
     "metadata": {
      "needs_background": "light"
     },
     "output_type": "display_data"
    },
    {
     "data": {
      "image/png": "[encoded data removed]",
      "text/plain": [
       "<Figure size 432x288 with 1 Axes>"
      ]
     },
     "metadata": {
      "needs_background": "light"
     },
     "output_type": "display_data"
    },
    {
     "data": {
      "image/png": "[encoded data removed]",
      "text/plain": [
       "<Figure size 432x288 with 1 Axes>"
      ]
     },
     "metadata": {
      "needs_background": "light"
     },
     "output_type": "display_data"
    },
    {
     "data": {
      "image/png": "[encoded data removed]",
      "text/plain": [
       "<Figure size 432x288 with 1 Axes>"
      ]
     },
     "metadata": {
      "needs_background": "light"
     },
     "output_type": "display_data"
    },
    {
     "data": {
      "image/png": "[encoded data removed]",
      "text/plain": [
       "<Figure size 432x288 with 1 Axes>"
      ]
     },
     "metadata": {
      "needs_background": "light"
     },
     "output_type": "display_data"
    },
    {
     "data": {
      "image/png": "[encoded data removed]",
      "text/plain": [
       "<Figure size 432x288 with 1 Axes>"
      ]
     },
     "metadata": {
      "needs_background": "light"
     },
     "output_type": "display_data"
    },
    {
     "data": {
      "image/png": "[encoded data removed]",
      "text/plain": [
       "<Figure size 432x288 with 1 Axes>"
      ]
     },
     "metadata": {
      "needs_background": "light"
     },
     "output_type": "display_data"
    }
   ],
   "source": [
    "for column in categorical_cols:\n",
    "    import matplotlib. pyplot as plt\n",
    "    df_categorical[column].value_counts().plot.bar(title=column)\n",
    "    plt.show()"
   ]
  },
  {
   "cell_type": "markdown",
   "metadata": {},
   "source": [
    "### Puzzle 2.5 Handling Different Variable Types\n",
    "\n",
    "❓ **Group Discussion and Individual Reflection** ❓ It's important to note that data represented with numbers aren't always categorized as quantitative (such as zip code or social security number). Looking at the graphs we generated, what are some examples of numeric data that might work better as categories or categorical data that could make sense to order? Can you think of other examples of data that is technically numbers, but would be categorized as categorical? Write down some highlights of your discussion below."
   ]
  },
  {
   "cell_type": "markdown",
   "metadata": {},
   "source": [
    "The Youtube and Twitch would probably work better as categorical data because we can use \"yes\" and \"no\" to see who uses these platforms. This will allows us to create a bar chart."
   ]
  },
  {
   "cell_type": "markdown",
   "metadata": {},
   "source": [
    "### Puzzle 2.6 Clean up the Data\n",
    "\n",
    "Now that you know what the data looks like and what types of columns we are dealing with in this dataset, you must decided what to do with the NAs in the dataset. This decision is up to you as a data scientist!  There is no definite right answer. Functions like `fillna()`and `df.replace()` may be helpful. Use the `checkNAs()` function we made earlier to make sure all the NAs have been dealt with. Then, briefly explain what you did and why in the text box below.\n",
    "\n",
    "**HINT:** (double-click this cell to see it): <span style=\"color:#ffffff00\">One possible way to do this is to treat categorical and numeric NAs separately. For categorical columns, not responding coud be its own category indicated by some string like \"Blank\". For numeric columns, NAs could be represented by a central value like the mean, median, or an extreme value well outside the values of possible answers.</span>"
   ]
  },
  {
   "cell_type": "code",
   "execution_count": 29,
   "metadata": {},
   "outputs": [
    {
     "name": "stdout",
     "output_type": "stream",
     "text": [
      "This dataframe has no NAs\n"
     ]
    }
   ],
   "source": [
    "df[categorical_cols] = df[categorical_cols].fillna(\"None\")\n",
    "df[numcols] = df[numcols].fillna(.1)\n",
    "\n",
    "checkNAs(df)"
   ]
  },
  {
   "cell_type": "markdown",
   "metadata": {},
   "source": [
    "If there are NAs in categorical columns, the code puts in the string \"None\". If there are NAs in numerical columns, the code put in 0.1 because the data for numerical columns is usually 0 or 1. "
   ]
  },
  {
   "cell_type": "markdown",
   "metadata": {
    "nbgrader": {
     "grade": false,
     "grade_id": "cell-502c0d7f6ea29b5d",
     "locked": true,
     "schema_version": 3,
     "solution": false,
     "task": false
    }
   },
   "source": [
    "## Part 3 - Now, Time to Find Yourself\n",
    "\n",
    "You cannot find people you are compatible with before finding yourself... literally! \n",
    "\n",
    "### Puzzle 3.1: Find Yourself\n",
    "\n",
    "In the following cell, write the Python code to create a DataFrame with only yourself:"
   ]
  },
  {
   "cell_type": "code",
   "execution_count": 23,
   "metadata": {
    "nbgrader": {
     "grade": false,
     "grade_id": "cell-04bc136da68bc695",
     "locked": false,
     "schema_version": 3,
     "solution": true
    }
   },
   "outputs": [
    {
     "data": {
      "text/html": [
       "<div>\n",
       "<style scoped>\n",
       "    .dataframe tbody tr th:only-of-type {\n",
       "        vertical-align: middle;\n",
       "    }\n",
       "\n",
       "    .dataframe tbody tr th {\n",
       "        vertical-align: top;\n",
       "    }\n",
       "\n",
       "    .dataframe thead th {\n",
       "        text-align: right;\n",
       "    }\n",
       "</style>\n",
       "<table border=\"1\" class=\"dataframe\">\n",
       "  <thead>\n",
       "    <tr style=\"text-align: right;\">\n",
       "      <th></th>\n",
       "      <th>Name</th>\n",
       "      <th>Major</th>\n",
       "      <th>Year</th>\n",
       "      <th>Phone</th>\n",
       "      <th>Computer</th>\n",
       "      <th>Holes In Straw</th>\n",
       "      <th>Dogs</th>\n",
       "      <th>Cats</th>\n",
       "      <th>Fish</th>\n",
       "      <th>Chickens</th>\n",
       "      <th>...</th>\n",
       "      <th>Twitch</th>\n",
       "      <th>Have you ever programmed before?</th>\n",
       "      <th>What background in Python programming do you have?</th>\n",
       "      <th>Statistics Courses</th>\n",
       "      <th>Study Hours Per Week</th>\n",
       "      <th>Siblings</th>\n",
       "      <th>Sleep Hours</th>\n",
       "      <th>Shoe Number</th>\n",
       "      <th>How many different people (including each person in group chats!) did you text yesterday?</th>\n",
       "      <th>Introvert, extrovert, ambivert?</th>\n",
       "    </tr>\n",
       "  </thead>\n",
       "  <tbody>\n",
       "    <tr>\n",
       "      <th>10</th>\n",
       "      <td>Rachael Gu</td>\n",
       "      <td>computer science</td>\n",
       "      <td>Freshman</td>\n",
       "      <td>iPhone</td>\n",
       "      <td>Windows-based computer</td>\n",
       "      <td>1.0</td>\n",
       "      <td>0</td>\n",
       "      <td>0</td>\n",
       "      <td>0</td>\n",
       "      <td>0</td>\n",
       "      <td>...</td>\n",
       "      <td>0</td>\n",
       "      <td>No</td>\n",
       "      <td>Some Python -- I have had one class or written...</td>\n",
       "      <td>0.0</td>\n",
       "      <td>2.0</td>\n",
       "      <td>1</td>\n",
       "      <td>7.0</td>\n",
       "      <td>2.0</td>\n",
       "      <td>10.0</td>\n",
       "      <td>Introvert</td>\n",
       "    </tr>\n",
       "  </tbody>\n",
       "</table>\n",
       "<p>1 rows × 31 columns</p>\n",
       "</div>"
      ],
      "text/plain": [
       "          Name             Major      Year   Phone                Computer  \\\n",
       "10  Rachael Gu  computer science  Freshman  iPhone  Windows-based computer   \n",
       "\n",
       "    Holes In Straw  Dogs  Cats  Fish  Chickens  ...  Twitch  \\\n",
       "10             1.0     0     0     0         0  ...       0   \n",
       "\n",
       "    Have you ever programmed before?  \\\n",
       "10                                No   \n",
       "\n",
       "    What background in Python programming do you have?  Statistics Courses  \\\n",
       "10  Some Python -- I have had one class or written...                  0.0   \n",
       "\n",
       "   Study Hours Per Week  Siblings  Sleep Hours  Shoe Number  \\\n",
       "10                  2.0         1          7.0          2.0   \n",
       "\n",
       "    How many different people (including each person in group chats!) did you text yesterday?  \\\n",
       "10                                               10.0                                           \n",
       "\n",
       "    Introvert, extrovert, ambivert?  \n",
       "10                        Introvert  \n",
       "\n",
       "[1 rows x 31 columns]"
      ]
     },
     "execution_count": 23,
     "metadata": {},
     "output_type": "execute_result"
    }
   ],
   "source": [
    "myrow = df[df.Name==\"Rachael Gu\"]\n",
    "myrow"
   ]
  },
  {
   "cell_type": "code",
   "execution_count": 24,
   "metadata": {
    "nbgrader": {
     "grade": true,
     "grade_id": "cell-7b019251e3c71d1f",
     "locked": true,
     "points": 1,
     "schema_version": 3,
     "solution": false
    }
   },
   "outputs": [
    {
     "name": "stdout",
     "output_type": "stream",
     "text": [
      "🎉 All tests passed! 🎉\n"
     ]
    }
   ],
   "source": [
    "## == TEST CASES for Puzzle 3.1 ==\n",
    "# - This read-only cell contains test cases for your previous cell.\n",
    "# - If this cell runs with the success message as your output, you PASSED all test cases!\n",
    "# - If this cell results in any errors, check you previous cell, make changes, and RE-RUN your code and then this cell.\n",
    "\n",
    "assert(len(myrow) == 1), \"The row of yourself is not correctly set\"\n",
    "\n",
    "## == SUCCESS MESSAGE ==\n",
    "# You will only see this message (with the emoji showing) if you passed all test cases:\n",
    "tada = \"\\N{PARTY POPPER}\"\n",
    "print(f\"{tada} All tests passed! {tada}\")"
   ]
  },
  {
   "cell_type": "markdown",
   "metadata": {
    "nbgrader": {
     "grade": false,
     "grade_id": "cell-fe30a545161f7fbf",
     "locked": true,
     "schema_version": 3,
     "solution": false,
     "task": false
    }
   },
   "source": [
    "### DataFrame with one row vs. a Series\n",
    "\n",
    "In `pandas`, there are three major data structures we will be using:\n",
    "\n",
    "- A **DataFrame** is similar to an Excel sheet.  It contains zero or more rows and zero or more columns.  It can contain up to an unlimited number of rows and columns and is the basic data structure we will work with in Data Science Discovery\n",
    "\n",
    "- A **GroupBy** is a grouping of rows within a DataFrame.  This \"three dimensional data\" requires us to use `agg` to reduce it back down to a **DataFrame**.\n",
    "\n",
    "- A **Series** is a single row or column with zero or more values (columns).  You can think of a DataFrame as a collection of **Series** objects.  When you select a single column, you may have noticed that `pandas ` automatically outputs a **Series** object. When we deal with a single row, however, we will usually need to manually convert it to a **Series** instead of a **one row DataFrame**.\n",
    "\n",
    "#### Converting between types\n",
    "\n",
    "The `pandas` library makes it easy to convert between a **Series**, **DataFrame**, and **GroupBy**.\n",
    "\n",
    "![image.png](img/datatypes.png)\n",
    "\n",
    "Expressed as a list:\n",
    "\n",
    "- From a **Series** (`row`) to a **DataFrame**\n",
    "  * `row.to_frame()`\n",
    "- From a **DataFrame** (`df`) to a **GroupBy**:\n",
    "  * `df.groupby(by='columnName')` *-- (You know this already!)*\n",
    "\n",
    "- From a **GroupBy** (`group`) to a **DataFrame**:\n",
    "  * `df.agg( function )` *-- (You know this already!)*\n",
    "- From a **DataFrame** (`df`) to a **Series**:\n",
    "  * `df.squeeze()`, if the DataFrame has one row\n",
    "\n",
    "\n",
    "  \n",
    "\n",
    "### Puzzle 3.2: Transform your row into a Series\n",
    " \n",
    "Using the correct function from above, transform the row containing only you from a one-row DataFrame into a Series.  Make sure the Series is named `myrow` (this will match up with code we provide you with later):"
   ]
  },
  {
   "cell_type": "code",
   "execution_count": 27,
   "metadata": {
    "nbgrader": {
     "grade": false,
     "grade_id": "cell-8c946526ed7a65cd",
     "locked": false,
     "schema_version": 3,
     "solution": true
    }
   },
   "outputs": [],
   "source": [
    "myrow = myrow.squeeze()"
   ]
  },
  {
   "cell_type": "code",
   "execution_count": 28,
   "metadata": {
    "nbgrader": {
     "grade": true,
     "grade_id": "cell-13e6051988c8bf2d",
     "locked": true,
     "points": 1,
     "schema_version": 3,
     "solution": false
    }
   },
   "outputs": [
    {
     "name": "stdout",
     "output_type": "stream",
     "text": [
      "🎉 All tests passed! 🎉\n"
     ]
    }
   ],
   "source": [
    "## == TEST CASES for Puzzle 3.2 ==\n",
    "# - This read-only cell contains test cases for your previous cell.\n",
    "# - If this cell runs with the success message as your output, you PASSED all test cases!\n",
    "# - If this cell results in any errors, check you previous cell, make changes, and RE-RUN your code and then this cell.\n",
    "\n",
    "assert(type(myrow) == pd.core.series.Series), \"You did not successfully transform myrow's type into series\"\n",
    "\n",
    "## == SUCCESS MESSAGE ==\n",
    "# You will only see this message (with the emoji showing) if you passed all test cases:\n",
    "tada = \"\\N{PARTY POPPER}\"\n",
    "print(f\"{tada} All tests passed! {tada}\")"
   ]
  },
  {
   "cell_type": "markdown",
   "metadata": {
    "nbgrader": {
     "grade": false,
     "grade_id": "cell-553f54db699dd66f",
     "locked": true,
     "schema_version": 3,
     "solution": false,
     "task": false
    }
   },
   "source": [
    "## Part 4 - Create a similarity function\n",
    "\n",
    "The first step to finding who is the most similar to you is to create a **function** that will generate a similarity value for each person (or row). Unlike `sum`, `count`, or other functions, Python does not provide us a **function** that does this.  Instead, we need to write it ourselves. 😞\n",
    "\n",
    "Using what you learned in lecture, let's write this function!\n",
    "\n",
    "### Planning it out\n",
    "Before starting to code, think about the **algorithm** you would like to use:\n",
    "\n",
    "1. Go through each person.\n",
    "2. Compare their responses to each question with yours.\n",
    "3. Calculate and record a \"similarity score\". based on those comparisons.\n",
    "\n",
    "Also, think about what **parameters** (input) and **return** (output) you want your function to have:\n",
    "\n",
    "*Input:* - the row you want the similarity score for, the row you are comparing against (your row)\n",
    "\n",
    "*Output:* - a numeric score representing the similarity between a row and the row being compared against\n",
    "\n",
    "### Output Details\n",
    "For each column, we want the score scale to be between 0 and 1, with 1 representing exact matches. So, if a row is the exact same as the one we're comparing it against it should have a score equal to the number of columns.\n",
    "\n",
    "For a measure of ***closeness*** between values for the numerical data we'll use the following formula:\n",
    "\n",
    "$1 -$ ( $|actual - desired|$ / $(maxColumnValue - minColumnValue)$ )\n",
    "\n",
    "### Helpful tips\n",
    "- Remember that you can loop through the columns of a dataframe\n",
    "- Treat numeric data and categorical data differently\n",
    "- Have a plan to test for if a column is all 0's\n"
   ]
  },
  {
   "cell_type": "markdown",
   "metadata": {},
   "source": [
    "### Puzzle 4.1 Planning it out\n",
    "\n",
    "Briefly describe any special cases you want to take into account or any weights or values you want to use for specific columns in the text box below. If there are none, state that instead. *(This part is completely up to you, just make sure it makes sensce and your code matches what you describe.)*"
   ]
  },
  {
   "cell_type": "markdown",
   "metadata": {},
   "source": [
    "There are no special cases that I want to take into account. "
   ]
  },
  {
   "cell_type": "markdown",
   "metadata": {},
   "source": [
    "### Puzzle 4.2 Write the function\n",
    "\n",
    "Now that everything has been thoroughly planned out, you're ready to write the function!  This is the most complicated part of the lab, so take your time :)"
   ]
  },
  {
   "cell_type": "code",
   "execution_count": 34,
   "metadata": {
    "nbgrader": {
     "grade": false,
     "grade_id": "cell-51500f7d58876da9",
     "locked": false,
     "schema_version": 3,
     "solution": true
    }
   },
   "outputs": [],
   "source": [
    "def similarity(row, myrow):\n",
    "    score = 0\n",
    "    \n",
    "    for column in df:\n",
    "        if column in df_numeric:\n",
    "            if df[column].sum() !=0:\n",
    "                dif = 1 - (abs(myrow[column] - row[column]) / (df[column].max() - df[column].min()))\n",
    "                score = score + dif\n",
    "            elif df[column].sum() == 0:\n",
    "                score = score + 1\n",
    "        elif column in df_categorical:\n",
    "            if (myrow[column] == row[column]):\n",
    "                score = score + 1\n",
    "    return score"
   ]
  },
  {
   "cell_type": "markdown",
   "metadata": {},
   "source": [
    "### Puzzle 4.3 Testing the function\n",
    "\n",
    "Part of writing a function is making sure it does what you want it to. Test this function by checking how similar you are with yourself. Check to make sure the output is what you would expect. You can also use this space to test any special cases you would like to check."
   ]
  },
  {
   "cell_type": "code",
   "execution_count": 35,
   "metadata": {},
   "outputs": [
    {
     "data": {
      "text/plain": [
       "31.0"
      ]
     },
     "execution_count": 35,
     "metadata": {},
     "output_type": "execute_result"
    }
   ],
   "source": [
    "# First test this function by checking how similar you are with yourself.\n",
    "# The expected result will be a number equal to the number of columns you checked:\n",
    "similarity(myrow, myrow)\n"
   ]
  },
  {
   "cell_type": "markdown",
   "metadata": {
    "nbgrader": {
     "grade": false,
     "grade_id": "cell-1031a2762eed61e3",
     "locked": true,
     "schema_version": 3,
     "solution": false,
     "task": false
    }
   },
   "source": [
    "## Part 5 - Using the Function\n",
    "\n",
    "### The Tuple Datatype\n",
    "\n",
    "Previously, we encountered several datatypes for storing multiple pieces of information: **DataFrame**, **List**, and most recently in `lab_simulation` **Dictionary**. You may remember changing these structures after creating them, like adding a new column to a **DataFrame** to store GPA values or appending to a **List** to gather simulation outputs. The **Tuple** datatype is similar to a **List**, but once you make it, you can't change it. This makes **Tuples** safer for passing arguments into functions and outputting more than one value from a function. A **Tuple** like a list with parentheses instead of square brackets: `(<thing1>,<thing2>,...)`. A single item tuple looks like this: `(<thing>,)`.\n",
    "\n",
    "### Puzzle 5.1 Making an argument tuple\n",
    "\n",
    "We will use `df.apply()` to apply our `similarity()` function to each row in our dataframe but we need to also pass `myrow` as a second argument to the function. To do this, we need to put that value into a one element tuple. Make this single item tuple below and name it `args`."
   ]
  },
  {
   "cell_type": "code",
   "execution_count": 36,
   "metadata": {},
   "outputs": [
    {
     "data": {
      "text/plain": [
       "(Name                                                                                                                                Rachael Gu\n",
       " Major                                                                                                                         computer science\n",
       " Year                                                                                                                                  Freshman\n",
       " Phone                                                                                                                                   iPhone\n",
       " Computer                                                                                                                Windows-based computer\n",
       " Holes In Straw                                                                                                                             1.0\n",
       " Dogs                                                                                                                                         0\n",
       " Cats                                                                                                                                         0\n",
       " Fish                                                                                                                                         0\n",
       " Chickens                                                                                                                                     0\n",
       " Horses                                                                                                                                       0\n",
       " Rabbits                                                                                                                                      0\n",
       " Other                                                                                                                                        0\n",
       " Shoe Size                                                                                                                                  6.0\n",
       " Is a hot dog a sandwich?                                                                                                                    No\n",
       " Netflix                                                                                                                                      1\n",
       " Hulu                                                                                                                                         0\n",
       " HBO Now                                                                                                                                      0\n",
       " Amazon Prime                                                                                                                                 0\n",
       " Starz                                                                                                                                        0\n",
       " YouTube                                                                                                                                      1\n",
       " Twitch                                                                                                                                       0\n",
       " Have you ever programmed before?                                                                                                            No\n",
       " What background in Python programming do you have?                                           Some Python -- I have had one class or written...\n",
       " Statistics Courses                                                                                                                         0.0\n",
       " Study Hours Per Week                                                                                                                       2.0\n",
       " Siblings                                                                                                                                     1\n",
       " Sleep Hours                                                                                                                                7.0\n",
       " Shoe Number                                                                                                                                2.0\n",
       " How many different people (including each person in group chats!) did you text yesterday?                                                 10.0\n",
       " Introvert, extrovert, ambivert?                                                                                                      Introvert\n",
       " Name: 10, dtype: object,)"
      ]
     },
     "execution_count": 36,
     "metadata": {},
     "output_type": "execute_result"
    }
   ],
   "source": [
    "args = (myrow,)\n",
    "args"
   ]
  },
  {
   "cell_type": "markdown",
   "metadata": {},
   "source": [
    "\n",
    "### Puzzle 5.2 - Get similarity for all rows\n",
    "\n",
    "Use `df.apply()` to apply your `similarity` function to each row of the dataframe. Make sure your input is correct so that it will run the `similarity` function you defined earlier across all rows, comparing them with `myrow`. If you're not sure what arguments/inputs to use, the documentation for `apply()` can be found [here](https://pandas.pydata.org/docs/reference/api/pandas.DataFrame.apply.html). Assign the new values to a new column in `df` and name the column `\"similarity\"`.\n",
    "\n",
    "**HINT:** (double-click this cell to see it): \n",
    "<span style=\"color:#ffffff00\"> Aside from the function name, you will also need the **args=** and **axis=** arguments</span>"
   ]
  },
  {
   "cell_type": "code",
   "execution_count": 37,
   "metadata": {
    "nbgrader": {
     "grade": false,
     "grade_id": "cell-8ddb7d2fa7a20c87",
     "locked": false,
     "schema_version": 3,
     "solution": true
    }
   },
   "outputs": [],
   "source": [
    "df[\"similarity\"] = df.apply(similarity, args = args, axis = 1)"
   ]
  },
  {
   "cell_type": "code",
   "execution_count": 38,
   "metadata": {
    "nbgrader": {
     "grade": true,
     "grade_id": "cell-ec38b4dade899048",
     "locked": true,
     "points": 1,
     "schema_version": 3,
     "solution": false
    }
   },
   "outputs": [
    {
     "name": "stdout",
     "output_type": "stream",
     "text": [
      "🎉 All tests passed! 🎉\n"
     ]
    }
   ],
   "source": [
    "## == TEST CASES for Puzzle 5 ==\n",
    "# - This read-only cell contains test cases for your previous cell.\n",
    "# - If this cell runs with the success message as your output, you PASSED all test cases!\n",
    "# - If this cell results in any errors, check you previous cell, make changes, and RE-RUN your code and then this cell.\n",
    "\n",
    "assert(df.shape[1] >= 32), \"You need to apply your similarity function to your dataframe\"\n",
    "\n",
    "## == SUCCESS MESSAGE ==\n",
    "# You will only see this message (with the emoji showing) if you passed all test cases:\n",
    "tada = \"\\N{PARTY POPPER}\"\n",
    "print(f\"{tada} All tests passed! {tada}\")"
   ]
  },
  {
   "cell_type": "markdown",
   "metadata": {
    "nbgrader": {
     "grade": false,
     "grade_id": "cell-b60caa666e942962",
     "locked": true,
     "schema_version": 3,
     "solution": false,
     "task": false
    }
   },
   "source": [
    "### Puzzle 5.3 - Find your twin!\n",
    "\n",
    "Your last column in your DataFrame is a **metric** (a measurement) of how similar you are to everyone else in the class!\n",
    "\n",
    "Use your **cheat sheet** (link: https://pandas.pydata.org/Pandas_Cheat_Sheet.pdf) to find how to sort a DataFrame where the most similar person is on top.  Store that sorted DataFrame in `df_twins`.\n",
    "\n",
    "- You should be most similar to yourself (you will always match yourself)!  *If this is not the case, you did something wrong and should double-check all of your steps up to this point.*"
   ]
  },
  {
   "cell_type": "code",
   "execution_count": 39,
   "metadata": {
    "nbgrader": {
     "grade": false,
     "grade_id": "cell-2f540c719178869e",
     "locked": false,
     "schema_version": 3,
     "solution": true
    }
   },
   "outputs": [
    {
     "data": {
      "text/html": [
       "<div>\n",
       "<style scoped>\n",
       "    .dataframe tbody tr th:only-of-type {\n",
       "        vertical-align: middle;\n",
       "    }\n",
       "\n",
       "    .dataframe tbody tr th {\n",
       "        vertical-align: top;\n",
       "    }\n",
       "\n",
       "    .dataframe thead th {\n",
       "        text-align: right;\n",
       "    }\n",
       "</style>\n",
       "<table border=\"1\" class=\"dataframe\">\n",
       "  <thead>\n",
       "    <tr style=\"text-align: right;\">\n",
       "      <th></th>\n",
       "      <th>Name</th>\n",
       "      <th>Major</th>\n",
       "      <th>Year</th>\n",
       "      <th>Phone</th>\n",
       "      <th>Computer</th>\n",
       "      <th>Holes In Straw</th>\n",
       "      <th>Dogs</th>\n",
       "      <th>Cats</th>\n",
       "      <th>Fish</th>\n",
       "      <th>Chickens</th>\n",
       "      <th>...</th>\n",
       "      <th>Have you ever programmed before?</th>\n",
       "      <th>What background in Python programming do you have?</th>\n",
       "      <th>Statistics Courses</th>\n",
       "      <th>Study Hours Per Week</th>\n",
       "      <th>Siblings</th>\n",
       "      <th>Sleep Hours</th>\n",
       "      <th>Shoe Number</th>\n",
       "      <th>How many different people (including each person in group chats!) did you text yesterday?</th>\n",
       "      <th>Introvert, extrovert, ambivert?</th>\n",
       "      <th>similarity</th>\n",
       "    </tr>\n",
       "  </thead>\n",
       "  <tbody>\n",
       "    <tr>\n",
       "      <th>10</th>\n",
       "      <td>Rachael Gu</td>\n",
       "      <td>computer science</td>\n",
       "      <td>Freshman</td>\n",
       "      <td>iPhone</td>\n",
       "      <td>Windows-based computer</td>\n",
       "      <td>1.0</td>\n",
       "      <td>0</td>\n",
       "      <td>0</td>\n",
       "      <td>0</td>\n",
       "      <td>0</td>\n",
       "      <td>...</td>\n",
       "      <td>No</td>\n",
       "      <td>Some Python -- I have had one class or written...</td>\n",
       "      <td>0.0</td>\n",
       "      <td>2.0</td>\n",
       "      <td>1</td>\n",
       "      <td>7.0</td>\n",
       "      <td>2.0</td>\n",
       "      <td>10.0</td>\n",
       "      <td>Introvert</td>\n",
       "      <td>31.000000</td>\n",
       "    </tr>\n",
       "    <tr>\n",
       "      <th>56</th>\n",
       "      <td>Hyun</td>\n",
       "      <td>Statistics and Computer Science</td>\n",
       "      <td>Sophomore</td>\n",
       "      <td>Android</td>\n",
       "      <td>Windows-based computer</td>\n",
       "      <td>1.0</td>\n",
       "      <td>0</td>\n",
       "      <td>0</td>\n",
       "      <td>0</td>\n",
       "      <td>0</td>\n",
       "      <td>...</td>\n",
       "      <td>No</td>\n",
       "      <td>Some Python -- I have had one class or written...</td>\n",
       "      <td>1.0</td>\n",
       "      <td>4.0</td>\n",
       "      <td>1</td>\n",
       "      <td>9.0</td>\n",
       "      <td>2.0</td>\n",
       "      <td>13.0</td>\n",
       "      <td>Introvert</td>\n",
       "      <td>26.585782</td>\n",
       "    </tr>\n",
       "    <tr>\n",
       "      <th>42</th>\n",
       "      <td>Jeffrey</td>\n",
       "      <td>Statistics&amp;CS</td>\n",
       "      <td>Freshman</td>\n",
       "      <td>iPhone</td>\n",
       "      <td>Windows-based computer</td>\n",
       "      <td>1.0</td>\n",
       "      <td>0</td>\n",
       "      <td>1</td>\n",
       "      <td>0</td>\n",
       "      <td>0</td>\n",
       "      <td>...</td>\n",
       "      <td>Yes</td>\n",
       "      <td>Some Python -- I have had one class or written...</td>\n",
       "      <td>1.0</td>\n",
       "      <td>6.0</td>\n",
       "      <td>0</td>\n",
       "      <td>7.0</td>\n",
       "      <td>4.0</td>\n",
       "      <td>9.0</td>\n",
       "      <td>Introvert</td>\n",
       "      <td>26.548309</td>\n",
       "    </tr>\n",
       "    <tr>\n",
       "      <th>51</th>\n",
       "      <td>Heewon</td>\n",
       "      <td>Statistics + CS</td>\n",
       "      <td>Freshman</td>\n",
       "      <td>iPhone</td>\n",
       "      <td>Windows-based computer</td>\n",
       "      <td>1.0</td>\n",
       "      <td>0</td>\n",
       "      <td>0</td>\n",
       "      <td>0</td>\n",
       "      <td>0</td>\n",
       "      <td>...</td>\n",
       "      <td>Yes</td>\n",
       "      <td>Some Python -- I have had one class or written...</td>\n",
       "      <td>2.0</td>\n",
       "      <td>6.0</td>\n",
       "      <td>1</td>\n",
       "      <td>7.0</td>\n",
       "      <td>8.0</td>\n",
       "      <td>11.0</td>\n",
       "      <td>Ambivert</td>\n",
       "      <td>26.465660</td>\n",
       "    </tr>\n",
       "    <tr>\n",
       "      <th>172</th>\n",
       "      <td>Jacky</td>\n",
       "      <td>Business</td>\n",
       "      <td>Freshman</td>\n",
       "      <td>iPhone</td>\n",
       "      <td>Mac OS X-based computer</td>\n",
       "      <td>2.0</td>\n",
       "      <td>0</td>\n",
       "      <td>0</td>\n",
       "      <td>0</td>\n",
       "      <td>0</td>\n",
       "      <td>...</td>\n",
       "      <td>No</td>\n",
       "      <td>No Python, but I've done some programming in o...</td>\n",
       "      <td>1.0</td>\n",
       "      <td>1.0</td>\n",
       "      <td>1</td>\n",
       "      <td>7.0</td>\n",
       "      <td>10.0</td>\n",
       "      <td>8.0</td>\n",
       "      <td>Introvert</td>\n",
       "      <td>26.431848</td>\n",
       "    </tr>\n",
       "    <tr>\n",
       "      <th>...</th>\n",
       "      <td>...</td>\n",
       "      <td>...</td>\n",
       "      <td>...</td>\n",
       "      <td>...</td>\n",
       "      <td>...</td>\n",
       "      <td>...</td>\n",
       "      <td>...</td>\n",
       "      <td>...</td>\n",
       "      <td>...</td>\n",
       "      <td>...</td>\n",
       "      <td>...</td>\n",
       "      <td>...</td>\n",
       "      <td>...</td>\n",
       "      <td>...</td>\n",
       "      <td>...</td>\n",
       "      <td>...</td>\n",
       "      <td>...</td>\n",
       "      <td>...</td>\n",
       "      <td>...</td>\n",
       "      <td>...</td>\n",
       "      <td>...</td>\n",
       "    </tr>\n",
       "    <tr>\n",
       "      <th>201</th>\n",
       "      <td>Alec</td>\n",
       "      <td>Political Science</td>\n",
       "      <td>Senior</td>\n",
       "      <td>Android</td>\n",
       "      <td>Windows-based computer</td>\n",
       "      <td>2.0</td>\n",
       "      <td>1</td>\n",
       "      <td>0</td>\n",
       "      <td>0</td>\n",
       "      <td>0</td>\n",
       "      <td>...</td>\n",
       "      <td>Yes</td>\n",
       "      <td>No programming background -- is Python Taylor ...</td>\n",
       "      <td>1.0</td>\n",
       "      <td>3.0</td>\n",
       "      <td>5</td>\n",
       "      <td>9.0</td>\n",
       "      <td>3.0</td>\n",
       "      <td>1.0</td>\n",
       "      <td>Extrovert</td>\n",
       "      <td>19.066793</td>\n",
       "    </tr>\n",
       "    <tr>\n",
       "      <th>35</th>\n",
       "      <td>Xuanye</td>\n",
       "      <td>Computer Science</td>\n",
       "      <td>Freshman</td>\n",
       "      <td>iPhone</td>\n",
       "      <td>Windows-based computer</td>\n",
       "      <td>1.0</td>\n",
       "      <td>1</td>\n",
       "      <td>1</td>\n",
       "      <td>1</td>\n",
       "      <td>1</td>\n",
       "      <td>...</td>\n",
       "      <td>Yes</td>\n",
       "      <td>Some Python -- I have had one class or written...</td>\n",
       "      <td>10.0</td>\n",
       "      <td>4.0</td>\n",
       "      <td>1</td>\n",
       "      <td>8.0</td>\n",
       "      <td>5.0</td>\n",
       "      <td>5.0</td>\n",
       "      <td>Ambivert</td>\n",
       "      <td>18.925356</td>\n",
       "    </tr>\n",
       "    <tr>\n",
       "      <th>145</th>\n",
       "      <td>Alex</td>\n",
       "      <td>Computer Science + Statistics</td>\n",
       "      <td>Senior</td>\n",
       "      <td>Android</td>\n",
       "      <td>Windows-based computer</td>\n",
       "      <td>2.0</td>\n",
       "      <td>1</td>\n",
       "      <td>0</td>\n",
       "      <td>0</td>\n",
       "      <td>0</td>\n",
       "      <td>...</td>\n",
       "      <td>Yes</td>\n",
       "      <td>Significant -- I am a wizard when it comes to ...</td>\n",
       "      <td>6.0</td>\n",
       "      <td>2.0</td>\n",
       "      <td>1</td>\n",
       "      <td>9.0</td>\n",
       "      <td>4.0</td>\n",
       "      <td>9.0</td>\n",
       "      <td>Ambivert</td>\n",
       "      <td>18.162941</td>\n",
       "    </tr>\n",
       "    <tr>\n",
       "      <th>19</th>\n",
       "      <td>Dianne</td>\n",
       "      <td>Information Science</td>\n",
       "      <td>Sophomore</td>\n",
       "      <td>iPhone</td>\n",
       "      <td>Mac OS X-based computer</td>\n",
       "      <td>2.0</td>\n",
       "      <td>1</td>\n",
       "      <td>1</td>\n",
       "      <td>1</td>\n",
       "      <td>0</td>\n",
       "      <td>...</td>\n",
       "      <td>No</td>\n",
       "      <td>No programming background -- is Python Taylor ...</td>\n",
       "      <td>2.0</td>\n",
       "      <td>9.0</td>\n",
       "      <td>2</td>\n",
       "      <td>7.0</td>\n",
       "      <td>12.0</td>\n",
       "      <td>670.0</td>\n",
       "      <td>Ambivert</td>\n",
       "      <td>18.058001</td>\n",
       "    </tr>\n",
       "    <tr>\n",
       "      <th>1</th>\n",
       "      <td>Michelle</td>\n",
       "      <td>information sciences</td>\n",
       "      <td>Senior</td>\n",
       "      <td>iPhone</td>\n",
       "      <td>Mac OS X-based computer</td>\n",
       "      <td>1.0</td>\n",
       "      <td>1</td>\n",
       "      <td>1</td>\n",
       "      <td>0</td>\n",
       "      <td>0</td>\n",
       "      <td>...</td>\n",
       "      <td>Yes</td>\n",
       "      <td>Some Python -- I have had one class or written...</td>\n",
       "      <td>1.0</td>\n",
       "      <td>2.0</td>\n",
       "      <td>5</td>\n",
       "      <td>7.0</td>\n",
       "      <td>20.0</td>\n",
       "      <td>20.0</td>\n",
       "      <td>Ambivert</td>\n",
       "      <td>17.657096</td>\n",
       "    </tr>\n",
       "  </tbody>\n",
       "</table>\n",
       "<p>284 rows × 32 columns</p>\n",
       "</div>"
      ],
      "text/plain": [
       "           Name                            Major       Year    Phone  \\\n",
       "10   Rachael Gu                 computer science   Freshman   iPhone   \n",
       "56         Hyun  Statistics and Computer Science  Sophomore  Android   \n",
       "42      Jeffrey                    Statistics&CS   Freshman   iPhone   \n",
       "51       Heewon                  Statistics + CS   Freshman   iPhone   \n",
       "172       Jacky                         Business   Freshman   iPhone   \n",
       "..          ...                              ...        ...      ...   \n",
       "201        Alec                Political Science     Senior  Android   \n",
       "35       Xuanye                 Computer Science   Freshman   iPhone   \n",
       "145        Alex    Computer Science + Statistics     Senior  Android   \n",
       "19       Dianne              Information Science  Sophomore   iPhone   \n",
       "1      Michelle             information sciences     Senior   iPhone   \n",
       "\n",
       "                    Computer  Holes In Straw  Dogs  Cats  Fish  Chickens  ...  \\\n",
       "10    Windows-based computer             1.0     0     0     0         0  ...   \n",
       "56    Windows-based computer             1.0     0     0     0         0  ...   \n",
       "42    Windows-based computer             1.0     0     1     0         0  ...   \n",
       "51    Windows-based computer             1.0     0     0     0         0  ...   \n",
       "172  Mac OS X-based computer             2.0     0     0     0         0  ...   \n",
       "..                       ...             ...   ...   ...   ...       ...  ...   \n",
       "201   Windows-based computer             2.0     1     0     0         0  ...   \n",
       "35    Windows-based computer             1.0     1     1     1         1  ...   \n",
       "145   Windows-based computer             2.0     1     0     0         0  ...   \n",
       "19   Mac OS X-based computer             2.0     1     1     1         0  ...   \n",
       "1    Mac OS X-based computer             1.0     1     1     0         0  ...   \n",
       "\n",
       "     Have you ever programmed before?  \\\n",
       "10                                 No   \n",
       "56                                 No   \n",
       "42                                Yes   \n",
       "51                                Yes   \n",
       "172                                No   \n",
       "..                                ...   \n",
       "201                               Yes   \n",
       "35                                Yes   \n",
       "145                               Yes   \n",
       "19                                 No   \n",
       "1                                 Yes   \n",
       "\n",
       "     What background in Python programming do you have?  Statistics Courses  \\\n",
       "10   Some Python -- I have had one class or written...                  0.0   \n",
       "56   Some Python -- I have had one class or written...                  1.0   \n",
       "42   Some Python -- I have had one class or written...                  1.0   \n",
       "51   Some Python -- I have had one class or written...                  2.0   \n",
       "172  No Python, but I've done some programming in o...                  1.0   \n",
       "..                                                 ...                  ...   \n",
       "201  No programming background -- is Python Taylor ...                  1.0   \n",
       "35   Some Python -- I have had one class or written...                 10.0   \n",
       "145  Significant -- I am a wizard when it comes to ...                  6.0   \n",
       "19   No programming background -- is Python Taylor ...                  2.0   \n",
       "1    Some Python -- I have had one class or written...                  1.0   \n",
       "\n",
       "     Study Hours Per Week Siblings  Sleep Hours  Shoe Number  \\\n",
       "10                    2.0        1          7.0          2.0   \n",
       "56                    4.0        1          9.0          2.0   \n",
       "42                    6.0        0          7.0          4.0   \n",
       "51                    6.0        1          7.0          8.0   \n",
       "172                   1.0        1          7.0         10.0   \n",
       "..                    ...      ...          ...          ...   \n",
       "201                   3.0        5          9.0          3.0   \n",
       "35                    4.0        1          8.0          5.0   \n",
       "145                   2.0        1          9.0          4.0   \n",
       "19                    9.0        2          7.0         12.0   \n",
       "1                     2.0        5          7.0         20.0   \n",
       "\n",
       "     How many different people (including each person in group chats!) did you text yesterday?  \\\n",
       "10                                                10.0                                           \n",
       "56                                                13.0                                           \n",
       "42                                                 9.0                                           \n",
       "51                                                11.0                                           \n",
       "172                                                8.0                                           \n",
       "..                                                 ...                                           \n",
       "201                                                1.0                                           \n",
       "35                                                 5.0                                           \n",
       "145                                                9.0                                           \n",
       "19                                               670.0                                           \n",
       "1                                                 20.0                                           \n",
       "\n",
       "     Introvert, extrovert, ambivert?  similarity  \n",
       "10                         Introvert   31.000000  \n",
       "56                         Introvert   26.585782  \n",
       "42                         Introvert   26.548309  \n",
       "51                          Ambivert   26.465660  \n",
       "172                        Introvert   26.431848  \n",
       "..                               ...         ...  \n",
       "201                        Extrovert   19.066793  \n",
       "35                          Ambivert   18.925356  \n",
       "145                         Ambivert   18.162941  \n",
       "19                          Ambivert   18.058001  \n",
       "1                           Ambivert   17.657096  \n",
       "\n",
       "[284 rows x 32 columns]"
      ]
     },
     "execution_count": 39,
     "metadata": {},
     "output_type": "execute_result"
    }
   ],
   "source": [
    "df_twins = df.sort_values(by= \"similarity\", ascending= False)\n",
    "df_twins"
   ]
  },
  {
   "cell_type": "code",
   "execution_count": 40,
   "metadata": {
    "nbgrader": {
     "grade": true,
     "grade_id": "cell-d17c8bf547ab9ea7",
     "locked": true,
     "points": 3,
     "schema_version": 3,
     "solution": false
    }
   },
   "outputs": [
    {
     "name": "stdout",
     "output_type": "stream",
     "text": [
      "🎉 All tests passed! 🎉\n"
     ]
    }
   ],
   "source": [
    "## == TEST CASES for Puzzle 6 ==\n",
    "# - This read-only cell contains test cases for your previous cell.\n",
    "# - If this cell runs with the success message as your output, you PASSED all test cases!\n",
    "# - If this cell results in any errors, check you previous cell, make changes, and RE-RUN your code and then this cell.\n",
    "\n",
    "assert( df_twins.head(1).squeeze()[\"Name\"] == myrow[\"Name\"] ), \"You must be most similar to yourself.\"\n",
    "\n",
    "## == SUCCESS MESSAGE ==\n",
    "# You will only see this message (with the emoji showing) if you passed all test cases:\n",
    "tada = \"\\N{PARTY POPPER}\"\n",
    "print(f\"{tada} All tests passed! {tada}\")"
   ]
  },
  {
   "cell_type": "markdown",
   "metadata": {
    "nbgrader": {
     "grade": false,
     "grade_id": "cell-dc56fb367aec1907",
     "locked": true,
     "schema_version": 3,
     "solution": false,
     "task": false
    }
   },
   "source": [
    "# Finale!\n",
    "\n",
    "You're almost done -- congratulations!\n",
    "\n",
    "You need to do two more things:\n",
    "\n",
    "1.  Save your work. To do this, go to File -> Save All\n",
    "\n",
    "2.  After you have saved, exit this notebook and follow the webpage instructions to commit this lab to your Git repository!"
   ]
  }
 ],
 "metadata": {
  "celltoolbar": "Create Assignment",
  "interpreter": {
   "hash": "bb71644d32eb36cf7f2cc7810c446f13bd72926edb88194d595fc87c14eb9124"
  },
  "kernelspec": {
   "display_name": "Python 3.9.6 64-bit",
   "name": "python3"
  },
  "language_info": {
   "codemirror_mode": {
    "name": "ipython",
    "version": 3
   },
   "file_extension": ".py",
   "mimetype": "text/x-python",
   "name": "python",
   "nbconvert_exporter": "python",
   "pygments_lexer": "ipython3",
   "version": "3.9.6"
  }
 },
 "nbformat": 4,
 "nbformat_minor": 2
}
