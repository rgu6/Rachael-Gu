{
 "cells": [
  {
   "cell_type": "markdown",
   "metadata": {},
   "source": [
    "# Section 1: Understanding an Image\n",
    "\n",
    "A computer represents an image as a 2D grid of **pixels** where each pixel is a single color.  Here is a tiny image **zoomed in at 50x** that shows the nine pixels:\n",
    "\n",
    "![Color](sample-50x.png)\n",
    "\n",
    "The actual image size of a 9 pixel image is really small (here it is): ![sample image](sample.png).  We will need to use Python to help us process large images!\n",
    "\n",
    "\n",
    "## Section 1.1: Image Coordinate System\n",
    "\n",
    "We can refer to any pixel in the image by it's coordinates -- the `x` and `y` position of each pixel.  The **top-left** pixel is (0, 0) and we increase `x` by going \"right\" and increase `y` by going \"down\".\n",
    "\n",
    "- `(0, 0)` is the BLUE pixel in the top-left corner,\n",
    "- `(1, 0)` is the middle WHITE pixel in the top row (since `x=1` moves to the right one),\n",
    "- `(2, 0)` is the RED pixel in the top-right corner.\n",
    "\n",
    "Moving down, the middle row has a `y` value of `1` fo all its pixels:\n",
    "\n",
    "- `(0, 1)` is the GREEN pixel -- it's \"over zero and down one\",\n",
    "- `(1, 1)` is the BLACK pixel in the center, and\n",
    "- `(2, 1)` is the WHITE pixel in the middle-right of the image.\n",
    "\n",
    "Finally, the last row:\n",
    "\n",
    "- `(0, 2)` is the WHITE pixel in the bottom left,\n",
    "- `(1, 2)` is the ILLINI ORANGE pixel,\n",
    "- `(2, 2)` is the ILLINI BLUE pixel\n",
    "\n",
    "\n",
    "## Section 1.2: The `DISCOVERY` library!\n",
    "\n",
    "In DISCOVERY, we developed a library to help you with image data.  To use it:\n",
    "\n",
    "- You must `import DISCOVERY` (all caps, because DISCOVERY!)\n",
    "- Use `image = DISCOVERY.loadImage(\"sample.png\")` to load the `sample.png` image into `image`\n",
    "\n",
    "Try that out in the cell below:"
   ]
  },
  {
   "cell_type": "code",
   "execution_count": 145,
   "metadata": {},
   "outputs": [],
   "source": [
    "import DISCOVERY\n",
    "image = DISCOVERY.loadImage(\"sample.png\")"
   ]
  },
  {
   "cell_type": "markdown",
   "metadata": {},
   "source": [
    "To access any specific pixel, you need to \"index into\" the `image` with the `x` and `y` coordinate as `image[x][y]`.  For example:\n",
    "\n",
    "- `image[0][0]` accesses the top-left pixel; in the `sample.png` image, it's the BLUE pixel\n",
    "- `image[2][0]` accesses `x=2, y=0`; in the `sample.png` image, it's the RED pixel\n",
    "- ...etc...\n",
    "\n",
    "In the cell below, access the GREEN pixel and store it in the variable `green_pixel`:"
   ]
  },
  {
   "cell_type": "code",
   "execution_count": 146,
   "metadata": {},
   "outputs": [
    {
     "data": {
      "text/plain": [
       "array([  0, 255,   0])"
      ]
     },
     "execution_count": 146,
     "metadata": {},
     "output_type": "execute_result"
    }
   ],
   "source": [
    "green_pixel = image [0][1]\n",
    "green_pixel"
   ]
  },
  {
   "cell_type": "code",
   "execution_count": 147,
   "metadata": {},
   "outputs": [
    {
     "name": "stdout",
     "output_type": "stream",
     "text": [
      "✅ `green_pixel` looks like a pixel!\n",
      "✅ `green_pixel` is a green pixel!\n",
      "🎉 All tests passed! 🎉\n"
     ]
    }
   ],
   "source": [
    "# == TEST CASE for Section 1.2 ==\n",
    "# - Checks to see if `green_pixel` is storing a green pixel\n",
    "DISCOVERY.run_test_case_1b(green_pixel)"
   ]
  },
  {
   "cell_type": "markdown",
   "metadata": {},
   "source": [
    "<hr>"
   ]
  },
  {
   "cell_type": "markdown",
   "metadata": {},
   "source": [
    "# Section 2: Accessing Color Data\n",
    "\n",
    "Every color visible on a computer screen is made up of the three **primary colors of light** -- red, green, and blue.  Your monitor displays color by varying the intensity of the red light, green light, and blue light emitted for every pixel on your screen.  Since images are primarily displayed on computer screens, the **default color space is to represent colors as red, green, and blue**.\n",
    "\n",
    "When you have a pixel, you will always see the three components.  For example, the contents of `green_pixel` is `[0, 255, 0]`:\n",
    "- The first `0` means we have 0 / 255 (0%) **red** light\n",
    "- The second `255` means we have 255 / 255 (100%) **green** light\n",
    "- The final `0` means we have 0 / 255 (0%) **blue** light\n",
    "\n",
    "## Section 2.1: Accessing Illini Orange\n",
    "\n",
    "Using the `image` you loaded in Section 1, load the Illini Orange pixel into `illini_orange_pixel`:"
   ]
  },
  {
   "cell_type": "code",
   "execution_count": 148,
   "metadata": {},
   "outputs": [
    {
     "data": {
      "text/plain": [
       "array([255,  85,  46])"
      ]
     },
     "execution_count": 148,
     "metadata": {},
     "output_type": "execute_result"
    }
   ],
   "source": [
    "illini_orange_pixel = image[1][2]\n",
    "illini_orange_pixel"
   ]
  },
  {
   "cell_type": "markdown",
   "metadata": {},
   "source": [
    "Now we can access the red, green, and blue components by their value in the list.  Once you have a pixel:\n",
    "\n",
    "- `pixel[0]` is the red color,\n",
    "- `pixel[1]` is the green color, and\n",
    "- `pixel[2]` is the blue color.\n",
    "\n",
    "Find the red, green, and blue values of the `illini_orange_pixel`:"
   ]
  },
  {
   "cell_type": "code",
   "execution_count": 149,
   "metadata": {},
   "outputs": [
    {
     "data": {
      "text/plain": [
       "255"
      ]
     },
     "execution_count": 149,
     "metadata": {},
     "output_type": "execute_result"
    }
   ],
   "source": [
    "red = illini_orange_pixel[0]\n",
    "red"
   ]
  },
  {
   "cell_type": "code",
   "execution_count": 150,
   "metadata": {},
   "outputs": [
    {
     "data": {
      "text/plain": [
       "85"
      ]
     },
     "execution_count": 150,
     "metadata": {},
     "output_type": "execute_result"
    }
   ],
   "source": [
    "green = illini_orange_pixel[1]\n",
    "green"
   ]
  },
  {
   "cell_type": "code",
   "execution_count": 151,
   "metadata": {},
   "outputs": [
    {
     "data": {
      "text/plain": [
       "46"
      ]
     },
     "execution_count": 151,
     "metadata": {},
     "output_type": "execute_result"
    }
   ],
   "source": [
    "blue = illini_orange_pixel[2]\n",
    "blue"
   ]
  },
  {
   "cell_type": "markdown",
   "metadata": {},
   "source": [
    "## Section 2.2: Average Pixel Strategy\n",
    "\n",
    "To create the mosaic, we will need to find the **average** pixel color of everyone one of your tile images.  You can do this either of two ways:\n",
    "1. Using Python to find the average of all the individual pixels,\n",
    "2. Creating a DataFrame to store all of the individual pixels and using `pandas` to find the average\n",
    "\n",
    "Since you are an expert in working with DataFrames, we will go for Option #2!  However, you can try #1 if you are up for a challenge!\n",
    "\n",
    "\n",
    "## Section 2.3: Finding the Height and Width\n",
    "\n",
    "All of our images will be much larger than the 3x3 `sample.png` image -- and we don't know the size in advance -- so we need to find the `height` of an image.  Luckily, this is easy:\n",
    "\n",
    "- `len(image)` will tell us how many columns are in the image (since the first index is the `x` value) -- this is our `width`\n",
    "- `len(image[0])` will tell us how many pixels are in the first column (since images are always a rectangle) -- this is our `height`\n",
    "\n",
    "Find the `height` and `width` of your `sample.png` image stored in `image` from Section 1:"
   ]
  },
  {
   "cell_type": "code",
   "execution_count": 152,
   "metadata": {},
   "outputs": [
    {
     "data": {
      "text/plain": [
       "3"
      ]
     },
     "execution_count": 152,
     "metadata": {},
     "output_type": "execute_result"
    }
   ],
   "source": [
    "width = len(image)\n",
    "width"
   ]
  },
  {
   "cell_type": "code",
   "execution_count": 153,
   "metadata": {},
   "outputs": [
    {
     "data": {
      "text/plain": [
       "3"
      ]
     },
     "execution_count": 153,
     "metadata": {},
     "output_type": "execute_result"
    }
   ],
   "source": [
    "height = len(image[0])\n",
    "height"
   ]
  },
  {
   "cell_type": "markdown",
   "metadata": {},
   "source": [
    "## Section 2.4: Converting Pixel Data to a DataFrame - First Row\n",
    "\n",
    "Once you have the height and width, you must **visit every pixel** to add it to a DataFrame.  This is **VERY SIMILAR** to doing a simulation, except that we want to visit different pixels to add them to the DataFrame instead of randomly generating data.\n",
    "\n",
    "To start this, write a simulation except include three key changes:\n",
    "\n",
    "1. Instead of simulating something 10,000 times, run your loop for only however many pixels are in the first row (is that `width` or `height`)?\n",
    "\n",
    "2. Instead of using `for i in ...`, since we're changing the value of `x`, use `for x in ...` to be more descriptive.\n",
    "\n",
    "3. Instead of simulating a random number, the three real world variables should be:\n",
    "    * the **red pixel value as `r`**,\n",
    "    * the **green pixel value as `g`**,\n",
    "    * the **blue pixel value `b`**,\n",
    "    * the **`x` value**, and\n",
    "    * the **`y` value** (always `0` for now, but we will update it later)  \n",
    "(You will probably have six lines of code in the top of your simulation; one to get the pixel followed by five to get `r`, `g`, `b`, `x`, and `y`).\n",
    "\n",
    "Write your modified simulation code that will store **all of the pixels in the first row** of the image in `image`.\n",
    "- Each row must have a value for `r`, `g`, `b`, `x`, and `y`.\n",
    "- Store your DataFrame in the variable `df`."
   ]
  },
  {
   "cell_type": "code",
   "execution_count": 176,
   "metadata": {},
   "outputs": [],
   "source": [
    "import pandas as pd\n",
    "data = []\n",
    "for x in range (width):\n",
    "    x = x\n",
    "    y = 0\n",
    "    r = image[x][y][0]\n",
    "    g = image[x][y][1]\n",
    "    b = image[x][y][2]\n",
    "    d = {\"r\":r, \"g\":g, \"b\":b, \"x\":x, \"y\":y}\n",
    "    data.append(d)\n",
    "df = pd.DataFrame(data)\n"
   ]
  },
  {
   "cell_type": "code",
   "execution_count": 177,
   "metadata": {},
   "outputs": [
    {
     "data": {
      "text/html": [
       "<div>\n",
       "<style scoped>\n",
       "    .dataframe tbody tr th:only-of-type {\n",
       "        vertical-align: middle;\n",
       "    }\n",
       "\n",
       "    .dataframe tbody tr th {\n",
       "        vertical-align: top;\n",
       "    }\n",
       "\n",
       "    .dataframe thead th {\n",
       "        text-align: right;\n",
       "    }\n",
       "</style>\n",
       "<table border=\"1\" class=\"dataframe\">\n",
       "  <thead>\n",
       "    <tr style=\"text-align: right;\">\n",
       "      <th></th>\n",
       "      <th>r</th>\n",
       "      <th>g</th>\n",
       "      <th>b</th>\n",
       "      <th>x</th>\n",
       "      <th>y</th>\n",
       "    </tr>\n",
       "  </thead>\n",
       "  <tbody>\n",
       "    <tr>\n",
       "      <th>0</th>\n",
       "      <td>0</td>\n",
       "      <td>0</td>\n",
       "      <td>255</td>\n",
       "      <td>0</td>\n",
       "      <td>0</td>\n",
       "    </tr>\n",
       "    <tr>\n",
       "      <th>1</th>\n",
       "      <td>255</td>\n",
       "      <td>255</td>\n",
       "      <td>255</td>\n",
       "      <td>1</td>\n",
       "      <td>0</td>\n",
       "    </tr>\n",
       "    <tr>\n",
       "      <th>2</th>\n",
       "      <td>255</td>\n",
       "      <td>0</td>\n",
       "      <td>0</td>\n",
       "      <td>2</td>\n",
       "      <td>0</td>\n",
       "    </tr>\n",
       "  </tbody>\n",
       "</table>\n",
       "</div>"
      ],
      "text/plain": [
       "     r    g    b  x  y\n",
       "0    0    0  255  0  0\n",
       "1  255  255  255  1  0\n",
       "2  255    0    0  2  0"
      ]
     },
     "execution_count": 177,
     "metadata": {},
     "output_type": "execute_result"
    }
   ],
   "source": [
    "df"
   ]
  },
  {
   "cell_type": "code",
   "execution_count": 178,
   "metadata": {},
   "outputs": [
    {
     "name": "stdout",
     "output_type": "stream",
     "text": [
      "✅ `df` contains the correct number of observations.\n",
      "✅ `df` contains the expected data!\n",
      "🎉 All tests passed! 🎉\n"
     ]
    }
   ],
   "source": [
    "# == TEST CASE for Section 2.4 ==\n",
    "# - Checks to ensure the DataFrame contains the correct variables and pixel data\n",
    "DISCOVERY.run_test_case_2d(df)"
   ]
  },
  {
   "cell_type": "markdown",
   "metadata": {},
   "source": [
    "## Section 2.5: Converting Pixel Data to a DataFrame - All Rows\n",
    "\n",
    "Awesome -- you've done it for one row, now just do it for all rows!\n",
    "\n",
    "- Your existing code completely works for the first row!\n",
    "- Now, you need to go through every row one-by-one.  You can add a second `for`-loop **inside** of your first `for`-loop for each row. This will visit all of the rows for `x=0`, then all of the rows for `x=1`, and so on...\n",
    "\n",
    "\n",
    "### HINT: Double For-Loop\n",
    "\n",
    "You should have two for-loops right next to each other -- one `x` loop and one `y` loop -- and **ALL** of the functionality for the loop should be inside BOTH of them.  (No code needs to be indented into just one for-loop, every line of code in your for-loop should be double-indented to be inside of the rows **and** columns loops.)\n",
    "\n",
    "\n",
    "### Nerd Out!\n",
    "\n",
    "Write your modified simulation code that will store **all of the pixels** of the image in `image`.\n",
    "- Each row must have a value for `r`, `g`, `b`, `x`, and `y`.\n",
    "- Store your DataFrame in the variable `df`.\n",
    "- (This code will be very similar to Section 2.4 code.)"
   ]
  },
  {
   "cell_type": "code",
   "execution_count": null,
   "metadata": {},
   "outputs": [],
   "source": [
    "data = []\n",
    "for x in range (0, width):\n",
    "    for y in range (0, height):\n",
    "        pixel = image[x][y]\n",
    "        r = pixel[0]\n",
    "        g = pixel[1]\n",
    "        b = pixel[2]\n",
    "        x = x\n",
    "        y = y\n",
    "        d = {\"r\":r, \"g\":g, \"b\":b, \"x\":x, \"y\":y}\n",
    "        data.append(d)\n",
    "df = pd.DataFrame(data)"
   ]
  },
  {
   "cell_type": "code",
   "execution_count": null,
   "metadata": {},
   "outputs": [
    {
     "data": {
      "text/html": [
       "<div>\n",
       "<style scoped>\n",
       "    .dataframe tbody tr th:only-of-type {\n",
       "        vertical-align: middle;\n",
       "    }\n",
       "\n",
       "    .dataframe tbody tr th {\n",
       "        vertical-align: top;\n",
       "    }\n",
       "\n",
       "    .dataframe thead th {\n",
       "        text-align: right;\n",
       "    }\n",
       "</style>\n",
       "<table border=\"1\" class=\"dataframe\">\n",
       "  <thead>\n",
       "    <tr style=\"text-align: right;\">\n",
       "      <th></th>\n",
       "      <th>r</th>\n",
       "      <th>g</th>\n",
       "      <th>b</th>\n",
       "      <th>x</th>\n",
       "      <th>y</th>\n",
       "    </tr>\n",
       "  </thead>\n",
       "  <tbody>\n",
       "    <tr>\n",
       "      <th>0</th>\n",
       "      <td>0</td>\n",
       "      <td>0</td>\n",
       "      <td>255</td>\n",
       "      <td>0</td>\n",
       "      <td>0</td>\n",
       "    </tr>\n",
       "    <tr>\n",
       "      <th>1</th>\n",
       "      <td>0</td>\n",
       "      <td>255</td>\n",
       "      <td>0</td>\n",
       "      <td>0</td>\n",
       "      <td>1</td>\n",
       "    </tr>\n",
       "    <tr>\n",
       "      <th>2</th>\n",
       "      <td>255</td>\n",
       "      <td>255</td>\n",
       "      <td>255</td>\n",
       "      <td>0</td>\n",
       "      <td>2</td>\n",
       "    </tr>\n",
       "    <tr>\n",
       "      <th>3</th>\n",
       "      <td>255</td>\n",
       "      <td>255</td>\n",
       "      <td>255</td>\n",
       "      <td>1</td>\n",
       "      <td>0</td>\n",
       "    </tr>\n",
       "    <tr>\n",
       "      <th>4</th>\n",
       "      <td>0</td>\n",
       "      <td>0</td>\n",
       "      <td>0</td>\n",
       "      <td>1</td>\n",
       "      <td>1</td>\n",
       "    </tr>\n",
       "    <tr>\n",
       "      <th>5</th>\n",
       "      <td>255</td>\n",
       "      <td>85</td>\n",
       "      <td>46</td>\n",
       "      <td>1</td>\n",
       "      <td>2</td>\n",
       "    </tr>\n",
       "    <tr>\n",
       "      <th>6</th>\n",
       "      <td>255</td>\n",
       "      <td>0</td>\n",
       "      <td>0</td>\n",
       "      <td>2</td>\n",
       "      <td>0</td>\n",
       "    </tr>\n",
       "    <tr>\n",
       "      <th>7</th>\n",
       "      <td>255</td>\n",
       "      <td>255</td>\n",
       "      <td>255</td>\n",
       "      <td>2</td>\n",
       "      <td>1</td>\n",
       "    </tr>\n",
       "    <tr>\n",
       "      <th>8</th>\n",
       "      <td>19</td>\n",
       "      <td>41</td>\n",
       "      <td>75</td>\n",
       "      <td>2</td>\n",
       "      <td>2</td>\n",
       "    </tr>\n",
       "  </tbody>\n",
       "</table>\n",
       "</div>"
      ],
      "text/plain": [
       "     r    g    b  x  y\n",
       "0    0    0  255  0  0\n",
       "1    0  255    0  0  1\n",
       "2  255  255  255  0  2\n",
       "3  255  255  255  1  0\n",
       "4    0    0    0  1  1\n",
       "5  255   85   46  1  2\n",
       "6  255    0    0  2  0\n",
       "7  255  255  255  2  1\n",
       "8   19   41   75  2  2"
      ]
     },
     "execution_count": 88,
     "metadata": {},
     "output_type": "execute_result"
    }
   ],
   "source": [
    "df"
   ]
  },
  {
   "cell_type": "code",
   "execution_count": null,
   "metadata": {},
   "outputs": [
    {
     "name": "stdout",
     "output_type": "stream",
     "text": [
      "✅ `df` contains the correct number of observations.\n",
      "✅ `df` contains the expected data!\n",
      "🎉 All tests passed! 🎉\n"
     ]
    }
   ],
   "source": [
    "# == TEST CASE for Section 2.5 ==\n",
    "# - Checks to ensure the DataFrame contains the correct variables and pixel data\n",
    "DISCOVERY.run_test_case_2e(df)"
   ]
  },
  {
   "cell_type": "markdown",
   "metadata": {},
   "source": [
    "<hr>"
   ]
  },
  {
   "cell_type": "markdown",
   "metadata": {},
   "source": [
    "# Section 3: Creating an ImageToDataFrame Function\n",
    "\n",
    "Now, put everything you've done together into a **function**.\n",
    "\n",
    "- The `loadImageToDataFrame` function takes the name of a file as `fileName`.\n",
    "- You must return a DataFrame that contains the image data.\n",
    "\n",
    "*(You've already done this in the previous sections, you just need to put it inside of a function and return the DataFrame.)*"
   ]
  },
  {
   "cell_type": "code",
   "execution_count": null,
   "metadata": {},
   "outputs": [],
   "source": [
    "def loadImageToDataFrame(fileName):\n",
    "  image = DISCOVERY.loadImage(fileName)\n",
    "  data = []\n",
    "  width = len(image)\n",
    "  height = len(image[0])\n",
    "  for x in range (0, width):\n",
    "    for y in range (0, height):\n",
    "      pixel = image[x][y]\n",
    "      r = pixel[0]\n",
    "      g = pixel[1]\n",
    "      b = pixel[2]\n",
    "      d = {\"r\":r, \"g\":g, \"b\":b, \"x\":x, \"y\":y}\n",
    "      data.append(d)\n",
    "  df = pd.DataFrame(data)\n",
    "  return df"
   ]
  },
  {
   "cell_type": "code",
   "execution_count": null,
   "metadata": {},
   "outputs": [
    {
     "name": "stdout",
     "output_type": "stream",
     "text": [
      "✅ `df` looks good with \"sample.png\"!\n",
      "✅ `df` looks good with \"sample-50x.png\"!\n",
      "🎉 All tests passed! 🎉\n"
     ]
    }
   ],
   "source": [
    "# == TEST CASE for Section 3 ==\n",
    "# - Checks to ensure the DataFrame contains the correct variables and pixel data\n",
    "DISCOVERY.run_test_case_3(loadImageToDataFrame)"
   ]
  },
  {
   "cell_type": "markdown",
   "metadata": {},
   "source": [
    "<hr>"
   ]
  },
  {
   "cell_type": "markdown",
   "metadata": {},
   "source": [
    "# Section 4: Find the Average Color of an Image\n",
    "\n",
    "Given an image (see Section 1 and 2) to remind yourself of the format, find the **overall average color of the image** by finding the average red color, average green color, and average blue color.\n",
    "\n",
    "Write this in the function `findAverageColor` below.  Since this is an image and not a DataFrame, you will need to sum up all the red values, green values, and blue values.  You must return the **average color as a dictionary** with the values:\n",
    "- `avg_r`, for the average red color,\n",
    "- `avg_g`, for the average green color,\n",
    "- `avg_b`, for the average blue color"
   ]
  },
  {
   "cell_type": "code",
   "execution_count": null,
   "metadata": {},
   "outputs": [],
   "source": [
    "def findAverageImageColor(image):\n",
    "  count = 0\n",
    "  r_sum = 0\n",
    "  b_sum = 0\n",
    "  g_sum = 0 \n",
    "  for x in range (len(image)):\n",
    "    for y in range (len(image[0])):\n",
    "      pixel = image[x][y]\n",
    "      r_sum += pixel[0]\n",
    "      b_sum += pixel[2]\n",
    "      g_sum += pixel[1]\n",
    "      count = len(image) * len(image[0])\n",
    "  return {\"avg_r\": r_sum / count, \"avg_b\": b_sum / count, \"avg_g\": g_sum / count }"
   ]
  },
  {
   "cell_type": "code",
   "execution_count": null,
   "metadata": {},
   "outputs": [
    {
     "name": "stdout",
     "output_type": "stream",
     "text": [
      "✅ Dictionary contain the key `avg_r`.\n",
      "✅ Dictionary contain the key `avg_g`.\n",
      "✅ Dictionary contain the key `avg_b`.\n",
      "✅ Looks good!\n",
      "🎉 All tests passed! 🎉\n"
     ]
    }
   ],
   "source": [
    "# == TEST CASE for Section 4 ==\n",
    "# - Checks to ensure the DataFrame contains the correct variables and pixel data\n",
    "DISCOVERY.run_test_case_4(findAverageImageColor)"
   ]
  },
  {
   "cell_type": "markdown",
   "metadata": {},
   "source": [
    "<hr>"
   ]
  },
  {
   "cell_type": "markdown",
   "metadata": {},
   "source": [
    "# Section 5: Finding the Average Color of Your Tile Images\n",
    "\n",
    "Before beginning the programming, you should have set up a directory called `tiles` that contains all of your tile images.  If you haven't done that, you need to do that now.\n",
    "\n",
    "To create an image mosaic, we need to find the average pixel color of every one of our tile images so that we can know the best tile image to use when we begin to mosaic our image.  The code below is already complete and does the following:\n",
    "\n",
    "- Goes through each image file in your `tiles` directory,\n",
    "- Finds the average pixel color of each image using your `loadImageToDataFrame` function from Section 3 and your `findAverageColor` function from Section 4,\n",
    "- Finally, creates a new DataFrame `df_tiles` with the average color of each image and returns that DataFrame.\n",
    "\n",
    "*Make sure to run this code -- we'll need it later!*"
   ]
  },
  {
   "cell_type": "code",
   "execution_count": null,
   "metadata": {},
   "outputs": [],
   "source": [
    "def createTilesDataFrame(path):\n",
    "  data = []\n",
    "\n",
    "  # Loop through all images in the `path` directory:\n",
    "  for tileImageFileName in DISCOVERY.listTileImagesInPath(path):\n",
    "    # Load the image as a DataFrame and find the average color:\n",
    "    image = DISCOVERY.loadImage(tileImageFileName)\n",
    "    averageColor = findAverageImageColor(image)\n",
    "\n",
    "    # Store the fileName and average colors in a dictionary:\n",
    "    d = { \"fileName\": tileImageFileName, \"r\": averageColor[\"avg_r\"], \"g\": averageColor[\"avg_g\"], \"b\": averageColor[\"avg_b\"] }\n",
    "    data.append(d)\n",
    "\n",
    "  # Create the `df_tiles` DataFrame:\n",
    "  df_tiles = pd.DataFrame(data)\n",
    "  return df_tiles\n"
   ]
  },
  {
   "cell_type": "markdown",
   "metadata": {},
   "source": [
    "<hr>"
   ]
  },
  {
   "cell_type": "markdown",
   "metadata": {},
   "source": [
    "# Section 6: Splitting Up Your Base Image\n",
    "\n",
    "To mosaic an image, we must split the base image into small regions to be replaced with the tile images.  To accomplish this, we need a function that will **find the average color of a small region of an image**.\n",
    "\n",
    "- In our `sample.png` (from Section 1), we might need the color of just a 2x2 square from the 3x3 image.\n",
    "- In `findAverageImageColor` you already found the average color of the full image.\n",
    "- Now you just need to find the average image color of the subset of the image!\n",
    "\n",
    "\n",
    "Create a function `findAverageImageColorInBox` that finds the average image color of a box region of the image starting at (`x`, `y`) and spanning `width` pixels wide and `height` pixels tall and return the average image color of that box.\n",
    "\n",
    "- Example: `findAverageImageColorInBox(image, box_x=0, box_y=0, box_width=3, box_height=3)` must return the average colors of the pixels that have (`x=0` to `x=2`) and (`y=0` or `y=2`) since we start at `box_x=0`/`box_y=0` and need three pixels.\n",
    "\n",
    "- Example: `findAverageImageColorInBox(image, box_x=5, box_y=5, box_width=5, box_height=5)` must return the average colors of the pixels that have (`x=5` to `x=9`) and (`y=5` to `y=9`) since we start at `box_x=5`/`box_y=5` and need five pixels.\n",
    "\n",
    "- Example: `findAverageImageColorInBox(image, box_x=5, box_y=0, box_width=5, box_height=5)` must return the average colors of the pixels that have (`x=5` to `x=9`) and (`y=0` to `y=4`) since we start at `box_x=5` but `box_y=0`.\n",
    "\n",
    "***HINT**: This can be a small modification on `findAverageImageColor` and there's a lot of ways to approach it!  Just like `findAverageImageColor`, you must return the **average color as a dictionary** with the values:\n",
    "- `avg_r`, for the average red color,\n",
    "- `avg_g`, for the average green color,\n",
    "- `avg_b`, for the average blue color"
   ]
  },
  {
   "cell_type": "code",
   "execution_count": null,
   "metadata": {},
   "outputs": [],
   "source": [
    "def findAverageImageColorInBox(image, box_x, box_y, box_width, box_height):\n",
    "  count = box_width * box_height\n",
    "  r_sum = 0\n",
    "  g_sum = 0\n",
    "  b_sum = 0\n",
    "  for x in range (box_x, box_x + box_width):\n",
    "    for y in range (box_y, box_y + box_height):\n",
    "      r_sum += image[x][y][0]\n",
    "      g_sum += image[x][y][1]\n",
    "      b_sum += image[x][y][2]\n",
    "  return { \"avg_r\": r_sum / count, \"avg_g\": g_sum / count, \"avg_b\": b_sum / count}\n"
   ]
  },
  {
   "cell_type": "code",
   "execution_count": null,
   "metadata": {},
   "outputs": [
    {
     "name": "stdout",
     "output_type": "stream",
     "text": [
      "✅ Test case with box_x = 0, box_y = 0, box_width = 2, box_height = 2 found returned the correct average color.\n",
      "✅ Test case with box_x = 2, box_y = 0, box_width = 2, box_height = 2 found returned the correct average color.\n",
      "✅ Test case with box_x = 2, box_y = 2, box_width = 2, box_height = 2 found returned the correct average color.\n",
      "✅ Test case with box_x = 5, box_y = 1, box_width = 2, box_height = 2 found returned the correct average color.\n",
      "✅ Test case with box_x = 5, box_y = 1, box_width = 4, box_height = 2 found returned the correct average color.\n",
      "✅ Test case with box_x = 5, box_y = 1, box_width = 4, box_height = 3 found returned the correct average color.\n",
      "🎉 All tests passed! 🎉\n"
     ]
    }
   ],
   "source": [
    "# == TEST CASE for Section 6 ==\n",
    "# - Checks to ensure the DataFrame contains the correct variables and pixel data\n",
    "DISCOVERY.run_test_case_6(findAverageImageColorInBox)"
   ]
  },
  {
   "cell_type": "markdown",
   "metadata": {},
   "source": [
    "<hr>"
   ]
  },
  {
   "cell_type": "markdown",
   "metadata": {},
   "source": [
    "# Section 7: Finding the Best Match\n",
    "\n",
    "There's just **one last function**:\n",
    "- You have a DataFrame of all your tile images averages (`df_tiles`),\n",
    "- You can find a subset of a region of your image with your `findImageDataFrameSubset` function, **AND**\n",
    "- You can find `avg_r`, `avg_g`, and `avg_b` for every region of your image with your `findAverageColor` function.\n",
    "\n",
    "Your final function, `findBestTile`, needs to **find the best tile image from `df_tiles` for a given average color**.  You should do this by finding the row in `df_tiles` that has the smallest distance from the average color.\n",
    "\n",
    "## Example \n",
    "\n",
    "Consider three simple tile images:\n",
    "\n",
    "1. A red tile image with a color of (255, 0, 0)\n",
    "2. A green tile image with a color of (0, 255, 0)\n",
    "3. A blue tile image with a color of (0, 0, 255)\n",
    "\n",
    "If your image region has `avg_r` = 10, `avg_g` = 200, and `avg_b` = 20, the distance formula tells us:\n",
    "\n",
    "1. For the red tile (255, 0, 0), the distance away is $d = \\sqrt{(255 - 10)^2 + (0 - 200)^2  + (0 - 20)^2} = 316.8990375$\n",
    "2. For the green tile (0, 255, 0), the distance away is $d = \\sqrt{(0 - 10)^2 + (255 - 200)^2  + (0 - 20)^2} = 59.37171044$\n",
    "3. For the blue tile (0, 0, 255), the distance away is $d = \\sqrt{(0 - 10)^2 + (0 - 200)^2  + (255 - 20)^2} = 308.7474696$\n",
    "\n",
    "We find that the green tile is the closest since it has the minimum distance.  The green tile should be returned.\n",
    "\n",
    "\n",
    "## Hints\n",
    "\n",
    "- If you need to remember the format of `df_tiles`, you can find that in Section 5.\n",
    "- You should add an extra value `df[\"dist\"] = ...` to your DataFrame.\n",
    "- Once you have the distance calculated, how do you return just the smallest row?"
   ]
  },
  {
   "cell_type": "code",
   "execution_count": null,
   "metadata": {},
   "outputs": [],
   "source": [
    "# Returns a single row for the title that is the best match given an r_avg, g_avg, and b_avg\n",
    "def findBestTile(df_tiles, r_avg, g_avg, b_avg):\n",
    "  df_tiles[\"dist\"] = (((df_tiles[\"r\"] - r_avg)**2) + ((df_tiles[\"g\"] - g_avg)**2) + ((df_tiles[\"b\"] - b_avg)**2)**1/2)\n",
    "  min_distance = df_tiles.nsmallest(1, \"dist\")\n",
    "\n",
    "  return min_distance"
   ]
  },
  {
   "cell_type": "code",
   "execution_count": null,
   "metadata": {},
   "outputs": [
    {
     "name": "stdout",
     "output_type": "stream",
     "text": [
      "✅ Test case #1 (r=0, g=0, b=0) passed!\n",
      "✅ Test case #1 (r=47, g=49, b=38) passed!\n",
      "✅ Test case #1 (r=54, g=49, b=38) passed!\n",
      "✅ Test case #1 (r=54, g=49, b=52) passed!\n",
      "✅ Test case #1 (r=-100, g=-100, b=-100) passed!\n",
      "🎉 All tests passed! 🎉\n"
     ]
    }
   ],
   "source": [
    "import DISCOVERY\n",
    "# == TEST CASE for Section 7 ==\n",
    "# - Checks to ensure the DataFrame contains the correct variables and pixel data\n",
    "DISCOVERY.run_test_case_7(findBestTile)"
   ]
  },
  {
   "cell_type": "markdown",
   "metadata": {},
   "source": [
    "<hr>"
   ]
  },
  {
   "cell_type": "markdown",
   "metadata": {},
   "source": [
    "# Section 8: Your Mosaic!\n",
    "\n",
    "Time to put everything together!\n",
    "\n",
    "First, let's define some variables that you can configure to make your mosaic uniquely yours:"
   ]
  },
  {
   "cell_type": "code",
   "execution_count": null,
   "metadata": {},
   "outputs": [],
   "source": [
    "# What is your base image file name?\n",
    "baseImageFileName = \"base.jpg\"\n",
    "\n",
    "# What folder contains your tile images?\n",
    "# - You can change this so you can have multiple different folders of tile images.\n",
    "tileImageFolder = \"tiles\"\n",
    "\n",
    "# What is the maximum number of tiles should your mosaic use across?\n",
    "# - More tiles across will increase the quality of the final image.\n",
    "# - More tiles across will cause your program to run slower.\n",
    "# ...if you have bugs, start this value slow (it won't look great, but it will make it run fast!)\n",
    "# ...a value around 200 usually looks quite good, but play around with this number!\n",
    "maximumTilesX = 700\n",
    "\n",
    "# What height should your tiles be in your mosaic?\n",
    "# - A larger tile image will result in a larger output file.\n",
    "# - A larger tile image will result in your program running slower.\n",
    "# - A larger tile image will result in more detail in the output file.\n",
    "tileHeight = 32"
   ]
  },
  {
   "cell_type": "markdown",
   "metadata": {},
   "source": [
    "## Now create your mosaic!\n",
    "\n",
    "Run the code to create your mosaic.\n",
    "\n",
    "- This **WILL** take a bit of time (even more on slower/older laptops).\n",
    "- This will run fastest if your laptop is plugged in (when it's unplugged, your laptop will try and save power and may not run at full speed)."
   ]
  },
  {
   "cell_type": "code",
   "execution_count": null,
   "metadata": {},
   "outputs": [
    {
     "name": "stdout",
     "output_type": "stream",
     "text": [
      "Creating `df_tiles` from tile images in folder `tiles`...\n",
      "...found 1805 tile images!\n"
     ]
    },
    {
     "data": {
      "text/html": [
       "<div>\n",
       "<style scoped>\n",
       "    .dataframe tbody tr th:only-of-type {\n",
       "        vertical-align: middle;\n",
       "    }\n",
       "\n",
       "    .dataframe tbody tr th {\n",
       "        vertical-align: top;\n",
       "    }\n",
       "\n",
       "    .dataframe thead th {\n",
       "        text-align: right;\n",
       "    }\n",
       "</style>\n",
       "<table border=\"1\" class=\"dataframe\">\n",
       "  <thead>\n",
       "    <tr style=\"text-align: right;\">\n",
       "      <th></th>\n",
       "      <th>fileName</th>\n",
       "      <th>r</th>\n",
       "      <th>g</th>\n",
       "      <th>b</th>\n",
       "    </tr>\n",
       "  </thead>\n",
       "  <tbody>\n",
       "    <tr>\n",
       "      <th>0</th>\n",
       "      <td>tiles/10009374_1035844769820800_1616234408_n.png</td>\n",
       "      <td>121.041250</td>\n",
       "      <td>136.222344</td>\n",
       "      <td>139.622344</td>\n",
       "    </tr>\n",
       "    <tr>\n",
       "      <th>1</th>\n",
       "      <td>tiles/10349723_1514716235503681_1430105255_n.png</td>\n",
       "      <td>196.766234</td>\n",
       "      <td>203.713611</td>\n",
       "      <td>209.111823</td>\n",
       "    </tr>\n",
       "    <tr>\n",
       "      <th>2</th>\n",
       "      <td>tiles/10454218_890581817629033_1336316294_n.png</td>\n",
       "      <td>129.087813</td>\n",
       "      <td>102.122344</td>\n",
       "      <td>99.024375</td>\n",
       "    </tr>\n",
       "    <tr>\n",
       "      <th>3</th>\n",
       "      <td>tiles/10553974_1427040460927415_768194062_n.png</td>\n",
       "      <td>173.727812</td>\n",
       "      <td>162.035000</td>\n",
       "      <td>159.472813</td>\n",
       "    </tr>\n",
       "    <tr>\n",
       "      <th>4</th>\n",
       "      <td>tiles/10569992_836719873077634_1324728268_n.png</td>\n",
       "      <td>95.450312</td>\n",
       "      <td>74.631094</td>\n",
       "      <td>77.099844</td>\n",
       "    </tr>\n",
       "    <tr>\n",
       "      <th>...</th>\n",
       "      <td>...</td>\n",
       "      <td>...</td>\n",
       "      <td>...</td>\n",
       "      <td>...</td>\n",
       "    </tr>\n",
       "    <tr>\n",
       "      <th>1800</th>\n",
       "      <td>tiles/929215_352643904900366_812094193_n-9-995...</td>\n",
       "      <td>125.584594</td>\n",
       "      <td>124.698015</td>\n",
       "      <td>117.237240</td>\n",
       "    </tr>\n",
       "    <tr>\n",
       "      <th>1801</th>\n",
       "      <td>tiles/929215_352643904900366_812094193_n-9-996...</td>\n",
       "      <td>135.564404</td>\n",
       "      <td>125.313885</td>\n",
       "      <td>118.863920</td>\n",
       "    </tr>\n",
       "    <tr>\n",
       "      <th>1802</th>\n",
       "      <td>tiles/929215_352643904900366_812094193_n-9-997...</td>\n",
       "      <td>140.856821</td>\n",
       "      <td>104.608380</td>\n",
       "      <td>101.328428</td>\n",
       "    </tr>\n",
       "    <tr>\n",
       "      <th>1803</th>\n",
       "      <td>tiles/929215_352643904900366_812094193_n-9-998...</td>\n",
       "      <td>98.680156</td>\n",
       "      <td>67.394688</td>\n",
       "      <td>52.479062</td>\n",
       "    </tr>\n",
       "    <tr>\n",
       "      <th>1804</th>\n",
       "      <td>tiles/929215_352643904900366_812094193_n-9-999...</td>\n",
       "      <td>160.243281</td>\n",
       "      <td>137.399063</td>\n",
       "      <td>103.378906</td>\n",
       "    </tr>\n",
       "  </tbody>\n",
       "</table>\n",
       "<p>1805 rows × 4 columns</p>\n",
       "</div>"
      ],
      "text/plain": [
       "                                               fileName           r  \\\n",
       "0      tiles/10009374_1035844769820800_1616234408_n.png  121.041250   \n",
       "1      tiles/10349723_1514716235503681_1430105255_n.png  196.766234   \n",
       "2       tiles/10454218_890581817629033_1336316294_n.png  129.087813   \n",
       "3       tiles/10553974_1427040460927415_768194062_n.png  173.727812   \n",
       "4       tiles/10569992_836719873077634_1324728268_n.png   95.450312   \n",
       "...                                                 ...         ...   \n",
       "1800  tiles/929215_352643904900366_812094193_n-9-995...  125.584594   \n",
       "1801  tiles/929215_352643904900366_812094193_n-9-996...  135.564404   \n",
       "1802  tiles/929215_352643904900366_812094193_n-9-997...  140.856821   \n",
       "1803  tiles/929215_352643904900366_812094193_n-9-998...   98.680156   \n",
       "1804  tiles/929215_352643904900366_812094193_n-9-999...  160.243281   \n",
       "\n",
       "               g           b  \n",
       "0     136.222344  139.622344  \n",
       "1     203.713611  209.111823  \n",
       "2     102.122344   99.024375  \n",
       "3     162.035000  159.472813  \n",
       "4      74.631094   77.099844  \n",
       "...          ...         ...  \n",
       "1800  124.698015  117.237240  \n",
       "1801  125.313885  118.863920  \n",
       "1802  104.608380  101.328428  \n",
       "1803   67.394688   52.479062  \n",
       "1804  137.399063  103.378906  \n",
       "\n",
       "[1805 rows x 4 columns]"
      ]
     },
     "execution_count": 135,
     "metadata": {},
     "output_type": "execute_result"
    }
   ],
   "source": [
    "print(f\"Creating `df_tiles` from tile images in folder `{tileImageFolder}`...\")\n",
    "df_tiles = createTilesDataFrame(tileImageFolder)\n",
    "print(f\"...found {len(df_tiles)} tile images!\")\n",
    "df_tiles"
   ]
  },
  {
   "cell_type": "code",
   "execution_count": null,
   "metadata": {},
   "outputs": [
    {
     "name": "stdout",
     "output_type": "stream",
     "text": [
      "Loading your base image `base.jpg`...\n",
      "Finding best replacement image for each tile...\n",
      "  ...progress: 338688 / 338688 (100.00%)\n",
      "\n",
      "🎉 MOSAIC COMPLETE! 🎉\n",
      "- See `mosaic-hq.jpg` to see your HQ moasic! (The file may be HUGE.)\n",
      "- See `mosaic-web.jpg` to see a moasic best suited for the web (still big, but not HUGE)!\n"
     ]
    }
   ],
   "source": [
    "print(f\"Loading your base image `{baseImageFileName}`...\")\n",
    "baseImage = DISCOVERY.loadImage(baseImageFileName)\n",
    "width = len(baseImage)\n",
    "height = len(baseImage[0])\n",
    "\n",
    "\n",
    "print(f\"Finding best replacement image for each tile...\")\n",
    "# Find the pixelsPerTile to know the pixels used in the base image per mosaic tile:\n",
    "import math\n",
    "\n",
    "pixelsPerTile = int(math.ceil(width / maximumTilesX))\n",
    "width = int(math.floor(width / pixelsPerTile) * pixelsPerTile)\n",
    "height = int(math.floor(height / pixelsPerTile) * pixelsPerTile)\n",
    "tilesX = int(width / pixelsPerTile)\n",
    "tilesY = int(height / pixelsPerTile)\n",
    "\n",
    "# Create the mosaic:\n",
    "from PIL import Image\n",
    "import sys\n",
    "mosaic = Image.new('RGB', (int(tilesX * tileHeight), int(tilesY * tileHeight)))\n",
    "for x in range(0, width, pixelsPerTile):\n",
    "  for y in range(0, height, pixelsPerTile):\n",
    "    avg_color = findAverageImageColorInBox(baseImage, x, y, pixelsPerTile, pixelsPerTile)\n",
    "    replacement = findBestTile(df_tiles, avg_color[\"avg_r\"], avg_color[\"avg_g\"], avg_color[\"avg_b\"])\n",
    "\n",
    "    tile = DISCOVERY.getTileImage(replacement[\"fileName\"].values[0], tileHeight)\n",
    "    mosaic.paste(tile, (int(x / pixelsPerTile) * tileHeight, int(y / pixelsPerTile) * tileHeight))\n",
    "\n",
    "  # Print out a progress message:\n",
    "  curRow = int((x / pixelsPerTile) + 1)\n",
    "  pct = (curRow / tilesX) * 100\n",
    "  sys.stdout.write(f'\\r  ...progress: {curRow * tilesY} / {tilesX * tilesY} ({pct:.2f}%)')\n",
    "\n",
    "# Save it\n",
    "mosaic.save('mosaic-hd.jpg')\n",
    "\n",
    "# Save a smaller one (for posting):\n",
    "import PIL\n",
    "d = max(width, height)\n",
    "factor = d / 4000\n",
    "if factor <= 1: factor = 1\n",
    "\n",
    "small_w = width / factor\n",
    "small_h = height / factor    \n",
    "baseImage = mosaic.resize( (int(small_w), int(small_h)), resample=PIL.Image.LANCZOS )\n",
    "baseImage.save('mosaic-web.jpg')\n",
    "\n",
    "# Print a message:\n",
    "tada = \"\\N{PARTY POPPER}\"\n",
    "print(\"\")\n",
    "print(\"\")\n",
    "print(f\"{tada} MOSAIC COMPLETE! {tada}\")\n",
    "print(\"- See `mosaic-hq.jpg` to see your HQ moasic! (The file may be HUGE.)\")\n",
    "print(\"- See `mosaic-web.jpg` to see a moasic best suited for the web (still big, but not HUGE)!\")"
   ]
  },
  {
   "cell_type": "markdown",
   "metadata": {},
   "source": [
    "<hr>"
   ]
  },
  {
   "cell_type": "markdown",
   "metadata": {},
   "source": [
    "# Section 9: Extra Credit\n",
    "\n",
    "So your mosaic is fantastic -- but I think you can make it can be **even MORE fantastic**!  If you have ideas of how to improve your mosaic, use the following cells to re-program a function or otherwise change your logic and then re-create your mosaic.\n",
    "\n",
    "If you're not sure and want some inspiration, visit **#project-extra-credit** on the DISCOVERY Discord.  We'll work together on ideas and look at the **pinned messages** on the channel for suggestions that we find to be really good ways of improving the mosaic!  (We have a few in mind as we write this, but there's probably even more!  You should aim to have fun!)"
   ]
  },
  {
   "cell_type": "code",
   "execution_count": null,
   "metadata": {},
   "outputs": [],
   "source": [
    "# Use these cells to add your extra credit code.\n",
    "# ...and feel free to add more cells! :)"
   ]
  },
  {
   "cell_type": "markdown",
   "metadata": {},
   "source": [
    "<hr>\n"
   ]
  },
  {
   "cell_type": "markdown",
   "metadata": {},
   "source": [
    "# Section 10: Submission\n",
    "\n",
    "Make sure to turn in your project:\n",
    "\n",
    "```\n",
    "git add -A\n",
    "git commit -m \"project1\"\n",
    "git push\n",
    "```"
   ]
  },
  {
   "cell_type": "code",
   "execution_count": null,
   "metadata": {},
   "outputs": [],
   "source": []
  }
 ],
 "metadata": {
  "interpreter": {
   "hash": "bb71644d32eb36cf7f2cc7810c446f13bd72926edb88194d595fc87c14eb9124"
  },
  "kernelspec": {
   "display_name": "Python 3.9.6 64-bit",
   "name": "python3"
  },
  "language_info": {
   "codemirror_mode": {
    "name": "ipython",
    "version": 3
   },
   "file_extension": ".py",
   "mimetype": "text/x-python",
   "name": "python",
   "nbconvert_exporter": "python",
   "pygments_lexer": "ipython3",
   "version": "3.9.6"
  },
  "orig_nbformat": 4
 },
 "nbformat": 4,
 "nbformat_minor": 2
}
