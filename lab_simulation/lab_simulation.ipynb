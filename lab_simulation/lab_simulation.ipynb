{
 "cells": [
  {
   "cell_type": "markdown",
   "source": [
    "# lab_simulation: 1/14,000,605\n",
    "\n",
    "As you learned in the lecture, **simulation** is an extremely powerful tool to estimate probabilities by replicating the reality and determining the successful observations.\n",
    "\n",
    "In this lab, we will try some increasingly interesting simulations and explore the possibilities with this tool.\n",
    "\n",
    "(Wonder why the title is 1/14,000,605? See Avengers: Infinity War at [https://www.youtube.com/watch?v=eGKPfZTXHsc](https://www.youtube.com/watch?v=eGKPfZTXHsc))"
   ],
   "metadata": {}
  },
  {
   "cell_type": "markdown",
   "source": [
    "# Part 0 | Your Group!\r\n",
    "\r\n",
    "Edit the next Python cell to add information about who you're working within your lab section:"
   ],
   "metadata": {}
  },
  {
   "cell_type": "code",
   "execution_count": null,
   "source": [
    "# First, meet your CAs and TA if you haven't already!\n",
    "# ...first name is enough, we'll know who they are! :)\n",
    "ta_name = \"\"\n",
    "ca1_name = \"\"\n",
    "ca2_name = \"\"\n",
    "\n",
    "\n",
    "# Also, make sure to meet your team for this lab! Find out their name, what major they're in,\n",
    "# and learn something new about them that you never knew before!\n",
    "partner1_name = \"\"\n",
    "partner1_netid = \"\"\n",
    "partner1_major = \"\"\n",
    "\n",
    "partner2_name = \"\"\n",
    "partner2_netid = \"\"\n",
    "partner2_major = \"\"\n",
    "\n",
    "partner3_name = \"\"\n",
    "partner3_netid = \"\"\n",
    "partner3_major = \"\""
   ],
   "outputs": [],
   "metadata": {}
  },
  {
   "cell_type": "markdown",
   "source": [
    "## Example 0.1: Random seed (IMPORTANT: PLEASE READ AND RUN THIS EXAMPLE)\r\n",
    "\r\n",
    "A random seed is a number used to initialize a pseudorandom number generator. If we use the same seed, we will get the same random number sequence.\r\n",
    "\r\n",
    "In this lab, we will use the random seed to help you check the simulations' output. Please do not delete the line that set the seed to 107 in any puzzles."
   ],
   "metadata": {}
  },
  {
   "cell_type": "code",
   "execution_count": null,
   "source": [
    "import pandas as pd\n",
    "import random as rd\n",
    "rd.seed(107)\n",
    "print(rd.random())\n",
    "print(rd.random())\n",
    "print(rd.random())\n",
    "rd.seed(107)\n",
    "print(rd.random())\n",
    "print(rd.random())"
   ],
   "outputs": [],
   "metadata": {}
  },
  {
   "cell_type": "markdown",
   "source": [
    "## Example 0.2: Simulation of two dice (you can go to part 1 directly if you are confident)\r\n",
    "\r\n",
    "Suppose we roll two different **fair six-sided dice** at the same time.  One die is colored **blue** while the other is colored **red**.\r\n",
    "\r\n",
    "Simulate the above situation **1,000** times and store the observations of the value of the blue die and the red die in `df0`."
   ],
   "metadata": {}
  },
  {
   "cell_type": "code",
   "execution_count": null,
   "source": [
    "# Step 0: Set the random seed for replicability\n",
    "rd.seed(107)\n",
    "# Step 1: Start with an empty list to store the simulated data\n",
    "data = []\n",
    "# Step 2: Implement the simulation with a for-loop\n",
    "for i in range(1000):\n",
    "    blue = rd.randint(1, 6)\n",
    "    red = rd.randint(1, 6)\n",
    "    d = {\"blue\": blue, \"red\": red}\n",
    "    data.append(d)    \n",
    "# Step 3: Convert the list of simulated data to a dataframe\n",
    "df0 = pd.DataFrame(data)\n",
    "# Sanity check: Show a few random rows\n",
    "df0.sample(5)"
   ],
   "outputs": [],
   "metadata": {
    "nbgrader": {
     "grade": false,
     "grade_id": "cell-c93866d5164aa8aa",
     "locked": false,
     "schema_version": 3,
     "solution": true,
     "task": false
    }
   }
  },
  {
   "cell_type": "markdown",
   "source": [
    "## Example 0.3: Probability estimation of a two-dice event\r\n",
    "\r\n",
    "Using the above simulated data, we can estimate the probability that **the blue die lands on 4 or the red die lands on 2**."
   ],
   "metadata": {}
  },
  {
   "cell_type": "code",
   "execution_count": null,
   "source": [
    "# Numerator:    sum only counts the number of TRUEs.\n",
    "# Denominator:  len counts both TRUEs and FALSEs.\n",
    "#               You can try len((df0['blue'] == 4) | (df0['red'] == 2)).\n",
    "p03 = sum((df0['blue'] == 4) | (df0['red'] == 2))/len(df0)\n",
    "print(p03)\n",
    "# An alternative approach is to subset the success dataframe and find its length.\n",
    "df0_success = df0[(df0['blue'] == 4) | (df0['red'] == 2)]\n",
    "p03_alt = len(df0_success)/len(df0)\n",
    "print(p03_alt)"
   ],
   "outputs": [],
   "metadata": {
    "nbgrader": {
     "grade": false,
     "grade_id": "cell-5144eadebe059446",
     "locked": false,
     "schema_version": 3,
     "solution": true,
     "task": false
    }
   }
  },
  {
   "cell_type": "markdown",
   "source": [
    "## Example 0.4: Exact probability of a two-dice event\r\n",
    "\r\n",
    "We can also calculate the exact probability that **the blue die lands on 4 or the red die lands on 2**, which is not far from our estimate in Example 0.3."
   ],
   "metadata": {}
  },
  {
   "cell_type": "code",
   "execution_count": null,
   "source": [
    "p03_exact = 1/6 + 1/6 - 1/36\n",
    "p03_exact"
   ],
   "outputs": [],
   "metadata": {
    "nbgrader": {
     "grade": false,
     "grade_id": "cell-a28ce929e8600774",
     "locked": false,
     "schema_version": 3,
     "solution": true,
     "task": false
    }
   }
  },
  {
   "cell_type": "markdown",
   "source": [
    "# Part 1 | Rolling Three Dice\r\n",
    "\r\n",
    "## Puzzle 1.1: Simulation of three dice\r\n",
    "\r\n",
    "Suppose we roll three different **fair six-sided dice**: a **white**, a **red**, and a **blue**.\r\n",
    "\r\n",
    "Simulate the above situation **1,000** times and store the observations in `df1`.\r\n",
    "\r\n",
    "Hint (double-click this cell to see it): <span style=\"color:#ffffff00\">see Example 0.2. Try not to copy and paste so that you can learn line by line.</span>"
   ],
   "metadata": {}
  },
  {
   "cell_type": "code",
   "execution_count": null,
   "source": [
    "rd.seed(107)\n",
    "... \n",
    "df1 = ...\n",
    "df1.sample(5)"
   ],
   "outputs": [],
   "metadata": {
    "nbgrader": {
     "grade": false,
     "grade_id": "cell-c42efbf1ba47dcab",
     "locked": false,
     "schema_version": 3,
     "solution": true,
     "task": false
    }
   }
  },
  {
   "cell_type": "markdown",
   "source": [
    "## Puzzle 1.2: Probability estimation of a three-dice event\r\n",
    "\r\n",
    "Estimate the probability that the **sum of all three dice is exactly 9**. Store the result in `p12`.\r\n",
    "\r\n",
    "Hint (double-click this cell to see it): <span style=\"color:#ffffff00\">see Example 0.3. You can use .sum(axis=1) to obtain the sum of all three dice row by row.</span>"
   ],
   "metadata": {}
  },
  {
   "cell_type": "code",
   "execution_count": null,
   "source": [
    "p12 = ...\n",
    "p12"
   ],
   "outputs": [],
   "metadata": {
    "nbgrader": {
     "grade": false,
     "grade_id": "cell-b16fd8d9c98834ef",
     "locked": false,
     "schema_version": 3,
     "solution": true,
     "task": false
    }
   }
  },
  {
   "cell_type": "code",
   "execution_count": null,
   "source": [
    "## == TEST CASES for Part 1 ==\n",
    "# - This read-only cell contains test cases for your previous cell(s).\n",
    "# - If this cell runs without any error, you PASSED all test cases!\n",
    "# - If this cell results in any errors, check your previous cell(s), make changes, and RE-RUN your code and then this cell.\n",
    "\n",
    "assert(len(df1) == 1000), \"Make sure your df1 has exactly 1,000 observations\"\n",
    "assert(p12 == 127/1000), \"Make sure you set the seed to 107 and estimate the correct probability in p12\"\n",
    "\n",
    "## == SUCCESS MESSAGE ==\n",
    "# You will only see this message (with the emoji showing) if you passed all test cases:\n",
    "tada = \"\\N{PARTY POPPER}\"\n",
    "print(f\"{tada} All tests passed! {tada}\")"
   ],
   "outputs": [],
   "metadata": {
    "nbgrader": {
     "grade": true,
     "grade_id": "cell-571231fcdfa9de08",
     "locked": true,
     "points": 1,
     "schema_version": 3,
     "solution": false,
     "task": false
    }
   }
  },
  {
   "cell_type": "markdown",
   "source": [
    "# Part 2 | Fliping Four Coins\r\n",
    "\r\n",
    "## Puzzle 2.1: Simulation of four coins\r\n",
    "\r\n",
    "Suppose we flip **four fair coins**, one coin at a time and one after another. Each coin has two sides: **\"head\" (defined as 1)** and **\"tail\" (defined as 0)**.\r\n",
    "\r\n",
    "Simulate the above situation **50,000** times and store the observations in `df2`.\r\n",
    "\r\n",
    "Hint (double-click this cell to see it): <span style=\"color:#ffffff00\">see Example 0.2. Try not to copy and paste so that you can learn line by line.</span>"
   ],
   "metadata": {}
  },
  {
   "cell_type": "code",
   "execution_count": null,
   "source": [
    "rd.seed(107)\n",
    "...   \n",
    "df2 = ...\n",
    "df2.sample(5)"
   ],
   "outputs": [],
   "metadata": {
    "nbgrader": {
     "grade": false,
     "grade_id": "cell-da32a7ecb4863a7f",
     "locked": false,
     "schema_version": 3,
     "solution": true,
     "task": false
    }
   }
  },
  {
   "cell_type": "markdown",
   "source": [
    "## Puzzle 2.2: Probability estimation of a four-coins event\r\n",
    "\r\n",
    "Estimate the probability that **the first two coin flips are both heads and last two coin flips are both tails**. Store the result in `p22`.\r\n",
    "\r\n",
    "Hint (double-click this cell to see it): <span style=\"color:#ffffff00\">see Example 0.3.</span>"
   ],
   "metadata": {}
  },
  {
   "cell_type": "code",
   "execution_count": null,
   "source": [
    "p22 = ...\n",
    "p22"
   ],
   "outputs": [],
   "metadata": {
    "nbgrader": {
     "grade": false,
     "grade_id": "cell-500cf95087dcb6db",
     "locked": false,
     "schema_version": 3,
     "solution": true,
     "task": false
    }
   }
  },
  {
   "cell_type": "markdown",
   "source": [
    "## Puzzle 2.3: Probability estimation of another four-coins event\r\n",
    "\r\n",
    "Estimate the probability that **at most two coin flips are heads**. Store the result in `p23`.\r\n",
    "\r\n",
    "Hint (double-click this cell to see it): <span style=\"color:#ffffff00\">see Example 0.3. You can use .sum(axis=1) to obtain the \"sum\" of four coins row by row.</span>"
   ],
   "metadata": {}
  },
  {
   "cell_type": "code",
   "execution_count": null,
   "source": [
    "p23 = ...\n",
    "p23"
   ],
   "outputs": [],
   "metadata": {
    "nbgrader": {
     "grade": false,
     "grade_id": "cell-500cf95087dcb6db",
     "locked": false,
     "schema_version": 3,
     "solution": true,
     "task": false
    }
   }
  },
  {
   "cell_type": "code",
   "execution_count": null,
   "source": [
    "## == TEST CASES for Part 2 ==\n",
    "# - This read-only cell contains test cases for your previous cell(s).\n",
    "# - If this cell runs without any error, you PASSED all test cases!\n",
    "# - If this cell results in any errors, check your previous cell(s), make changes, and RE-RUN your code and then this cell.\n",
    "\n",
    "assert(len(df2) == 50000), \"Make sure your df2 has exactly 50,000 observations\"\n",
    "assert(p22 == 3191/50000), \"Make sure you set the seed to 107 and estimate the correct probability in p22\"\n",
    "assert(p23 == 34268/50000), \"Make sure you set the seed to 107 and estimate the correct probability in p23\"\n",
    "\n",
    "## == SUCCESS MESSAGE ==\n",
    "# You will only see this message (with the emoji showing) if you passed all test cases:\n",
    "tada = \"\\N{PARTY POPPER}\"\n",
    "print(f\"{tada} All tests passed! {tada}\")"
   ],
   "outputs": [],
   "metadata": {
    "nbgrader": {
     "grade": true,
     "grade_id": "cell-ee8226d0066bb603",
     "locked": true,
     "points": 1,
     "schema_version": 3,
     "solution": false,
     "task": false
    }
   }
  },
  {
   "cell_type": "markdown",
   "source": [
    "# Part 3 | Avengers: Infinity War\r\n",
    "\r\n",
    "## Puzzle 3.1: Simulation of the battle on Titan\r\n",
    "\r\n",
    "Suppose the **power level** of the characters engaged in the battle on Titan can be modelled as follows:\r\n",
    "\r\n",
    "1. Thanos:  a random integer between 80 to 120.\r\n",
    "2. Strange: a random integer between 10 to 20.\r\n",
    "3. Stark:   a random integer between 10 to 16.\r\n",
    "4. Parker:  a random integer between 6 to 12.\r\n",
    "5. Mantis:  a random real number between 0.8 to 1 (inclusive). The code for Mantis is given.\r\n",
    "6. Drax:    a random integer between 8 to 16.\r\n",
    "7. Nebula:  a random integer between 8 to 16.\r\n",
    "8. Quill:   a random integer between -10 to 10.\r\n",
    "\r\n",
    "Simulate the power levels **100,000** times **in the order listed above** and store the observations in `df3`.\r\n",
    "\r\n",
    "Hint (double-click this cell to see it): <span style=\"color:#ffffff00\">see Example 0.2. Try not to copy and paste so that you can learn line by line.</span>"
   ],
   "metadata": {}
  },
  {
   "cell_type": "code",
   "execution_count": null,
   "source": [
    "rd.seed(107)\n",
    "data = []\n",
    "for i in range(100000):\n",
    "    thanos = ...\n",
    "    strange = ...\n",
    "    stark = ...\n",
    "    parker = ...\n",
    "    mantis = rd.uniform(0.8, 1)\n",
    "    drax = ...\n",
    "    nebula = ...\n",
    "    quill = ...\n",
    "    ...\n",
    "df3 = ...\n",
    "df3.sample(5)"
   ],
   "outputs": [],
   "metadata": {
    "nbgrader": {
     "grade": false,
     "grade_id": "cell-da32a7ecb4863a7f",
     "locked": false,
     "schema_version": 3,
     "solution": true,
     "task": false
    }
   }
  },
  {
   "cell_type": "markdown",
   "source": [
    "## Puzzle 3.2: Probability estimation of winning the battle\r\n",
    "\r\n",
    "Suppose the superheroes win when\r\n",
    "$$\r\n",
    "\\mathrm{Strange} +\\mathrm{Stark} +\\mathrm{Parker} +\\mathrm{Drax} +\\mathrm{Nebula} +\\mathrm{Quill} \\ge \\mathrm{Mantis} \\times \\mathrm{Thanos}.\r\n",
    "$$\r\n",
    "Estimate the probability that **the superheroes win**. Store the result in `p32`.\r\n",
    "\r\n",
    "Hint (double-click this cell to see it): <span style=\"color:#ffffff00\">see Example 0.3. You can use df[list].sum(axis=1) to obtain the row sum of columns with name in list.</span>"
   ],
   "metadata": {}
  },
  {
   "cell_type": "code",
   "execution_count": null,
   "source": [
    "p32 = ...\n",
    "p32"
   ],
   "outputs": [],
   "metadata": {
    "nbgrader": {
     "grade": false,
     "grade_id": "cell-500cf95087dcb6db",
     "locked": false,
     "schema_version": 3,
     "solution": true,
     "task": false
    }
   }
  },
  {
   "cell_type": "markdown",
   "source": [
    "## Puzzle 3.3: Conditional probability estimation of winning the battle\r\n",
    "\r\n",
    "Recall the superheroes win when\r\n",
    "$$\r\n",
    "\\mathrm{Strange} +\\mathrm{Stark} +\\mathrm{Parker} +\\mathrm{Drax} +\\mathrm{Nebula} +\\mathrm{Quill} \\ge \\mathrm{Mantis} \\times \\mathrm{Thanos}.\r\n",
    "$$\r\n",
    "Estimate the probability that **the superheroes win given that $\\mathrm{Mantis} < 0.9$**. Store the result in `p33`.\r\n",
    "\r\n",
    "Hint (double-click this cell to see it): <span style=\"color:#ffffff00\">use Bayes' rule (or definition of conditional probability) on top of the code in Puzzle 3.2.</span>"
   ],
   "metadata": {}
  },
  {
   "cell_type": "code",
   "execution_count": null,
   "source": [
    "p33 = ...\n",
    "p33"
   ],
   "outputs": [],
   "metadata": {
    "nbgrader": {
     "grade": false,
     "grade_id": "cell-500cf95087dcb6db",
     "locked": false,
     "schema_version": 3,
     "solution": true,
     "task": false
    }
   }
  },
  {
   "cell_type": "code",
   "execution_count": null,
   "source": [
    "## == TEST CASES for Part 3 ==\n",
    "# - This read-only cell contains test cases for your previous cell(s).\n",
    "# - If this cell runs without any error, you PASSED all test cases!\n",
    "# - If this cell results in any errors, check your previous cell(s), make changes, and RE-RUN your code and then this cell.\n",
    "\n",
    "assert(len(df3) == 100000), \"Make sure your df3 has exactly 100,000 observations\"\n",
    "assert(p32 == 1717/100000), \"Make sure you follow the instruction in Puzzle 3.1 and estimate the correct probability in p32\"\n",
    "assert(p33 == 1558/49813), \"Make sure you follow the instruction in Puzzle 3.1 and estimate the correct probability in p33\"\n",
    "\n",
    "## == SUCCESS MESSAGE ==\n",
    "# You will only see this message (with the emoji showing) if you passed all test cases:\n",
    "tada = \"\\N{PARTY POPPER}\"\n",
    "print(f\"{tada} All tests passed! {tada}\")"
   ],
   "outputs": [],
   "metadata": {
    "nbgrader": {
     "grade": true,
     "grade_id": "cell-ee8226d0066bb603",
     "locked": true,
     "points": 1,
     "schema_version": 3,
     "solution": false,
     "task": false
    }
   }
  },
  {
   "cell_type": "markdown",
   "source": [
    "## Puzzle 3.4: Usefulness of simulation\r\n",
    "\r\n",
    "❓ **Individual Reflection Question** ❓ Can you find the exact probabilities in Puzzle 3.2/3.3? What are the advantage(s) of simulation?"
   ],
   "metadata": {}
  },
  {
   "cell_type": "markdown",
   "source": [
    "**Double-click and delete this line to type your comment.**"
   ],
   "metadata": {}
  },
  {
   "cell_type": "markdown",
   "source": [
    "❓ **Group Discussion Question** ❓ Recall our title 1/14,000,605 from Avengers: Infinity War (see https://www.youtube.com/watch?v=eGKPfZTXHsc if you haven't). Discuss with your groupmates if you have seen other examples of simulation in movies."
   ],
   "metadata": {}
  },
  {
   "cell_type": "markdown",
   "source": [
    "# Part 4 | Beyond probability estimation\r\n",
    "\r\n",
    "## Puzzle 4.1: Simulation of points on a unit square\r\n",
    "\r\n",
    "Imagine we have a **unit square** with the corners at $(0,0)$, $(0,1)$, $(1,1)$ and $(1,0)$, respectively.\r\n",
    "\r\n",
    "Simulate **100,000** random points on this square and store the observations in `df4`.\r\n",
    "\r\n",
    "Hint (double-click this cell to see it): <span style=\"color:#ffffff00\">see Example 0.2. The x-coordinate and y-coordiante of a random point can be generated by rd.random().</span>"
   ],
   "metadata": {}
  },
  {
   "cell_type": "code",
   "execution_count": null,
   "source": [
    "rd.seed(107)\n",
    "...\n",
    "df4 = ...\n",
    "df4.sample(5)"
   ],
   "outputs": [],
   "metadata": {
    "nbgrader": {
     "grade": false,
     "grade_id": "cell-da32a7ecb4863a7f",
     "locked": false,
     "schema_version": 3,
     "solution": true,
     "task": false
    }
   }
  },
  {
   "cell_type": "markdown",
   "source": [
    "## Puzzle 4.2: Estimation of $\\pi$\r\n",
    "\r\n",
    "Now, we incribe a **circle** (with radius $0.5$) in the previous square. The circumcenter is $(0.5, 0.5)$. Clearly, a point would fall inside the circle if\r\n",
    "$$\r\n",
    "(x-0.5)^2 +(y-0.5)^2 \\le 0.5^2.\r\n",
    "$$\r\n",
    "On the other hand, we have the following relationship:\r\n",
    "$$\r\n",
    "\\frac{\\text{no. of pts inside the circle}}{\\text{no. of pts inside the square}}\r\n",
    "\\approx \\frac{\\text{area of the circle}}{\\text{area of the square}}\r\n",
    "= \\frac{0.5^2 \\pi}{1} = \\frac{\\pi}{4}.\r\n",
    "$$\r\n",
    "Rearranging the equation, we can estimate $\\pi$ by\r\n",
    "$$\r\n",
    "\\pi \\approx \\frac{4 \\times \\text{no. of pts inside the circle}}{\\text{no. of pts inside the square}}.\r\n",
    "$$\r\n",
    "\r\n",
    "Estimate $\\pi$ using the above relationship. Store the result in `pie`.\r\n",
    "\r\n",
    "Hint (double-click this cell to see it): <span style=\"color:#ffffff00\">see Example 0.3. \r\n",
    "The number of points inside the circle can be found by checking the equation (x-0.5)^2 +(y-0.5)^2 <= 0.5^2.</span>"
   ],
   "metadata": {}
  },
  {
   "cell_type": "code",
   "execution_count": null,
   "source": [
    "pie = ...\n",
    "pie"
   ],
   "outputs": [],
   "metadata": {
    "nbgrader": {
     "grade": false,
     "grade_id": "cell-500cf95087dcb6db",
     "locked": false,
     "schema_version": 3,
     "solution": true,
     "task": false
    }
   }
  },
  {
   "cell_type": "code",
   "execution_count": null,
   "source": [
    "## == TEST CASES for Part 4 ==\n",
    "# - This read-only cell contains test cases for your previous cell(s).\n",
    "# - If this cell runs without any error, you PASSED all test cases!\n",
    "# - If this cell results in any errors, check your previous cell(s), make changes, and RE-RUN your code and then this cell.\n",
    "\n",
    "assert(len(df4) == 100000), \"Make sure your df4 has exactly 100,000 observations\"\n",
    "assert(pie == 314192/100000), \"Make sure you use the correct equation(s) in Puzzle 4.2\"\n",
    "\n",
    "## == SUCCESS MESSAGE ==\n",
    "# You will only see this message (with the emoji showing) if you passed all test cases:\n",
    "tada = \"\\N{PARTY POPPER}\"\n",
    "print(f\"{tada} All tests passed! {tada}\")"
   ],
   "outputs": [],
   "metadata": {
    "nbgrader": {
     "grade": true,
     "grade_id": "cell-ee8226d0066bb603",
     "locked": true,
     "points": 1,
     "schema_version": 3,
     "solution": false,
     "task": false
    }
   }
  },
  {
   "cell_type": "markdown",
   "source": [
    "## Puzzle 4.3: Beyond probability estimation\r\n",
    "\r\n",
    "❓ **Individual Reflection Question** ❓ Puzzle 4.2 presents an example where we use simulation for estimating quantity other than probability. Can you name other application(s) of simulation?\r\n",
    "\r\n",
    "Hint (double-click this cell to see it): <span style=\"color:#ffffff00\">check https://en.wikipedia.org/wiki/Monte_Carlo_method#Applications if you have no clues at all.</span>"
   ],
   "metadata": {}
  },
  {
   "cell_type": "markdown",
   "source": [
    "**Double-click and delete this line to type your comment.**"
   ],
   "metadata": {}
  },
  {
   "cell_type": "markdown",
   "source": [
    "❓ **Group Discussion Question** ❓ Do you know any other approaches to estimate $\\pi$? Discuss with your groupmates whether you like the simulation approach or not (and why)."
   ],
   "metadata": {}
  },
  {
   "cell_type": "markdown",
   "source": [
    "# Finale!\r\n",
    "\r\n",
    "You're almost done -- congratulations!\r\n",
    "\r\n",
    "You need to do two more things:\r\n",
    "\r\n",
    "1.  Save your work. To do this, go to File -> Save All\r\n",
    "\r\n",
    "2.  After you have saved, exit this notebook and follow the webpage instructions to commit this lab to your Git repository!"
   ],
   "metadata": {}
  }
 ],
 "metadata": {
  "celltoolbar": "Create Assignment",
  "kernelspec": {
   "name": "python3",
   "display_name": "Python 3.7.7 64-bit ('base': conda)"
  },
  "language_info": {
   "codemirror_mode": {
    "name": "ipython",
    "version": 3
   },
   "file_extension": ".py",
   "mimetype": "text/x-python",
   "name": "python",
   "nbconvert_exporter": "python",
   "pygments_lexer": "ipython3",
   "version": "3.7.7"
  },
  "interpreter": {
   "hash": "3b8139b19a42d2cc2d5868d061daa36e817f1d0defedc1ea62988e353be55fb4"
  }
 },
 "nbformat": 4,
 "nbformat_minor": 2
}