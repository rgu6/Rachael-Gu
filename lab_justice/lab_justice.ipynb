{
 "cells": [
  {
   "cell_type": "markdown",
   "metadata": {},
   "source": [
    "# Welcome to Lab_Justice!\n",
    "\n",
    "We plan on continuing to explore simulation in Python this week, however, this time, we are going to simulate some real-world events that have actually happened in the past.  The goal is for you to see how we can use data science to think about issues of equity and social justice.  As usual, in addition to coding, we want you to get practice having discussions about the data science you are doing and think about how data science can be a useful tool that can help you in your future job and as a citizen.\n",
    "\n",
    "**IMPORTANT NOTE**: In this lab, it's *very* important that you read through the text carefully. Understanding the context is crucial for success in lab_justice :)\n",
    "\n",
    "Let’s get started!"
   ]
  },
  {
   "cell_type": "markdown",
   "metadata": {},
   "source": [
    "## PRE-LAB SURVEY\n",
    "\n",
    "We are doing a pre and post lab survey this week! Please complete this survey BEFORE you start the lab to get +2 extra credit points! Who doesn't want extra credit?!  This will help us make the labs better and should take about 5 minutes :) Click the link below to access the survey.\n",
    "\n",
    "[https://forms.gle/ZdsUovu7C8GPCeA29](https://forms.gle/ZdsUovu7C8GPCeA29)"
   ]
  },
  {
   "cell_type": "markdown",
   "metadata": {},
   "source": [
    "## Part 0: Your Group!\n",
    "Edit the next Python cell to add information about who you're working within your lab section:"
   ]
  },
  {
   "cell_type": "code",
   "execution_count": 44,
   "metadata": {},
   "outputs": [],
   "source": [
    "# First, write down the names of your TAs and CAs\n",
    "ta_name = \"Paul\"\n",
    "ca1_name = \"Jesse\"\n",
    "ca2_name = \"Charlie\"\n",
    "\n",
    "\n",
    "# Also, make sure to meet your team for this lab! Find out their name, what major they're in,\n",
    "# and learn something new about them that you never knew before!\n",
    "partner1_name = \"Rachael\"\n",
    "partner1_netid = \"rgu6\"\n",
    "partner1_major = \"stat\"\n",
    "\n",
    "partner2_name = \"Meg\"\n",
    "partner2_netid = \"mli224\"\n",
    "partner2_major = \"stat+cs\"\n",
    "\n",
    "partner3_name = \"Abhi\"\n",
    "partner3_netid = \"athanvi2\"\n",
    "partner3_major = \"stat+cs\""
   ]
  },
  {
   "cell_type": "markdown",
   "metadata": {},
   "source": [
    "## Part 1: Jury Selection + Simulation\n",
    "\n",
    "The Sixth Amendment to the U.S. Constitution provides the right to an “impartial jury” in criminal prosecutions, but what exactly does this mean? The Supreme Court has said that juries must be drawn from a representative cross-section of the community. In other words, juries should be randomly selected from the eligible population. However, there are many instances in history where it doesn’t seem like this was the case.\n",
    "\n",
    "Take for example, the case of Berghuis v. Smith.  In 1993, Smith (a black man) was convicted of second-degree murder by an all-white jury and sentenced to life in prison. The jury was selected from a panel of about 100 randomly selected people. Only 3 of them were Black and none of those three made it into the final 37 considered for Smith’s trial. The county population was approximately 8 percent Black at the time of the trial.  Remember, jury panels are supposed to be selected at random from the eligible population.  "
   ]
  },
  {
   "cell_type": "markdown",
   "metadata": {},
   "source": [
    "### Puzzle 1.1: Your Initial Thoughts\n",
    "❓ **Group Discussion Question** ❓ Because 8% of the eligible population was Black, 3 black people on a panel of 100 might seem low.  Does this difference (8% vs. 3%) seem big to you? Do you think this could be due to chance?"
   ]
  },
  {
   "cell_type": "markdown",
   "metadata": {},
   "source": [
    "❓ **Individual Reflection Question** ❓  Write a few sentences summarizing what your group members said during your discussion.  Did people think this difference could have been due to chance or not?"
   ]
  },
  {
   "cell_type": "markdown",
   "metadata": {},
   "source": [
    "Based on my understanding, I think this was not due to chance because there is lots of historical evidence that racial bias exists in the criminal justice system. However, there is a chance that it could have been by chance because there is a small sample size."
   ]
  },
  {
   "cell_type": "markdown",
   "metadata": {},
   "source": [
    "This case was appealed and sent to the Supreme Court.  Some people claimed that the overall percentage disparity (between 8% and 3%) was small and reflected no attempt to include or exclude a specified number of black people from the jury.\" They claimed this \"small\" difference could simply be due to chance.  Critics and Smith claimed that the system of jury selection caused the lack of fair and reasonable representation of black people on the jury. "
   ]
  },
  {
   "cell_type": "markdown",
   "metadata": {},
   "source": [
    "### Puzzle 1.2: Writing a Function\n",
    "\n",
    "Let’s do a simulation in Python to understand what’s going on.  Write a simulation to show the expected distribution.  Remember, from the case: we are trying to see if the difference between 8% and 3% is small and reflects no attempt to include or exclude a specified number of African Americans.\"  In other words, **we want to write a function to randomly sample 100 people from a population that has 8% Black people.**  The function should return the number of Black people in each jury.  We can do this multiple times and see how rare it is to get 3 or fewer people in the jury."
   ]
  },
  {
   "cell_type": "code",
   "execution_count": 45,
   "metadata": {},
   "outputs": [],
   "source": [
    "## Import pandas and random\n",
    "import pandas as pd\n",
    "import random"
   ]
  },
  {
   "cell_type": "code",
   "execution_count": 46,
   "metadata": {},
   "outputs": [],
   "source": [
    "## Write your function to simulate selecting a jury panel of size 100 from a population\n",
    "## with 8% Black people that counts the number of Black people selecte\n",
    "\n",
    "def simulateJuryPanel():\n",
    "  count = 0\n",
    "  for i in range (100):\n",
    "    ppl = random.randint(1,100)\n",
    "    if (ppl <= 8):\n",
    "      count += 1\n",
    "  return count\n",
    "\n"
   ]
  },
  {
   "cell_type": "markdown",
   "metadata": {},
   "source": [
    "### Puzzle 1.3: Storing the Results in a Data Frame\n",
    "\n",
    "Store the results in a dataframe so we can analyze this.  Let’s start by doing this simulation 100 times.  In other words, we are simulating picking 100 juries.  Store the results in a dataframe called df. \n",
    "\n",
    "**Simulate this 100 times and store the results in a dataframe. The variable or column in the dataframe should be named `panel`**"
   ]
  },
  {
   "cell_type": "code",
   "execution_count": 47,
   "metadata": {},
   "outputs": [],
   "source": [
    "## Write your simulation here\n",
    "data = []\n",
    "for i in range (100):\n",
    "    panel = simulateJuryPanel()\n",
    "    d = {\"panel\":panel}\n",
    "    data.append(d)\n",
    "df = pd.DataFrame(data)"
   ]
  },
  {
   "cell_type": "code",
   "execution_count": 48,
   "metadata": {},
   "outputs": [
    {
     "name": "stdout",
     "output_type": "stream",
     "text": [
      "🎉 All tests passed! 🎉\n"
     ]
    }
   ],
   "source": [
    "## == TEST CASES for Puzzle 1.3 ==\n",
    "# - This read-only cell contains test cases for your previous cell.\n",
    "# - If this cell runs with the success message as your output, you PASSED all test cases!\n",
    "# - If this cell results in any errors, check you previous cell, make changes, and RE-RUN your code and then this cell.\n",
    "\n",
    "assert(len(df) == 100), \"You need to apply your function to your dataframe\"\n",
    "assert((df[\"panel\"].mean() >5) & (df[\"panel\"].mean() <10)), \"You may not have properly defined your simulation\"\n",
    "\n",
    "## == SUCCESS MESSAGE ==\n",
    "# You will only see this message (with the emoji showing) if you passed all test cases:\n",
    "tada = \"\\N{PARTY POPPER}\"\n",
    "print(f\"{tada} All tests passed! {tada}\")"
   ]
  },
  {
   "cell_type": "markdown",
   "metadata": {},
   "source": [
    "### Puzzle 1.4: Create a histogram of your results\n",
    "\n",
    "Create a histogram of the results."
   ]
  },
  {
   "cell_type": "code",
   "execution_count": 52,
   "metadata": {},
   "outputs": [
    {
     "data": {
      "text/plain": [
       "array([[<AxesSubplot:title={'center':'panel'}>]], dtype=object)"
      ]
     },
     "execution_count": 52,
     "metadata": {},
     "output_type": "execute_result"
    },
    {
     "data": {
      "image/png": "[encoded data removed]",
      "text/plain": [
       "<Figure size 432x288 with 1 Axes>"
      ]
     },
     "metadata": {
      "needs_background": "light"
     },
     "output_type": "display_data"
    }
   ],
   "source": [
    "## Create your histogram here\n",
    "df.hist()"
   ]
  },
  {
   "cell_type": "markdown",
   "metadata": {},
   "source": [
    "### Puzzle 1.5: Reflection\n",
    "\n",
    "❓ **Group Discussion Question** ❓ Interpret the results of your histogram. How does your histogram provide evidence for or against the claim that the jury was not fair?  What does this tell us about this case?  Do you think this could have happened by chance?  If so, why? If not, why did some people claim it did? "
   ]
  },
  {
   "cell_type": "markdown",
   "metadata": {},
   "source": [
    "❓ **Individual Reflection Question** ❓ Write down the most interesting part of your group discussion."
   ]
  },
  {
   "cell_type": "markdown",
   "metadata": {},
   "source": [
    "From the graph, our group saw that the distribution was mostly normal. However, the chances of getting less than 3 black people on the jury is very low, so it is possible that there are other factors impacting the results."
   ]
  },
  {
   "cell_type": "markdown",
   "metadata": {},
   "source": [
    "### Puzzle 1.6: What we observed vs. what we expected!\n",
    "\n",
    "Part 1: ❓ **Individual Reflection Question** ❓ What was the expected value for the number of Black people in the jury?  Enter your answer below. "
   ]
  },
  {
   "cell_type": "markdown",
   "metadata": {},
   "source": [
    "The expected value is 7-8 because that corresponds to the highest bar in the histogram. It should be 8 because 8% of the jury panel is 8 people."
   ]
  },
  {
   "cell_type": "markdown",
   "metadata": {},
   "source": [
    "Part 2: Next, calculate the mean of the dataframe that you created from the simulation."
   ]
  },
  {
   "cell_type": "code",
   "execution_count": 55,
   "metadata": {},
   "outputs": [
    {
     "data": {
      "text/plain": [
       "7.91"
      ]
     },
     "execution_count": 55,
     "metadata": {},
     "output_type": "execute_result"
    }
   ],
   "source": [
    "## Calculate the average number of Black people in the jury\n",
    "\n",
    "mean= df[\"panel\"].mean()\n",
    "mean"
   ]
  },
  {
   "cell_type": "code",
   "execution_count": 56,
   "metadata": {},
   "outputs": [
    {
     "name": "stdout",
     "output_type": "stream",
     "text": [
      "🎉 All tests passed! 🎉\n"
     ]
    }
   ],
   "source": [
    "## == TEST CASES for Puzzle 1.6 ==\n",
    "# - This read-only cell contains test cases for your previous cell.\n",
    "# - If this cell runs with the success message as your output, you PASSED all test cases!\n",
    "# - If this cell results in any errors, check you previous cell, make changes, and RE-RUN your code and then this cell.\n",
    "\n",
    "assert(mean < 10), \"You did not calculate the mean correctly!\"\n",
    "assert(mean > 5), \"You did not calculate the mean correctly!\"\n",
    "\n",
    "## == SUCCESS MESSAGE ==\n",
    "# You will only see this message (with the emoji showing) if you passed all test cases:\n",
    "tada = \"\\N{PARTY POPPER}\"\n",
    "print(f\"{tada} All tests passed! {tada}\")"
   ]
  },
  {
   "cell_type": "markdown",
   "metadata": {},
   "source": [
    "### Puzzle 1.7: Simulating the Event AGAIN!\n",
    "\n",
    "Part 1: Run the simulation again, but this time for 10,000 people. Store this data in a dataframe called df2 and create a histogram of your results (you can copy and paste your previous code, no need to do everything again from scratch!)."
   ]
  },
  {
   "cell_type": "code",
   "execution_count": 58,
   "metadata": {},
   "outputs": [
    {
     "data": {
      "text/plain": [
       "array([[<AxesSubplot:title={'center':'panel'}>]], dtype=object)"
      ]
     },
     "execution_count": 58,
     "metadata": {},
     "output_type": "execute_result"
    },
    {
     "data": {
      "image/png": "[encoded data removed]",
      "text/plain": [
       "<Figure size 432x288 with 1 Axes>"
      ]
     },
     "metadata": {
      "needs_background": "light"
     },
     "output_type": "display_data"
    }
   ],
   "source": [
    "## Run the same simulation 10000 times\n",
    "data = []\n",
    "for i in range (10000):\n",
    "    panel = simulateJuryPanel()\n",
    "    d = {\"panel\":panel}\n",
    "    data.append(d)\n",
    "df2 = pd.DataFrame(data)\n",
    "\n",
    "## Create your histogram here\n",
    "df2.hist()"
   ]
  },
  {
   "cell_type": "code",
   "execution_count": 59,
   "metadata": {},
   "outputs": [
    {
     "name": "stdout",
     "output_type": "stream",
     "text": [
      "🎉 All tests passed! 🎉\n"
     ]
    }
   ],
   "source": [
    "## == TEST CASES for Puzzle 1.7 Part 1 ==\n",
    "# - This read-only cell contains test cases for your previous cell.\n",
    "# - If this cell runs with the success message as your output, you PASSED all test cases!\n",
    "# - If this cell results in any errors, check you previous cell, make changes, and RE-RUN your code and then this cell.\n",
    "\n",
    "assert(len(df2) == 10000), \"Make sure you do 10,000 simulations.\"\n",
    "\n",
    "## == SUCCESS MESSAGE ==\n",
    "# You will only see this message (with the emoji showing) if you passed all test cases:\n",
    "tada = \"\\N{PARTY POPPER}\"\n",
    "print(f\"{tada} All tests passed! {tada}\")"
   ]
  },
  {
   "cell_type": "markdown",
   "metadata": {},
   "source": [
    "Part 2: Find the mean number of black people on the randomly selected juries."
   ]
  },
  {
   "cell_type": "code",
   "execution_count": 60,
   "metadata": {},
   "outputs": [
    {
     "data": {
      "text/plain": [
       "7.9813"
      ]
     },
     "execution_count": 60,
     "metadata": {},
     "output_type": "execute_result"
    }
   ],
   "source": [
    "## Find the mean below\n",
    "\n",
    "mean2 = df2[\"panel\"].mean()\n",
    "mean2"
   ]
  },
  {
   "cell_type": "code",
   "execution_count": 61,
   "metadata": {},
   "outputs": [
    {
     "name": "stdout",
     "output_type": "stream",
     "text": [
      "🎉 All tests passed! 🎉\n"
     ]
    }
   ],
   "source": [
    "## == TEST CASES for Puzzle 1.7 Part 2 ==\n",
    "# - This read-only cell contains test cases for your previous cell.\n",
    "# - If this cell runs with the success message as your output, you PASSED all test cases!\n",
    "# - If this cell results in any errors, check you previous cell, make changes, and RE-RUN your code and then this cell.\n",
    "\n",
    "assert(mean2 < 8.5), \"You did not calculate the mean correctly!\"\n",
    "assert(mean2 > 7.5), \"You did not calculate the mean correctly!\"\n",
    "\n",
    "## == SUCCESS MESSAGE ==\n",
    "# You will only see this message (with the emoji showing) if you passed all test cases:\n",
    "tada = \"\\N{PARTY POPPER}\"\n",
    "print(f\"{tada} All tests passed! {tada}\")"
   ]
  },
  {
   "cell_type": "markdown",
   "metadata": {},
   "source": [
    "### Puzzle 1.8: Final Reflection\n",
    "\n",
    "❓ **Individual Reflection Question** ❓ Individual Reflection: How did your results change? What does this tell us about the more simulations you run?  "
   ]
  },
  {
   "cell_type": "markdown",
   "metadata": {},
   "source": [
    "As we run more simulations, the average number of black people on the jury gets closer to 8. The first average was 7.91 and the second average was 7.98. This supports the law of large numbers because as we run more simulations, we get closer to our expected result. "
   ]
  },
  {
   "cell_type": "markdown",
   "metadata": {},
   "source": [
    "❓ **Group Discussion Question** ❓ This is an example of how we can use statistics to help us solve real world problems.  Discuss with your group how simulations and data science can be used to help address issues of racism specifically.  "
   ]
  },
  {
   "cell_type": "markdown",
   "metadata": {},
   "source": [
    "❓ **Individual Reflection Question** ❓ Give an example of a way that we can use data science to help address issues of racism.  This can be something you discussed in your group or an example you are interested in."
   ]
  },
  {
   "cell_type": "markdown",
   "metadata": {},
   "source": [
    "Data science can be used to help address issues of racism. For example, we can use data science to collect data about income and employment rates among different ethnicities. "
   ]
  },
  {
   "cell_type": "markdown",
   "metadata": {},
   "source": [
    "### Puzzle 1.9: Probability\n",
    "\n",
    "Lastly, find the probability that we will get 3 or less Black men on the jury using df2.  You may want to think back to conditionals- that will help here."
   ]
  },
  {
   "cell_type": "code",
   "execution_count": 64,
   "metadata": {},
   "outputs": [
    {
     "data": {
      "text/plain": [
       "0.0391"
      ]
     },
     "execution_count": 64,
     "metadata": {},
     "output_type": "execute_result"
    }
   ],
   "source": [
    "## Find the probability here\n",
    "probability = len(df2[df2.panel <= 3]) / len(df2)\n",
    "probability"
   ]
  },
  {
   "cell_type": "code",
   "execution_count": 65,
   "metadata": {},
   "outputs": [
    {
     "name": "stdout",
     "output_type": "stream",
     "text": [
      "🎉 All tests passed! 🎉\n"
     ]
    }
   ],
   "source": [
    "## == TEST CASES for Puzzle 1.9==\n",
    "# - This read-only cell contains test cases for your previous cell.\n",
    "# - If this cell runs with the success message as your output, you PASSED all test cases!\n",
    "# - If this cell results in any errors, check you previous cell, make changes, and RE-RUN your code and then this cell.\n",
    "\n",
    "assert(probability <0.05), \"You did not calculate the probability correctly!\"\n",
    "assert(probability > 0), \"You did not calculate the probability correctly!\"\n",
    "\n",
    "## == SUCCESS MESSAGE ==\n",
    "# You will only see this message (with the emoji showing) if you passed all test cases:\n",
    "tada = \"\\N{PARTY POPPER}\"\n",
    "print(f\"{tada} All tests passed! {tada}\")"
   ]
  },
  {
   "cell_type": "markdown",
   "metadata": {},
   "source": [
    "## Part 2: Names and Resumes + Simulation!\n",
    "\n",
    "This next simulation comes from a study looking at female names.  You can read the fully study here if you’d like: [https://www.nber.org/system/files/working_papers/w9873/w9873.pdf](https://www.nber.org/system/files/working_papers/w9873/w9873.pdf) \n",
    "\n",
    "Here’s a summary of what happened: Researchers created a standard resume and sent it out to about 500 different “Help Wanted” ads in Chicago and Boston.  The resumes that they sent were identical, except they changed the names and email addresses to have either a “white sounding” name like Emily or a “black sounding” name like Lakisha, according to the study.  Assuming that a resume has about a 20% chance of getting a call back and half of the resumes had white sounding names and half had black sounding names, let’s do this simulation.  We will simulate the results and then look at what actually happened."
   ]
  },
  {
   "cell_type": "markdown",
   "metadata": {},
   "source": [
    "### Puzzle 2.1: Initial Thoughts\n",
    "\n",
    "❓ **Group Discussion Question** ❓ Before we start coding, let’s think about this.  When this study was done in real life, the white sounding names had 10.33% callbacks and the black sounding names had 6.87% callbacks.  Some of the companies claimed this difference was due to chance.  Do you think this is a significant difference? Why do you think this happened? Why or why not is this problematic?"
   ]
  },
  {
   "cell_type": "markdown",
   "metadata": {},
   "source": [
    "❓ **Individual Reflection Question** ❓ Write down something that surprised you from your group discussion."
   ]
  },
  {
   "cell_type": "markdown",
   "metadata": {},
   "source": [
    "There is a small possibility that this was because of chance, but the probability of this happening is really low. The statistics are problematic because it shows that there are biases when it comes to getting callbacks. "
   ]
  },
  {
   "cell_type": "markdown",
   "metadata": {},
   "source": [
    "Let’s do a simulation in Python to understand what’s going on.  We wrote most of the function for you below!  Since the content of the resumes are identical, we should expect to get an equal number of call backs for both types of names.  In other words, picking the callbacks should be like random sampling.  Next, we wrote a simulation to randomly sample 20% of 500 resumes 10,000 times.  Half of the 500 resumes are represented as 0s (representing white sounding names) and half of the resumes are represented as 1s (representing black sounding names).  "
   ]
  },
  {
   "cell_type": "markdown",
   "metadata": {},
   "source": [
    "### Puzzle 2.2: Load in the data\n",
    "\n",
    "We have a dataframe called `resumes.csv` that contains 500 rows. Half are 0s (representing white sounding names) and half are 1s (representing black sounding names). Load this data into a dataframe called df3."
   ]
  },
  {
   "cell_type": "code",
   "execution_count": 66,
   "metadata": {},
   "outputs": [],
   "source": [
    "## read in the data into a dataframe called df3\n",
    "df3 = pd.read_csv(\"resumes.csv\")"
   ]
  },
  {
   "cell_type": "markdown",
   "metadata": {},
   "source": [
    "### Puzzle 2.3: Complete the function\n",
    "\n",
    "Below is a function that samples 20% of the 500 rows and counts the numbers of 1s and 0s. Fill in the second line of code in this function to random sample 20% of df3 and store the results in a dataframe called df4. Make sure to run the cell after filling in the code. "
   ]
  },
  {
   "cell_type": "code",
   "execution_count": 69,
   "metadata": {},
   "outputs": [],
   "source": [
    "def simulateResumes():\n",
    "    df4 = df3.sample(frac=0.2) ## fill in the line of code that randomly samples 20% of df3 and stores the results in df4\n",
    "    black_sounding = df4[df4.Resumes == 1].count().values\n",
    "    white_sounding = df4[df4.Resumes == 0].count().values\n",
    "    return [black_sounding[0], white_sounding[0]]\n",
    "    \n",
    "SimResult=simulateResumes()"
   ]
  },
  {
   "cell_type": "code",
   "execution_count": 70,
   "metadata": {},
   "outputs": [
    {
     "name": "stdout",
     "output_type": "stream",
     "text": [
      "🎉 All tests passed! 🎉\n"
     ]
    }
   ],
   "source": [
    "## == TEST CASES for Puzzle 2.3==\n",
    "# - This read-only cell contains test cases for your previous cell.\n",
    "# - If this cell runs with the success message as your output, you PASSED all test cases!\n",
    "# - If this cell results in any errors, check you previous cell, make changes, and RE-RUN your code and then this cell.\n",
    "\n",
    "assert(sum(SimResult) == 100), \"Your function does not return the correct number of resumes.\"\n",
    "\n",
    "\n",
    "## == SUCCESS MESSAGE ==\n",
    "# You will only see this message (with the emoji showing) if you passed all test cases:\n",
    "tada = \"\\N{PARTY POPPER}\"\n",
    "print(f\"{tada} All tests passed! {tada}\")"
   ]
  },
  {
   "cell_type": "markdown",
   "metadata": {},
   "source": [
    "### Read this :)\n",
    "\n",
    "Here we are simulating randomly picking 20% of the 500 resumes and doing this 10,000 times! Each time, the 20% that we sample represent the resumes that got callbacks. We are then creating a dataframe (called df5) that contains the number of black sounding names and white sound names. Run the next cell to do this!"
   ]
  },
  {
   "cell_type": "code",
   "execution_count": 71,
   "metadata": {},
   "outputs": [],
   "source": [
    "data = []\n",
    "for i in range(10000):  # Simulate 10000 times\n",
    "  result=simulateResumes()\n",
    "  data.append( { 'black_sounding': result[0], 'white_sounding': result[1]} )\n",
    "df5 = pd.DataFrame(data)"
   ]
  },
  {
   "cell_type": "markdown",
   "metadata": {},
   "source": [
    "### Puzzle 2.4: Calculating the Average Percent\n",
    "\n",
    "Calculate the average percent of resumes that got callbacks for each group of names in the simulation (these should be close to 10% for each group of names).\n",
    "\n",
    "Part 1: Calculate the average percent of resumes with black sounding names that got callbacks.  Make sure you are calculating the average **percent**, not just the average!\n",
    "\n",
    "Part 2: Calculate the average percent of resumes with white sounding names that got callbacks.  Make sure you are calculating the average **percent**, not just the average!"
   ]
  },
  {
   "cell_type": "code",
   "execution_count": 72,
   "metadata": {},
   "outputs": [
    {
     "data": {
      "text/plain": [
       "0.0999442"
      ]
     },
     "execution_count": 72,
     "metadata": {},
     "output_type": "execute_result"
    }
   ],
   "source": [
    "## Part 1- Average Percent for black sounding names (out of 500)\n",
    "\n",
    "average_percent1 = df5[\"black_sounding\"].mean() / 500\n",
    "\n",
    "average_percent1"
   ]
  },
  {
   "cell_type": "code",
   "execution_count": 73,
   "metadata": {},
   "outputs": [
    {
     "name": "stdout",
     "output_type": "stream",
     "text": [
      "🎉 All tests passed! 🎉\n"
     ]
    }
   ],
   "source": [
    "## == TEST CASES for Puzzle 2.4 Part 1==\n",
    "# - This read-only cell contains test cases for your previous cell.\n",
    "# - If this cell runs with the success message as your output, you PASSED all test cases!\n",
    "# - If this cell results in any errors, check you previous cell, make changes, and RE-RUN your code and then this cell.\n",
    "\n",
    "assert(average_percent1 < 0.11), \"You did not calculate the probability correctly!\"\n",
    "assert(average_percent1 > 0.085), \"You did not calculate the probability correctly!\"\n",
    "\n",
    "## == SUCCESS MESSAGE ==\n",
    "# You will only see this message (with the emoji showing) if you passed all test cases:\n",
    "tada = \"\\N{PARTY POPPER}\"\n",
    "print(f\"{tada} All tests passed! {tada}\")"
   ]
  },
  {
   "cell_type": "code",
   "execution_count": 74,
   "metadata": {},
   "outputs": [
    {
     "data": {
      "text/plain": [
       "0.1000558"
      ]
     },
     "execution_count": 74,
     "metadata": {},
     "output_type": "execute_result"
    }
   ],
   "source": [
    "## Part 1- Average Percent for white sounding names (out of 500)\n",
    "\n",
    "average_percent2 = df5[\"white_sounding\"].mean() / 500\n",
    "\n",
    "average_percent2"
   ]
  },
  {
   "cell_type": "code",
   "execution_count": 75,
   "metadata": {},
   "outputs": [
    {
     "name": "stdout",
     "output_type": "stream",
     "text": [
      "🎉 All tests passed! 🎉\n"
     ]
    }
   ],
   "source": [
    "## == TEST CASES for Puzzle 2.4 Part 2==\n",
    "# - This read-only cell contains test cases for your previous cell.\n",
    "# - If this cell runs with the success message as your output, you PASSED all test cases!\n",
    "# - If this cell results in any errors, check you previous cell, make changes, and RE-RUN your code and then this cell.\n",
    "\n",
    "assert(average_percent2 < 0.11), \"You did not calculate the probability correctly!\"\n",
    "assert(average_percent2 > 0.085), \"You did not calculate the probability correctly!\"\n",
    "\n",
    "## == SUCCESS MESSAGE ==\n",
    "# You will only see this message (with the emoji showing) if you passed all test cases:\n",
    "tada = \"\\N{PARTY POPPER}\"\n",
    "print(f\"{tada} All tests passed! {tada}\")"
   ]
  },
  {
   "cell_type": "markdown",
   "metadata": {},
   "source": [
    "❓ **Individual Reflection Question** ❓ Think about how these percentages compare to the actual percentages (10.33% vs. 6.87%).  What does this say about discrimination based on your name."
   ]
  },
  {
   "cell_type": "markdown",
   "metadata": {},
   "source": [
    "There is discrimination based on name. The percentage of callbacks for black-sounding names is 9.99% compared to the actual percentage of 6.97%. "
   ]
  },
  {
   "cell_type": "markdown",
   "metadata": {},
   "source": [
    "## Part 3: Beyond Stat 107\n",
    "\n",
    "❓ **Group Discussion Question** ❓ The Smith trial happened in 1993 and the name study occurred in the early 2000s.  Discuss with you group whether or not you think similar events still occur today and why. Reflect on how data science can be used to educate people about this."
   ]
  },
  {
   "cell_type": "markdown",
   "metadata": {},
   "source": [
    "❓ **Individual Reflection Question** ❓ Think about your takeaways from doing these simulations in this lab.  Choose one of the following prompts to write a paragraph style response explaining what the simulation showed in either Puzzle 1 or Puzzle 2. \n",
    "\n",
    "**Option 1**: Puzzle 1- Pretend that you are a defense attorney and a data scientist. Write a memo to the Supreme Court positioning yourself as a data scientist arguing whether or not your think the jury with 3 black men was randomly selected. Justify your decision and include guidelines for the future.\n",
    "\n",
    "**Option 2**: Puzzle 2- Pretend that you are a data scientist arguing whether or not there was discrimination based on how applicants’ names sound. Write a memo to the HR Department of one of the companies positioning yourself as a data scientist arguing whether or employers are biased against certain names. Justify your decision using what you’ve already done and include guidelines for the future.\n",
    "\n",
    "\n",
    "Remember, you only need to do either Option 1 or Option 2 (not both)!"
   ]
  },
  {
   "cell_type": "markdown",
   "metadata": {},
   "source": []
  },
  {
   "cell_type": "markdown",
   "metadata": {},
   "source": [
    "## POST-LAB SURVEY\n",
    "\n",
    "Remember, we are doing a pre and post lab survey this week! Please complete this survey AFTER you finish the lab to get +2 additional extra credit points! This will also help us make the labs better and should take about 10 minutes :) Click the link below to access the survey.\n",
    "\n",
    "[https://forms.gle/XXHLmzeANTmkyynL8](https://forms.gle/XXHLmzeANTmkyynL8)"
   ]
  },
  {
   "cell_type": "markdown",
   "metadata": {},
   "source": [
    "## Submit Your Work!\n",
    "\n",
    "You're almost done -- congratulations!\n",
    "\n",
    "You need to do two more things:\n",
    "\n",
    "1.  Save your work. To do this, go to File -> Save All\n",
    "\n",
    "2.  After you have saved, exit this notebook and follow the webpage instructions to commit this lab to your Git repository!"
   ]
  }
 ],
 "metadata": {
  "interpreter": {
   "hash": "bb71644d32eb36cf7f2cc7810c446f13bd72926edb88194d595fc87c14eb9124"
  },
  "kernelspec": {
   "display_name": "Python 3.9.6 64-bit",
   "name": "python3"
  },
  "language_info": {
   "codemirror_mode": {
    "name": "ipython",
    "version": 3
   },
   "file_extension": ".py",
   "mimetype": "text/x-python",
   "name": "python",
   "nbconvert_exporter": "python",
   "pygments_lexer": "ipython3",
   "version": "3.9.6"
  },
  "orig_nbformat": 4
 },
 "nbformat": 4,
 "nbformat_minor": 2
}
